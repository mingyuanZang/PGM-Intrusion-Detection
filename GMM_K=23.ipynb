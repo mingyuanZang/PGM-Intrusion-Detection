{
  "nbformat": 4,
  "nbformat_minor": 0,
  "metadata": {
    "accelerator": "GPU",
    "colab": {
      "name": "(final)GMM-K23-plots.ipynb",
      "provenance": [],
      "collapsed_sections": []
    },
    "kernelspec": {
      "display_name": "Python 3",
      "language": "python",
      "name": "python3"
    },
    "language_info": {
      "codemirror_mode": {
        "name": "ipython",
        "version": 3
      },
      "file_extension": ".py",
      "mimetype": "text/x-python",
      "name": "python",
      "nbconvert_exporter": "python",
      "pygments_lexer": "ipython3",
      "version": "3.7.3"
    }
  },
  "cells": [
    {
      "cell_type": "markdown",
      "metadata": {
        "id": "C60ZAm4-Yo4M"
      },
      "source": [
        "# Project for 42186 Model-based Machine Learning F21  \n",
        "\n",
        "## PGM in Intrusion Detection System\n",
        "\n",
        "### Notebook - GMM (K=23)\n",
        "\n",
        "The KDDCUP99 10 percent dataset from the UCI repository. [1] It is a benchmark dataset for the evaluation of network Intrusion Detection System including the records of normal and malicious traffics. It contains 494021 samples in total with 42 dimensions. \n",
        "\n",
        "The target for this project is to consider it as a classification problem without time as parameter. This notebook tests a fine-grained detection to classify the data samples into normal or 22 type of attacks by running GMM as an unsupervised learning model to get a intrusion detection result. Based on the model implemented in the GMM (K=2) notebook, this notebook tries to see how this model would perform in 23 clusters.  \n",
        "\n",
        "\n",
        "\n",
        "\\* Note that, due to the GPU timeout issues in Colab, this model is run with local CPU. \n",
        "\n",
        "[1] http://kdd.ics.uci.edu/databases/kddcup99/"
      ]
    },
    {
      "cell_type": "markdown",
      "metadata": {
        "id": "2f9E8qzwlEwv"
      },
      "source": [
        "# **Preparation**"
      ]
    },
    {
      "cell_type": "markdown",
      "metadata": {
        "id": "AqhYSle3Ipam"
      },
      "source": [
        "Import required libraries Pyro:"
      ]
    },
    {
      "cell_type": "code",
      "metadata": {
        "colab": {
          "base_uri": "https://localhost:8080/"
        },
        "id": "Ei1QbnmhYyXM",
        "outputId": "e7692b1e-3107-4dac-e291-05c18c422dca"
      },
      "source": [
        "# Install Pyro, if necessary\n",
        "!pip install pyro-ppl"
      ],
      "execution_count": null,
      "outputs": [
        {
          "output_type": "stream",
          "text": [
            "Requirement already satisfied: pyro-ppl in /home/fotonik208/anaconda3/lib/python3.7/site-packages (1.6.0)\n",
            "Requirement already satisfied: opt-einsum>=2.3.2 in /home/fotonik208/anaconda3/lib/python3.7/site-packages (from pyro-ppl) (3.3.0)\n",
            "Requirement already satisfied: tqdm>=4.36 in /home/fotonik208/anaconda3/lib/python3.7/site-packages (from pyro-ppl) (4.60.0)\n",
            "Requirement already satisfied: numpy>=1.7 in /home/fotonik208/anaconda3/lib/python3.7/site-packages (from pyro-ppl) (1.16.4)\n",
            "Requirement already satisfied: torch>=1.8.0 in /home/fotonik208/anaconda3/lib/python3.7/site-packages (from pyro-ppl) (1.8.1)\n",
            "Requirement already satisfied: pyro-api>=0.1.1 in /home/fotonik208/anaconda3/lib/python3.7/site-packages (from pyro-ppl) (0.1.2)\n",
            "Requirement already satisfied: typing-extensions in /home/fotonik208/anaconda3/lib/python3.7/site-packages (from torch>=1.8.0->pyro-ppl) (3.7.4.3)\n"
          ],
          "name": "stdout"
        }
      ]
    },
    {
      "cell_type": "markdown",
      "metadata": {
        "id": "yP0A7v8LX9Gl"
      },
      "source": [
        "Import the necessary packages"
      ]
    },
    {
      "cell_type": "code",
      "metadata": {
        "id": "iGyKT_grYo4O"
      },
      "source": [
        "import numpy as np\n",
        "import pandas as pd\n",
        "from matplotlib import pyplot as plt\n",
        "from sklearn import linear_model\n",
        "import seaborn as sns\n",
        "import torch\n",
        "import torch.autograd as autograd\n",
        "\n",
        "import pyro\n",
        "import pyro.distributions as dist\n",
        "from pyro.contrib.autoguide import AutoDiagonalNormal, AutoMultivariateNormal\n",
        "from pyro.infer import MCMC, NUTS, HMC, SVI, Trace_ELBO\n",
        "from pyro.optim import Adam, ClippedAdam\n",
        "from pyro.infer import SVI, TraceEnum_ELBO, JitTrace_ELBO, config_enumerate, infer_discrete\n",
        "from pyro.infer.autoguide import AutoDelta\n",
        "from pyro import poutine\n",
        "\n",
        "# fix random generator seed (for reproducibility of results)\n",
        "np.random.seed(42)\n",
        "\n",
        "# matplotlib style options\n",
        "plt.style.use('ggplot')\n",
        "%matplotlib inline\n",
        "plt.rcParams['figure.figsize'] = (12, 8)"
      ],
      "execution_count": null,
      "outputs": []
    },
    {
      "cell_type": "markdown",
      "metadata": {
        "id": "leUFPWUjI_Ho"
      },
      "source": [
        "**Load the dataset from local folder**"
      ]
    },
    {
      "cell_type": "markdown",
      "metadata": {
        "id": "T9AqN3J7lpe4"
      },
      "source": [
        "Based on the printed statistics and information, the dataset contains 494021 samples in total with 42 dimensions, where the first 41 of them are the features of network traffic and the last dimension is the label to indicate whether the traffic is normal or not. The 41 features are collected by directly extracting from the network traffic flow like the src_bytes, or by computing with a two-second time window like the serror_rate. For these 41 features, they are in the form of continuous, discrete or symbolic with the ranges varying widely. "
      ]
    },
    {
      "cell_type": "code",
      "metadata": {
        "colab": {
          "base_uri": "https://localhost:8080/",
          "height": 224
        },
        "id": "SElGiw97uk_G",
        "outputId": "ff1f4b0e-51bb-4a86-ab20-852109362fe4"
      },
      "source": [
        "# load csv\n",
        "data = pd.read_csv(\"/home/fotonik208/mbml/kddcup.data_10_percent_corrected\", header=None,names=['duration', 'protocol_type', 'service', 'flag', 'src_bytes', 'dst_bytes', 'land', 'wrong_fragment', 'urgent', 'hot', 'num_failed_logins', 'logged_in', 'num_compromised', 'root_shell', 'su_attempted', 'num_root', 'num_file_creations', 'num_shells', 'num_access_files', 'num_outbound_cmds', 'is_host_login', 'is_guest_login', 'count', 'srv_count', 'serror_rate', 'srv_serror_rate', 'rerror_rate', 'srv_rerror_rate', 'same_srv_rate', 'diff_srv_rate', 'srv_diff_host_rate', 'dst_host_count', 'dst_host_srv_count', 'dst_host_same_srv_rate', 'dst_host_diff_srv_rate', 'dst_host_same_src_port_rate', 'dst_host_srv_diff_host_rate', 'dst_host_serror_rate', 'dst_host_srv_serror_rate', 'dst_host_rerror_rate', 'dst_host_srv_rerror_rate', 'type'])\n",
        "data.head()"
      ],
      "execution_count": null,
      "outputs": [
        {
          "output_type": "execute_result",
          "data": {
            "text/html": [
              "<div>\n",
              "<style scoped>\n",
              "    .dataframe tbody tr th:only-of-type {\n",
              "        vertical-align: middle;\n",
              "    }\n",
              "\n",
              "    .dataframe tbody tr th {\n",
              "        vertical-align: top;\n",
              "    }\n",
              "\n",
              "    .dataframe thead th {\n",
              "        text-align: right;\n",
              "    }\n",
              "</style>\n",
              "<table border=\"1\" class=\"dataframe\">\n",
              "  <thead>\n",
              "    <tr style=\"text-align: right;\">\n",
              "      <th></th>\n",
              "      <th>duration</th>\n",
              "      <th>protocol_type</th>\n",
              "      <th>service</th>\n",
              "      <th>flag</th>\n",
              "      <th>src_bytes</th>\n",
              "      <th>dst_bytes</th>\n",
              "      <th>land</th>\n",
              "      <th>wrong_fragment</th>\n",
              "      <th>urgent</th>\n",
              "      <th>hot</th>\n",
              "      <th>...</th>\n",
              "      <th>dst_host_srv_count</th>\n",
              "      <th>dst_host_same_srv_rate</th>\n",
              "      <th>dst_host_diff_srv_rate</th>\n",
              "      <th>dst_host_same_src_port_rate</th>\n",
              "      <th>dst_host_srv_diff_host_rate</th>\n",
              "      <th>dst_host_serror_rate</th>\n",
              "      <th>dst_host_srv_serror_rate</th>\n",
              "      <th>dst_host_rerror_rate</th>\n",
              "      <th>dst_host_srv_rerror_rate</th>\n",
              "      <th>type</th>\n",
              "    </tr>\n",
              "  </thead>\n",
              "  <tbody>\n",
              "    <tr>\n",
              "      <th>0</th>\n",
              "      <td>0</td>\n",
              "      <td>tcp</td>\n",
              "      <td>http</td>\n",
              "      <td>SF</td>\n",
              "      <td>181</td>\n",
              "      <td>5450</td>\n",
              "      <td>0</td>\n",
              "      <td>0</td>\n",
              "      <td>0</td>\n",
              "      <td>0</td>\n",
              "      <td>...</td>\n",
              "      <td>9</td>\n",
              "      <td>1.0</td>\n",
              "      <td>0.0</td>\n",
              "      <td>0.11</td>\n",
              "      <td>0.0</td>\n",
              "      <td>0.0</td>\n",
              "      <td>0.0</td>\n",
              "      <td>0.0</td>\n",
              "      <td>0.0</td>\n",
              "      <td>normal.</td>\n",
              "    </tr>\n",
              "    <tr>\n",
              "      <th>1</th>\n",
              "      <td>0</td>\n",
              "      <td>tcp</td>\n",
              "      <td>http</td>\n",
              "      <td>SF</td>\n",
              "      <td>239</td>\n",
              "      <td>486</td>\n",
              "      <td>0</td>\n",
              "      <td>0</td>\n",
              "      <td>0</td>\n",
              "      <td>0</td>\n",
              "      <td>...</td>\n",
              "      <td>19</td>\n",
              "      <td>1.0</td>\n",
              "      <td>0.0</td>\n",
              "      <td>0.05</td>\n",
              "      <td>0.0</td>\n",
              "      <td>0.0</td>\n",
              "      <td>0.0</td>\n",
              "      <td>0.0</td>\n",
              "      <td>0.0</td>\n",
              "      <td>normal.</td>\n",
              "    </tr>\n",
              "    <tr>\n",
              "      <th>2</th>\n",
              "      <td>0</td>\n",
              "      <td>tcp</td>\n",
              "      <td>http</td>\n",
              "      <td>SF</td>\n",
              "      <td>235</td>\n",
              "      <td>1337</td>\n",
              "      <td>0</td>\n",
              "      <td>0</td>\n",
              "      <td>0</td>\n",
              "      <td>0</td>\n",
              "      <td>...</td>\n",
              "      <td>29</td>\n",
              "      <td>1.0</td>\n",
              "      <td>0.0</td>\n",
              "      <td>0.03</td>\n",
              "      <td>0.0</td>\n",
              "      <td>0.0</td>\n",
              "      <td>0.0</td>\n",
              "      <td>0.0</td>\n",
              "      <td>0.0</td>\n",
              "      <td>normal.</td>\n",
              "    </tr>\n",
              "    <tr>\n",
              "      <th>3</th>\n",
              "      <td>0</td>\n",
              "      <td>tcp</td>\n",
              "      <td>http</td>\n",
              "      <td>SF</td>\n",
              "      <td>219</td>\n",
              "      <td>1337</td>\n",
              "      <td>0</td>\n",
              "      <td>0</td>\n",
              "      <td>0</td>\n",
              "      <td>0</td>\n",
              "      <td>...</td>\n",
              "      <td>39</td>\n",
              "      <td>1.0</td>\n",
              "      <td>0.0</td>\n",
              "      <td>0.03</td>\n",
              "      <td>0.0</td>\n",
              "      <td>0.0</td>\n",
              "      <td>0.0</td>\n",
              "      <td>0.0</td>\n",
              "      <td>0.0</td>\n",
              "      <td>normal.</td>\n",
              "    </tr>\n",
              "    <tr>\n",
              "      <th>4</th>\n",
              "      <td>0</td>\n",
              "      <td>tcp</td>\n",
              "      <td>http</td>\n",
              "      <td>SF</td>\n",
              "      <td>217</td>\n",
              "      <td>2032</td>\n",
              "      <td>0</td>\n",
              "      <td>0</td>\n",
              "      <td>0</td>\n",
              "      <td>0</td>\n",
              "      <td>...</td>\n",
              "      <td>49</td>\n",
              "      <td>1.0</td>\n",
              "      <td>0.0</td>\n",
              "      <td>0.02</td>\n",
              "      <td>0.0</td>\n",
              "      <td>0.0</td>\n",
              "      <td>0.0</td>\n",
              "      <td>0.0</td>\n",
              "      <td>0.0</td>\n",
              "      <td>normal.</td>\n",
              "    </tr>\n",
              "  </tbody>\n",
              "</table>\n",
              "<p>5 rows × 42 columns</p>\n",
              "</div>"
            ],
            "text/plain": [
              "   duration protocol_type service flag  src_bytes  dst_bytes  land  \\\n",
              "0         0           tcp    http   SF        181       5450     0   \n",
              "1         0           tcp    http   SF        239        486     0   \n",
              "2         0           tcp    http   SF        235       1337     0   \n",
              "3         0           tcp    http   SF        219       1337     0   \n",
              "4         0           tcp    http   SF        217       2032     0   \n",
              "\n",
              "   wrong_fragment  urgent  hot  ...  dst_host_srv_count  \\\n",
              "0               0       0    0  ...                   9   \n",
              "1               0       0    0  ...                  19   \n",
              "2               0       0    0  ...                  29   \n",
              "3               0       0    0  ...                  39   \n",
              "4               0       0    0  ...                  49   \n",
              "\n",
              "   dst_host_same_srv_rate  dst_host_diff_srv_rate  \\\n",
              "0                     1.0                     0.0   \n",
              "1                     1.0                     0.0   \n",
              "2                     1.0                     0.0   \n",
              "3                     1.0                     0.0   \n",
              "4                     1.0                     0.0   \n",
              "\n",
              "   dst_host_same_src_port_rate  dst_host_srv_diff_host_rate  \\\n",
              "0                         0.11                          0.0   \n",
              "1                         0.05                          0.0   \n",
              "2                         0.03                          0.0   \n",
              "3                         0.03                          0.0   \n",
              "4                         0.02                          0.0   \n",
              "\n",
              "   dst_host_serror_rate  dst_host_srv_serror_rate  dst_host_rerror_rate  \\\n",
              "0                   0.0                       0.0                   0.0   \n",
              "1                   0.0                       0.0                   0.0   \n",
              "2                   0.0                       0.0                   0.0   \n",
              "3                   0.0                       0.0                   0.0   \n",
              "4                   0.0                       0.0                   0.0   \n",
              "\n",
              "   dst_host_srv_rerror_rate     type  \n",
              "0                       0.0  normal.  \n",
              "1                       0.0  normal.  \n",
              "2                       0.0  normal.  \n",
              "3                       0.0  normal.  \n",
              "4                       0.0  normal.  \n",
              "\n",
              "[5 rows x 42 columns]"
            ]
          },
          "metadata": {
            "tags": []
          },
          "execution_count": 5
        }
      ]
    },
    {
      "cell_type": "code",
      "metadata": {
        "colab": {
          "base_uri": "https://localhost:8080/",
          "height": 317
        },
        "id": "BYrD5SHDOU29",
        "outputId": "574de78f-f468-4d3a-d9c6-6f03cabe8069"
      },
      "source": [
        "data.describe()"
      ],
      "execution_count": null,
      "outputs": [
        {
          "output_type": "execute_result",
          "data": {
            "text/html": [
              "<div>\n",
              "<style scoped>\n",
              "    .dataframe tbody tr th:only-of-type {\n",
              "        vertical-align: middle;\n",
              "    }\n",
              "\n",
              "    .dataframe tbody tr th {\n",
              "        vertical-align: top;\n",
              "    }\n",
              "\n",
              "    .dataframe thead th {\n",
              "        text-align: right;\n",
              "    }\n",
              "</style>\n",
              "<table border=\"1\" class=\"dataframe\">\n",
              "  <thead>\n",
              "    <tr style=\"text-align: right;\">\n",
              "      <th></th>\n",
              "      <th>duration</th>\n",
              "      <th>src_bytes</th>\n",
              "      <th>dst_bytes</th>\n",
              "      <th>land</th>\n",
              "      <th>wrong_fragment</th>\n",
              "      <th>urgent</th>\n",
              "      <th>hot</th>\n",
              "      <th>num_failed_logins</th>\n",
              "      <th>logged_in</th>\n",
              "      <th>num_compromised</th>\n",
              "      <th>...</th>\n",
              "      <th>dst_host_count</th>\n",
              "      <th>dst_host_srv_count</th>\n",
              "      <th>dst_host_same_srv_rate</th>\n",
              "      <th>dst_host_diff_srv_rate</th>\n",
              "      <th>dst_host_same_src_port_rate</th>\n",
              "      <th>dst_host_srv_diff_host_rate</th>\n",
              "      <th>dst_host_serror_rate</th>\n",
              "      <th>dst_host_srv_serror_rate</th>\n",
              "      <th>dst_host_rerror_rate</th>\n",
              "      <th>dst_host_srv_rerror_rate</th>\n",
              "    </tr>\n",
              "  </thead>\n",
              "  <tbody>\n",
              "    <tr>\n",
              "      <th>count</th>\n",
              "      <td>494021.000000</td>\n",
              "      <td>4.940210e+05</td>\n",
              "      <td>4.940210e+05</td>\n",
              "      <td>494021.000000</td>\n",
              "      <td>494021.000000</td>\n",
              "      <td>494021.000000</td>\n",
              "      <td>494021.000000</td>\n",
              "      <td>494021.000000</td>\n",
              "      <td>494021.000000</td>\n",
              "      <td>494021.000000</td>\n",
              "      <td>...</td>\n",
              "      <td>494021.000000</td>\n",
              "      <td>494021.000000</td>\n",
              "      <td>494021.000000</td>\n",
              "      <td>494021.000000</td>\n",
              "      <td>494021.000000</td>\n",
              "      <td>494021.000000</td>\n",
              "      <td>494021.000000</td>\n",
              "      <td>494021.000000</td>\n",
              "      <td>494021.000000</td>\n",
              "      <td>494021.000000</td>\n",
              "    </tr>\n",
              "    <tr>\n",
              "      <th>mean</th>\n",
              "      <td>47.979302</td>\n",
              "      <td>3.025610e+03</td>\n",
              "      <td>8.685324e+02</td>\n",
              "      <td>0.000045</td>\n",
              "      <td>0.006433</td>\n",
              "      <td>0.000014</td>\n",
              "      <td>0.034519</td>\n",
              "      <td>0.000152</td>\n",
              "      <td>0.148247</td>\n",
              "      <td>0.010212</td>\n",
              "      <td>...</td>\n",
              "      <td>232.470778</td>\n",
              "      <td>188.665670</td>\n",
              "      <td>0.753780</td>\n",
              "      <td>0.030906</td>\n",
              "      <td>0.601935</td>\n",
              "      <td>0.006684</td>\n",
              "      <td>0.176754</td>\n",
              "      <td>0.176443</td>\n",
              "      <td>0.058118</td>\n",
              "      <td>0.057412</td>\n",
              "    </tr>\n",
              "    <tr>\n",
              "      <th>std</th>\n",
              "      <td>707.746472</td>\n",
              "      <td>9.882181e+05</td>\n",
              "      <td>3.304000e+04</td>\n",
              "      <td>0.006673</td>\n",
              "      <td>0.134805</td>\n",
              "      <td>0.005510</td>\n",
              "      <td>0.782103</td>\n",
              "      <td>0.015520</td>\n",
              "      <td>0.355345</td>\n",
              "      <td>1.798326</td>\n",
              "      <td>...</td>\n",
              "      <td>64.745380</td>\n",
              "      <td>106.040437</td>\n",
              "      <td>0.410781</td>\n",
              "      <td>0.109259</td>\n",
              "      <td>0.481309</td>\n",
              "      <td>0.042133</td>\n",
              "      <td>0.380593</td>\n",
              "      <td>0.380919</td>\n",
              "      <td>0.230590</td>\n",
              "      <td>0.230140</td>\n",
              "    </tr>\n",
              "    <tr>\n",
              "      <th>min</th>\n",
              "      <td>0.000000</td>\n",
              "      <td>0.000000e+00</td>\n",
              "      <td>0.000000e+00</td>\n",
              "      <td>0.000000</td>\n",
              "      <td>0.000000</td>\n",
              "      <td>0.000000</td>\n",
              "      <td>0.000000</td>\n",
              "      <td>0.000000</td>\n",
              "      <td>0.000000</td>\n",
              "      <td>0.000000</td>\n",
              "      <td>...</td>\n",
              "      <td>0.000000</td>\n",
              "      <td>0.000000</td>\n",
              "      <td>0.000000</td>\n",
              "      <td>0.000000</td>\n",
              "      <td>0.000000</td>\n",
              "      <td>0.000000</td>\n",
              "      <td>0.000000</td>\n",
              "      <td>0.000000</td>\n",
              "      <td>0.000000</td>\n",
              "      <td>0.000000</td>\n",
              "    </tr>\n",
              "    <tr>\n",
              "      <th>25%</th>\n",
              "      <td>0.000000</td>\n",
              "      <td>4.500000e+01</td>\n",
              "      <td>0.000000e+00</td>\n",
              "      <td>0.000000</td>\n",
              "      <td>0.000000</td>\n",
              "      <td>0.000000</td>\n",
              "      <td>0.000000</td>\n",
              "      <td>0.000000</td>\n",
              "      <td>0.000000</td>\n",
              "      <td>0.000000</td>\n",
              "      <td>...</td>\n",
              "      <td>255.000000</td>\n",
              "      <td>46.000000</td>\n",
              "      <td>0.410000</td>\n",
              "      <td>0.000000</td>\n",
              "      <td>0.000000</td>\n",
              "      <td>0.000000</td>\n",
              "      <td>0.000000</td>\n",
              "      <td>0.000000</td>\n",
              "      <td>0.000000</td>\n",
              "      <td>0.000000</td>\n",
              "    </tr>\n",
              "    <tr>\n",
              "      <th>50%</th>\n",
              "      <td>0.000000</td>\n",
              "      <td>5.200000e+02</td>\n",
              "      <td>0.000000e+00</td>\n",
              "      <td>0.000000</td>\n",
              "      <td>0.000000</td>\n",
              "      <td>0.000000</td>\n",
              "      <td>0.000000</td>\n",
              "      <td>0.000000</td>\n",
              "      <td>0.000000</td>\n",
              "      <td>0.000000</td>\n",
              "      <td>...</td>\n",
              "      <td>255.000000</td>\n",
              "      <td>255.000000</td>\n",
              "      <td>1.000000</td>\n",
              "      <td>0.000000</td>\n",
              "      <td>1.000000</td>\n",
              "      <td>0.000000</td>\n",
              "      <td>0.000000</td>\n",
              "      <td>0.000000</td>\n",
              "      <td>0.000000</td>\n",
              "      <td>0.000000</td>\n",
              "    </tr>\n",
              "    <tr>\n",
              "      <th>75%</th>\n",
              "      <td>0.000000</td>\n",
              "      <td>1.032000e+03</td>\n",
              "      <td>0.000000e+00</td>\n",
              "      <td>0.000000</td>\n",
              "      <td>0.000000</td>\n",
              "      <td>0.000000</td>\n",
              "      <td>0.000000</td>\n",
              "      <td>0.000000</td>\n",
              "      <td>0.000000</td>\n",
              "      <td>0.000000</td>\n",
              "      <td>...</td>\n",
              "      <td>255.000000</td>\n",
              "      <td>255.000000</td>\n",
              "      <td>1.000000</td>\n",
              "      <td>0.040000</td>\n",
              "      <td>1.000000</td>\n",
              "      <td>0.000000</td>\n",
              "      <td>0.000000</td>\n",
              "      <td>0.000000</td>\n",
              "      <td>0.000000</td>\n",
              "      <td>0.000000</td>\n",
              "    </tr>\n",
              "    <tr>\n",
              "      <th>max</th>\n",
              "      <td>58329.000000</td>\n",
              "      <td>6.933756e+08</td>\n",
              "      <td>5.155468e+06</td>\n",
              "      <td>1.000000</td>\n",
              "      <td>3.000000</td>\n",
              "      <td>3.000000</td>\n",
              "      <td>30.000000</td>\n",
              "      <td>5.000000</td>\n",
              "      <td>1.000000</td>\n",
              "      <td>884.000000</td>\n",
              "      <td>...</td>\n",
              "      <td>255.000000</td>\n",
              "      <td>255.000000</td>\n",
              "      <td>1.000000</td>\n",
              "      <td>1.000000</td>\n",
              "      <td>1.000000</td>\n",
              "      <td>1.000000</td>\n",
              "      <td>1.000000</td>\n",
              "      <td>1.000000</td>\n",
              "      <td>1.000000</td>\n",
              "      <td>1.000000</td>\n",
              "    </tr>\n",
              "  </tbody>\n",
              "</table>\n",
              "<p>8 rows × 38 columns</p>\n",
              "</div>"
            ],
            "text/plain": [
              "            duration     src_bytes     dst_bytes           land  \\\n",
              "count  494021.000000  4.940210e+05  4.940210e+05  494021.000000   \n",
              "mean       47.979302  3.025610e+03  8.685324e+02       0.000045   \n",
              "std       707.746472  9.882181e+05  3.304000e+04       0.006673   \n",
              "min         0.000000  0.000000e+00  0.000000e+00       0.000000   \n",
              "25%         0.000000  4.500000e+01  0.000000e+00       0.000000   \n",
              "50%         0.000000  5.200000e+02  0.000000e+00       0.000000   \n",
              "75%         0.000000  1.032000e+03  0.000000e+00       0.000000   \n",
              "max     58329.000000  6.933756e+08  5.155468e+06       1.000000   \n",
              "\n",
              "       wrong_fragment         urgent            hot  num_failed_logins  \\\n",
              "count   494021.000000  494021.000000  494021.000000      494021.000000   \n",
              "mean         0.006433       0.000014       0.034519           0.000152   \n",
              "std          0.134805       0.005510       0.782103           0.015520   \n",
              "min          0.000000       0.000000       0.000000           0.000000   \n",
              "25%          0.000000       0.000000       0.000000           0.000000   \n",
              "50%          0.000000       0.000000       0.000000           0.000000   \n",
              "75%          0.000000       0.000000       0.000000           0.000000   \n",
              "max          3.000000       3.000000      30.000000           5.000000   \n",
              "\n",
              "           logged_in  num_compromised  ...  dst_host_count  \\\n",
              "count  494021.000000    494021.000000  ...   494021.000000   \n",
              "mean        0.148247         0.010212  ...      232.470778   \n",
              "std         0.355345         1.798326  ...       64.745380   \n",
              "min         0.000000         0.000000  ...        0.000000   \n",
              "25%         0.000000         0.000000  ...      255.000000   \n",
              "50%         0.000000         0.000000  ...      255.000000   \n",
              "75%         0.000000         0.000000  ...      255.000000   \n",
              "max         1.000000       884.000000  ...      255.000000   \n",
              "\n",
              "       dst_host_srv_count  dst_host_same_srv_rate  dst_host_diff_srv_rate  \\\n",
              "count       494021.000000           494021.000000           494021.000000   \n",
              "mean           188.665670                0.753780                0.030906   \n",
              "std            106.040437                0.410781                0.109259   \n",
              "min              0.000000                0.000000                0.000000   \n",
              "25%             46.000000                0.410000                0.000000   \n",
              "50%            255.000000                1.000000                0.000000   \n",
              "75%            255.000000                1.000000                0.040000   \n",
              "max            255.000000                1.000000                1.000000   \n",
              "\n",
              "       dst_host_same_src_port_rate  dst_host_srv_diff_host_rate  \\\n",
              "count                494021.000000                494021.000000   \n",
              "mean                      0.601935                     0.006684   \n",
              "std                       0.481309                     0.042133   \n",
              "min                       0.000000                     0.000000   \n",
              "25%                       0.000000                     0.000000   \n",
              "50%                       1.000000                     0.000000   \n",
              "75%                       1.000000                     0.000000   \n",
              "max                       1.000000                     1.000000   \n",
              "\n",
              "       dst_host_serror_rate  dst_host_srv_serror_rate  dst_host_rerror_rate  \\\n",
              "count         494021.000000             494021.000000         494021.000000   \n",
              "mean               0.176754                  0.176443              0.058118   \n",
              "std                0.380593                  0.380919              0.230590   \n",
              "min                0.000000                  0.000000              0.000000   \n",
              "25%                0.000000                  0.000000              0.000000   \n",
              "50%                0.000000                  0.000000              0.000000   \n",
              "75%                0.000000                  0.000000              0.000000   \n",
              "max                1.000000                  1.000000              1.000000   \n",
              "\n",
              "       dst_host_srv_rerror_rate  \n",
              "count             494021.000000  \n",
              "mean                   0.057412  \n",
              "std                    0.230140  \n",
              "min                    0.000000  \n",
              "25%                    0.000000  \n",
              "50%                    0.000000  \n",
              "75%                    0.000000  \n",
              "max                    1.000000  \n",
              "\n",
              "[8 rows x 38 columns]"
            ]
          },
          "metadata": {
            "tags": []
          },
          "execution_count": 6
        }
      ]
    },
    {
      "cell_type": "code",
      "metadata": {
        "colab": {
          "base_uri": "https://localhost:8080/"
        },
        "id": "k8JxgpKZDkWe",
        "outputId": "8ad4e9cd-1a8b-4234-a30d-6b835c614ba4"
      },
      "source": [
        "data.info()"
      ],
      "execution_count": null,
      "outputs": [
        {
          "output_type": "stream",
          "text": [
            "<class 'pandas.core.frame.DataFrame'>\n",
            "RangeIndex: 494021 entries, 0 to 494020\n",
            "Data columns (total 42 columns):\n",
            "duration                       494021 non-null int64\n",
            "protocol_type                  494021 non-null object\n",
            "service                        494021 non-null object\n",
            "flag                           494021 non-null object\n",
            "src_bytes                      494021 non-null int64\n",
            "dst_bytes                      494021 non-null int64\n",
            "land                           494021 non-null int64\n",
            "wrong_fragment                 494021 non-null int64\n",
            "urgent                         494021 non-null int64\n",
            "hot                            494021 non-null int64\n",
            "num_failed_logins              494021 non-null int64\n",
            "logged_in                      494021 non-null int64\n",
            "num_compromised                494021 non-null int64\n",
            "root_shell                     494021 non-null int64\n",
            "su_attempted                   494021 non-null int64\n",
            "num_root                       494021 non-null int64\n",
            "num_file_creations             494021 non-null int64\n",
            "num_shells                     494021 non-null int64\n",
            "num_access_files               494021 non-null int64\n",
            "num_outbound_cmds              494021 non-null int64\n",
            "is_host_login                  494021 non-null int64\n",
            "is_guest_login                 494021 non-null int64\n",
            "count                          494021 non-null int64\n",
            "srv_count                      494021 non-null int64\n",
            "serror_rate                    494021 non-null float64\n",
            "srv_serror_rate                494021 non-null float64\n",
            "rerror_rate                    494021 non-null float64\n",
            "srv_rerror_rate                494021 non-null float64\n",
            "same_srv_rate                  494021 non-null float64\n",
            "diff_srv_rate                  494021 non-null float64\n",
            "srv_diff_host_rate             494021 non-null float64\n",
            "dst_host_count                 494021 non-null int64\n",
            "dst_host_srv_count             494021 non-null int64\n",
            "dst_host_same_srv_rate         494021 non-null float64\n",
            "dst_host_diff_srv_rate         494021 non-null float64\n",
            "dst_host_same_src_port_rate    494021 non-null float64\n",
            "dst_host_srv_diff_host_rate    494021 non-null float64\n",
            "dst_host_serror_rate           494021 non-null float64\n",
            "dst_host_srv_serror_rate       494021 non-null float64\n",
            "dst_host_rerror_rate           494021 non-null float64\n",
            "dst_host_srv_rerror_rate       494021 non-null float64\n",
            "type                           494021 non-null object\n",
            "dtypes: float64(15), int64(23), object(4)\n",
            "memory usage: 158.3+ MB\n"
          ],
          "name": "stdout"
        }
      ]
    },
    {
      "cell_type": "markdown",
      "metadata": {
        "id": "z82yC0APYjEd"
      },
      "source": [
        "The dataset includes the traffic records with the normal traffics and 22 type of attacks. Among these records, only around 20% of the records are the normal ones and the rest 80% are the abnormal ones."
      ]
    },
    {
      "cell_type": "code",
      "metadata": {
        "colab": {
          "base_uri": "https://localhost:8080/"
        },
        "id": "wZO9EaxYMTul",
        "outputId": "39efab63-7eb0-4743-fb12-c5ca6b1ad9ce"
      },
      "source": [
        "proportions = data[\"type\"].value_counts()\n",
        "print(proportions)\n",
        "normal_data_count = data[\"type\"].loc[data[\"type\"]==\"normal.\"].value_counts()\n",
        "print(normal_data_count)\n",
        "print(\"Anomaly Percentage\", normal_data_count / proportions.sum())"
      ],
      "execution_count": null,
      "outputs": [
        {
          "output_type": "stream",
          "text": [
            "smurf.              280790\n",
            "neptune.            107201\n",
            "normal.              97278\n",
            "back.                 2203\n",
            "satan.                1589\n",
            "ipsweep.              1247\n",
            "portsweep.            1040\n",
            "warezclient.          1020\n",
            "teardrop.              979\n",
            "pod.                   264\n",
            "nmap.                  231\n",
            "guess_passwd.           53\n",
            "buffer_overflow.        30\n",
            "land.                   21\n",
            "warezmaster.            20\n",
            "imap.                   12\n",
            "rootkit.                10\n",
            "loadmodule.              9\n",
            "ftp_write.               8\n",
            "multihop.                7\n",
            "phf.                     4\n",
            "perl.                    3\n",
            "spy.                     2\n",
            "Name: type, dtype: int64\n",
            "normal.    97278\n",
            "Name: type, dtype: int64\n",
            "Anomaly Percentage normal.    0.196911\n",
            "Name: type, dtype: float64\n"
          ],
          "name": "stdout"
        }
      ]
    },
    {
      "cell_type": "markdown",
      "metadata": {
        "id": "fdLqvMe1mttI"
      },
      "source": [
        "# **Preprocessing**"
      ]
    },
    {
      "cell_type": "markdown",
      "metadata": {
        "id": "uA14LxtGJJBU"
      },
      "source": [
        "Data encoding:\n",
        "The labels are recorded in the format as object. To prepare for the computation afterwards, the categorical labels are encoded into integer numbers. In this case, the normal samples are encoded into 11.   "
      ]
    },
    {
      "cell_type": "code",
      "metadata": {
        "id": "kUxndfSfPad3",
        "outputId": "82608205-ee90-46a8-a845-762f6dbafc9b"
      },
      "source": [
        "from sklearn.preprocessing import OrdinalEncoder\n",
        "\n",
        "ord_enc = OrdinalEncoder()\n",
        "data[\"type\"] = ord_enc.fit_transform(data[[\"type\"]])\n",
        "proportions = data[\"type\"].value_counts()\n",
        "print(proportions)"
      ],
      "execution_count": null,
      "outputs": [
        {
          "output_type": "stream",
          "text": [
            "18.0    280790\n",
            "9.0     107201\n",
            "11.0     97278\n",
            "0.0       2203\n",
            "17.0      1589\n",
            "5.0       1247\n",
            "15.0      1040\n",
            "21.0      1020\n",
            "20.0       979\n",
            "14.0       264\n",
            "10.0       231\n",
            "3.0         53\n",
            "1.0         30\n",
            "6.0         21\n",
            "22.0        20\n",
            "4.0         12\n",
            "16.0        10\n",
            "7.0          9\n",
            "2.0          8\n",
            "8.0          7\n",
            "13.0         4\n",
            "12.0         3\n",
            "19.0         2\n",
            "Name: type, dtype: int64\n"
          ],
          "name": "stdout"
        }
      ]
    },
    {
      "cell_type": "markdown",
      "metadata": {
        "id": "oV0RfwwbZJxP"
      },
      "source": [
        "Since the featrues are saved in different format in the dataset and it's hard to process the features recorded as object. Thus, the one-hot encoding is done to these features to encode them into numerical values. "
      ]
    },
    {
      "cell_type": "code",
      "metadata": {
        "colab": {
          "base_uri": "https://localhost:8080/",
          "height": 253
        },
        "id": "KjGXA8N9PgE-",
        "outputId": "d938b5d5-3b6a-4f44-abfd-f1979ca0b9af"
      },
      "source": [
        "# One-hot encoding the data into numerical values\n",
        "\n",
        "one_hot_protocol = pd.get_dummies(data[\"protocol_type\"])\n",
        "one_hot_service = pd.get_dummies(data[\"service\"])\n",
        "one_hot_flag = pd.get_dummies(data[\"flag\"])\n",
        "\n",
        "data = data.drop(\"protocol_type\",axis=1)\n",
        "data = data.drop(\"service\",axis=1)\n",
        "data = data.drop(\"flag\",axis=1)\n",
        "    \n",
        "data = pd.concat([one_hot_protocol, one_hot_service,one_hot_flag, data],axis=1)\n",
        "data.head()"
      ],
      "execution_count": null,
      "outputs": [
        {
          "output_type": "execute_result",
          "data": {
            "text/html": [
              "<div>\n",
              "<style scoped>\n",
              "    .dataframe tbody tr th:only-of-type {\n",
              "        vertical-align: middle;\n",
              "    }\n",
              "\n",
              "    .dataframe tbody tr th {\n",
              "        vertical-align: top;\n",
              "    }\n",
              "\n",
              "    .dataframe thead th {\n",
              "        text-align: right;\n",
              "    }\n",
              "</style>\n",
              "<table border=\"1\" class=\"dataframe\">\n",
              "  <thead>\n",
              "    <tr style=\"text-align: right;\">\n",
              "      <th></th>\n",
              "      <th>icmp</th>\n",
              "      <th>tcp</th>\n",
              "      <th>udp</th>\n",
              "      <th>IRC</th>\n",
              "      <th>X11</th>\n",
              "      <th>Z39_50</th>\n",
              "      <th>auth</th>\n",
              "      <th>bgp</th>\n",
              "      <th>courier</th>\n",
              "      <th>csnet_ns</th>\n",
              "      <th>...</th>\n",
              "      <th>dst_host_srv_count</th>\n",
              "      <th>dst_host_same_srv_rate</th>\n",
              "      <th>dst_host_diff_srv_rate</th>\n",
              "      <th>dst_host_same_src_port_rate</th>\n",
              "      <th>dst_host_srv_diff_host_rate</th>\n",
              "      <th>dst_host_serror_rate</th>\n",
              "      <th>dst_host_srv_serror_rate</th>\n",
              "      <th>dst_host_rerror_rate</th>\n",
              "      <th>dst_host_srv_rerror_rate</th>\n",
              "      <th>type</th>\n",
              "    </tr>\n",
              "  </thead>\n",
              "  <tbody>\n",
              "    <tr>\n",
              "      <th>0</th>\n",
              "      <td>0</td>\n",
              "      <td>1</td>\n",
              "      <td>0</td>\n",
              "      <td>0</td>\n",
              "      <td>0</td>\n",
              "      <td>0</td>\n",
              "      <td>0</td>\n",
              "      <td>0</td>\n",
              "      <td>0</td>\n",
              "      <td>0</td>\n",
              "      <td>...</td>\n",
              "      <td>9</td>\n",
              "      <td>1.0</td>\n",
              "      <td>0.0</td>\n",
              "      <td>0.11</td>\n",
              "      <td>0.0</td>\n",
              "      <td>0.0</td>\n",
              "      <td>0.0</td>\n",
              "      <td>0.0</td>\n",
              "      <td>0.0</td>\n",
              "      <td>11.0</td>\n",
              "    </tr>\n",
              "    <tr>\n",
              "      <th>1</th>\n",
              "      <td>0</td>\n",
              "      <td>1</td>\n",
              "      <td>0</td>\n",
              "      <td>0</td>\n",
              "      <td>0</td>\n",
              "      <td>0</td>\n",
              "      <td>0</td>\n",
              "      <td>0</td>\n",
              "      <td>0</td>\n",
              "      <td>0</td>\n",
              "      <td>...</td>\n",
              "      <td>19</td>\n",
              "      <td>1.0</td>\n",
              "      <td>0.0</td>\n",
              "      <td>0.05</td>\n",
              "      <td>0.0</td>\n",
              "      <td>0.0</td>\n",
              "      <td>0.0</td>\n",
              "      <td>0.0</td>\n",
              "      <td>0.0</td>\n",
              "      <td>11.0</td>\n",
              "    </tr>\n",
              "    <tr>\n",
              "      <th>2</th>\n",
              "      <td>0</td>\n",
              "      <td>1</td>\n",
              "      <td>0</td>\n",
              "      <td>0</td>\n",
              "      <td>0</td>\n",
              "      <td>0</td>\n",
              "      <td>0</td>\n",
              "      <td>0</td>\n",
              "      <td>0</td>\n",
              "      <td>0</td>\n",
              "      <td>...</td>\n",
              "      <td>29</td>\n",
              "      <td>1.0</td>\n",
              "      <td>0.0</td>\n",
              "      <td>0.03</td>\n",
              "      <td>0.0</td>\n",
              "      <td>0.0</td>\n",
              "      <td>0.0</td>\n",
              "      <td>0.0</td>\n",
              "      <td>0.0</td>\n",
              "      <td>11.0</td>\n",
              "    </tr>\n",
              "    <tr>\n",
              "      <th>3</th>\n",
              "      <td>0</td>\n",
              "      <td>1</td>\n",
              "      <td>0</td>\n",
              "      <td>0</td>\n",
              "      <td>0</td>\n",
              "      <td>0</td>\n",
              "      <td>0</td>\n",
              "      <td>0</td>\n",
              "      <td>0</td>\n",
              "      <td>0</td>\n",
              "      <td>...</td>\n",
              "      <td>39</td>\n",
              "      <td>1.0</td>\n",
              "      <td>0.0</td>\n",
              "      <td>0.03</td>\n",
              "      <td>0.0</td>\n",
              "      <td>0.0</td>\n",
              "      <td>0.0</td>\n",
              "      <td>0.0</td>\n",
              "      <td>0.0</td>\n",
              "      <td>11.0</td>\n",
              "    </tr>\n",
              "    <tr>\n",
              "      <th>4</th>\n",
              "      <td>0</td>\n",
              "      <td>1</td>\n",
              "      <td>0</td>\n",
              "      <td>0</td>\n",
              "      <td>0</td>\n",
              "      <td>0</td>\n",
              "      <td>0</td>\n",
              "      <td>0</td>\n",
              "      <td>0</td>\n",
              "      <td>0</td>\n",
              "      <td>...</td>\n",
              "      <td>49</td>\n",
              "      <td>1.0</td>\n",
              "      <td>0.0</td>\n",
              "      <td>0.02</td>\n",
              "      <td>0.0</td>\n",
              "      <td>0.0</td>\n",
              "      <td>0.0</td>\n",
              "      <td>0.0</td>\n",
              "      <td>0.0</td>\n",
              "      <td>11.0</td>\n",
              "    </tr>\n",
              "  </tbody>\n",
              "</table>\n",
              "<p>5 rows × 119 columns</p>\n",
              "</div>"
            ],
            "text/plain": [
              "   icmp  tcp  udp  IRC  X11  Z39_50  auth  bgp  courier  csnet_ns  ...  \\\n",
              "0     0    1    0    0    0       0     0    0        0         0  ...   \n",
              "1     0    1    0    0    0       0     0    0        0         0  ...   \n",
              "2     0    1    0    0    0       0     0    0        0         0  ...   \n",
              "3     0    1    0    0    0       0     0    0        0         0  ...   \n",
              "4     0    1    0    0    0       0     0    0        0         0  ...   \n",
              "\n",
              "   dst_host_srv_count  dst_host_same_srv_rate  dst_host_diff_srv_rate  \\\n",
              "0                   9                     1.0                     0.0   \n",
              "1                  19                     1.0                     0.0   \n",
              "2                  29                     1.0                     0.0   \n",
              "3                  39                     1.0                     0.0   \n",
              "4                  49                     1.0                     0.0   \n",
              "\n",
              "   dst_host_same_src_port_rate  dst_host_srv_diff_host_rate  \\\n",
              "0                         0.11                          0.0   \n",
              "1                         0.05                          0.0   \n",
              "2                         0.03                          0.0   \n",
              "3                         0.03                          0.0   \n",
              "4                         0.02                          0.0   \n",
              "\n",
              "   dst_host_serror_rate  dst_host_srv_serror_rate  dst_host_rerror_rate  \\\n",
              "0                   0.0                       0.0                   0.0   \n",
              "1                   0.0                       0.0                   0.0   \n",
              "2                   0.0                       0.0                   0.0   \n",
              "3                   0.0                       0.0                   0.0   \n",
              "4                   0.0                       0.0                   0.0   \n",
              "\n",
              "   dst_host_srv_rerror_rate  type  \n",
              "0                       0.0  11.0  \n",
              "1                       0.0  11.0  \n",
              "2                       0.0  11.0  \n",
              "3                       0.0  11.0  \n",
              "4                       0.0  11.0  \n",
              "\n",
              "[5 rows x 119 columns]"
            ]
          },
          "metadata": {
            "tags": []
          },
          "execution_count": 10
        }
      ]
    },
    {
      "cell_type": "markdown",
      "metadata": {
        "id": "t89vtsloZXR8"
      },
      "source": [
        "Featrue scaling:\n",
        " \n",
        "Considering the features has different range, standardization is done to deal with this by keeping the values centered around the mean with a unit standard deviation."
      ]
    },
    {
      "cell_type": "code",
      "metadata": {
        "id": "YgS2AhcYPnf_"
      },
      "source": [
        "# Standardize the numeric variables\n",
        "\n",
        "cols_to_norm = [\"duration\", \"src_bytes\", \"dst_bytes\", \"wrong_fragment\", \"urgent\", \n",
        "            \"hot\", \"num_failed_logins\", \"num_compromised\", \"num_root\", \n",
        "            \"num_file_creations\", \"num_shells\", \"num_access_files\", \"count\", \"srv_count\", \n",
        "            \"serror_rate\", \"srv_serror_rate\", \"rerror_rate\", \"srv_rerror_rate\", \"same_srv_rate\", \n",
        "            \"diff_srv_rate\", \"srv_diff_host_rate\", \"dst_host_count\", \"dst_host_srv_count\", \"dst_host_same_srv_rate\", \n",
        "            \"dst_host_diff_srv_rate\", \"dst_host_same_src_port_rate\", \"dst_host_srv_diff_host_rate\", \n",
        "            \"dst_host_serror_rate\", \"dst_host_srv_serror_rate\", \"dst_host_rerror_rate\", \"dst_host_srv_rerror_rate\" ]\n",
        "\n",
        "data.loc[:, cols_to_norm] = (data[cols_to_norm] - data[cols_to_norm].mean()) / data[cols_to_norm].std()\n",
        "min_cols = data.loc[data[\"type\"]==0 , cols_to_norm].min()\n",
        "max_cols = data.loc[data[\"type\"]==0 , cols_to_norm].max()"
      ],
      "execution_count": null,
      "outputs": []
    },
    {
      "cell_type": "markdown",
      "metadata": {
        "id": "6yZm5QMtZduN"
      },
      "source": [
        "Split the dataset:\n",
        "\n",
        "Split the label out of the dataset into X and y. Split the X and y into trainset and testset with 66% of samples as trainset."
      ]
    },
    {
      "cell_type": "code",
      "metadata": {
        "colab": {
          "base_uri": "https://localhost:8080/"
        },
        "id": "c6UzA0b9P-0g",
        "outputId": "80a30904-fd39-4111-8bb6-60a8a59167b9"
      },
      "source": [
        "# separate between features/inputs X and label/output variables y\n",
        "mat = data.values\n",
        "X = mat[:,0:-1]\n",
        "print(X.shape)\n",
        "y = mat[:,-1]\n",
        "y = y.astype('int')\n",
        "print(y.shape)\n"
      ],
      "execution_count": null,
      "outputs": [
        {
          "output_type": "stream",
          "text": [
            "(494021, 118)\n",
            "(494021,)\n"
          ],
          "name": "stdout"
        }
      ]
    },
    {
      "cell_type": "code",
      "metadata": {
        "colab": {
          "base_uri": "https://localhost:8080/"
        },
        "id": "_I_7L2kpYo45",
        "outputId": "4fbe3dae-92ab-4f0f-cd55-d278cf208ea1"
      },
      "source": [
        "train_perc = 0.66 # percentage of training data\n",
        "split_point = int(train_perc*len(y))\n",
        "perm = np.random.permutation(len(y))\n",
        "ix_train = perm[:split_point]\n",
        "ix_test = perm[split_point:]\n",
        "X_train = X[ix_train,:]\n",
        "X_test = X[ix_test,:]\n",
        "y_train = y[ix_train]\n",
        "y_test = y[ix_test]\n",
        "print(\"num train: %d\" % len(y_train))\n",
        "print(\"num test: %d\" % len(y_test))"
      ],
      "execution_count": null,
      "outputs": [
        {
          "output_type": "stream",
          "text": [
            "num train: 326053\n",
            "num test: 167968\n"
          ],
          "name": "stdout"
        }
      ]
    },
    {
      "cell_type": "markdown",
      "metadata": {
        "id": "fEPbzWSAYo5P"
      },
      "source": [
        "# **Baseline model from sklearn**\n",
        "\n",
        "Define the GMM from sklearn as the baseline model:"
      ]
    },
    {
      "cell_type": "code",
      "metadata": {
        "colab": {
          "base_uri": "https://localhost:8080/"
        },
        "id": "CDvvr1PrYo5S",
        "outputId": "101d3c7c-23d3-4d1a-93b0-aa3dfdbf6a6c"
      },
      "source": [
        "# create and fit logistic regression model\n",
        "from sklearn.mixture import GaussianMixture\n",
        "gmm = GaussianMixture(n_components=23, random_state=42).fit(X_train)\n",
        "y_hat = gmm.predict(X_test)\n",
        "print(\"predictions:\", y_hat)\n",
        "print(\"true values:\", y_test)\n",
        "\n",
        "# evaluate prediction accuracy\n",
        "print(\"Accuracy:\", 1.0*np.sum(y_hat == y_test) / len(y_test))"
      ],
      "execution_count": null,
      "outputs": [
        {
          "output_type": "stream",
          "text": [
            "predictions: [3 0 0 ... 0 7 1]\n",
            "true values: [ 9 18 18 ... 18 11  9]\n",
            "Accuracy: 0.0017265193370165745\n"
          ],
          "name": "stdout"
        }
      ]
    },
    {
      "cell_type": "markdown",
      "metadata": {
        "id": "t5gfLM4baJOB"
      },
      "source": [
        "To look into details on how the model performs, classification_report provided by sklearn is called here to present a detailed evaluation with metrics like precision, recall, f1-score for each class. This baseline model shows very poor detection capability with only a few samples properly labeled. "
      ]
    },
    {
      "cell_type": "code",
      "metadata": {
        "id": "PJEwCkScXLh0",
        "outputId": "40ecef74-118b-4e9c-c1df-4d849512cc0f"
      },
      "source": [
        "from sklearn.metrics import classification_report\n",
        "print(classification_report(y_test, y_hat))"
      ],
      "execution_count": null,
      "outputs": [
        {
          "output_type": "stream",
          "text": [
            "              precision    recall  f1-score   support\n",
            "\n",
            "           0       0.00      0.00      0.00       778\n",
            "           1       0.00      0.00      0.00         6\n",
            "           2       0.00      0.00      0.00         5\n",
            "           3       0.00      0.00      0.00        17\n",
            "           4       0.00      0.00      0.00         5\n",
            "           5       0.00      0.00      0.00       438\n",
            "           6       0.00      0.00      0.00         9\n",
            "           7       0.00      0.00      0.00         4\n",
            "           8       0.00      0.00      0.00         2\n",
            "           9       0.36      0.01      0.02     36339\n",
            "          10       0.00      0.00      0.00        78\n",
            "          11       0.00      0.00      0.00     33238\n",
            "          12       0.00      0.00      0.00         1\n",
            "          13       0.00      0.00      0.00         0\n",
            "          14       0.00      0.00      0.00        92\n",
            "          15       0.01      0.01      0.01       355\n",
            "          16       0.00      0.00      0.00         3\n",
            "          17       0.00      0.01      0.01       553\n",
            "          18       0.00      0.00      0.00     95347\n",
            "          19       0.00      0.00      0.00         2\n",
            "          20       0.00      0.00      0.00       343\n",
            "          21       0.00      0.00      0.00       346\n",
            "          22       0.00      0.00      0.00         7\n",
            "\n",
            "    accuracy                           0.00    167968\n",
            "   macro avg       0.02      0.00      0.00    167968\n",
            "weighted avg       0.08      0.00      0.00    167968\n",
            "\n"
          ],
          "name": "stdout"
        },
        {
          "output_type": "stream",
          "text": [
            "/home/fotonik208/anaconda3/lib/python3.7/site-packages/sklearn/metrics/_classification.py:1221: UndefinedMetricWarning: Precision and F-score are ill-defined and being set to 0.0 in labels with no predicted samples. Use `zero_division` parameter to control this behavior.\n",
            "  _warn_prf(average, modifier, msg_start, len(result))\n",
            "/home/fotonik208/anaconda3/lib/python3.7/site-packages/sklearn/metrics/_classification.py:1221: UndefinedMetricWarning: Recall and F-score are ill-defined and being set to 0.0 in labels with no true samples. Use `zero_division` parameter to control this behavior.\n",
            "  _warn_prf(average, modifier, msg_start, len(result))\n"
          ],
          "name": "stderr"
        }
      ]
    },
    {
      "cell_type": "markdown",
      "metadata": {
        "id": "p0rpw_lnxvZ3"
      },
      "source": [
        "# **GMM Model Training & Evaluation**"
      ]
    },
    {
      "cell_type": "markdown",
      "metadata": {
        "id": "3jTYsCQiateP"
      },
      "source": [
        "**GMM model with 23 components**\n",
        "\n",
        "In this notebook, based on the model in notebook GMM (K=2), the model is modified with 23 components (K=23) and tuned to make the clustering for the samples. The generative process is still like: \n",
        "\n",
        "\n",
        "\n",
        "1. Draw $w$ which is a vector $(1 \\times K)$ with probabilities of each class: $w \\sim \\operatorname{Dirichlet}\\left(w_{0}=10\\right)$\n",
        "2. Draw the uncertainty value of the clusters: $\\sigma \\sim \\operatorname{Lognormal}\\left(\\mu_{0}=0, \\sigma_{0}=20\\right)$\n",
        "3. For each cluster $k$ in the clusters $k \\in\\{1, \\ldots, K\\}$ where $K=23$: \n",
        "  * Draw the mean value of the this cluster: $\\mu_{k} \\sim \\operatorname{Normal}\\left(\\mu_{1}=0, \\sigma_{1}=20\\right)$\n",
        "\n",
        "4. For each sample in the dataset $n \\in\\{1, \\ldots, N\\}$: \n",
        "  * Draw latent variable: $z_{n} \\sim \\operatorname{Cat}(w)$ \n",
        "  * Define $k=z_{n}$ generate the samples: $x_{n} \\sim \\operatorname{Normal}\\left(\\mu_{k}, \\sigma\\right)$\n",
        "\n",
        "To implement the model, vectorization is done for the variable to optimize the performance in Pyro. This implementation refers to the Pyro guideline [2] and config_enumerate() handler in Pyro [3] is called here to enable the enumeration over the assignments in each iteration.\n",
        "\n",
        "[2] Gaussian Mixture Model, https://pyro.ai/examples/gmm.html\n",
        "\n",
        "\n",
        "[3] Inference with Discrete Latent Variables, http://pyro.ai/examples/enumeration.html"
      ]
    },
    {
      "cell_type": "code",
      "metadata": {
        "id": "IhvD8_0FXLh1"
      },
      "source": [
        "K = 23  # Fixed number of components.\n",
        "\n",
        "@config_enumerate\n",
        "def gmm(data):\n",
        "    D = data.shape[1]\n",
        "    # Global variables.\n",
        "    weights = pyro.sample('weights', dist.Dirichlet(10 * torch.ones(K)))\n",
        "    scale = pyro.sample('scale', dist.LogNormal(0., 20.))\n",
        "    with pyro.plate('components', K):\n",
        "        locs = pyro.sample('locs', dist.Normal(torch.zeros(D), 20.).to_event(1))\n",
        "        assert locs.shape == (K, D)\n",
        "    with pyro.plate('data', len(data)):\n",
        "        # Local variables.\n",
        "        assignment = pyro.sample('assignment', dist.Categorical(weights))\n",
        "        pyro.sample('obs', dist.Normal(locs[assignment], scale).to_event(1), obs=data)"
      ],
      "execution_count": null,
      "outputs": []
    },
    {
      "cell_type": "markdown",
      "metadata": {
        "id": "JELTrSrccTxm"
      },
      "source": [
        "The speed of the learning process is tweaked by defining the learning rate and $\\beta_{1}$ & $\\beta_{2}$. To run the inference in Pyro, TraceEnum_ELBO is used here to enable the enumerations in parallel during the sampling from discrete latent states. "
      ]
    },
    {
      "cell_type": "code",
      "metadata": {
        "id": "NfUSpq7zXLh1"
      },
      "source": [
        "optim = pyro.optim.Adam({'lr': 0.0001, 'betas': [0.8, 0.99]})\n",
        "elbo = TraceEnum_ELBO(max_plate_nesting=1)"
      ],
      "execution_count": null,
      "outputs": []
    },
    {
      "cell_type": "code",
      "metadata": {
        "id": "-F2zHkeZXLh1"
      },
      "source": [
        "# transform the dataset to tensor\n",
        "X_train_torch = torch.tensor(X_train).float()\n",
        "X_test_torch = torch.tensor(X_test).float()"
      ],
      "execution_count": null,
      "outputs": []
    },
    {
      "cell_type": "markdown",
      "metadata": {
        "id": "nh_IWRCkciql"
      },
      "source": [
        "The auto guide AutoDelta is used to construct a MAP guide based on Delta distributions. SVI is configured for inference. Initialization is done first in the consideration of the GMM is prone to local mode. The optimal initail value is selected from a number of values by iterating the seeds. "
      ]
    },
    {
      "cell_type": "code",
      "metadata": {
        "id": "j9PpVi84XLh1",
        "outputId": "392dc9bc-4458-468d-edc4-a617b8e754b6"
      },
      "source": [
        "# Initialize weights to uniform.\n",
        "def init_loc_fn(site):\n",
        "    if site[\"name\"] == \"weights\":\n",
        "        return torch.ones(K) / K\n",
        "    if site[\"name\"] == \"scale\":\n",
        "        return (data.var() / 2).sqrt()\n",
        "    if site[\"name\"] == \"locs\":\n",
        "        return data[torch.multinomial(torch.ones(len(data)) / len(data), K)]\n",
        "    raise ValueError(site[\"name\"])\n",
        "\n",
        "def initialize(seed):\n",
        "    global global_guide, svi\n",
        "    pyro.set_rng_seed(seed)\n",
        "    pyro.clear_param_store()\n",
        "    global_guide = AutoDelta(poutine.block(gmm, expose=['weights', 'locs', 'scale']),\n",
        "                             init_loc_fn=init_loc_fn)\n",
        "    svi = SVI(gmm, global_guide, optim, loss=elbo)\n",
        "    return svi.loss(gmm, global_guide, data)\n",
        "\n",
        "# Choose the best among 1000 random initializations.\n",
        "data = X_train_torch\n",
        "loss, seed = min((initialize(seed), seed) for seed in range(1000))\n",
        "initialize(seed)\n",
        "print('seed = {}, initial_loss = {}'.format(seed, loss))"
      ],
      "execution_count": null,
      "outputs": [
        {
          "output_type": "stream",
          "text": [
            "seed = 709, initial_loss = 14866645.0\n"
          ],
          "name": "stdout"
        }
      ]
    },
    {
      "cell_type": "markdown",
      "metadata": {
        "id": "YCmDMFZtcyf3"
      },
      "source": [
        "The inference comletes after 10000 steps. The plot below presents that the loss basically approaches the convergence but would be better to keep it running for more steps."
      ]
    },
    {
      "cell_type": "code",
      "metadata": {
        "id": "sKzf7YjkXLh2",
        "outputId": "fb2795b6-791d-47f4-d77b-689edb202f0f"
      },
      "source": [
        "losses = []\n",
        "n_steps = 10000\n",
        "for step in range(n_steps):\n",
        "    loss = svi.step(data)\n",
        "    losses.append(loss)\n",
        "    if step % 500 == 0:\n",
        "        print(\"[%d] ELBO: %.1f\" % (step, loss))"
      ],
      "execution_count": null,
      "outputs": [
        {
          "output_type": "stream",
          "text": [
            "/home/fotonik208/anaconda3/lib/python3.7/site-packages/torch/autograd/__init__.py:147: UserWarning: CUDA initialization: The NVIDIA driver on your system is too old (found version 10000). Please update your GPU driver by downloading and installing a new version from the URL: http://www.nvidia.com/Download/index.aspx Alternatively, go to: https://pytorch.org to install a PyTorch version that has been compiled with your version of the CUDA driver. (Triggered internally at  /pytorch/c10/cuda/CUDAFunctions.cpp:109.)\n",
            "  allow_unreachable=True, accumulate_grad=True)  # allow_unreachable flag\n"
          ],
          "name": "stderr"
        },
        {
          "output_type": "stream",
          "text": [
            "[0] ELBO: 14866645.0\n",
            "[500] ELBO: 14483098.0\n",
            "[1000] ELBO: 14251978.0\n",
            "[1500] ELBO: 14120501.0\n",
            "[2000] ELBO: 14013857.0\n",
            "[2500] ELBO: 13916072.0\n",
            "[3000] ELBO: 13826027.0\n",
            "[3500] ELBO: 13741183.0\n",
            "[4000] ELBO: 13660257.0\n",
            "[4500] ELBO: 13587161.0\n",
            "[5000] ELBO: 13514713.0\n",
            "[5500] ELBO: 13452824.0\n",
            "[6000] ELBO: 13392528.0\n",
            "[6500] ELBO: 13328294.0\n",
            "[7000] ELBO: 13274397.0\n",
            "[7500] ELBO: 13221549.0\n",
            "[8000] ELBO: 13168708.0\n",
            "[8500] ELBO: 13121158.0\n",
            "[9000] ELBO: 13072682.0\n",
            "[9500] ELBO: 13028514.0\n"
          ],
          "name": "stdout"
        }
      ]
    },
    {
      "cell_type": "code",
      "metadata": {
        "id": "HHGezhwtXLh2",
        "outputId": "96510c61-0a8f-48a9-dc98-cbcd02f0aee4"
      },
      "source": [
        "plt.figure(figsize=(10,3), dpi=100).set_facecolor('white')\n",
        "plt.plot(losses)\n",
        "plt.xlabel('iters')\n",
        "plt.ylabel('loss')\n",
        "plt.yscale('log')\n",
        "plt.title('Convergence of SVI');"
      ],
      "execution_count": null,
      "outputs": [
        {
          "output_type": "display_data",
          "data": {
            "image/png": "[encoded data removed]",
            "text/plain": [
              "<Figure size 1000x300 with 1 Axes>"
            ]
          },
          "metadata": {
            "tags": []
          }
        }
      ]
    },
    {
      "cell_type": "markdown",
      "metadata": {
        "id": "6Sy7udy3dKhd"
      },
      "source": [
        "**Model evaluation**\n",
        "\n",
        "With a model trained by the trainset, the model is expected to be used to make prediction on the testset for evaluation. To do this, the classifier is built to predict the testset based on the discrete inference. Effect handlers of *trace*, *replay* and *infer_discrete* in Pyro is used here to build the classfier and read out the cluster assignment results from the model. The trace hanlder here records the relationships amongst different pyro primitives. Each node in the trace includes the name, input and output value of the site. [4]\n",
        "\n",
        "\n",
        "[4] Trace, https://docs.pyro.ai/en/dev/poutine.html#trace"
      ]
    },
    {
      "cell_type": "code",
      "metadata": {
        "id": "5Ezuia26XLh3",
        "outputId": "54b1df17-1559-47f1-b0c7-960b0cb8c061"
      },
      "source": [
        "guide_trace = poutine.trace(global_guide).get_trace(data)  # record the globals\n",
        "trained_model = poutine.replay(gmm, trace=guide_trace)  # replay the globals\n",
        "\n",
        "def classifier(data, temperature=0):\n",
        "    inferred_model = infer_discrete(trained_model, temperature=temperature, first_available_dim=-2)  # avoid conflict with data plate\n",
        "    trace = poutine.trace(inferred_model).get_trace(data)\n",
        "    print(trace)\n",
        "    return trace.nodes[\"assignment\"][\"value\"], trace.nodes[\"weights\"][\"value\"], trace.nodes[\"locs\"][\"value\"], trace.nodes[\"scale\"][\"value\"]\n",
        "\n",
        "print(classifier(X_test_torch))"
      ],
      "execution_count": null,
      "outputs": [
        {
          "output_type": "stream",
          "text": [
            "<pyro.poutine.trace_struct.Trace object at 0x7f4505b21048>\n",
            "(tensor([13,  4,  4,  ...,  4, 18, 17]), tensor([0.0194, 0.0348, 0.0120, 0.0217, 0.0861, 0.0120, 0.0120, 0.0861, 0.0861,\n",
            "        0.0861, 0.0762, 0.0576, 0.0118, 0.0462, 0.0349, 0.0349, 0.0120, 0.0349,\n",
            "        0.0162, 0.0349, 0.0861, 0.0861, 0.0120], grad_fn=<ExpandBackward>), tensor([[ 6.5452e-02,  8.3557e-01,  9.8977e-02,  ..., -4.5570e-01,\n",
            "         -1.8447e-01, -2.2551e-01],\n",
            "        [-8.3179e-06,  1.0000e+00,  9.9270e-06,  ...,  2.1615e+00,\n",
            "         -2.5202e-01, -2.4942e-01],\n",
            "        [ 0.0000e+00,  1.0000e+00,  0.0000e+00,  ..., -4.6248e-01,\n",
            "          4.0472e+00,  3.9719e+00],\n",
            "        ...,\n",
            "        [ 9.9987e-01,  5.5191e-07,  1.3197e-04,  ..., -4.6320e-01,\n",
            "         -2.5196e-01, -2.4946e-01],\n",
            "        [ 9.9987e-01,  5.5191e-07,  1.3197e-04,  ..., -4.6320e-01,\n",
            "         -2.5196e-01, -2.4946e-01],\n",
            "        [ 0.0000e+00,  0.0000e+00,  1.0000e+00,  ..., -4.6320e-01,\n",
            "          1.6149e+00, -2.4946e-01]], grad_fn=<ExpandBackward>), tensor(0.3348, grad_fn=<ExpandBackward>))\n"
          ],
          "name": "stdout"
        }
      ]
    },
    {
      "cell_type": "code",
      "metadata": {
        "id": "esBgYsCpXLh3",
        "outputId": "8c3077e1-5eff-4419-deb6-d731c90229d1"
      },
      "source": [
        "y_pred, y_weights, y_locs, y_scale = classifier(X_test_torch)\n",
        "print(y_pred)"
      ],
      "execution_count": null,
      "outputs": [
        {
          "output_type": "stream",
          "text": [
            "<pyro.poutine.trace_struct.Trace object at 0x7f4472213320>\n",
            "tensor([13,  4,  4,  ...,  4, 18, 17])\n"
          ],
          "name": "stdout"
        }
      ]
    },
    {
      "cell_type": "markdown",
      "metadata": {
        "id": "lWnYSKNL5uKI"
      },
      "source": [
        "**Prediction results**"
      ]
    },
    {
      "cell_type": "markdown",
      "metadata": {
        "id": "eohfEBPc5XxV"
      },
      "source": [
        "Detach the prediction results and make a general evalution on the accuracy by comparing the labels between the testset and prediction results. "
      ]
    },
    {
      "cell_type": "markdown",
      "metadata": {
        "id": "q5LiX2Zs59um"
      },
      "source": [
        "The accuracy shows an accuracy of 0.05 which is a bit higher than the baseline result 0.01 got from sklearn. But since there are too many components in the mixture model, so it is hard to expect this simple model to reach a fairly high accuracy. "
      ]
    },
    {
      "cell_type": "code",
      "metadata": {
        "id": "SRE4szviXLh4",
        "outputId": "34b4e848-3800-41ce-c248-bd28fa639683"
      },
      "source": [
        "y_pred = y_pred.detach().cpu().numpy() \n",
        "# evaluate prediction accuracy\n",
        "print(\"Accuracy:\", 1.0*np.sum(y_pred == y_test) / len(y_test))"
      ],
      "execution_count": null,
      "outputs": [
        {
          "output_type": "stream",
          "text": [
            "Accuracy: 0.05887430939226519\n"
          ],
          "name": "stdout"
        }
      ]
    },
    {
      "cell_type": "markdown",
      "metadata": {
        "id": "A0g4UJ5rd4o1"
      },
      "source": [
        "By taking a closer look at the prediction results for each cluster, the model implemented in Pyro also shows a slightly better performance than the sklearn baseline model in general. Specifically, the model shows a detection capability over the normal samples (encoded as 11), but the detection on a specific attack is still very poor. "
      ]
    },
    {
      "cell_type": "code",
      "metadata": {
        "id": "qZJZkTDlXLh4",
        "outputId": "3704c10d-97fe-48d3-8f81-4bb6bd0f52c9"
      },
      "source": [
        "from sklearn.metrics import classification_report\n",
        "print(classification_report(y_test, y_pred))"
      ],
      "execution_count": null,
      "outputs": [
        {
          "output_type": "stream",
          "text": [
            "/home/fotonik208/anaconda3/lib/python3.7/site-packages/sklearn/metrics/_classification.py:1221: UndefinedMetricWarning: Precision and F-score are ill-defined and being set to 0.0 in labels with no predicted samples. Use `zero_division` parameter to control this behavior.\n",
            "  _warn_prf(average, modifier, msg_start, len(result))\n",
            "/home/fotonik208/anaconda3/lib/python3.7/site-packages/sklearn/metrics/_classification.py:1221: UndefinedMetricWarning: Recall and F-score are ill-defined and being set to 0.0 in labels with no true samples. Use `zero_division` parameter to control this behavior.\n",
            "  _warn_prf(average, modifier, msg_start, len(result))\n"
          ],
          "name": "stderr"
        },
        {
          "output_type": "stream",
          "text": [
            "              precision    recall  f1-score   support\n",
            "\n",
            "           0       0.05      0.19      0.07       778\n",
            "           1       0.00      0.00      0.00         6\n",
            "           2       0.00      0.00      0.00         5\n",
            "           3       0.00      0.00      0.00        17\n",
            "           4       0.00      0.00      0.00         5\n",
            "           5       0.00      0.00      0.00       438\n",
            "           6       0.00      0.00      0.00         9\n",
            "           7       0.00      0.00      0.00         4\n",
            "           8       0.00      0.00      0.00         2\n",
            "           9       0.00      0.00      0.00     36339\n",
            "          10       0.00      0.05      0.00        78\n",
            "          11       1.00      0.29      0.45     33238\n",
            "          12       0.00      0.00      0.00         1\n",
            "          13       0.00      0.00      0.00         0\n",
            "          14       0.00      0.00      0.00        92\n",
            "          15       0.00      0.00      0.00       355\n",
            "          16       0.00      0.00      0.00         3\n",
            "          17       0.00      0.00      0.00       553\n",
            "          18       0.00      0.00      0.00     95347\n",
            "          19       0.00      0.00      0.00         2\n",
            "          20       0.00      0.00      0.00       343\n",
            "          21       0.00      0.00      0.00       346\n",
            "          22       0.00      0.00      0.00         7\n",
            "\n",
            "    accuracy                           0.06    167968\n",
            "   macro avg       0.05      0.02      0.02    167968\n",
            "weighted avg       0.20      0.06      0.09    167968\n",
            "\n"
          ],
          "name": "stdout"
        }
      ]
    },
    {
      "cell_type": "markdown",
      "metadata": {
        "id": "jYKGJULd5y-a"
      },
      "source": [
        "**Clustering parameters**"
      ]
    },
    {
      "cell_type": "markdown",
      "metadata": {
        "id": "j7AkWoEF8om9"
      },
      "source": [
        "Below presents the parameters fitted for the GMM model trained in Pyro. When there are quite a number of components in GMM, each of the components can only get a small share or weights. "
      ]
    },
    {
      "cell_type": "code",
      "metadata": {
        "id": "3lU91QGgXLh4",
        "outputId": "2304d8e3-ebd3-4d16-eb88-8bd46b386e1f"
      },
      "source": [
        "y_weights.cpu().detach().numpy()"
      ],
      "execution_count": null,
      "outputs": [
        {
          "output_type": "execute_result",
          "data": {
            "text/plain": [
              "array([0.01937251, 0.03483991, 0.01203551, 0.02171712, 0.08606572,\n",
              "       0.01199677, 0.01204915, 0.08606572, 0.08606572, 0.08606572,\n",
              "       0.07622287, 0.05755595, 0.0118488 , 0.04623242, 0.03487562,\n",
              "       0.03488879, 0.01201984, 0.03488914, 0.01619892, 0.03486079,\n",
              "       0.08606572, 0.08606572, 0.01200161], dtype=float32)"
            ]
          },
          "metadata": {
            "tags": []
          },
          "execution_count": 43
        }
      ]
    },
    {
      "cell_type": "code",
      "metadata": {
        "id": "jie-aumSXLh4",
        "outputId": "cc8c5c2d-8ae1-484b-99f3-681e19ac7cc8"
      },
      "source": [
        "sns.distplot(y_weights.cpu().detach().numpy(), label=\"prediction\")\n",
        "plt.legend()\n",
        "plt.show()"
      ],
      "execution_count": null,
      "outputs": [
        {
          "output_type": "display_data",
          "data": {
            "image/png": "[encoded data removed]",
            "text/plain": [
              "<Figure size 432x288 with 1 Axes>"
            ]
          },
          "metadata": {
            "tags": [],
            "needs_background": "light"
          }
        }
      ]
    },
    {
      "cell_type": "markdown",
      "metadata": {
        "id": "eEx1Yh9LfJdo"
      },
      "source": [
        "To clearly compare the mixture model, the density estimate and histogram is drawn for both the real case (blue) and predicted case (red). In general, they have some overlaps but the predictions have a quite large deviation from the real case, which need an improved and well-tuned model for better fits. "
      ]
    },
    {
      "cell_type": "code",
      "metadata": {
        "id": "qpoVfHSPXLh4",
        "outputId": "f4e979fc-0f6f-43d4-8ee3-0214c6c04369"
      },
      "source": [
        "sns.distplot(y_pred, label=\"prediction\")\n",
        "sns.distplot(y_test, label=\"true\")\n",
        "plt.legend()\n",
        "plt.show()"
      ],
      "execution_count": null,
      "outputs": [
        {
          "output_type": "display_data",
          "data": {
            "image/png": "[encoded data removed]",
            "text/plain": [
              "<Figure size 432x288 with 1 Axes>"
            ]
          },
          "metadata": {
            "tags": [],
            "needs_background": "light"
          }
        }
      ]
    },
    {
      "cell_type": "code",
      "metadata": {
        "id": "HWorK4JKXLh5"
      },
      "source": [
        ""
      ],
      "execution_count": null,
      "outputs": []
    }
  ]
}