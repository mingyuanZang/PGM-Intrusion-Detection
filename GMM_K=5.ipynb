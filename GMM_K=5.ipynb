{
  "nbformat": 4,
  "nbformat_minor": 0,
  "metadata": {
    "accelerator": "GPU",
    "colab": {
      "name": "(final)SVI_KDDCUP99_Classification_model_GMM_Pyro_GPU-K=5.ipynb",
      "provenance": [],
      "collapsed_sections": []
    },
    "kernelspec": {
      "display_name": "Python 3",
      "language": "python",
      "name": "python3"
    },
    "language_info": {
      "codemirror_mode": {
        "name": "ipython",
        "version": 3
      },
      "file_extension": ".py",
      "mimetype": "text/x-python",
      "name": "python",
      "nbconvert_exporter": "python",
      "pygments_lexer": "ipython3",
      "version": "3.7.3"
    }
  },
  "cells": [
    {
      "cell_type": "markdown",
      "metadata": {
        "id": "C60ZAm4-Yo4M"
      },
      "source": [
        "# Project for 42186 Model-based Machine Learning F21  \n",
        "\n",
        "## PGM in Intrusion Detection System\n",
        "\n",
        "### Notebook - GMM (K=5)\n",
        "\n",
        "The KDDCUP99 10 percent dataset from the UCI repository. [1] It is a benchmark dataset for the evaluation of network Intrusion Detection System including the records of normal and malicious traffics. It contains 494021 samples in total with 42 dimensions. \n",
        "\n",
        "The target for this project is to consider it as a classification problem without time as parameter. This notebook studies how to do a fine-grained detection to classify the data samples into normal or 4 type of attacks by running GMM as an unsupervised learning model to get a intrusion detection result. The whole implementation is similar to the GMM (K=2) notebook. \n",
        "\n",
        "[1] http://kdd.ics.uci.edu/databases/kddcup99/"
      ]
    },
    {
      "cell_type": "markdown",
      "metadata": {
        "id": "2f9E8qzwlEwv"
      },
      "source": [
        "# **Preparation**"
      ]
    },
    {
      "cell_type": "markdown",
      "metadata": {
        "id": "zCHBydp2Yo4N"
      },
      "source": [
        "Import required libraries Pyro:"
      ]
    },
    {
      "cell_type": "code",
      "metadata": {
        "colab": {
          "base_uri": "https://localhost:8080/"
        },
        "id": "Ei1QbnmhYyXM",
        "outputId": "1aca1338-7421-4ac1-f683-e5703692bcf3"
      },
      "source": [
        "# Install Pyro, if necessary\n",
        "!pip install pyro-ppl"
      ],
      "execution_count": null,
      "outputs": [
        {
          "output_type": "stream",
          "text": [
            "Collecting pyro-ppl\n",
            "\u001b[?25l  Downloading https://files.pythonhosted.org/packages/aa/7a/fbab572fd385154a0c07b0fa138683aa52e14603bb83d37b198e5f9269b1/pyro_ppl-1.6.0-py3-none-any.whl (634kB)\n",
            "\u001b[K     |████████████████████████████████| 634kB 2.9MB/s \n",
            "\u001b[?25hRequirement already satisfied: numpy>=1.7 in /usr/local/lib/python3.7/dist-packages (from pyro-ppl) (1.19.5)\n",
            "Requirement already satisfied: tqdm>=4.36 in /usr/local/lib/python3.7/dist-packages (from pyro-ppl) (4.41.1)\n",
            "Collecting pyro-api>=0.1.1\n",
            "  Downloading https://files.pythonhosted.org/packages/fc/81/957ae78e6398460a7230b0eb9b8f1cb954c5e913e868e48d89324c68cec7/pyro_api-0.1.2-py3-none-any.whl\n",
            "Requirement already satisfied: opt-einsum>=2.3.2 in /usr/local/lib/python3.7/dist-packages (from pyro-ppl) (3.3.0)\n",
            "Requirement already satisfied: torch>=1.8.0 in /usr/local/lib/python3.7/dist-packages (from pyro-ppl) (1.8.1+cu101)\n",
            "Requirement already satisfied: typing-extensions in /usr/local/lib/python3.7/dist-packages (from torch>=1.8.0->pyro-ppl) (3.7.4.3)\n",
            "Installing collected packages: pyro-api, pyro-ppl\n",
            "Successfully installed pyro-api-0.1.2 pyro-ppl-1.6.0\n"
          ],
          "name": "stdout"
        }
      ]
    },
    {
      "cell_type": "markdown",
      "metadata": {
        "id": "g9EwLqWDk6w2"
      },
      "source": [
        "Mount the Google Drive to read the dataset later"
      ]
    },
    {
      "cell_type": "code",
      "metadata": {
        "colab": {
          "base_uri": "https://localhost:8080/"
        },
        "id": "c88cbEAgeCa2",
        "outputId": "963bec25-8b98-43e1-d080-74f864a74c31"
      },
      "source": [
        "from google.colab import drive\n",
        "drive.mount('/content/gdrive')"
      ],
      "execution_count": null,
      "outputs": [
        {
          "output_type": "stream",
          "text": [
            "Mounted at /content/gdrive\n"
          ],
          "name": "stdout"
        }
      ]
    },
    {
      "cell_type": "markdown",
      "metadata": {
        "id": "pCsUoqs8lPSu"
      },
      "source": [
        "Import the necessary packages"
      ]
    },
    {
      "cell_type": "code",
      "metadata": {
        "id": "iGyKT_grYo4O"
      },
      "source": [
        "import numpy as np\n",
        "import pandas as pd\n",
        "from matplotlib import pyplot as plt\n",
        "from sklearn import linear_model\n",
        "import seaborn as sns\n",
        "import torch\n",
        "import torch.autograd as autograd\n",
        "\n",
        "import pyro\n",
        "import pyro.distributions as dist\n",
        "from pyro.contrib.autoguide import AutoDiagonalNormal, AutoMultivariateNormal, AutoGuideList\n",
        "from pyro.infer import MCMC, NUTS, HMC, SVI, Trace_ELBO\n",
        "from pyro.optim import Adam, ClippedAdam\n",
        "from pyro.infer import SVI, TraceEnum_ELBO, JitTrace_ELBO, config_enumerate, infer_discrete\n",
        "from pyro.infer.autoguide import AutoDelta\n",
        "from pyro import poutine\n",
        "\n",
        "import torch\n",
        "import torch.nn as nn\n",
        "\n",
        "# fix random generator seed (for reproducibility of results)\n",
        "np.random.seed(42)\n",
        "\n",
        "# matplotlib style options\n",
        "plt.style.use('ggplot')\n",
        "%matplotlib inline\n",
        "plt.rcParams['figure.figsize'] = (12, 8)"
      ],
      "execution_count": null,
      "outputs": []
    },
    {
      "cell_type": "markdown",
      "metadata": {
        "id": "mfR5w4nqlUjn"
      },
      "source": [
        "GPU provided by Colab is configured in this case to speed up the training process"
      ]
    },
    {
      "cell_type": "code",
      "metadata": {
        "colab": {
          "base_uri": "https://localhost:8080/"
        },
        "id": "Ob4xlW5keApO",
        "outputId": "369ab9d4-a522-4a6e-b9f6-a3cb9a165014"
      },
      "source": [
        "USE_CUDA = torch.cuda.is_available()\n",
        "if USE_CUDA:  \n",
        "  device = torch.device('cuda:0')\n",
        "\n",
        "print(USE_CUDA)\n",
        "print(device)"
      ],
      "execution_count": null,
      "outputs": [
        {
          "output_type": "stream",
          "text": [
            "True\n",
            "cuda:0\n"
          ],
          "name": "stdout"
        }
      ]
    },
    {
      "cell_type": "code",
      "metadata": {
        "id": "-5IqH16KhkxI"
      },
      "source": [
        "torch.set_default_tensor_type('torch.cuda.FloatTensor')"
      ],
      "execution_count": null,
      "outputs": []
    },
    {
      "cell_type": "code",
      "metadata": {
        "colab": {
          "base_uri": "https://localhost:8080/"
        },
        "id": "3TAFyelSeneV",
        "outputId": "533d4d3e-98e8-4d8e-b2c7-fbae1e23954c"
      },
      "source": [
        "# monitor the GPU usage\n",
        "from urllib.request import urlopen\n",
        "exec(urlopen(\"http://colab-monitor.smankusors.com/track.py\").read())\n",
        "_colabMonitor = ColabMonitor().start()"
      ],
      "execution_count": null,
      "outputs": [
        {
          "output_type": "stream",
          "text": [
            "Now live at : http://colab-monitor.smankusors.com/60ad010d0a454\n"
          ],
          "name": "stdout"
        }
      ]
    },
    {
      "cell_type": "markdown",
      "metadata": {
        "id": "ktkbYC6AYo4X"
      },
      "source": [
        "**Load the dataset from Drive**"
      ]
    },
    {
      "cell_type": "markdown",
      "metadata": {
        "id": "T9AqN3J7lpe4"
      },
      "source": [
        "Based on the printed statistics and information, the dataset contains 494021 samples in total with 42 dimensions, where the first 41 of them are the features of network traffic and the last dimension is the label to indicate whether the traffic is normal or not. The 41 features are collected by directly extracting from the network traffic flow like the src_bytes, or by computing with a two-second time window like the serror_rate. For these 41 features, they are in the form of continuous, discrete or symbolic with the ranges varying widely. "
      ]
    },
    {
      "cell_type": "code",
      "metadata": {
        "colab": {
          "base_uri": "https://localhost:8080/",
          "height": 224
        },
        "id": "SElGiw97uk_G",
        "outputId": "98e65a0e-bc76-4a10-861d-756f0f124f6d"
      },
      "source": [
        "# load csv\n",
        "data = pd.read_csv(\"/content/gdrive/My Drive/KDD/kddcup.data_10_percent_corrected\", header=None,names=['duration', 'protocol_type', 'service', 'flag', 'src_bytes', 'dst_bytes', 'land', 'wrong_fragment', 'urgent', 'hot', 'num_failed_logins', 'logged_in', 'num_compromised', 'root_shell', 'su_attempted', 'num_root', 'num_file_creations', 'num_shells', 'num_access_files', 'num_outbound_cmds', 'is_host_login', 'is_guest_login', 'count', 'srv_count', 'serror_rate', 'srv_serror_rate', 'rerror_rate', 'srv_rerror_rate', 'same_srv_rate', 'diff_srv_rate', 'srv_diff_host_rate', 'dst_host_count', 'dst_host_srv_count', 'dst_host_same_srv_rate', 'dst_host_diff_srv_rate', 'dst_host_same_src_port_rate', 'dst_host_srv_diff_host_rate', 'dst_host_serror_rate', 'dst_host_srv_serror_rate', 'dst_host_rerror_rate', 'dst_host_srv_rerror_rate', 'type'])\n",
        "data.head()"
      ],
      "execution_count": null,
      "outputs": [
        {
          "output_type": "execute_result",
          "data": {
            "text/html": [
              "<div>\n",
              "<style scoped>\n",
              "    .dataframe tbody tr th:only-of-type {\n",
              "        vertical-align: middle;\n",
              "    }\n",
              "\n",
              "    .dataframe tbody tr th {\n",
              "        vertical-align: top;\n",
              "    }\n",
              "\n",
              "    .dataframe thead th {\n",
              "        text-align: right;\n",
              "    }\n",
              "</style>\n",
              "<table border=\"1\" class=\"dataframe\">\n",
              "  <thead>\n",
              "    <tr style=\"text-align: right;\">\n",
              "      <th></th>\n",
              "      <th>duration</th>\n",
              "      <th>protocol_type</th>\n",
              "      <th>service</th>\n",
              "      <th>flag</th>\n",
              "      <th>src_bytes</th>\n",
              "      <th>dst_bytes</th>\n",
              "      <th>land</th>\n",
              "      <th>wrong_fragment</th>\n",
              "      <th>urgent</th>\n",
              "      <th>hot</th>\n",
              "      <th>num_failed_logins</th>\n",
              "      <th>logged_in</th>\n",
              "      <th>num_compromised</th>\n",
              "      <th>root_shell</th>\n",
              "      <th>su_attempted</th>\n",
              "      <th>num_root</th>\n",
              "      <th>num_file_creations</th>\n",
              "      <th>num_shells</th>\n",
              "      <th>num_access_files</th>\n",
              "      <th>num_outbound_cmds</th>\n",
              "      <th>is_host_login</th>\n",
              "      <th>is_guest_login</th>\n",
              "      <th>count</th>\n",
              "      <th>srv_count</th>\n",
              "      <th>serror_rate</th>\n",
              "      <th>srv_serror_rate</th>\n",
              "      <th>rerror_rate</th>\n",
              "      <th>srv_rerror_rate</th>\n",
              "      <th>same_srv_rate</th>\n",
              "      <th>diff_srv_rate</th>\n",
              "      <th>srv_diff_host_rate</th>\n",
              "      <th>dst_host_count</th>\n",
              "      <th>dst_host_srv_count</th>\n",
              "      <th>dst_host_same_srv_rate</th>\n",
              "      <th>dst_host_diff_srv_rate</th>\n",
              "      <th>dst_host_same_src_port_rate</th>\n",
              "      <th>dst_host_srv_diff_host_rate</th>\n",
              "      <th>dst_host_serror_rate</th>\n",
              "      <th>dst_host_srv_serror_rate</th>\n",
              "      <th>dst_host_rerror_rate</th>\n",
              "      <th>dst_host_srv_rerror_rate</th>\n",
              "      <th>type</th>\n",
              "    </tr>\n",
              "  </thead>\n",
              "  <tbody>\n",
              "    <tr>\n",
              "      <th>0</th>\n",
              "      <td>0</td>\n",
              "      <td>tcp</td>\n",
              "      <td>http</td>\n",
              "      <td>SF</td>\n",
              "      <td>181</td>\n",
              "      <td>5450</td>\n",
              "      <td>0</td>\n",
              "      <td>0</td>\n",
              "      <td>0</td>\n",
              "      <td>0</td>\n",
              "      <td>0</td>\n",
              "      <td>1</td>\n",
              "      <td>0</td>\n",
              "      <td>0</td>\n",
              "      <td>0</td>\n",
              "      <td>0</td>\n",
              "      <td>0</td>\n",
              "      <td>0</td>\n",
              "      <td>0</td>\n",
              "      <td>0</td>\n",
              "      <td>0</td>\n",
              "      <td>0</td>\n",
              "      <td>8</td>\n",
              "      <td>8</td>\n",
              "      <td>0.0</td>\n",
              "      <td>0.0</td>\n",
              "      <td>0.0</td>\n",
              "      <td>0.0</td>\n",
              "      <td>1.0</td>\n",
              "      <td>0.0</td>\n",
              "      <td>0.0</td>\n",
              "      <td>9</td>\n",
              "      <td>9</td>\n",
              "      <td>1.0</td>\n",
              "      <td>0.0</td>\n",
              "      <td>0.11</td>\n",
              "      <td>0.0</td>\n",
              "      <td>0.0</td>\n",
              "      <td>0.0</td>\n",
              "      <td>0.0</td>\n",
              "      <td>0.0</td>\n",
              "      <td>normal.</td>\n",
              "    </tr>\n",
              "    <tr>\n",
              "      <th>1</th>\n",
              "      <td>0</td>\n",
              "      <td>tcp</td>\n",
              "      <td>http</td>\n",
              "      <td>SF</td>\n",
              "      <td>239</td>\n",
              "      <td>486</td>\n",
              "      <td>0</td>\n",
              "      <td>0</td>\n",
              "      <td>0</td>\n",
              "      <td>0</td>\n",
              "      <td>0</td>\n",
              "      <td>1</td>\n",
              "      <td>0</td>\n",
              "      <td>0</td>\n",
              "      <td>0</td>\n",
              "      <td>0</td>\n",
              "      <td>0</td>\n",
              "      <td>0</td>\n",
              "      <td>0</td>\n",
              "      <td>0</td>\n",
              "      <td>0</td>\n",
              "      <td>0</td>\n",
              "      <td>8</td>\n",
              "      <td>8</td>\n",
              "      <td>0.0</td>\n",
              "      <td>0.0</td>\n",
              "      <td>0.0</td>\n",
              "      <td>0.0</td>\n",
              "      <td>1.0</td>\n",
              "      <td>0.0</td>\n",
              "      <td>0.0</td>\n",
              "      <td>19</td>\n",
              "      <td>19</td>\n",
              "      <td>1.0</td>\n",
              "      <td>0.0</td>\n",
              "      <td>0.05</td>\n",
              "      <td>0.0</td>\n",
              "      <td>0.0</td>\n",
              "      <td>0.0</td>\n",
              "      <td>0.0</td>\n",
              "      <td>0.0</td>\n",
              "      <td>normal.</td>\n",
              "    </tr>\n",
              "    <tr>\n",
              "      <th>2</th>\n",
              "      <td>0</td>\n",
              "      <td>tcp</td>\n",
              "      <td>http</td>\n",
              "      <td>SF</td>\n",
              "      <td>235</td>\n",
              "      <td>1337</td>\n",
              "      <td>0</td>\n",
              "      <td>0</td>\n",
              "      <td>0</td>\n",
              "      <td>0</td>\n",
              "      <td>0</td>\n",
              "      <td>1</td>\n",
              "      <td>0</td>\n",
              "      <td>0</td>\n",
              "      <td>0</td>\n",
              "      <td>0</td>\n",
              "      <td>0</td>\n",
              "      <td>0</td>\n",
              "      <td>0</td>\n",
              "      <td>0</td>\n",
              "      <td>0</td>\n",
              "      <td>0</td>\n",
              "      <td>8</td>\n",
              "      <td>8</td>\n",
              "      <td>0.0</td>\n",
              "      <td>0.0</td>\n",
              "      <td>0.0</td>\n",
              "      <td>0.0</td>\n",
              "      <td>1.0</td>\n",
              "      <td>0.0</td>\n",
              "      <td>0.0</td>\n",
              "      <td>29</td>\n",
              "      <td>29</td>\n",
              "      <td>1.0</td>\n",
              "      <td>0.0</td>\n",
              "      <td>0.03</td>\n",
              "      <td>0.0</td>\n",
              "      <td>0.0</td>\n",
              "      <td>0.0</td>\n",
              "      <td>0.0</td>\n",
              "      <td>0.0</td>\n",
              "      <td>normal.</td>\n",
              "    </tr>\n",
              "    <tr>\n",
              "      <th>3</th>\n",
              "      <td>0</td>\n",
              "      <td>tcp</td>\n",
              "      <td>http</td>\n",
              "      <td>SF</td>\n",
              "      <td>219</td>\n",
              "      <td>1337</td>\n",
              "      <td>0</td>\n",
              "      <td>0</td>\n",
              "      <td>0</td>\n",
              "      <td>0</td>\n",
              "      <td>0</td>\n",
              "      <td>1</td>\n",
              "      <td>0</td>\n",
              "      <td>0</td>\n",
              "      <td>0</td>\n",
              "      <td>0</td>\n",
              "      <td>0</td>\n",
              "      <td>0</td>\n",
              "      <td>0</td>\n",
              "      <td>0</td>\n",
              "      <td>0</td>\n",
              "      <td>0</td>\n",
              "      <td>6</td>\n",
              "      <td>6</td>\n",
              "      <td>0.0</td>\n",
              "      <td>0.0</td>\n",
              "      <td>0.0</td>\n",
              "      <td>0.0</td>\n",
              "      <td>1.0</td>\n",
              "      <td>0.0</td>\n",
              "      <td>0.0</td>\n",
              "      <td>39</td>\n",
              "      <td>39</td>\n",
              "      <td>1.0</td>\n",
              "      <td>0.0</td>\n",
              "      <td>0.03</td>\n",
              "      <td>0.0</td>\n",
              "      <td>0.0</td>\n",
              "      <td>0.0</td>\n",
              "      <td>0.0</td>\n",
              "      <td>0.0</td>\n",
              "      <td>normal.</td>\n",
              "    </tr>\n",
              "    <tr>\n",
              "      <th>4</th>\n",
              "      <td>0</td>\n",
              "      <td>tcp</td>\n",
              "      <td>http</td>\n",
              "      <td>SF</td>\n",
              "      <td>217</td>\n",
              "      <td>2032</td>\n",
              "      <td>0</td>\n",
              "      <td>0</td>\n",
              "      <td>0</td>\n",
              "      <td>0</td>\n",
              "      <td>0</td>\n",
              "      <td>1</td>\n",
              "      <td>0</td>\n",
              "      <td>0</td>\n",
              "      <td>0</td>\n",
              "      <td>0</td>\n",
              "      <td>0</td>\n",
              "      <td>0</td>\n",
              "      <td>0</td>\n",
              "      <td>0</td>\n",
              "      <td>0</td>\n",
              "      <td>0</td>\n",
              "      <td>6</td>\n",
              "      <td>6</td>\n",
              "      <td>0.0</td>\n",
              "      <td>0.0</td>\n",
              "      <td>0.0</td>\n",
              "      <td>0.0</td>\n",
              "      <td>1.0</td>\n",
              "      <td>0.0</td>\n",
              "      <td>0.0</td>\n",
              "      <td>49</td>\n",
              "      <td>49</td>\n",
              "      <td>1.0</td>\n",
              "      <td>0.0</td>\n",
              "      <td>0.02</td>\n",
              "      <td>0.0</td>\n",
              "      <td>0.0</td>\n",
              "      <td>0.0</td>\n",
              "      <td>0.0</td>\n",
              "      <td>0.0</td>\n",
              "      <td>normal.</td>\n",
              "    </tr>\n",
              "  </tbody>\n",
              "</table>\n",
              "</div>"
            ],
            "text/plain": [
              "   duration protocol_type  ... dst_host_srv_rerror_rate     type\n",
              "0         0           tcp  ...                      0.0  normal.\n",
              "1         0           tcp  ...                      0.0  normal.\n",
              "2         0           tcp  ...                      0.0  normal.\n",
              "3         0           tcp  ...                      0.0  normal.\n",
              "4         0           tcp  ...                      0.0  normal.\n",
              "\n",
              "[5 rows x 42 columns]"
            ]
          },
          "metadata": {
            "tags": []
          },
          "execution_count": 7
        }
      ]
    },
    {
      "cell_type": "code",
      "metadata": {
        "colab": {
          "base_uri": "https://localhost:8080/",
          "height": 317
        },
        "id": "BYrD5SHDOU29",
        "outputId": "e201face-4819-4dbd-e953-3910e560641d"
      },
      "source": [
        "data.describe()"
      ],
      "execution_count": null,
      "outputs": [
        {
          "output_type": "execute_result",
          "data": {
            "text/html": [
              "<div>\n",
              "<style scoped>\n",
              "    .dataframe tbody tr th:only-of-type {\n",
              "        vertical-align: middle;\n",
              "    }\n",
              "\n",
              "    .dataframe tbody tr th {\n",
              "        vertical-align: top;\n",
              "    }\n",
              "\n",
              "    .dataframe thead th {\n",
              "        text-align: right;\n",
              "    }\n",
              "</style>\n",
              "<table border=\"1\" class=\"dataframe\">\n",
              "  <thead>\n",
              "    <tr style=\"text-align: right;\">\n",
              "      <th></th>\n",
              "      <th>duration</th>\n",
              "      <th>src_bytes</th>\n",
              "      <th>dst_bytes</th>\n",
              "      <th>land</th>\n",
              "      <th>wrong_fragment</th>\n",
              "      <th>urgent</th>\n",
              "      <th>hot</th>\n",
              "      <th>num_failed_logins</th>\n",
              "      <th>logged_in</th>\n",
              "      <th>num_compromised</th>\n",
              "      <th>root_shell</th>\n",
              "      <th>su_attempted</th>\n",
              "      <th>num_root</th>\n",
              "      <th>num_file_creations</th>\n",
              "      <th>num_shells</th>\n",
              "      <th>num_access_files</th>\n",
              "      <th>num_outbound_cmds</th>\n",
              "      <th>is_host_login</th>\n",
              "      <th>is_guest_login</th>\n",
              "      <th>count</th>\n",
              "      <th>srv_count</th>\n",
              "      <th>serror_rate</th>\n",
              "      <th>srv_serror_rate</th>\n",
              "      <th>rerror_rate</th>\n",
              "      <th>srv_rerror_rate</th>\n",
              "      <th>same_srv_rate</th>\n",
              "      <th>diff_srv_rate</th>\n",
              "      <th>srv_diff_host_rate</th>\n",
              "      <th>dst_host_count</th>\n",
              "      <th>dst_host_srv_count</th>\n",
              "      <th>dst_host_same_srv_rate</th>\n",
              "      <th>dst_host_diff_srv_rate</th>\n",
              "      <th>dst_host_same_src_port_rate</th>\n",
              "      <th>dst_host_srv_diff_host_rate</th>\n",
              "      <th>dst_host_serror_rate</th>\n",
              "      <th>dst_host_srv_serror_rate</th>\n",
              "      <th>dst_host_rerror_rate</th>\n",
              "      <th>dst_host_srv_rerror_rate</th>\n",
              "    </tr>\n",
              "  </thead>\n",
              "  <tbody>\n",
              "    <tr>\n",
              "      <th>count</th>\n",
              "      <td>494021.000000</td>\n",
              "      <td>4.940210e+05</td>\n",
              "      <td>4.940210e+05</td>\n",
              "      <td>494021.000000</td>\n",
              "      <td>494021.000000</td>\n",
              "      <td>494021.000000</td>\n",
              "      <td>494021.000000</td>\n",
              "      <td>494021.000000</td>\n",
              "      <td>494021.000000</td>\n",
              "      <td>494021.000000</td>\n",
              "      <td>494021.000000</td>\n",
              "      <td>494021.000000</td>\n",
              "      <td>494021.000000</td>\n",
              "      <td>494021.000000</td>\n",
              "      <td>494021.000000</td>\n",
              "      <td>494021.000000</td>\n",
              "      <td>494021.0</td>\n",
              "      <td>494021.0</td>\n",
              "      <td>494021.000000</td>\n",
              "      <td>494021.000000</td>\n",
              "      <td>494021.000000</td>\n",
              "      <td>494021.000000</td>\n",
              "      <td>494021.000000</td>\n",
              "      <td>494021.000000</td>\n",
              "      <td>494021.000000</td>\n",
              "      <td>494021.000000</td>\n",
              "      <td>494021.000000</td>\n",
              "      <td>494021.000000</td>\n",
              "      <td>494021.000000</td>\n",
              "      <td>494021.000000</td>\n",
              "      <td>494021.000000</td>\n",
              "      <td>494021.000000</td>\n",
              "      <td>494021.000000</td>\n",
              "      <td>494021.000000</td>\n",
              "      <td>494021.000000</td>\n",
              "      <td>494021.000000</td>\n",
              "      <td>494021.000000</td>\n",
              "      <td>494021.000000</td>\n",
              "    </tr>\n",
              "    <tr>\n",
              "      <th>mean</th>\n",
              "      <td>47.979302</td>\n",
              "      <td>3.025610e+03</td>\n",
              "      <td>8.685324e+02</td>\n",
              "      <td>0.000045</td>\n",
              "      <td>0.006433</td>\n",
              "      <td>0.000014</td>\n",
              "      <td>0.034519</td>\n",
              "      <td>0.000152</td>\n",
              "      <td>0.148247</td>\n",
              "      <td>0.010212</td>\n",
              "      <td>0.000111</td>\n",
              "      <td>0.000036</td>\n",
              "      <td>0.011352</td>\n",
              "      <td>0.001083</td>\n",
              "      <td>0.000109</td>\n",
              "      <td>0.001008</td>\n",
              "      <td>0.0</td>\n",
              "      <td>0.0</td>\n",
              "      <td>0.001387</td>\n",
              "      <td>332.285690</td>\n",
              "      <td>292.906557</td>\n",
              "      <td>0.176687</td>\n",
              "      <td>0.176609</td>\n",
              "      <td>0.057433</td>\n",
              "      <td>0.057719</td>\n",
              "      <td>0.791547</td>\n",
              "      <td>0.020982</td>\n",
              "      <td>0.028997</td>\n",
              "      <td>232.470778</td>\n",
              "      <td>188.665670</td>\n",
              "      <td>0.753780</td>\n",
              "      <td>0.030906</td>\n",
              "      <td>0.601935</td>\n",
              "      <td>0.006684</td>\n",
              "      <td>0.176754</td>\n",
              "      <td>0.176443</td>\n",
              "      <td>0.058118</td>\n",
              "      <td>0.057412</td>\n",
              "    </tr>\n",
              "    <tr>\n",
              "      <th>std</th>\n",
              "      <td>707.746472</td>\n",
              "      <td>9.882181e+05</td>\n",
              "      <td>3.304000e+04</td>\n",
              "      <td>0.006673</td>\n",
              "      <td>0.134805</td>\n",
              "      <td>0.005510</td>\n",
              "      <td>0.782103</td>\n",
              "      <td>0.015520</td>\n",
              "      <td>0.355345</td>\n",
              "      <td>1.798326</td>\n",
              "      <td>0.010551</td>\n",
              "      <td>0.007793</td>\n",
              "      <td>2.012718</td>\n",
              "      <td>0.096416</td>\n",
              "      <td>0.011020</td>\n",
              "      <td>0.036482</td>\n",
              "      <td>0.0</td>\n",
              "      <td>0.0</td>\n",
              "      <td>0.037211</td>\n",
              "      <td>213.147412</td>\n",
              "      <td>246.322817</td>\n",
              "      <td>0.380717</td>\n",
              "      <td>0.381017</td>\n",
              "      <td>0.231623</td>\n",
              "      <td>0.232147</td>\n",
              "      <td>0.388189</td>\n",
              "      <td>0.082205</td>\n",
              "      <td>0.142397</td>\n",
              "      <td>64.745380</td>\n",
              "      <td>106.040437</td>\n",
              "      <td>0.410781</td>\n",
              "      <td>0.109259</td>\n",
              "      <td>0.481309</td>\n",
              "      <td>0.042133</td>\n",
              "      <td>0.380593</td>\n",
              "      <td>0.380919</td>\n",
              "      <td>0.230590</td>\n",
              "      <td>0.230140</td>\n",
              "    </tr>\n",
              "    <tr>\n",
              "      <th>min</th>\n",
              "      <td>0.000000</td>\n",
              "      <td>0.000000e+00</td>\n",
              "      <td>0.000000e+00</td>\n",
              "      <td>0.000000</td>\n",
              "      <td>0.000000</td>\n",
              "      <td>0.000000</td>\n",
              "      <td>0.000000</td>\n",
              "      <td>0.000000</td>\n",
              "      <td>0.000000</td>\n",
              "      <td>0.000000</td>\n",
              "      <td>0.000000</td>\n",
              "      <td>0.000000</td>\n",
              "      <td>0.000000</td>\n",
              "      <td>0.000000</td>\n",
              "      <td>0.000000</td>\n",
              "      <td>0.000000</td>\n",
              "      <td>0.0</td>\n",
              "      <td>0.0</td>\n",
              "      <td>0.000000</td>\n",
              "      <td>0.000000</td>\n",
              "      <td>0.000000</td>\n",
              "      <td>0.000000</td>\n",
              "      <td>0.000000</td>\n",
              "      <td>0.000000</td>\n",
              "      <td>0.000000</td>\n",
              "      <td>0.000000</td>\n",
              "      <td>0.000000</td>\n",
              "      <td>0.000000</td>\n",
              "      <td>0.000000</td>\n",
              "      <td>0.000000</td>\n",
              "      <td>0.000000</td>\n",
              "      <td>0.000000</td>\n",
              "      <td>0.000000</td>\n",
              "      <td>0.000000</td>\n",
              "      <td>0.000000</td>\n",
              "      <td>0.000000</td>\n",
              "      <td>0.000000</td>\n",
              "      <td>0.000000</td>\n",
              "    </tr>\n",
              "    <tr>\n",
              "      <th>25%</th>\n",
              "      <td>0.000000</td>\n",
              "      <td>4.500000e+01</td>\n",
              "      <td>0.000000e+00</td>\n",
              "      <td>0.000000</td>\n",
              "      <td>0.000000</td>\n",
              "      <td>0.000000</td>\n",
              "      <td>0.000000</td>\n",
              "      <td>0.000000</td>\n",
              "      <td>0.000000</td>\n",
              "      <td>0.000000</td>\n",
              "      <td>0.000000</td>\n",
              "      <td>0.000000</td>\n",
              "      <td>0.000000</td>\n",
              "      <td>0.000000</td>\n",
              "      <td>0.000000</td>\n",
              "      <td>0.000000</td>\n",
              "      <td>0.0</td>\n",
              "      <td>0.0</td>\n",
              "      <td>0.000000</td>\n",
              "      <td>117.000000</td>\n",
              "      <td>10.000000</td>\n",
              "      <td>0.000000</td>\n",
              "      <td>0.000000</td>\n",
              "      <td>0.000000</td>\n",
              "      <td>0.000000</td>\n",
              "      <td>1.000000</td>\n",
              "      <td>0.000000</td>\n",
              "      <td>0.000000</td>\n",
              "      <td>255.000000</td>\n",
              "      <td>46.000000</td>\n",
              "      <td>0.410000</td>\n",
              "      <td>0.000000</td>\n",
              "      <td>0.000000</td>\n",
              "      <td>0.000000</td>\n",
              "      <td>0.000000</td>\n",
              "      <td>0.000000</td>\n",
              "      <td>0.000000</td>\n",
              "      <td>0.000000</td>\n",
              "    </tr>\n",
              "    <tr>\n",
              "      <th>50%</th>\n",
              "      <td>0.000000</td>\n",
              "      <td>5.200000e+02</td>\n",
              "      <td>0.000000e+00</td>\n",
              "      <td>0.000000</td>\n",
              "      <td>0.000000</td>\n",
              "      <td>0.000000</td>\n",
              "      <td>0.000000</td>\n",
              "      <td>0.000000</td>\n",
              "      <td>0.000000</td>\n",
              "      <td>0.000000</td>\n",
              "      <td>0.000000</td>\n",
              "      <td>0.000000</td>\n",
              "      <td>0.000000</td>\n",
              "      <td>0.000000</td>\n",
              "      <td>0.000000</td>\n",
              "      <td>0.000000</td>\n",
              "      <td>0.0</td>\n",
              "      <td>0.0</td>\n",
              "      <td>0.000000</td>\n",
              "      <td>510.000000</td>\n",
              "      <td>510.000000</td>\n",
              "      <td>0.000000</td>\n",
              "      <td>0.000000</td>\n",
              "      <td>0.000000</td>\n",
              "      <td>0.000000</td>\n",
              "      <td>1.000000</td>\n",
              "      <td>0.000000</td>\n",
              "      <td>0.000000</td>\n",
              "      <td>255.000000</td>\n",
              "      <td>255.000000</td>\n",
              "      <td>1.000000</td>\n",
              "      <td>0.000000</td>\n",
              "      <td>1.000000</td>\n",
              "      <td>0.000000</td>\n",
              "      <td>0.000000</td>\n",
              "      <td>0.000000</td>\n",
              "      <td>0.000000</td>\n",
              "      <td>0.000000</td>\n",
              "    </tr>\n",
              "    <tr>\n",
              "      <th>75%</th>\n",
              "      <td>0.000000</td>\n",
              "      <td>1.032000e+03</td>\n",
              "      <td>0.000000e+00</td>\n",
              "      <td>0.000000</td>\n",
              "      <td>0.000000</td>\n",
              "      <td>0.000000</td>\n",
              "      <td>0.000000</td>\n",
              "      <td>0.000000</td>\n",
              "      <td>0.000000</td>\n",
              "      <td>0.000000</td>\n",
              "      <td>0.000000</td>\n",
              "      <td>0.000000</td>\n",
              "      <td>0.000000</td>\n",
              "      <td>0.000000</td>\n",
              "      <td>0.000000</td>\n",
              "      <td>0.000000</td>\n",
              "      <td>0.0</td>\n",
              "      <td>0.0</td>\n",
              "      <td>0.000000</td>\n",
              "      <td>511.000000</td>\n",
              "      <td>511.000000</td>\n",
              "      <td>0.000000</td>\n",
              "      <td>0.000000</td>\n",
              "      <td>0.000000</td>\n",
              "      <td>0.000000</td>\n",
              "      <td>1.000000</td>\n",
              "      <td>0.000000</td>\n",
              "      <td>0.000000</td>\n",
              "      <td>255.000000</td>\n",
              "      <td>255.000000</td>\n",
              "      <td>1.000000</td>\n",
              "      <td>0.040000</td>\n",
              "      <td>1.000000</td>\n",
              "      <td>0.000000</td>\n",
              "      <td>0.000000</td>\n",
              "      <td>0.000000</td>\n",
              "      <td>0.000000</td>\n",
              "      <td>0.000000</td>\n",
              "    </tr>\n",
              "    <tr>\n",
              "      <th>max</th>\n",
              "      <td>58329.000000</td>\n",
              "      <td>6.933756e+08</td>\n",
              "      <td>5.155468e+06</td>\n",
              "      <td>1.000000</td>\n",
              "      <td>3.000000</td>\n",
              "      <td>3.000000</td>\n",
              "      <td>30.000000</td>\n",
              "      <td>5.000000</td>\n",
              "      <td>1.000000</td>\n",
              "      <td>884.000000</td>\n",
              "      <td>1.000000</td>\n",
              "      <td>2.000000</td>\n",
              "      <td>993.000000</td>\n",
              "      <td>28.000000</td>\n",
              "      <td>2.000000</td>\n",
              "      <td>8.000000</td>\n",
              "      <td>0.0</td>\n",
              "      <td>0.0</td>\n",
              "      <td>1.000000</td>\n",
              "      <td>511.000000</td>\n",
              "      <td>511.000000</td>\n",
              "      <td>1.000000</td>\n",
              "      <td>1.000000</td>\n",
              "      <td>1.000000</td>\n",
              "      <td>1.000000</td>\n",
              "      <td>1.000000</td>\n",
              "      <td>1.000000</td>\n",
              "      <td>1.000000</td>\n",
              "      <td>255.000000</td>\n",
              "      <td>255.000000</td>\n",
              "      <td>1.000000</td>\n",
              "      <td>1.000000</td>\n",
              "      <td>1.000000</td>\n",
              "      <td>1.000000</td>\n",
              "      <td>1.000000</td>\n",
              "      <td>1.000000</td>\n",
              "      <td>1.000000</td>\n",
              "      <td>1.000000</td>\n",
              "    </tr>\n",
              "  </tbody>\n",
              "</table>\n",
              "</div>"
            ],
            "text/plain": [
              "            duration  ...  dst_host_srv_rerror_rate\n",
              "count  494021.000000  ...             494021.000000\n",
              "mean       47.979302  ...                  0.057412\n",
              "std       707.746472  ...                  0.230140\n",
              "min         0.000000  ...                  0.000000\n",
              "25%         0.000000  ...                  0.000000\n",
              "50%         0.000000  ...                  0.000000\n",
              "75%         0.000000  ...                  0.000000\n",
              "max     58329.000000  ...                  1.000000\n",
              "\n",
              "[8 rows x 38 columns]"
            ]
          },
          "metadata": {
            "tags": []
          },
          "execution_count": 8
        }
      ]
    },
    {
      "cell_type": "code",
      "metadata": {
        "colab": {
          "base_uri": "https://localhost:8080/"
        },
        "id": "k8JxgpKZDkWe",
        "outputId": "fac8f241-42da-4b12-e24d-dc8c86d3f05b"
      },
      "source": [
        "data.info()"
      ],
      "execution_count": null,
      "outputs": [
        {
          "output_type": "stream",
          "text": [
            "<class 'pandas.core.frame.DataFrame'>\n",
            "RangeIndex: 494021 entries, 0 to 494020\n",
            "Data columns (total 42 columns):\n",
            " #   Column                       Non-Null Count   Dtype  \n",
            "---  ------                       --------------   -----  \n",
            " 0   duration                     494021 non-null  int64  \n",
            " 1   protocol_type                494021 non-null  object \n",
            " 2   service                      494021 non-null  object \n",
            " 3   flag                         494021 non-null  object \n",
            " 4   src_bytes                    494021 non-null  int64  \n",
            " 5   dst_bytes                    494021 non-null  int64  \n",
            " 6   land                         494021 non-null  int64  \n",
            " 7   wrong_fragment               494021 non-null  int64  \n",
            " 8   urgent                       494021 non-null  int64  \n",
            " 9   hot                          494021 non-null  int64  \n",
            " 10  num_failed_logins            494021 non-null  int64  \n",
            " 11  logged_in                    494021 non-null  int64  \n",
            " 12  num_compromised              494021 non-null  int64  \n",
            " 13  root_shell                   494021 non-null  int64  \n",
            " 14  su_attempted                 494021 non-null  int64  \n",
            " 15  num_root                     494021 non-null  int64  \n",
            " 16  num_file_creations           494021 non-null  int64  \n",
            " 17  num_shells                   494021 non-null  int64  \n",
            " 18  num_access_files             494021 non-null  int64  \n",
            " 19  num_outbound_cmds            494021 non-null  int64  \n",
            " 20  is_host_login                494021 non-null  int64  \n",
            " 21  is_guest_login               494021 non-null  int64  \n",
            " 22  count                        494021 non-null  int64  \n",
            " 23  srv_count                    494021 non-null  int64  \n",
            " 24  serror_rate                  494021 non-null  float64\n",
            " 25  srv_serror_rate              494021 non-null  float64\n",
            " 26  rerror_rate                  494021 non-null  float64\n",
            " 27  srv_rerror_rate              494021 non-null  float64\n",
            " 28  same_srv_rate                494021 non-null  float64\n",
            " 29  diff_srv_rate                494021 non-null  float64\n",
            " 30  srv_diff_host_rate           494021 non-null  float64\n",
            " 31  dst_host_count               494021 non-null  int64  \n",
            " 32  dst_host_srv_count           494021 non-null  int64  \n",
            " 33  dst_host_same_srv_rate       494021 non-null  float64\n",
            " 34  dst_host_diff_srv_rate       494021 non-null  float64\n",
            " 35  dst_host_same_src_port_rate  494021 non-null  float64\n",
            " 36  dst_host_srv_diff_host_rate  494021 non-null  float64\n",
            " 37  dst_host_serror_rate         494021 non-null  float64\n",
            " 38  dst_host_srv_serror_rate     494021 non-null  float64\n",
            " 39  dst_host_rerror_rate         494021 non-null  float64\n",
            " 40  dst_host_srv_rerror_rate     494021 non-null  float64\n",
            " 41  type                         494021 non-null  object \n",
            "dtypes: float64(15), int64(23), object(4)\n",
            "memory usage: 158.3+ MB\n"
          ],
          "name": "stdout"
        }
      ]
    },
    {
      "cell_type": "markdown",
      "metadata": {
        "id": "KX43fridmOwY"
      },
      "source": [
        "The dataset includes the traffic records with the normal traffics and 22 type of attacks. Among these records, only around 20% of the records are the normal ones and the rest 80% are the abnormal ones."
      ]
    },
    {
      "cell_type": "code",
      "metadata": {
        "colab": {
          "base_uri": "https://localhost:8080/"
        },
        "id": "wZO9EaxYMTul",
        "outputId": "4e8b1c74-df56-4383-db8d-ada8b2d7387e"
      },
      "source": [
        "proportions = data[\"type\"].value_counts()\n",
        "print(proportions)\n",
        "normal_data_count = data[\"type\"].loc[data[\"type\"]==\"normal.\"].value_counts()\n",
        "print(normal_data_count)\n",
        "print(\"Anomaly Percentage\", normal_data_count / proportions.sum())"
      ],
      "execution_count": null,
      "outputs": [
        {
          "output_type": "stream",
          "text": [
            "smurf.              280790\n",
            "neptune.            107201\n",
            "normal.              97278\n",
            "back.                 2203\n",
            "satan.                1589\n",
            "ipsweep.              1247\n",
            "portsweep.            1040\n",
            "warezclient.          1020\n",
            "teardrop.              979\n",
            "pod.                   264\n",
            "nmap.                  231\n",
            "guess_passwd.           53\n",
            "buffer_overflow.        30\n",
            "land.                   21\n",
            "warezmaster.            20\n",
            "imap.                   12\n",
            "rootkit.                10\n",
            "loadmodule.              9\n",
            "ftp_write.               8\n",
            "multihop.                7\n",
            "phf.                     4\n",
            "perl.                    3\n",
            "spy.                     2\n",
            "Name: type, dtype: int64\n",
            "normal.    97278\n",
            "Name: type, dtype: int64\n",
            "Anomaly Percentage normal.    0.196911\n",
            "Name: type, dtype: float64\n"
          ],
          "name": "stdout"
        }
      ]
    },
    {
      "cell_type": "markdown",
      "metadata": {
        "id": "fdLqvMe1mttI"
      },
      "source": [
        "# **Preprocessing**"
      ]
    },
    {
      "cell_type": "markdown",
      "metadata": {
        "id": "1hU6yfIkYo4g"
      },
      "source": [
        "Data encoding:\n",
        "Based on the official document provided by the dataset, the 22 type of attacks can be further classified into 4 kind of attacks as listed in http://kdd.ics.uci.edu/databases/kddcup99/training_attack_types. In this case, the labels of the dataset are further classified and encoded into normal traffics and 4 type of malicious traffics. "
      ]
    },
    {
      "cell_type": "code",
      "metadata": {
        "id": "s1hDKXGEZ4-u"
      },
      "source": [
        "from sklearn.preprocessing import LabelEncoder\n",
        "\n",
        "target = data['type']\n",
        "\n",
        "dos = [\"back\", \"land\", \"neptune\", \"pod\", 'smurf', 'teardrop']\n",
        "u2r = ['buffer_overflow', 'loadmodule', 'perl', 'rootkit']\n",
        "r2l = ['ftp_write', 'guess_passwd', 'imap', 'multihop','phf','spy','warezclient','warezmaster']\n",
        "probe = ['ipsweep','nmap','portsweep','satan']\n",
        "\n",
        "categorie = []\n",
        "\n",
        "for label in target:\n",
        "    if any(x in str(label) for x in dos):\n",
        "        categorie.append('dos')\n",
        "    elif any(x in str(label) for x in u2r):\n",
        "        categorie.append('u2r')\n",
        "    elif any(x in str(label) for x in r2l):\n",
        "        categorie.append('r2l')\n",
        "    elif any(x in str(label) for x in probe):\n",
        "        categorie.append('probe')\n",
        "    else:\n",
        "        categorie.append('normal')"
      ],
      "execution_count": null,
      "outputs": []
    },
    {
      "cell_type": "code",
      "metadata": {
        "colab": {
          "base_uri": "https://localhost:8080/"
        },
        "id": "TJn-YqWRZ4-u",
        "outputId": "61b9c5e2-c9d6-478d-afe4-42ed72863ac2"
      },
      "source": [
        "categorie = pd.DataFrame(categorie , columns = ['type_four'])\n",
        "categorie['type_four'].value_counts()\n",
        "data['type'] = categorie['type_four']\n",
        "data['type'].head()"
      ],
      "execution_count": null,
      "outputs": [
        {
          "output_type": "execute_result",
          "data": {
            "text/plain": [
              "0    normal\n",
              "1    normal\n",
              "2    normal\n",
              "3    normal\n",
              "4    normal\n",
              "Name: type, dtype: object"
            ]
          },
          "metadata": {
            "tags": []
          },
          "execution_count": 12
        }
      ]
    },
    {
      "cell_type": "markdown",
      "metadata": {
        "id": "Uxv_5knEnjmL"
      },
      "source": [
        "To prepare for the training process, the labels are encoded into numbers ranging from 0~4, where \"0\" indicates the normal traffics:"
      ]
    },
    {
      "cell_type": "code",
      "metadata": {
        "id": "kUxndfSfPad3",
        "colab": {
          "base_uri": "https://localhost:8080/"
        },
        "outputId": "d4249536-69f7-45c1-f8a3-2242937a7785"
      },
      "source": [
        "# Encode the dataset label into numbers\n",
        "data.loc[data['type'] == \"normal\", 'type'] = 0\n",
        "data.loc[data['type'] == \"dos\", 'type'] = 1\n",
        "data.loc[data['type'] == \"probe\", 'type'] = 2\n",
        "data.loc[data['type'] == \"r2l\", 'type'] = 3\n",
        "data.loc[data['type']== \"u2r\", 'type'] = 4\n",
        "data['type'].value_counts()"
      ],
      "execution_count": null,
      "outputs": [
        {
          "output_type": "execute_result",
          "data": {
            "text/plain": [
              "1    391458\n",
              "0     97278\n",
              "2      4107\n",
              "3      1126\n",
              "4        52\n",
              "Name: type, dtype: int64"
            ]
          },
          "metadata": {
            "tags": []
          },
          "execution_count": 13
        }
      ]
    },
    {
      "cell_type": "markdown",
      "metadata": {
        "id": "m-e4Va_EoFQq"
      },
      "source": [
        "Since the featrues are saved in different format in the dataset and it's hard to process the features recorded as object. Thus, the one-hot encoding is done to these features to encode them into numerical values. "
      ]
    },
    {
      "cell_type": "code",
      "metadata": {
        "colab": {
          "base_uri": "https://localhost:8080/",
          "height": 253
        },
        "id": "KjGXA8N9PgE-",
        "outputId": "4545e96e-ba56-4ef0-8669-30b8d1194724"
      },
      "source": [
        "# One-hot encoding the data into numerical values\n",
        "\n",
        "one_hot_protocol = pd.get_dummies(data[\"protocol_type\"])\n",
        "one_hot_service = pd.get_dummies(data[\"service\"])\n",
        "one_hot_flag = pd.get_dummies(data[\"flag\"])\n",
        "\n",
        "data = data.drop(\"protocol_type\",axis=1)\n",
        "data = data.drop(\"service\",axis=1)\n",
        "data = data.drop(\"flag\",axis=1)\n",
        "    \n",
        "data = pd.concat([one_hot_protocol, one_hot_service,one_hot_flag, data],axis=1)\n",
        "data.head()"
      ],
      "execution_count": null,
      "outputs": [
        {
          "output_type": "execute_result",
          "data": {
            "text/html": [
              "<div>\n",
              "<style scoped>\n",
              "    .dataframe tbody tr th:only-of-type {\n",
              "        vertical-align: middle;\n",
              "    }\n",
              "\n",
              "    .dataframe tbody tr th {\n",
              "        vertical-align: top;\n",
              "    }\n",
              "\n",
              "    .dataframe thead th {\n",
              "        text-align: right;\n",
              "    }\n",
              "</style>\n",
              "<table border=\"1\" class=\"dataframe\">\n",
              "  <thead>\n",
              "    <tr style=\"text-align: right;\">\n",
              "      <th></th>\n",
              "      <th>icmp</th>\n",
              "      <th>tcp</th>\n",
              "      <th>udp</th>\n",
              "      <th>IRC</th>\n",
              "      <th>X11</th>\n",
              "      <th>Z39_50</th>\n",
              "      <th>auth</th>\n",
              "      <th>bgp</th>\n",
              "      <th>courier</th>\n",
              "      <th>csnet_ns</th>\n",
              "      <th>ctf</th>\n",
              "      <th>daytime</th>\n",
              "      <th>discard</th>\n",
              "      <th>domain</th>\n",
              "      <th>domain_u</th>\n",
              "      <th>echo</th>\n",
              "      <th>eco_i</th>\n",
              "      <th>ecr_i</th>\n",
              "      <th>efs</th>\n",
              "      <th>exec</th>\n",
              "      <th>finger</th>\n",
              "      <th>ftp</th>\n",
              "      <th>ftp_data</th>\n",
              "      <th>gopher</th>\n",
              "      <th>hostnames</th>\n",
              "      <th>http</th>\n",
              "      <th>http_443</th>\n",
              "      <th>imap4</th>\n",
              "      <th>iso_tsap</th>\n",
              "      <th>klogin</th>\n",
              "      <th>kshell</th>\n",
              "      <th>ldap</th>\n",
              "      <th>link</th>\n",
              "      <th>login</th>\n",
              "      <th>mtp</th>\n",
              "      <th>name</th>\n",
              "      <th>netbios_dgm</th>\n",
              "      <th>netbios_ns</th>\n",
              "      <th>netbios_ssn</th>\n",
              "      <th>netstat</th>\n",
              "      <th>...</th>\n",
              "      <th>SH</th>\n",
              "      <th>duration</th>\n",
              "      <th>src_bytes</th>\n",
              "      <th>dst_bytes</th>\n",
              "      <th>land</th>\n",
              "      <th>wrong_fragment</th>\n",
              "      <th>urgent</th>\n",
              "      <th>hot</th>\n",
              "      <th>num_failed_logins</th>\n",
              "      <th>logged_in</th>\n",
              "      <th>num_compromised</th>\n",
              "      <th>root_shell</th>\n",
              "      <th>su_attempted</th>\n",
              "      <th>num_root</th>\n",
              "      <th>num_file_creations</th>\n",
              "      <th>num_shells</th>\n",
              "      <th>num_access_files</th>\n",
              "      <th>num_outbound_cmds</th>\n",
              "      <th>is_host_login</th>\n",
              "      <th>is_guest_login</th>\n",
              "      <th>count</th>\n",
              "      <th>srv_count</th>\n",
              "      <th>serror_rate</th>\n",
              "      <th>srv_serror_rate</th>\n",
              "      <th>rerror_rate</th>\n",
              "      <th>srv_rerror_rate</th>\n",
              "      <th>same_srv_rate</th>\n",
              "      <th>diff_srv_rate</th>\n",
              "      <th>srv_diff_host_rate</th>\n",
              "      <th>dst_host_count</th>\n",
              "      <th>dst_host_srv_count</th>\n",
              "      <th>dst_host_same_srv_rate</th>\n",
              "      <th>dst_host_diff_srv_rate</th>\n",
              "      <th>dst_host_same_src_port_rate</th>\n",
              "      <th>dst_host_srv_diff_host_rate</th>\n",
              "      <th>dst_host_serror_rate</th>\n",
              "      <th>dst_host_srv_serror_rate</th>\n",
              "      <th>dst_host_rerror_rate</th>\n",
              "      <th>dst_host_srv_rerror_rate</th>\n",
              "      <th>type</th>\n",
              "    </tr>\n",
              "  </thead>\n",
              "  <tbody>\n",
              "    <tr>\n",
              "      <th>0</th>\n",
              "      <td>0</td>\n",
              "      <td>1</td>\n",
              "      <td>0</td>\n",
              "      <td>0</td>\n",
              "      <td>0</td>\n",
              "      <td>0</td>\n",
              "      <td>0</td>\n",
              "      <td>0</td>\n",
              "      <td>0</td>\n",
              "      <td>0</td>\n",
              "      <td>0</td>\n",
              "      <td>0</td>\n",
              "      <td>0</td>\n",
              "      <td>0</td>\n",
              "      <td>0</td>\n",
              "      <td>0</td>\n",
              "      <td>0</td>\n",
              "      <td>0</td>\n",
              "      <td>0</td>\n",
              "      <td>0</td>\n",
              "      <td>0</td>\n",
              "      <td>0</td>\n",
              "      <td>0</td>\n",
              "      <td>0</td>\n",
              "      <td>0</td>\n",
              "      <td>1</td>\n",
              "      <td>0</td>\n",
              "      <td>0</td>\n",
              "      <td>0</td>\n",
              "      <td>0</td>\n",
              "      <td>0</td>\n",
              "      <td>0</td>\n",
              "      <td>0</td>\n",
              "      <td>0</td>\n",
              "      <td>0</td>\n",
              "      <td>0</td>\n",
              "      <td>0</td>\n",
              "      <td>0</td>\n",
              "      <td>0</td>\n",
              "      <td>0</td>\n",
              "      <td>...</td>\n",
              "      <td>0</td>\n",
              "      <td>0</td>\n",
              "      <td>181</td>\n",
              "      <td>5450</td>\n",
              "      <td>0</td>\n",
              "      <td>0</td>\n",
              "      <td>0</td>\n",
              "      <td>0</td>\n",
              "      <td>0</td>\n",
              "      <td>1</td>\n",
              "      <td>0</td>\n",
              "      <td>0</td>\n",
              "      <td>0</td>\n",
              "      <td>0</td>\n",
              "      <td>0</td>\n",
              "      <td>0</td>\n",
              "      <td>0</td>\n",
              "      <td>0</td>\n",
              "      <td>0</td>\n",
              "      <td>0</td>\n",
              "      <td>8</td>\n",
              "      <td>8</td>\n",
              "      <td>0.0</td>\n",
              "      <td>0.0</td>\n",
              "      <td>0.0</td>\n",
              "      <td>0.0</td>\n",
              "      <td>1.0</td>\n",
              "      <td>0.0</td>\n",
              "      <td>0.0</td>\n",
              "      <td>9</td>\n",
              "      <td>9</td>\n",
              "      <td>1.0</td>\n",
              "      <td>0.0</td>\n",
              "      <td>0.11</td>\n",
              "      <td>0.0</td>\n",
              "      <td>0.0</td>\n",
              "      <td>0.0</td>\n",
              "      <td>0.0</td>\n",
              "      <td>0.0</td>\n",
              "      <td>0</td>\n",
              "    </tr>\n",
              "    <tr>\n",
              "      <th>1</th>\n",
              "      <td>0</td>\n",
              "      <td>1</td>\n",
              "      <td>0</td>\n",
              "      <td>0</td>\n",
              "      <td>0</td>\n",
              "      <td>0</td>\n",
              "      <td>0</td>\n",
              "      <td>0</td>\n",
              "      <td>0</td>\n",
              "      <td>0</td>\n",
              "      <td>0</td>\n",
              "      <td>0</td>\n",
              "      <td>0</td>\n",
              "      <td>0</td>\n",
              "      <td>0</td>\n",
              "      <td>0</td>\n",
              "      <td>0</td>\n",
              "      <td>0</td>\n",
              "      <td>0</td>\n",
              "      <td>0</td>\n",
              "      <td>0</td>\n",
              "      <td>0</td>\n",
              "      <td>0</td>\n",
              "      <td>0</td>\n",
              "      <td>0</td>\n",
              "      <td>1</td>\n",
              "      <td>0</td>\n",
              "      <td>0</td>\n",
              "      <td>0</td>\n",
              "      <td>0</td>\n",
              "      <td>0</td>\n",
              "      <td>0</td>\n",
              "      <td>0</td>\n",
              "      <td>0</td>\n",
              "      <td>0</td>\n",
              "      <td>0</td>\n",
              "      <td>0</td>\n",
              "      <td>0</td>\n",
              "      <td>0</td>\n",
              "      <td>0</td>\n",
              "      <td>...</td>\n",
              "      <td>0</td>\n",
              "      <td>0</td>\n",
              "      <td>239</td>\n",
              "      <td>486</td>\n",
              "      <td>0</td>\n",
              "      <td>0</td>\n",
              "      <td>0</td>\n",
              "      <td>0</td>\n",
              "      <td>0</td>\n",
              "      <td>1</td>\n",
              "      <td>0</td>\n",
              "      <td>0</td>\n",
              "      <td>0</td>\n",
              "      <td>0</td>\n",
              "      <td>0</td>\n",
              "      <td>0</td>\n",
              "      <td>0</td>\n",
              "      <td>0</td>\n",
              "      <td>0</td>\n",
              "      <td>0</td>\n",
              "      <td>8</td>\n",
              "      <td>8</td>\n",
              "      <td>0.0</td>\n",
              "      <td>0.0</td>\n",
              "      <td>0.0</td>\n",
              "      <td>0.0</td>\n",
              "      <td>1.0</td>\n",
              "      <td>0.0</td>\n",
              "      <td>0.0</td>\n",
              "      <td>19</td>\n",
              "      <td>19</td>\n",
              "      <td>1.0</td>\n",
              "      <td>0.0</td>\n",
              "      <td>0.05</td>\n",
              "      <td>0.0</td>\n",
              "      <td>0.0</td>\n",
              "      <td>0.0</td>\n",
              "      <td>0.0</td>\n",
              "      <td>0.0</td>\n",
              "      <td>0</td>\n",
              "    </tr>\n",
              "    <tr>\n",
              "      <th>2</th>\n",
              "      <td>0</td>\n",
              "      <td>1</td>\n",
              "      <td>0</td>\n",
              "      <td>0</td>\n",
              "      <td>0</td>\n",
              "      <td>0</td>\n",
              "      <td>0</td>\n",
              "      <td>0</td>\n",
              "      <td>0</td>\n",
              "      <td>0</td>\n",
              "      <td>0</td>\n",
              "      <td>0</td>\n",
              "      <td>0</td>\n",
              "      <td>0</td>\n",
              "      <td>0</td>\n",
              "      <td>0</td>\n",
              "      <td>0</td>\n",
              "      <td>0</td>\n",
              "      <td>0</td>\n",
              "      <td>0</td>\n",
              "      <td>0</td>\n",
              "      <td>0</td>\n",
              "      <td>0</td>\n",
              "      <td>0</td>\n",
              "      <td>0</td>\n",
              "      <td>1</td>\n",
              "      <td>0</td>\n",
              "      <td>0</td>\n",
              "      <td>0</td>\n",
              "      <td>0</td>\n",
              "      <td>0</td>\n",
              "      <td>0</td>\n",
              "      <td>0</td>\n",
              "      <td>0</td>\n",
              "      <td>0</td>\n",
              "      <td>0</td>\n",
              "      <td>0</td>\n",
              "      <td>0</td>\n",
              "      <td>0</td>\n",
              "      <td>0</td>\n",
              "      <td>...</td>\n",
              "      <td>0</td>\n",
              "      <td>0</td>\n",
              "      <td>235</td>\n",
              "      <td>1337</td>\n",
              "      <td>0</td>\n",
              "      <td>0</td>\n",
              "      <td>0</td>\n",
              "      <td>0</td>\n",
              "      <td>0</td>\n",
              "      <td>1</td>\n",
              "      <td>0</td>\n",
              "      <td>0</td>\n",
              "      <td>0</td>\n",
              "      <td>0</td>\n",
              "      <td>0</td>\n",
              "      <td>0</td>\n",
              "      <td>0</td>\n",
              "      <td>0</td>\n",
              "      <td>0</td>\n",
              "      <td>0</td>\n",
              "      <td>8</td>\n",
              "      <td>8</td>\n",
              "      <td>0.0</td>\n",
              "      <td>0.0</td>\n",
              "      <td>0.0</td>\n",
              "      <td>0.0</td>\n",
              "      <td>1.0</td>\n",
              "      <td>0.0</td>\n",
              "      <td>0.0</td>\n",
              "      <td>29</td>\n",
              "      <td>29</td>\n",
              "      <td>1.0</td>\n",
              "      <td>0.0</td>\n",
              "      <td>0.03</td>\n",
              "      <td>0.0</td>\n",
              "      <td>0.0</td>\n",
              "      <td>0.0</td>\n",
              "      <td>0.0</td>\n",
              "      <td>0.0</td>\n",
              "      <td>0</td>\n",
              "    </tr>\n",
              "    <tr>\n",
              "      <th>3</th>\n",
              "      <td>0</td>\n",
              "      <td>1</td>\n",
              "      <td>0</td>\n",
              "      <td>0</td>\n",
              "      <td>0</td>\n",
              "      <td>0</td>\n",
              "      <td>0</td>\n",
              "      <td>0</td>\n",
              "      <td>0</td>\n",
              "      <td>0</td>\n",
              "      <td>0</td>\n",
              "      <td>0</td>\n",
              "      <td>0</td>\n",
              "      <td>0</td>\n",
              "      <td>0</td>\n",
              "      <td>0</td>\n",
              "      <td>0</td>\n",
              "      <td>0</td>\n",
              "      <td>0</td>\n",
              "      <td>0</td>\n",
              "      <td>0</td>\n",
              "      <td>0</td>\n",
              "      <td>0</td>\n",
              "      <td>0</td>\n",
              "      <td>0</td>\n",
              "      <td>1</td>\n",
              "      <td>0</td>\n",
              "      <td>0</td>\n",
              "      <td>0</td>\n",
              "      <td>0</td>\n",
              "      <td>0</td>\n",
              "      <td>0</td>\n",
              "      <td>0</td>\n",
              "      <td>0</td>\n",
              "      <td>0</td>\n",
              "      <td>0</td>\n",
              "      <td>0</td>\n",
              "      <td>0</td>\n",
              "      <td>0</td>\n",
              "      <td>0</td>\n",
              "      <td>...</td>\n",
              "      <td>0</td>\n",
              "      <td>0</td>\n",
              "      <td>219</td>\n",
              "      <td>1337</td>\n",
              "      <td>0</td>\n",
              "      <td>0</td>\n",
              "      <td>0</td>\n",
              "      <td>0</td>\n",
              "      <td>0</td>\n",
              "      <td>1</td>\n",
              "      <td>0</td>\n",
              "      <td>0</td>\n",
              "      <td>0</td>\n",
              "      <td>0</td>\n",
              "      <td>0</td>\n",
              "      <td>0</td>\n",
              "      <td>0</td>\n",
              "      <td>0</td>\n",
              "      <td>0</td>\n",
              "      <td>0</td>\n",
              "      <td>6</td>\n",
              "      <td>6</td>\n",
              "      <td>0.0</td>\n",
              "      <td>0.0</td>\n",
              "      <td>0.0</td>\n",
              "      <td>0.0</td>\n",
              "      <td>1.0</td>\n",
              "      <td>0.0</td>\n",
              "      <td>0.0</td>\n",
              "      <td>39</td>\n",
              "      <td>39</td>\n",
              "      <td>1.0</td>\n",
              "      <td>0.0</td>\n",
              "      <td>0.03</td>\n",
              "      <td>0.0</td>\n",
              "      <td>0.0</td>\n",
              "      <td>0.0</td>\n",
              "      <td>0.0</td>\n",
              "      <td>0.0</td>\n",
              "      <td>0</td>\n",
              "    </tr>\n",
              "    <tr>\n",
              "      <th>4</th>\n",
              "      <td>0</td>\n",
              "      <td>1</td>\n",
              "      <td>0</td>\n",
              "      <td>0</td>\n",
              "      <td>0</td>\n",
              "      <td>0</td>\n",
              "      <td>0</td>\n",
              "      <td>0</td>\n",
              "      <td>0</td>\n",
              "      <td>0</td>\n",
              "      <td>0</td>\n",
              "      <td>0</td>\n",
              "      <td>0</td>\n",
              "      <td>0</td>\n",
              "      <td>0</td>\n",
              "      <td>0</td>\n",
              "      <td>0</td>\n",
              "      <td>0</td>\n",
              "      <td>0</td>\n",
              "      <td>0</td>\n",
              "      <td>0</td>\n",
              "      <td>0</td>\n",
              "      <td>0</td>\n",
              "      <td>0</td>\n",
              "      <td>0</td>\n",
              "      <td>1</td>\n",
              "      <td>0</td>\n",
              "      <td>0</td>\n",
              "      <td>0</td>\n",
              "      <td>0</td>\n",
              "      <td>0</td>\n",
              "      <td>0</td>\n",
              "      <td>0</td>\n",
              "      <td>0</td>\n",
              "      <td>0</td>\n",
              "      <td>0</td>\n",
              "      <td>0</td>\n",
              "      <td>0</td>\n",
              "      <td>0</td>\n",
              "      <td>0</td>\n",
              "      <td>...</td>\n",
              "      <td>0</td>\n",
              "      <td>0</td>\n",
              "      <td>217</td>\n",
              "      <td>2032</td>\n",
              "      <td>0</td>\n",
              "      <td>0</td>\n",
              "      <td>0</td>\n",
              "      <td>0</td>\n",
              "      <td>0</td>\n",
              "      <td>1</td>\n",
              "      <td>0</td>\n",
              "      <td>0</td>\n",
              "      <td>0</td>\n",
              "      <td>0</td>\n",
              "      <td>0</td>\n",
              "      <td>0</td>\n",
              "      <td>0</td>\n",
              "      <td>0</td>\n",
              "      <td>0</td>\n",
              "      <td>0</td>\n",
              "      <td>6</td>\n",
              "      <td>6</td>\n",
              "      <td>0.0</td>\n",
              "      <td>0.0</td>\n",
              "      <td>0.0</td>\n",
              "      <td>0.0</td>\n",
              "      <td>1.0</td>\n",
              "      <td>0.0</td>\n",
              "      <td>0.0</td>\n",
              "      <td>49</td>\n",
              "      <td>49</td>\n",
              "      <td>1.0</td>\n",
              "      <td>0.0</td>\n",
              "      <td>0.02</td>\n",
              "      <td>0.0</td>\n",
              "      <td>0.0</td>\n",
              "      <td>0.0</td>\n",
              "      <td>0.0</td>\n",
              "      <td>0.0</td>\n",
              "      <td>0</td>\n",
              "    </tr>\n",
              "  </tbody>\n",
              "</table>\n",
              "<p>5 rows × 119 columns</p>\n",
              "</div>"
            ],
            "text/plain": [
              "   icmp  tcp  udp  ...  dst_host_rerror_rate  dst_host_srv_rerror_rate  type\n",
              "0     0    1    0  ...                   0.0                       0.0     0\n",
              "1     0    1    0  ...                   0.0                       0.0     0\n",
              "2     0    1    0  ...                   0.0                       0.0     0\n",
              "3     0    1    0  ...                   0.0                       0.0     0\n",
              "4     0    1    0  ...                   0.0                       0.0     0\n",
              "\n",
              "[5 rows x 119 columns]"
            ]
          },
          "metadata": {
            "tags": []
          },
          "execution_count": 14
        }
      ]
    },
    {
      "cell_type": "code",
      "metadata": {
        "colab": {
          "base_uri": "https://localhost:8080/"
        },
        "id": "GAo7-_v-Pkqw",
        "outputId": "d8b759bb-698b-45b3-f24b-22e711acf010"
      },
      "source": [
        "proportions = data[\"type\"].value_counts()\n",
        "print(proportions)\n",
        "print(\"Anomaly Percentage\",proportions[0] / proportions.sum())"
      ],
      "execution_count": null,
      "outputs": [
        {
          "output_type": "stream",
          "text": [
            "1    391458\n",
            "0     97278\n",
            "2      4107\n",
            "3      1126\n",
            "4        52\n",
            "Name: type, dtype: int64\n",
            "Anomaly Percentage 0.19691065764410826\n"
          ],
          "name": "stdout"
        }
      ]
    },
    {
      "cell_type": "markdown",
      "metadata": {
        "id": "PCr8zVfsvS27"
      },
      "source": [
        "Featrue scaling:\n",
        " \n",
        "Considering the features has different range, standardization is done to deal with this by keeping the values centered around the mean with a unit standard deviation."
      ]
    },
    {
      "cell_type": "code",
      "metadata": {
        "id": "YgS2AhcYPnf_"
      },
      "source": [
        "# Standardize the numeric variables\n",
        "\n",
        "cols_to_norm = [\"duration\", \"src_bytes\", \"dst_bytes\", \"wrong_fragment\", \"urgent\", \n",
        "            \"hot\", \"num_failed_logins\", \"num_compromised\", \"num_root\", \n",
        "            \"num_file_creations\", \"num_shells\", \"num_access_files\", \"count\", \"srv_count\", \n",
        "            \"serror_rate\", \"srv_serror_rate\", \"rerror_rate\", \"srv_rerror_rate\", \"same_srv_rate\", \n",
        "            \"diff_srv_rate\", \"srv_diff_host_rate\", \"dst_host_count\", \"dst_host_srv_count\", \"dst_host_same_srv_rate\", \n",
        "            \"dst_host_diff_srv_rate\", \"dst_host_same_src_port_rate\", \"dst_host_srv_diff_host_rate\", \n",
        "            \"dst_host_serror_rate\", \"dst_host_srv_serror_rate\", \"dst_host_rerror_rate\", \"dst_host_srv_rerror_rate\" ]\n",
        "\n",
        "data.loc[:, cols_to_norm] = (data[cols_to_norm] - data[cols_to_norm].mean()) / data[cols_to_norm].std()\n",
        "min_cols = data.loc[data[\"type\"]==0 , cols_to_norm].min()\n",
        "max_cols = data.loc[data[\"type\"]==0 , cols_to_norm].max()"
      ],
      "execution_count": null,
      "outputs": []
    },
    {
      "cell_type": "markdown",
      "metadata": {
        "id": "tOHgHdqIYo44"
      },
      "source": [
        "Split the dataset:\n",
        "\n",
        "Split the label out of the dataset into X and y. Split the X and y into trainset and testset with 66% of samples as trainset."
      ]
    },
    {
      "cell_type": "code",
      "metadata": {
        "colab": {
          "base_uri": "https://localhost:8080/"
        },
        "id": "c6UzA0b9P-0g",
        "outputId": "8d96d3fa-cf16-46d4-93bd-e151991d8d3d"
      },
      "source": [
        "# separate between features/inputs X and label/output variables y\n",
        "mat = data.values\n",
        "X = mat[:,0:-1]\n",
        "print(X.shape)\n",
        "y = mat[:,-1]\n",
        "y = y.astype('int')\n",
        "print(y.shape)\n"
      ],
      "execution_count": null,
      "outputs": [
        {
          "output_type": "stream",
          "text": [
            "(494021, 118)\n",
            "(494021,)\n"
          ],
          "name": "stdout"
        }
      ]
    },
    {
      "cell_type": "code",
      "metadata": {
        "colab": {
          "base_uri": "https://localhost:8080/"
        },
        "id": "_I_7L2kpYo45",
        "outputId": "120f4ecf-ac44-4a8b-cc47-57c4bf55c813"
      },
      "source": [
        "train_perc = 0.66 # percentage of training data\n",
        "split_point = int(train_perc*len(y))\n",
        "perm = np.random.permutation(len(y))\n",
        "ix_train = perm[:split_point]\n",
        "ix_test = perm[split_point:]\n",
        "X_train = X[ix_train,:]\n",
        "X_test = X[ix_test,:]\n",
        "y_train = y[ix_train]\n",
        "y_test = y[ix_test]\n",
        "print(\"num train: %d\" % len(y_train))\n",
        "print(\"num test: %d\" % len(y_test))"
      ],
      "execution_count": null,
      "outputs": [
        {
          "output_type": "stream",
          "text": [
            "num train: 326053\n",
            "num test: 167968\n"
          ],
          "name": "stdout"
        }
      ]
    },
    {
      "cell_type": "markdown",
      "metadata": {
        "id": "fEPbzWSAYo5P"
      },
      "source": [
        "# **Baseline model from sklearn**\n",
        "\n",
        "Define the GMM from sklearn as the baseline model:"
      ]
    },
    {
      "cell_type": "code",
      "metadata": {
        "id": "CDvvr1PrYo5S",
        "colab": {
          "base_uri": "https://localhost:8080/"
        },
        "outputId": "5a71a5d2-4354-472c-c3d2-c6c3e36fb1c5"
      },
      "source": [
        "from sklearn.mixture import GaussianMixture\n",
        "gmm = GaussianMixture(5, covariance_type='tied', random_state=0) # Several type of covariance_type are offered in sklearn GMM and \"tied\" works the best here\n",
        "\n",
        "gmm.fit(X_train)\n",
        "\n",
        "# make predictions for test set\n",
        "y_hat = gmm.predict(X_test)\n",
        "print(\"predictions:\", y_hat)\n",
        "print(\"true values:\", y_test)\n",
        "\n",
        "# Compute the general prediction accuracy\n",
        "print(\"Accuracy:\", 1.0*np.sum(y_hat == y_test) / len(y_test))"
      ],
      "execution_count": null,
      "outputs": [
        {
          "output_type": "stream",
          "text": [
            "predictions: [2 0 0 ... 0 4 1]\n",
            "true values: [1 1 1 ... 1 0 1]\n",
            "Accuracy: 0.1802724328443513\n"
          ],
          "name": "stdout"
        }
      ]
    },
    {
      "cell_type": "markdown",
      "metadata": {
        "id": "40gN-D4CxmmP"
      },
      "source": [
        "To look into details on how the model performs, classification_report provided by sklearn is called here to present a detailed evaluation with metrics like precision, recall, f1-score for each class. "
      ]
    },
    {
      "cell_type": "code",
      "metadata": {
        "id": "dTOY4oJgZ4-z",
        "colab": {
          "base_uri": "https://localhost:8080/"
        },
        "outputId": "ea79dce2-411a-45a6-e765-e9ced4404da6"
      },
      "source": [
        "from sklearn.metrics import classification_report\n",
        "print(classification_report(y_test, y_hat))"
      ],
      "execution_count": null,
      "outputs": [
        {
          "output_type": "stream",
          "text": [
            "              precision    recall  f1-score   support\n",
            "\n",
            "           0       0.00      0.00      0.00     33238\n",
            "           1       1.00      0.22      0.36    132908\n",
            "           2       0.08      0.56      0.15      1424\n",
            "           3       0.00      0.00      0.00       384\n",
            "           4       0.00      1.00      0.00        14\n",
            "\n",
            "    accuracy                           0.18    167968\n",
            "   macro avg       0.22      0.36      0.10    167968\n",
            "weighted avg       0.79      0.18      0.29    167968\n",
            "\n"
          ],
          "name": "stdout"
        },
        {
          "output_type": "stream",
          "text": [
            "/usr/local/lib/python3.7/dist-packages/sklearn/metrics/_classification.py:1272: UndefinedMetricWarning: Precision and F-score are ill-defined and being set to 0.0 in labels with no predicted samples. Use `zero_division` parameter to control this behavior.\n",
            "  _warn_prf(average, modifier, msg_start, len(result))\n"
          ],
          "name": "stderr"
        }
      ]
    },
    {
      "cell_type": "markdown",
      "metadata": {
        "id": "p0rpw_lnxvZ3"
      },
      "source": [
        "# **GMM Model Training & Evaluation**"
      ]
    },
    {
      "cell_type": "markdown",
      "metadata": {
        "id": "v8Afzo_qyMa6"
      },
      "source": [
        "**GMM model with 5 components**\n",
        "\n",
        "In this notebook, since the target is to do a bit of fine-grained clustering to label the samples in the dataset into 5 clusters, the components of Gaussian mixture is changed to 5 with some tuned parameters, but the main model is still based on the GMM with 2 components. The generative process is: \n",
        "\n",
        "\n",
        "\n",
        "1. Draw $w$ which is a vector $(1 \\times K)$ with probabilities of each class: $w \\sim \\operatorname{Dirichlet}\\left(w_{0}=10\\right)$\n",
        "2. Draw the uncertainty value of the clusters: $\\sigma \\sim \\operatorname{Lognormal}\\left(\\mu_{0}=0, \\sigma_{0}=5\\right)$\n",
        "3. For each cluster $k$ in the clusters $k \\in\\{1, \\ldots, K\\}$ where $K=5$: \n",
        "  * Draw the mean value of the this cluster: $\\mu_{k} \\sim \\operatorname{Normal}\\left(\\mu_{1}=0, \\sigma_{1}=5\\right)$\n",
        "\n",
        "4. For each sample in the dataset $n \\in\\{1, \\ldots, N\\}$: \n",
        "  * Draw latent variable: $z_{n} \\sim \\operatorname{Cat}(w)$ \n",
        "  * Define $k=z_{n}$ generate the samples: $x_{n} \\sim \\operatorname{Normal}\\left(\\mu_{k}, \\sigma\\right)$\n",
        "\n",
        "To implement the model, vectorization is done for the variable to optimize the performance in Pyro. This implementation refers to the Pyro guideline [2] and config_enumerate() handler in Pyro [3] is called here to enable the enumeration over the assignments in each iteration.\n",
        "\n",
        "[2] Gaussian Mixture Model, https://pyro.ai/examples/gmm.html\n",
        "\n",
        "\n",
        "[3] Inference with Discrete Latent Variables, http://pyro.ai/examples/enumeration.html"
      ]
    },
    {
      "cell_type": "code",
      "metadata": {
        "id": "0gwzm2aH2WHH",
        "colab": {
          "base_uri": "https://localhost:8080/"
        },
        "outputId": "4fac9538-a331-4ace-d645-1a6706337041"
      },
      "source": [
        "K = 5  # Fixed number of components.\n",
        "\n",
        "@config_enumerate\n",
        "def gmm(data=None):\n",
        "    D = data.shape[1]\n",
        "    # Global variables\n",
        "    weights = pyro.sample('weights', dist.Dirichlet(10 * torch.ones(K, device=device)))\n",
        "    scale = pyro.sample('scale', dist.LogNormal(0., 5.)).to(device)\n",
        "    with pyro.plate('components', K):\n",
        "        locs = pyro.sample('locs', dist.Normal(torch.zeros(D, device=device), 5.).to_event(1))\n",
        "        assert locs.shape == (K, D)\n",
        "    with pyro.plate('data', len(data)):\n",
        "        # Local variables.\n",
        "        assignment = pyro.sample('assignment', dist.Categorical(weights))\n",
        "        pyro.sample('obs', dist.Normal(locs[assignment], scale).to_event(1), obs=data)"
      ],
      "execution_count": null,
      "outputs": [
        {
          "output_type": "stream",
          "text": [
            "Exception in thread Thread-12:\n",
            "Traceback (most recent call last):\n",
            "  File \"/usr/lib/python3.7/threading.py\", line 926, in _bootstrap_inner\n",
            "    self.run()\n",
            "  File \"/usr/lib/python3.7/threading.py\", line 870, in run\n",
            "    self._target(*self._args, **self._kwargs)\n",
            "  File \"<string>\", line 77, in loop\n",
            "  File \"<string>\", line 20, in update\n",
            "AttributeError: module 'psutil' has no attribute 'getloadavg'\n",
            "\n"
          ],
          "name": "stderr"
        }
      ]
    },
    {
      "cell_type": "markdown",
      "metadata": {
        "id": "LpeWqA-y4h1_"
      },
      "source": [
        "The speed of the learning process is tweaked by defining the learning rate and $\\beta_{1}$ & $\\beta_{2}$. To run the inference in Pyro, TraceEnum_ELBO is used here to enable the enumerations in parallel during the sampling from discrete latent states. "
      ]
    },
    {
      "cell_type": "code",
      "metadata": {
        "id": "rng6OgVXZ4-0"
      },
      "source": [
        "optim = pyro.optim.Adam({'lr': 0.0005, 'betas': [0.8, 0.99]})\n",
        "elbo = TraceEnum_ELBO(max_plate_nesting=1)\n",
        "\n",
        "# transform the dataset to tensor\n",
        "X_train_torch = torch.from_numpy(X_train.astype(np.float64)).float()\n",
        "X_test_torch = torch.from_numpy(X_test.astype(np.float64)).float()"
      ],
      "execution_count": null,
      "outputs": []
    },
    {
      "cell_type": "markdown",
      "metadata": {
        "id": "6jQ1xKMY6vtn"
      },
      "source": [
        "The auto guide AutoDelta is used to construct a MAP guide based on Delta distributions. SVI is configured for inference. Compared with MCMC, experiments on this dataset show that SVI can present reasonable convergence time. "
      ]
    },
    {
      "cell_type": "code",
      "metadata": {
        "id": "wnMM86Hb6YuY"
      },
      "source": [
        "pyro.clear_param_store()\n",
        "guide = AutoDelta(poutine.block(gmm, expose=['weights', 'locs', 'scale']))\n",
        "svi = SVI(gmm, guide, optim, loss=elbo)"
      ],
      "execution_count": null,
      "outputs": []
    },
    {
      "cell_type": "markdown",
      "metadata": {
        "id": "1vufcCvU1V54"
      },
      "source": [
        "Initialization is done first in the consideration of the GMM is prone to local mode. The optimal initail value is selected from a number of values by iterating the seeds. "
      ]
    },
    {
      "cell_type": "code",
      "metadata": {
        "id": "qYNVNRThZ4-0",
        "colab": {
          "base_uri": "https://localhost:8080/"
        },
        "outputId": "b93578ac-0429-4ac5-8168-b23b7485ec97"
      },
      "source": [
        "# Initialize the variables to uniform.\n",
        "def init_loc_fn(site):\n",
        "    if site[\"name\"] == \"weights\":\n",
        "        return (torch.ones(K) / K).to(device)\n",
        "    if site[\"name\"] == \"scale\":\n",
        "        return (data.var() / 2).sqrt()\n",
        "    if site[\"name\"] == \"locs\":\n",
        "        return data[torch.multinomial(torch.ones(len(data)) / len(data), K)]\n",
        "    raise ValueError(site[\"name\"])\n",
        "\n",
        "def initialize(seed):\n",
        "    global global_guide, svi\n",
        "    pyro.set_rng_seed(seed)\n",
        "    pyro.clear_param_store()\n",
        "    global_guide = AutoDelta(poutine.block(gmm, expose=['weights', 'locs', 'scale']))\n",
        "    svi = SVI(gmm, global_guide, optim, loss=elbo)\n",
        "    return svi.loss(gmm, global_guide, data)\n",
        "\n",
        "# Choose the best value among 8000 random initializations.\n",
        "data = X_train_torch.to(device)\n",
        "loss, seed = min((initialize(seed), seed) for seed in range(8000))\n",
        "initialize(seed)\n",
        "print('seed = {}, initial_loss = {}'.format(seed, loss))"
      ],
      "execution_count": null,
      "outputs": [
        {
          "output_type": "stream",
          "text": [
            "seed = 5154, initial_loss = 65707728.0\n"
          ],
          "name": "stdout"
        }
      ]
    },
    {
      "cell_type": "code",
      "metadata": {
        "id": "Sl48xoIDZ4-1",
        "colab": {
          "base_uri": "https://localhost:8080/"
        },
        "outputId": "1f44b83e-fe3f-4c4f-8df9-5feee8e147e0"
      },
      "source": [
        "losses = []\n",
        "n_steps = 8000\n",
        "for step in range(n_steps):\n",
        "    loss = svi.step(data)\n",
        "    losses.append(loss)\n",
        "    if step % 500 == 0:\n",
        "        print(\"[%d] ELBO: %.1f\" % (step, loss))"
      ],
      "execution_count": null,
      "outputs": [
        {
          "output_type": "stream",
          "text": [
            "[0] ELBO: 65707728.0\n",
            "[500] ELBO: 60330304.0\n",
            "[1000] ELBO: 55026180.0\n",
            "[1500] ELBO: 49932344.0\n",
            "[2000] ELBO: 45220672.0\n",
            "[2500] ELBO: 41060628.0\n",
            "[3000] ELBO: 37636036.0\n",
            "[3500] ELBO: 34976120.0\n",
            "[4000] ELBO: 32998158.0\n",
            "[4500] ELBO: 31553272.0\n",
            "[5000] ELBO: 30085364.0\n",
            "[5500] ELBO: 29031508.0\n",
            "[6000] ELBO: 28310372.0\n",
            "[6500] ELBO: 27805334.0\n",
            "[7000] ELBO: 27433892.0\n",
            "[7500] ELBO: 27168316.0\n"
          ],
          "name": "stdout"
        }
      ]
    },
    {
      "cell_type": "markdown",
      "metadata": {
        "id": "Lr3FhXcJy7YX"
      },
      "source": [
        "The inference comletes after 8000 steps. The plot below presents that the loss basically reaches a convergence. But the converged loss is relatively high, which also indicates that the model might get stuck in local optima. This can be happened due to the non-convex feature of the mixture model optimization process. "
      ]
    },
    {
      "cell_type": "code",
      "metadata": {
        "id": "iIrLuIV_2GnP",
        "colab": {
          "base_uri": "https://localhost:8080/",
          "height": 334
        },
        "outputId": "f0aea086-8273-4449-b63a-fca04fd51fb2"
      },
      "source": [
        "from matplotlib import pyplot\n",
        "%matplotlib inline\n",
        "\n",
        "pyplot.figure(figsize=(10,3), dpi=100).set_facecolor('white')\n",
        "pyplot.plot(losses)\n",
        "pyplot.xlabel('iters')\n",
        "pyplot.ylabel('loss')\n",
        "pyplot.yscale('log')\n",
        "pyplot.title('Convergence of SVI');"
      ],
      "execution_count": null,
      "outputs": [
        {
          "output_type": "display_data",
          "data": {
            "image/png": "[encoded data removed]",
            "text/plain": [
              "<Figure size 1000x300 with 1 Axes>"
            ]
          },
          "metadata": {
            "tags": []
          }
        }
      ]
    },
    {
      "cell_type": "markdown",
      "metadata": {
        "id": "YPNfvwom7Wfx"
      },
      "source": [
        "**Model evaluation**\n",
        "\n",
        "With a model trained by the trainset, the model is expected to be used to make prediction on the testset for evaluation. To do this, the classifier is built to predict the testset based on the discrete inference. Effect handlers of *trace*, *replay* and *infer_discrete* in Pyro is used here to build the classfier and read out the cluster assignment results from the model. The trace hanlder here records the relationships amongst different pyro primitives. Each node in the trace includes the name, input and output value of the site. [4]\n",
        "\n",
        "\n",
        "[4] Trace, https://docs.pyro.ai/en/dev/poutine.html#trace"
      ]
    },
    {
      "cell_type": "code",
      "metadata": {
        "id": "kvmc39P7Z4-1",
        "colab": {
          "base_uri": "https://localhost:8080/"
        },
        "outputId": "9be0cb05-07f5-41da-d06a-23334288371b"
      },
      "source": [
        "guide_trace = poutine.trace(guide).get_trace(data)  # record the globals\n",
        "trained_model = poutine.replay(gmm, trace=guide_trace)  # replay the globals\n",
        "\n",
        "def classifier(data, temperature=0):\n",
        "    inferred_model = infer_discrete(trained_model, temperature=temperature, first_available_dim=-2)  # avoid conflict with data plate\n",
        "    trace = poutine.trace(inferred_model).get_trace(data)\n",
        "    print(trace)\n",
        "    return trace.nodes[\"assignment\"][\"value\"], trace.nodes[\"weights\"][\"value\"], trace.nodes[\"locs\"][\"value\"], trace.nodes[\"scale\"][\"value\"]\n",
        "\n",
        "print(classifier(X_test_torch.to(device)))"
      ],
      "execution_count": null,
      "outputs": [
        {
          "output_type": "stream",
          "text": [
            "<pyro.poutine.trace_struct.Trace object at 0x7f2d915af990>\n",
            "(tensor([0, 1, 1,  ..., 1, 0, 1]), tensor([0.0661, 0.9279, 0.0019, 0.0020, 0.0020], grad_fn=<ExpandBackward>), tensor([[ 3.6539e-03,  8.5342e-01,  1.4295e-01,  8.4279e-04,  1.3211e-04,\n",
            "          5.9480e-04,  2.7861e-03,  7.4145e-04,  4.8515e-04,  8.7862e-04,\n",
            "          4.4383e-04,  5.1266e-04,  8.0777e-04,  5.2080e-04,  1.8516e-03,\n",
            "          6.6493e-04,  1.1772e-03,  6.3174e-04,  8.2255e-04,  6.1701e-04,\n",
            "          1.2004e-03,  1.8008e-03,  4.2645e-03,  5.2313e-04,  7.1618e-04,\n",
            "          1.5938e-01,  6.1708e-04,  7.9148e-04,  5.7250e-04,  6.9988e-04,\n",
            "          4.3973e-04,  5.2780e-04,  6.1656e-04,  5.7314e-04,  8.3760e-04,\n",
            "          6.8494e-04,  4.8406e-04,  6.9930e-04,  6.1947e-04,  4.9620e-04,\n",
            "          6.0557e-01,  3.4447e-04,  2.4774e-04,  1.7823e-01,  1.3102e-04,\n",
            "          4.8292e-04,  8.3440e-04,  7.5081e-04,  6.0317e-01,  4.8065e-07,\n",
            "          6.9561e-04,  1.0580e-03,  6.1796e-04,  1.1303e-02,  4.4862e-04,\n",
            "          5.6936e-04,  6.1642e-04,  8.0512e-04,  8.9554e-04,  1.8503e-03,\n",
            "         -9.7407e-08,  3.8258e-05,  8.3490e-04, -2.3176e-06,  1.9290e-03,\n",
            "          8.4645e-04,  6.1980e-04,  7.9242e-04,  6.7876e-04,  1.3062e-04,\n",
            "          7.8546e-01,  1.4799e-02,  3.0161e-04,  2.3677e-02,  7.3369e-03,\n",
            "          4.9411e-07,  1.5849e-04,  3.4964e-05,  1.6812e-01,  2.2947e-06,\n",
            "          1.7937e+00, -2.1405e-03, -2.4469e-02,  6.1259e-05,  9.1812e-02,\n",
            "         -2.5677e-03, -3.6127e-02, -9.7851e-03,  2.0880e-02, -5.0667e-03,\n",
            "          1.6033e-04, -1.2554e-05, -2.1178e-03, -8.8704e-03, -9.9214e-03,\n",
            "         -2.7628e-02, -2.1992e-06, -2.5949e-07,  8.4046e-04, -9.4281e-01,\n",
            "         -1.1604e+00, -4.3971e-01, -4.4301e-01,  2.2878e+00,  2.2660e+00,\n",
            "         -1.1189e+00,  1.3288e+00,  7.4573e-02, -2.8582e-01, -1.3906e+00,\n",
            "         -1.3660e+00,  1.7317e+00, -8.2519e-01,  4.6921e-01, -4.4305e-01,\n",
            "         -4.4258e-01,  2.2743e+00,  2.0812e+00],\n",
            "        [ 6.1872e-01,  3.4789e-01,  3.3405e-02,  4.0715e-05,  3.0172e-06,\n",
            "          1.4436e-04,  5.4600e-04,  1.2020e-04,  1.8473e-04,  2.0179e-04,\n",
            "          1.4017e-04,  1.8896e-04,  2.0981e-04,  1.9356e-04,  1.2565e-02,\n",
            "          1.7502e-04,  3.4845e-03,  6.1406e-01,  1.6750e-04,  1.7869e-04,\n",
            "          1.3887e-03,  6.5805e-04,  9.7113e-03,  8.2133e-06,  1.8737e-04,\n",
            "          1.2450e-01,  1.1288e-04,  2.0854e-04,  2.0805e-04,  1.9887e-04,\n",
            "          1.7703e-04,  1.6728e-04,  1.7470e-04,  1.8836e-04,  1.5133e-04,\n",
            "          1.7143e-04,  1.2781e-04,  1.9645e-04,  1.7884e-04,  1.5665e-04,\n",
            "          1.9172e-04,  1.8577e-04,  8.2987e-04,  2.3510e-03,  0.0000e+00,\n",
            "          1.2648e-04,  3.1830e-04,  2.2478e-04,  1.9678e-01,  4.9753e-06,\n",
            "          1.5263e-04,  1.6264e-04,  1.9248e-04,  1.9980e-02,  2.2439e-04,\n",
            "          1.9167e-04,  1.7334e-04,  1.5843e-04,  2.0481e-04,  6.4186e-04,\n",
            "          3.4448e-05,  3.5312e-05,  2.9818e-04,  3.2349e-05,  1.1411e-03,\n",
            "          1.4069e-04,  1.8672e-04,  1.8730e-04,  1.9208e-04, -1.0941e-05,\n",
            "          1.5225e-05,  6.0909e-05, -8.1558e-06,  1.6772e-04,  1.8932e-01,\n",
            "          1.3086e-04,  6.7018e-05,  7.5022e-05,  8.1005e-01,  2.3741e-04,\n",
            "         -6.5333e-02, -1.4711e-03, -8.8269e-03,  8.4494e-05, -7.5425e-03,\n",
            "         -2.6552e-03, -2.8131e-02, -9.8347e-03,  1.5542e-01, -2.9555e-03,\n",
            "          4.7880e-05,  6.7270e-06, -3.0064e-03, -6.9602e-03, -9.9272e-03,\n",
            "         -2.7632e-02,  1.0061e-10,  4.5886e-06,  4.9965e-04,  7.5789e-02,\n",
            "          9.0890e-02,  3.4236e-02,  3.4554e-02, -2.4687e-01, -2.4575e-01,\n",
            "          8.2129e-02, -9.8106e-02, -8.2734e-03,  2.5504e-02,  1.0597e-01,\n",
            "          1.0309e-01, -1.3037e-01,  6.4821e-02, -3.6887e-02,  3.4473e-02,\n",
            "          3.4517e-02, -2.4651e-01, -2.4413e-01],\n",
            "        [-1.0351e-06,  9.9970e-01,  9.9661e-05, -1.5549e-07,  2.1290e-05,\n",
            "          1.1061e-06,  2.8642e-01,  1.3446e-05,  8.8232e-07, -8.5665e-06,\n",
            "         -2.2521e-06,  2.4806e-06, -1.7329e-05, -3.2904e-07,  1.4617e-06,\n",
            "         -1.5577e-06,  8.9691e-08, -1.8110e-07, -3.5754e-06,  7.7646e-06,\n",
            "          2.9382e-02,  8.9357e-06,  7.6452e-01, -6.5261e-06, -1.7141e-06,\n",
            "          6.7603e-05, -7.5271e-05, -1.4171e-06, -2.0483e-06, -6.3936e-06,\n",
            "          1.1331e-06,  3.1646e-07, -1.5641e-05, -0.0000e+00, -1.0705e-05,\n",
            "          1.7564e-06,  6.1260e-06, -4.8792e-06, -3.3215e-06, -2.6919e-06,\n",
            "          6.4768e-07,  3.8987e-06, -0.0000e+00,  2.9351e-02, -5.5161e-06,\n",
            "         -4.7456e-06,  1.3372e-06, -1.4647e+00,  4.2338e-07, -1.7909e-05,\n",
            "         -6.8080e-08,  1.3333e-05, -1.4182e-06, -6.1713e-06,  3.1001e-06,\n",
            "          2.2595e-05, -7.2176e-06,  5.2866e-07, -1.9009e-06,  1.7642e-01,\n",
            "          1.1081e-05,  8.2254e-06, -3.3749e-07, -1.0269e-05,  1.7007e-05,\n",
            "          2.2120e-05,  3.6335e-06, -1.1714e-05, -5.1216e-05,  2.3250e-07,\n",
            "         -3.4894e-07,  2.9446e-02, -3.7037e-05, -4.8697e-07,  6.2976e-10,\n",
            "          4.7754e-06,  1.2690e-07,  1.2990e-08,  9.7033e-01,  5.7526e-06,\n",
            "         -1.8791e-02,  6.0285e+00,  1.7811e-02, -2.4355e-05, -4.7705e-02,\n",
            "         -2.5163e-03,  8.2057e-01, -9.7732e-03,  9.7032e-01,  1.0571e+00,\n",
            "          1.7649e-01,  4.3980e-07,  1.4553e+00,  3.4245e+00,  8.1119e+00,\n",
            "          1.7012e+00, -1.0810e-04,  1.4013e-45,  1.5687e-07, -1.5166e+00,\n",
            "         -1.1598e+00, -3.9675e-01, -4.1168e-01, -2.2123e-01, -2.0676e-01,\n",
            "          3.7474e-01,  1.5616e-01,  5.4524e-02, -1.6252e+00, -1.2319e+00,\n",
            "         -7.9586e-01,  1.0743e-01, -3.3573e-01,  4.5555e-01, -4.3957e-01,\n",
            "         -4.0592e-01, -2.4432e-01, -1.9445e-01],\n",
            "        [-4.2573e-05,  9.9997e-01,  1.4396e-05, -1.9661e-06,  1.1983e-05,\n",
            "          1.3482e-05,  1.5553e-06, -3.1930e-05, -1.1239e-06,  1.8934e-07,\n",
            "          1.7395e-06,  8.7987e-06,  6.5407e-06, -4.9133e-06,  2.9525e-07,\n",
            "         -5.1588e-05,  3.1114e-05, -9.2298e-07, -4.5990e-07,  1.3121e-05,\n",
            "          6.7517e-05,  7.6255e-01,  3.0338e-02, -1.3901e-06, -7.6723e-06,\n",
            "          1.5963e-05,  1.3728e-05, -1.0611e-05, -8.7508e-07,  3.8725e-41,\n",
            "         -1.8745e-06, -5.6281e-07, -2.9532e-07,  2.0198e-06, -8.8387e-08,\n",
            "         -9.8106e-06, -2.3353e-05, -2.2450e-05, -3.3039e-06, -1.1283e-06,\n",
            "          6.0970e-24, -2.2524e-12,  0.0000e+00,  2.7719e-03,  3.0498e-08,\n",
            "          7.9177e-08, -1.2839e-06,  8.3660e-07,  2.1635e-05, -1.9191e-06,\n",
            "         -2.8150e-23,  8.7548e-07, -2.3255e-06,  2.7589e-02,  2.7898e-06,\n",
            "         -3.0147e-06, -2.2626e-05, -1.4414e-05,  1.2789e-06,  1.7678e-01,\n",
            "         -3.7841e-07, -1.6962e-07, -4.3028e-05,  2.2305e-06,  5.7973e-02,\n",
            "         -1.8139e-05, -9.1106e-08, -1.3578e-06,  0.0000e+00,  1.0771e-05,\n",
            "          2.1905e-06,  8.8409e-02, -5.4428e-06,  8.3153e-03,  2.3297e-06,\n",
            "          2.7618e-03, -1.4227e-04, -5.8531e-07,  9.0053e-01,  2.2884e-06,\n",
            "          8.6904e-01,  1.2680e-02,  1.4022e-01,  2.9653e-05, -4.7716e-02,\n",
            "          4.9880e-01,  6.1120e+00,  6.4273e+00,  8.9224e-01,  3.0434e+00,\n",
            "          3.0387e-02,  1.6575e-02,  2.9547e+00,  4.3056e+00, -9.9212e-03,\n",
            "          1.1081e+00, -2.4804e-07,  3.3164e-06,  7.5412e-01, -1.5530e+00,\n",
            "         -1.1840e+00, -4.4876e-01, -4.5263e-01,  1.6356e-01,  1.6190e-01,\n",
            "          5.0097e-01,  4.5479e-01, -7.6025e-02, -9.5118e-01, -1.2938e+00,\n",
            "         -9.1306e-01,  1.7198e-01, -1.1300e+00,  7.5436e-02, -3.9258e-01,\n",
            "         -4.2331e-01,  1.5923e-01,  1.3640e-01],\n",
            "        [ 5.6827e-06,  9.9995e-01, -9.0442e-06,  5.5535e-06, -8.0441e-05,\n",
            "          5.0334e-07,  9.0664e-06,  1.1506e-07, -9.4318e-05, -1.4013e-45,\n",
            "         -1.3000e-06, -1.3926e-07,  1.5539e-05,  4.4548e-05,  4.2273e-05,\n",
            "          2.6135e-06, -5.1716e-06,  3.7168e-07,  4.3027e-06,  1.0256e-17,\n",
            "          2.9907e-06,  2.7184e-03,  8.2592e-02, -4.1239e-06, -7.2203e-07,\n",
            "          6.3091e-01,  5.0441e-07, -1.9734e-06,  3.7038e-10,  3.7923e-05,\n",
            "          2.3025e-07, -1.0022e-06,  3.7662e-07, -8.7892e-06,  1.4854e-25,\n",
            "         -8.5455e-07, -1.3352e-06, -7.8449e-06, -1.9414e-07,  3.8304e-07,\n",
            "         -5.7978e-06,  4.1100e-07, -1.9264e-06, -2.5374e-06, -7.3253e-07,\n",
            "          1.2992e-06,  4.7126e-06, -6.5545e-05, -4.6729e-07,  1.0895e-05,\n",
            "         -5.8171e-05, -3.2715e-07,  1.0022e-05,  1.7907e-01, -3.1629e-06,\n",
            "          1.0573e-06, -5.2005e-07,  1.3917e-07, -7.4249e-07,  1.0461e-01,\n",
            "         -2.6820e-07, -4.2557e-05, -1.1367e-06,  3.4280e-05,  3.5304e-06,\n",
            "         -2.3601e-13,  6.8219e-06, -0.0000e+00,  4.8689e-07,  6.1246e-07,\n",
            "         -4.5088e-07,  3.1500e-06, -2.7267e-05,  1.2000e-06,  3.3764e-07,\n",
            "         -6.1600e-05,  2.6492e-03,  2.7591e-03,  9.9446e-01, -7.1690e-07,\n",
            "         -6.4259e-03, -2.0233e-03,  5.2486e+00, -9.2201e-07, -4.7719e-02,\n",
            "         -2.5727e-03, -5.3390e-03, -9.8471e-03,  9.6135e-01,  1.5058e-01,\n",
            "          1.6529e-02,  5.6046e-03,  1.5724e-01,  1.3163e-01, -9.9204e-03,\n",
            "          6.1787e+00, -7.4859e-07,  6.8935e-06,  2.7543e-03, -1.5449e+00,\n",
            "         -1.1724e+00, -4.5503e-01, -4.5758e-01, -2.4797e-01, -1.7129e-01,\n",
            "          5.1228e-01, -7.2254e-02,  7.4052e-01, -8.1284e-01, -1.0127e-01,\n",
            "          1.2474e-01,  2.5815e-04, -1.1077e+00,  3.8227e-02, -4.5139e-01,\n",
            "         -4.4965e-01, -2.3637e-01, -2.2924e-01]], grad_fn=<ExpandBackward>), tensor(0.4868, grad_fn=<ExpandBackward>))\n"
          ],
          "name": "stdout"
        }
      ]
    },
    {
      "cell_type": "code",
      "metadata": {
        "id": "VvO4CWYUZ4-2",
        "colab": {
          "base_uri": "https://localhost:8080/"
        },
        "outputId": "b5baeb28-32bd-40e7-cf97-243200a6ed1e"
      },
      "source": [
        "y_pred, y_weights, y_locs, y_scale = classifier(X_test_torch.to(device))\n",
        "print(y_pred)"
      ],
      "execution_count": null,
      "outputs": [
        {
          "output_type": "stream",
          "text": [
            "<pyro.poutine.trace_struct.Trace object at 0x7f2d9167cc50>\n",
            "tensor([0, 1, 1,  ..., 1, 0, 1])\n"
          ],
          "name": "stdout"
        }
      ]
    },
    {
      "cell_type": "markdown",
      "metadata": {
        "id": "lWnYSKNL5uKI"
      },
      "source": [
        "**Prediction results**"
      ]
    },
    {
      "cell_type": "markdown",
      "metadata": {
        "id": "eohfEBPc5XxV"
      },
      "source": [
        "Detach the prediction results from GPU and make a general evalution on the accuracy by comparing the labels between the testset and prediction results. "
      ]
    },
    {
      "cell_type": "markdown",
      "metadata": {
        "id": "q5LiX2Zs59um"
      },
      "source": [
        "The accuracy shows an accuracy of 0.77 which is much higher than the baseline result 0.18 got from sklearn."
      ]
    },
    {
      "cell_type": "code",
      "metadata": {
        "id": "3j2j2nygZ4-2",
        "colab": {
          "base_uri": "https://localhost:8080/"
        },
        "outputId": "73e3b064-b485-480a-9685-45b2dfdf7e43"
      },
      "source": [
        "y_pred = y_pred.detach().cpu().numpy() \n",
        "# evaluate prediction accuracy\n",
        "print(\"Accuracy:\", 1.0*np.sum(y_pred == y_test) / len(y_test))"
      ],
      "execution_count": null,
      "outputs": [
        {
          "output_type": "stream",
          "text": [
            "Accuracy: 0.7723078205372452\n"
          ],
          "name": "stdout"
        }
      ]
    },
    {
      "cell_type": "markdown",
      "metadata": {
        "id": "Y-gOf8876lFT"
      },
      "source": [
        "By taking a closer look at the prediction results for each cluster, the model implemented in Pyro also shows a better performance than the sklearn baseline model in general. For the baseline model, the prediction is quite biased with the high performance on the detection of the DoS attack (encoded as \"1\") which has the most samples in the dataset, while fails to label all the other attacks or benign traffics. But for the model in Pyro, the benign traffics and two attacks can be pinpointed with a fair performance.  "
      ]
    },
    {
      "cell_type": "code",
      "metadata": {
        "id": "gzgzbQE8Z4-2",
        "colab": {
          "base_uri": "https://localhost:8080/"
        },
        "outputId": "4c1e5cdf-6c2f-45f8-f70a-bd6ce590cd4a"
      },
      "source": [
        "from sklearn.metrics import classification_report\n",
        "print(classification_report(y_test, y_pred))"
      ],
      "execution_count": null,
      "outputs": [
        {
          "output_type": "stream",
          "text": [
            "              precision    recall  f1-score   support\n",
            "\n",
            "           0       0.32      0.11      0.16     33238\n",
            "           1       0.81      0.95      0.87    132908\n",
            "           2       0.00      0.00      0.00      1424\n",
            "           3       0.61      0.33      0.43       384\n",
            "           4       0.00      0.00      0.00        14\n",
            "\n",
            "    accuracy                           0.77    167968\n",
            "   macro avg       0.35      0.28      0.29    167968\n",
            "weighted avg       0.70      0.77      0.72    167968\n",
            "\n"
          ],
          "name": "stdout"
        }
      ]
    },
    {
      "cell_type": "markdown",
      "metadata": {
        "id": "jYKGJULd5y-a"
      },
      "source": [
        "**Clustering parameters**"
      ]
    },
    {
      "cell_type": "markdown",
      "metadata": {
        "id": "j7AkWoEF8om9"
      },
      "source": [
        "Below presents the parameters fitted for the GMM model trained in Pyro. The weights show that most of the data gathered in the component 1 and some clustered to the component 0, and the other three compnents have the similar weights. "
      ]
    },
    {
      "cell_type": "code",
      "metadata": {
        "colab": {
          "base_uri": "https://localhost:8080/"
        },
        "id": "2PWj4YigFaya",
        "outputId": "79f02aea-9df9-4a49-eb6c-7441eb0df614"
      },
      "source": [
        "y_weights.cpu().detach().numpy()"
      ],
      "execution_count": null,
      "outputs": [
        {
          "output_type": "execute_result",
          "data": {
            "text/plain": [
              "array([0.06614001, 0.9279296 , 0.0019328 , 0.00199857, 0.00199906],\n",
              "      dtype=float32)"
            ]
          },
          "metadata": {
            "tags": []
          },
          "execution_count": 43
        }
      ]
    },
    {
      "cell_type": "code",
      "metadata": {
        "id": "eiZv52ldKYs9",
        "colab": {
          "base_uri": "https://localhost:8080/",
          "height": 319
        },
        "outputId": "3bdeed9b-4a15-4e7c-c461-4da3b917c684"
      },
      "source": [
        "sns.distplot(y_weights.cpu().detach().numpy(), label=\"prediction\")\n",
        "plt.legend()\n",
        "plt.show()"
      ],
      "execution_count": null,
      "outputs": [
        {
          "output_type": "stream",
          "text": [
            "/usr/local/lib/python3.7/dist-packages/seaborn/distributions.py:2557: FutureWarning: `distplot` is a deprecated function and will be removed in a future version. Please adapt your code to use either `displot` (a figure-level function with similar flexibility) or `histplot` (an axes-level function for histograms).\n",
            "  warnings.warn(msg, FutureWarning)\n"
          ],
          "name": "stderr"
        },
        {
          "output_type": "display_data",
          "data": {
            "image/png": "[encoded data removed]",
            "text/plain": [
              "<Figure size 432x288 with 1 Axes>"
            ]
          },
          "metadata": {
            "tags": [],
            "needs_background": "light"
          }
        }
      ]
    },
    {
      "cell_type": "markdown",
      "metadata": {
        "id": "LL3WQWeZ9XzL"
      },
      "source": [
        "The plot below is the density estimate and histogram of the mean values for the Gaussian distributions modeled for the samples for each component. "
      ]
    },
    {
      "cell_type": "code",
      "metadata": {
        "colab": {
          "base_uri": "https://localhost:8080/",
          "height": 319
        },
        "id": "zDefay82rOBa",
        "outputId": "b54ffb75-3c37-49f4-e9e6-f6baa1855701"
      },
      "source": [
        "sns.distplot(y_locs.cpu().detach().numpy(), label=\"prediction\")\n",
        "plt.legend()\n",
        "plt.show()"
      ],
      "execution_count": null,
      "outputs": [
        {
          "output_type": "stream",
          "text": [
            "/usr/local/lib/python3.7/dist-packages/seaborn/distributions.py:2557: FutureWarning: `distplot` is a deprecated function and will be removed in a future version. Please adapt your code to use either `displot` (a figure-level function with similar flexibility) or `histplot` (an axes-level function for histograms).\n",
            "  warnings.warn(msg, FutureWarning)\n"
          ],
          "name": "stderr"
        },
        {
          "output_type": "display_data",
          "data": {
            "image/png": "[encoded data removed]",
            "text/plain": [
              "<Figure size 432x288 with 1 Axes>"
            ]
          },
          "metadata": {
            "tags": [],
            "needs_background": "light"
          }
        }
      ]
    },
    {
      "cell_type": "markdown",
      "metadata": {
        "id": "934M6FN5-cJ1"
      },
      "source": [
        "To clearly compare the mixture model, the density estimate and histogram is drawn for both the real case (blue) and predicted case (red). In general, they show a similar pattern with two peaks. "
      ]
    },
    {
      "cell_type": "code",
      "metadata": {
        "colab": {
          "base_uri": "https://localhost:8080/",
          "height": 353
        },
        "id": "cjEnn0pKsADU",
        "outputId": "3ebafd7a-9399-45ca-eb2f-8be8fa452578"
      },
      "source": [
        "sns.distplot(y_pred, label=\"prediction\")\n",
        "sns.distplot(y_test, label=\"true\")\n",
        "plt.legend()\n",
        "plt.show()"
      ],
      "execution_count": null,
      "outputs": [
        {
          "output_type": "stream",
          "text": [
            "/usr/local/lib/python3.7/dist-packages/seaborn/distributions.py:2557: FutureWarning: `distplot` is a deprecated function and will be removed in a future version. Please adapt your code to use either `displot` (a figure-level function with similar flexibility) or `histplot` (an axes-level function for histograms).\n",
            "  warnings.warn(msg, FutureWarning)\n",
            "/usr/local/lib/python3.7/dist-packages/seaborn/distributions.py:2557: FutureWarning: `distplot` is a deprecated function and will be removed in a future version. Please adapt your code to use either `displot` (a figure-level function with similar flexibility) or `histplot` (an axes-level function for histograms).\n",
            "  warnings.warn(msg, FutureWarning)\n"
          ],
          "name": "stderr"
        },
        {
          "output_type": "display_data",
          "data": {
            "image/png": "[encoded data removed]",
            "text/plain": [
              "<Figure size 432x288 with 1 Axes>"
            ]
          },
          "metadata": {
            "tags": [],
            "needs_background": "light"
          }
        }
      ]
    }
  ]
}