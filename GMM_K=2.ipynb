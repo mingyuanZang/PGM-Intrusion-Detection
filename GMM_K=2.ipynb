{
  "nbformat": 4,
  "nbformat_minor": 0,
  "metadata": {
    "accelerator": "GPU",
    "colab": {
      "name": "(final)SVI_KDDCUP99_Classification_model_GMM_Pyro_GPU-K=2.ipynb",
      "provenance": [],
      "collapsed_sections": []
    },
    "kernelspec": {
      "display_name": "Python 3",
      "language": "python",
      "name": "python3"
    },
    "language_info": {
      "codemirror_mode": {
        "name": "ipython",
        "version": 3
      },
      "file_extension": ".py",
      "mimetype": "text/x-python",
      "name": "python",
      "nbconvert_exporter": "python",
      "pygments_lexer": "ipython3",
      "version": "3.7.3"
    }
  },
  "cells": [
    {
      "cell_type": "markdown",
      "metadata": {
        "id": "C60ZAm4-Yo4M"
      },
      "source": [
        "# Project for 42186 Model-based Machine Learning F21  \n",
        "\n",
        "## PGM in Intrusion Detection System\n",
        "\n",
        "### Notebook - GMM (K=2)\n",
        "\n",
        "The KDDCUP99 10 percent dataset from the UCI repository. [1] It is a benchmark dataset for the evaluation of network Intrusion Detection System including the records of normal and malicious traffics. It contains 494021 samples in total with 42 dimensions. \n",
        "\n",
        "The target for this project is to consider intrusion detection as a classification problem without time as parameter over the dataset. This notebook will study how to do a coarse-grained detection to classify the dataset samples into normal/abnormal by running GMM as an unsupervised learning model. \n",
        "\n",
        "[1] http://kdd.ics.uci.edu/databases/kddcup99/"
      ]
    },
    {
      "cell_type": "markdown",
      "metadata": {
        "id": "2f9E8qzwlEwv"
      },
      "source": [
        "# **Preparation**"
      ]
    },
    {
      "cell_type": "markdown",
      "metadata": {
        "id": "zCHBydp2Yo4N"
      },
      "source": [
        "Import required libraries Pyro:"
      ]
    },
    {
      "cell_type": "code",
      "metadata": {
        "colab": {
          "base_uri": "https://localhost:8080/"
        },
        "id": "Ei1QbnmhYyXM",
        "outputId": "f8e784d9-d4e4-4b25-a499-1397f0f793e1"
      },
      "source": [
        "# Install Pyro, if necessary\n",
        "!pip install pyro-ppl"
      ],
      "execution_count": null,
      "outputs": [
        {
          "output_type": "stream",
          "text": [
            "Collecting pyro-ppl\n",
            "\u001b[?25l  Downloading https://files.pythonhosted.org/packages/aa/7a/fbab572fd385154a0c07b0fa138683aa52e14603bb83d37b198e5f9269b1/pyro_ppl-1.6.0-py3-none-any.whl (634kB)\n",
            "\r\u001b[K     |▌                               | 10kB 19.5MB/s eta 0:00:01\r\u001b[K     |█                               | 20kB 26.0MB/s eta 0:00:01\r\u001b[K     |█▌                              | 30kB 31.2MB/s eta 0:00:01\r\u001b[K     |██                              | 40kB 31.5MB/s eta 0:00:01\r\u001b[K     |██▋                             | 51kB 32.8MB/s eta 0:00:01\r\u001b[K     |███                             | 61kB 33.9MB/s eta 0:00:01\r\u001b[K     |███▋                            | 71kB 27.3MB/s eta 0:00:01\r\u001b[K     |████▏                           | 81kB 28.1MB/s eta 0:00:01\r\u001b[K     |████▋                           | 92kB 29.6MB/s eta 0:00:01\r\u001b[K     |█████▏                          | 102kB 30.0MB/s eta 0:00:01\r\u001b[K     |█████▊                          | 112kB 30.0MB/s eta 0:00:01\r\u001b[K     |██████▏                         | 122kB 30.0MB/s eta 0:00:01\r\u001b[K     |██████▊                         | 133kB 30.0MB/s eta 0:00:01\r\u001b[K     |███████▎                        | 143kB 30.0MB/s eta 0:00:01\r\u001b[K     |███████▊                        | 153kB 30.0MB/s eta 0:00:01\r\u001b[K     |████████▎                       | 163kB 30.0MB/s eta 0:00:01\r\u001b[K     |████████▉                       | 174kB 30.0MB/s eta 0:00:01\r\u001b[K     |█████████▎                      | 184kB 30.0MB/s eta 0:00:01\r\u001b[K     |█████████▉                      | 194kB 30.0MB/s eta 0:00:01\r\u001b[K     |██████████▎                     | 204kB 30.0MB/s eta 0:00:01\r\u001b[K     |██████████▉                     | 215kB 30.0MB/s eta 0:00:01\r\u001b[K     |███████████▍                    | 225kB 30.0MB/s eta 0:00:01\r\u001b[K     |███████████▉                    | 235kB 30.0MB/s eta 0:00:01\r\u001b[K     |████████████▍                   | 245kB 30.0MB/s eta 0:00:01\r\u001b[K     |█████████████                   | 256kB 30.0MB/s eta 0:00:01\r\u001b[K     |█████████████▍                  | 266kB 30.0MB/s eta 0:00:01\r\u001b[K     |██████████████                  | 276kB 30.0MB/s eta 0:00:01\r\u001b[K     |██████████████▌                 | 286kB 30.0MB/s eta 0:00:01\r\u001b[K     |███████████████                 | 296kB 30.0MB/s eta 0:00:01\r\u001b[K     |███████████████▌                | 307kB 30.0MB/s eta 0:00:01\r\u001b[K     |████████████████                | 317kB 30.0MB/s eta 0:00:01\r\u001b[K     |████████████████▌               | 327kB 30.0MB/s eta 0:00:01\r\u001b[K     |█████████████████               | 337kB 30.0MB/s eta 0:00:01\r\u001b[K     |█████████████████▋              | 348kB 30.0MB/s eta 0:00:01\r\u001b[K     |██████████████████              | 358kB 30.0MB/s eta 0:00:01\r\u001b[K     |██████████████████▋             | 368kB 30.0MB/s eta 0:00:01\r\u001b[K     |███████████████████             | 378kB 30.0MB/s eta 0:00:01\r\u001b[K     |███████████████████▋            | 389kB 30.0MB/s eta 0:00:01\r\u001b[K     |████████████████████▏           | 399kB 30.0MB/s eta 0:00:01\r\u001b[K     |████████████████████▋           | 409kB 30.0MB/s eta 0:00:01\r\u001b[K     |█████████████████████▏          | 419kB 30.0MB/s eta 0:00:01\r\u001b[K     |█████████████████████▊          | 430kB 30.0MB/s eta 0:00:01\r\u001b[K     |██████████████████████▏         | 440kB 30.0MB/s eta 0:00:01\r\u001b[K     |██████████████████████▊         | 450kB 30.0MB/s eta 0:00:01\r\u001b[K     |███████████████████████▎        | 460kB 30.0MB/s eta 0:00:01\r\u001b[K     |███████████████████████▊        | 471kB 30.0MB/s eta 0:00:01\r\u001b[K     |████████████████████████▎       | 481kB 30.0MB/s eta 0:00:01\r\u001b[K     |████████████████████████▉       | 491kB 30.0MB/s eta 0:00:01\r\u001b[K     |█████████████████████████▎      | 501kB 30.0MB/s eta 0:00:01\r\u001b[K     |█████████████████████████▉      | 512kB 30.0MB/s eta 0:00:01\r\u001b[K     |██████████████████████████▍     | 522kB 30.0MB/s eta 0:00:01\r\u001b[K     |██████████████████████████▉     | 532kB 30.0MB/s eta 0:00:01\r\u001b[K     |███████████████████████████▍    | 542kB 30.0MB/s eta 0:00:01\r\u001b[K     |███████████████████████████▉    | 552kB 30.0MB/s eta 0:00:01\r\u001b[K     |████████████████████████████▍   | 563kB 30.0MB/s eta 0:00:01\r\u001b[K     |█████████████████████████████   | 573kB 30.0MB/s eta 0:00:01\r\u001b[K     |█████████████████████████████▍  | 583kB 30.0MB/s eta 0:00:01\r\u001b[K     |██████████████████████████████  | 593kB 30.0MB/s eta 0:00:01\r\u001b[K     |██████████████████████████████▌ | 604kB 30.0MB/s eta 0:00:01\r\u001b[K     |███████████████████████████████ | 614kB 30.0MB/s eta 0:00:01\r\u001b[K     |███████████████████████████████▌| 624kB 30.0MB/s eta 0:00:01\r\u001b[K     |████████████████████████████████| 634kB 30.0MB/s \n",
            "\u001b[?25hRequirement already satisfied: numpy>=1.7 in /usr/local/lib/python3.7/dist-packages (from pyro-ppl) (1.19.5)\n",
            "Collecting pyro-api>=0.1.1\n",
            "  Downloading https://files.pythonhosted.org/packages/fc/81/957ae78e6398460a7230b0eb9b8f1cb954c5e913e868e48d89324c68cec7/pyro_api-0.1.2-py3-none-any.whl\n",
            "Requirement already satisfied: torch>=1.8.0 in /usr/local/lib/python3.7/dist-packages (from pyro-ppl) (1.8.1+cu101)\n",
            "Requirement already satisfied: tqdm>=4.36 in /usr/local/lib/python3.7/dist-packages (from pyro-ppl) (4.41.1)\n",
            "Requirement already satisfied: opt-einsum>=2.3.2 in /usr/local/lib/python3.7/dist-packages (from pyro-ppl) (3.3.0)\n",
            "Requirement already satisfied: typing-extensions in /usr/local/lib/python3.7/dist-packages (from torch>=1.8.0->pyro-ppl) (3.7.4.3)\n",
            "Installing collected packages: pyro-api, pyro-ppl\n",
            "Successfully installed pyro-api-0.1.2 pyro-ppl-1.6.0\n"
          ],
          "name": "stdout"
        }
      ]
    },
    {
      "cell_type": "markdown",
      "metadata": {
        "id": "_2VmjxP1pvTN"
      },
      "source": [
        "Mount the Google Drive to read the dataset later"
      ]
    },
    {
      "cell_type": "code",
      "metadata": {
        "colab": {
          "base_uri": "https://localhost:8080/"
        },
        "id": "c88cbEAgeCa2",
        "outputId": "93672e3d-4b60-4be5-9670-7aec8e1c1b39"
      },
      "source": [
        "from google.colab import drive\n",
        "drive.mount('/content/gdrive')"
      ],
      "execution_count": null,
      "outputs": [
        {
          "output_type": "stream",
          "text": [
            "Mounted at /content/gdrive\n"
          ],
          "name": "stdout"
        }
      ]
    },
    {
      "cell_type": "markdown",
      "metadata": {
        "id": "bOBK_JOop3My"
      },
      "source": [
        "Import the necessary packages"
      ]
    },
    {
      "cell_type": "code",
      "metadata": {
        "id": "iGyKT_grYo4O"
      },
      "source": [
        "import numpy as np\n",
        "import pandas as pd\n",
        "from matplotlib import pyplot as plt\n",
        "from sklearn import linear_model\n",
        "import seaborn as sns\n",
        "import torch\n",
        "import torch.autograd as autograd\n",
        "\n",
        "import pyro\n",
        "import pyro.distributions as dist\n",
        "from pyro.contrib.autoguide import AutoDiagonalNormal, AutoMultivariateNormal, AutoGuideList\n",
        "from pyro.infer import MCMC, NUTS, HMC, SVI, Trace_ELBO\n",
        "from pyro.optim import Adam, ClippedAdam\n",
        "from pyro.infer import SVI, TraceEnum_ELBO, JitTrace_ELBO, config_enumerate, infer_discrete\n",
        "from pyro.infer.autoguide import AutoDelta\n",
        "from pyro import poutine\n",
        "\n",
        "import torch\n",
        "import torch.nn as nn\n",
        "\n",
        "# fix random generator seed (for reproducibility of results)\n",
        "np.random.seed(42)\n",
        "\n",
        "# matplotlib style options\n",
        "plt.style.use('ggplot')\n",
        "%matplotlib inline\n",
        "plt.rcParams['figure.figsize'] = (12, 8)"
      ],
      "execution_count": null,
      "outputs": []
    },
    {
      "cell_type": "markdown",
      "metadata": {
        "id": "3iv13RvcvfEE"
      },
      "source": [
        "GPU provided by Colab is configured in this case to speed up the training process"
      ]
    },
    {
      "cell_type": "code",
      "metadata": {
        "colab": {
          "base_uri": "https://localhost:8080/"
        },
        "id": "Ob4xlW5keApO",
        "outputId": "36534ddb-ed3b-41a6-c041-b8487f85faa0"
      },
      "source": [
        "USE_CUDA = torch.cuda.is_available()\n",
        "if USE_CUDA:  \n",
        "  device = torch.device('cuda:0')\n",
        "\n",
        "print(USE_CUDA)\n",
        "print(device)\n"
      ],
      "execution_count": null,
      "outputs": [
        {
          "output_type": "stream",
          "text": [
            "True\n",
            "cuda:0\n"
          ],
          "name": "stdout"
        }
      ]
    },
    {
      "cell_type": "code",
      "metadata": {
        "id": "-5IqH16KhkxI"
      },
      "source": [
        "torch.set_default_tensor_type('torch.cuda.FloatTensor')"
      ],
      "execution_count": null,
      "outputs": []
    },
    {
      "cell_type": "code",
      "metadata": {
        "colab": {
          "base_uri": "https://localhost:8080/"
        },
        "id": "3TAFyelSeneV",
        "outputId": "13747d08-4e89-4d61-93ed-1f853a0dbb55"
      },
      "source": [
        "# monitor the GPU usage\n",
        "from urllib.request import urlopen\n",
        "exec(urlopen(\"http://colab-monitor.smankusors.com/track.py\").read())\n",
        "_colabMonitor = ColabMonitor().start()"
      ],
      "execution_count": null,
      "outputs": [
        {
          "output_type": "stream",
          "text": [
            "Now live at : http://colab-monitor.smankusors.com/60ad260c4fffc\n"
          ],
          "name": "stdout"
        }
      ]
    },
    {
      "cell_type": "markdown",
      "metadata": {
        "id": "-9-Ho8PvwV8o"
      },
      "source": [
        "**Load the dataset from Drive**"
      ]
    },
    {
      "cell_type": "markdown",
      "metadata": {
        "id": "T9AqN3J7lpe4"
      },
      "source": [
        "Based on the printed statistics and information, the dataset contains 494021 samples in total with 42 dimensions, where the first 41 of them are the features of network traffic and the last dimension is the label to indicate whether the traffic is normal or not. The 41 features are collected by directly extracting from the network traffic flow like the src_bytes, or by computing with a two-second time window like the serror_rate. For these 41 features, they are in the form of continuous, discrete or symbolic with the ranges varying widely. "
      ]
    },
    {
      "cell_type": "code",
      "metadata": {
        "colab": {
          "base_uri": "https://localhost:8080/",
          "height": 224
        },
        "id": "SElGiw97uk_G",
        "outputId": "831fa102-c39b-4b37-dcc0-88dc61f25156"
      },
      "source": [
        "# load csv\n",
        "data = pd.read_csv(\"/content/gdrive/My Drive/KDD/kddcup.data_10_percent_corrected\", header=None,names=['duration', 'protocol_type', 'service', 'flag', 'src_bytes', 'dst_bytes', 'land', 'wrong_fragment', 'urgent', 'hot', 'num_failed_logins', 'logged_in', 'num_compromised', 'root_shell', 'su_attempted', 'num_root', 'num_file_creations', 'num_shells', 'num_access_files', 'num_outbound_cmds', 'is_host_login', 'is_guest_login', 'count', 'srv_count', 'serror_rate', 'srv_serror_rate', 'rerror_rate', 'srv_rerror_rate', 'same_srv_rate', 'diff_srv_rate', 'srv_diff_host_rate', 'dst_host_count', 'dst_host_srv_count', 'dst_host_same_srv_rate', 'dst_host_diff_srv_rate', 'dst_host_same_src_port_rate', 'dst_host_srv_diff_host_rate', 'dst_host_serror_rate', 'dst_host_srv_serror_rate', 'dst_host_rerror_rate', 'dst_host_srv_rerror_rate', 'type'])\n",
        "data.head()"
      ],
      "execution_count": null,
      "outputs": [
        {
          "output_type": "execute_result",
          "data": {
            "text/html": [
              "<div>\n",
              "<style scoped>\n",
              "    .dataframe tbody tr th:only-of-type {\n",
              "        vertical-align: middle;\n",
              "    }\n",
              "\n",
              "    .dataframe tbody tr th {\n",
              "        vertical-align: top;\n",
              "    }\n",
              "\n",
              "    .dataframe thead th {\n",
              "        text-align: right;\n",
              "    }\n",
              "</style>\n",
              "<table border=\"1\" class=\"dataframe\">\n",
              "  <thead>\n",
              "    <tr style=\"text-align: right;\">\n",
              "      <th></th>\n",
              "      <th>duration</th>\n",
              "      <th>protocol_type</th>\n",
              "      <th>service</th>\n",
              "      <th>flag</th>\n",
              "      <th>src_bytes</th>\n",
              "      <th>dst_bytes</th>\n",
              "      <th>land</th>\n",
              "      <th>wrong_fragment</th>\n",
              "      <th>urgent</th>\n",
              "      <th>hot</th>\n",
              "      <th>num_failed_logins</th>\n",
              "      <th>logged_in</th>\n",
              "      <th>num_compromised</th>\n",
              "      <th>root_shell</th>\n",
              "      <th>su_attempted</th>\n",
              "      <th>num_root</th>\n",
              "      <th>num_file_creations</th>\n",
              "      <th>num_shells</th>\n",
              "      <th>num_access_files</th>\n",
              "      <th>num_outbound_cmds</th>\n",
              "      <th>is_host_login</th>\n",
              "      <th>is_guest_login</th>\n",
              "      <th>count</th>\n",
              "      <th>srv_count</th>\n",
              "      <th>serror_rate</th>\n",
              "      <th>srv_serror_rate</th>\n",
              "      <th>rerror_rate</th>\n",
              "      <th>srv_rerror_rate</th>\n",
              "      <th>same_srv_rate</th>\n",
              "      <th>diff_srv_rate</th>\n",
              "      <th>srv_diff_host_rate</th>\n",
              "      <th>dst_host_count</th>\n",
              "      <th>dst_host_srv_count</th>\n",
              "      <th>dst_host_same_srv_rate</th>\n",
              "      <th>dst_host_diff_srv_rate</th>\n",
              "      <th>dst_host_same_src_port_rate</th>\n",
              "      <th>dst_host_srv_diff_host_rate</th>\n",
              "      <th>dst_host_serror_rate</th>\n",
              "      <th>dst_host_srv_serror_rate</th>\n",
              "      <th>dst_host_rerror_rate</th>\n",
              "      <th>dst_host_srv_rerror_rate</th>\n",
              "      <th>type</th>\n",
              "    </tr>\n",
              "  </thead>\n",
              "  <tbody>\n",
              "    <tr>\n",
              "      <th>0</th>\n",
              "      <td>0</td>\n",
              "      <td>tcp</td>\n",
              "      <td>http</td>\n",
              "      <td>SF</td>\n",
              "      <td>181</td>\n",
              "      <td>5450</td>\n",
              "      <td>0</td>\n",
              "      <td>0</td>\n",
              "      <td>0</td>\n",
              "      <td>0</td>\n",
              "      <td>0</td>\n",
              "      <td>1</td>\n",
              "      <td>0</td>\n",
              "      <td>0</td>\n",
              "      <td>0</td>\n",
              "      <td>0</td>\n",
              "      <td>0</td>\n",
              "      <td>0</td>\n",
              "      <td>0</td>\n",
              "      <td>0</td>\n",
              "      <td>0</td>\n",
              "      <td>0</td>\n",
              "      <td>8</td>\n",
              "      <td>8</td>\n",
              "      <td>0.0</td>\n",
              "      <td>0.0</td>\n",
              "      <td>0.0</td>\n",
              "      <td>0.0</td>\n",
              "      <td>1.0</td>\n",
              "      <td>0.0</td>\n",
              "      <td>0.0</td>\n",
              "      <td>9</td>\n",
              "      <td>9</td>\n",
              "      <td>1.0</td>\n",
              "      <td>0.0</td>\n",
              "      <td>0.11</td>\n",
              "      <td>0.0</td>\n",
              "      <td>0.0</td>\n",
              "      <td>0.0</td>\n",
              "      <td>0.0</td>\n",
              "      <td>0.0</td>\n",
              "      <td>normal.</td>\n",
              "    </tr>\n",
              "    <tr>\n",
              "      <th>1</th>\n",
              "      <td>0</td>\n",
              "      <td>tcp</td>\n",
              "      <td>http</td>\n",
              "      <td>SF</td>\n",
              "      <td>239</td>\n",
              "      <td>486</td>\n",
              "      <td>0</td>\n",
              "      <td>0</td>\n",
              "      <td>0</td>\n",
              "      <td>0</td>\n",
              "      <td>0</td>\n",
              "      <td>1</td>\n",
              "      <td>0</td>\n",
              "      <td>0</td>\n",
              "      <td>0</td>\n",
              "      <td>0</td>\n",
              "      <td>0</td>\n",
              "      <td>0</td>\n",
              "      <td>0</td>\n",
              "      <td>0</td>\n",
              "      <td>0</td>\n",
              "      <td>0</td>\n",
              "      <td>8</td>\n",
              "      <td>8</td>\n",
              "      <td>0.0</td>\n",
              "      <td>0.0</td>\n",
              "      <td>0.0</td>\n",
              "      <td>0.0</td>\n",
              "      <td>1.0</td>\n",
              "      <td>0.0</td>\n",
              "      <td>0.0</td>\n",
              "      <td>19</td>\n",
              "      <td>19</td>\n",
              "      <td>1.0</td>\n",
              "      <td>0.0</td>\n",
              "      <td>0.05</td>\n",
              "      <td>0.0</td>\n",
              "      <td>0.0</td>\n",
              "      <td>0.0</td>\n",
              "      <td>0.0</td>\n",
              "      <td>0.0</td>\n",
              "      <td>normal.</td>\n",
              "    </tr>\n",
              "    <tr>\n",
              "      <th>2</th>\n",
              "      <td>0</td>\n",
              "      <td>tcp</td>\n",
              "      <td>http</td>\n",
              "      <td>SF</td>\n",
              "      <td>235</td>\n",
              "      <td>1337</td>\n",
              "      <td>0</td>\n",
              "      <td>0</td>\n",
              "      <td>0</td>\n",
              "      <td>0</td>\n",
              "      <td>0</td>\n",
              "      <td>1</td>\n",
              "      <td>0</td>\n",
              "      <td>0</td>\n",
              "      <td>0</td>\n",
              "      <td>0</td>\n",
              "      <td>0</td>\n",
              "      <td>0</td>\n",
              "      <td>0</td>\n",
              "      <td>0</td>\n",
              "      <td>0</td>\n",
              "      <td>0</td>\n",
              "      <td>8</td>\n",
              "      <td>8</td>\n",
              "      <td>0.0</td>\n",
              "      <td>0.0</td>\n",
              "      <td>0.0</td>\n",
              "      <td>0.0</td>\n",
              "      <td>1.0</td>\n",
              "      <td>0.0</td>\n",
              "      <td>0.0</td>\n",
              "      <td>29</td>\n",
              "      <td>29</td>\n",
              "      <td>1.0</td>\n",
              "      <td>0.0</td>\n",
              "      <td>0.03</td>\n",
              "      <td>0.0</td>\n",
              "      <td>0.0</td>\n",
              "      <td>0.0</td>\n",
              "      <td>0.0</td>\n",
              "      <td>0.0</td>\n",
              "      <td>normal.</td>\n",
              "    </tr>\n",
              "    <tr>\n",
              "      <th>3</th>\n",
              "      <td>0</td>\n",
              "      <td>tcp</td>\n",
              "      <td>http</td>\n",
              "      <td>SF</td>\n",
              "      <td>219</td>\n",
              "      <td>1337</td>\n",
              "      <td>0</td>\n",
              "      <td>0</td>\n",
              "      <td>0</td>\n",
              "      <td>0</td>\n",
              "      <td>0</td>\n",
              "      <td>1</td>\n",
              "      <td>0</td>\n",
              "      <td>0</td>\n",
              "      <td>0</td>\n",
              "      <td>0</td>\n",
              "      <td>0</td>\n",
              "      <td>0</td>\n",
              "      <td>0</td>\n",
              "      <td>0</td>\n",
              "      <td>0</td>\n",
              "      <td>0</td>\n",
              "      <td>6</td>\n",
              "      <td>6</td>\n",
              "      <td>0.0</td>\n",
              "      <td>0.0</td>\n",
              "      <td>0.0</td>\n",
              "      <td>0.0</td>\n",
              "      <td>1.0</td>\n",
              "      <td>0.0</td>\n",
              "      <td>0.0</td>\n",
              "      <td>39</td>\n",
              "      <td>39</td>\n",
              "      <td>1.0</td>\n",
              "      <td>0.0</td>\n",
              "      <td>0.03</td>\n",
              "      <td>0.0</td>\n",
              "      <td>0.0</td>\n",
              "      <td>0.0</td>\n",
              "      <td>0.0</td>\n",
              "      <td>0.0</td>\n",
              "      <td>normal.</td>\n",
              "    </tr>\n",
              "    <tr>\n",
              "      <th>4</th>\n",
              "      <td>0</td>\n",
              "      <td>tcp</td>\n",
              "      <td>http</td>\n",
              "      <td>SF</td>\n",
              "      <td>217</td>\n",
              "      <td>2032</td>\n",
              "      <td>0</td>\n",
              "      <td>0</td>\n",
              "      <td>0</td>\n",
              "      <td>0</td>\n",
              "      <td>0</td>\n",
              "      <td>1</td>\n",
              "      <td>0</td>\n",
              "      <td>0</td>\n",
              "      <td>0</td>\n",
              "      <td>0</td>\n",
              "      <td>0</td>\n",
              "      <td>0</td>\n",
              "      <td>0</td>\n",
              "      <td>0</td>\n",
              "      <td>0</td>\n",
              "      <td>0</td>\n",
              "      <td>6</td>\n",
              "      <td>6</td>\n",
              "      <td>0.0</td>\n",
              "      <td>0.0</td>\n",
              "      <td>0.0</td>\n",
              "      <td>0.0</td>\n",
              "      <td>1.0</td>\n",
              "      <td>0.0</td>\n",
              "      <td>0.0</td>\n",
              "      <td>49</td>\n",
              "      <td>49</td>\n",
              "      <td>1.0</td>\n",
              "      <td>0.0</td>\n",
              "      <td>0.02</td>\n",
              "      <td>0.0</td>\n",
              "      <td>0.0</td>\n",
              "      <td>0.0</td>\n",
              "      <td>0.0</td>\n",
              "      <td>0.0</td>\n",
              "      <td>normal.</td>\n",
              "    </tr>\n",
              "  </tbody>\n",
              "</table>\n",
              "</div>"
            ],
            "text/plain": [
              "   duration protocol_type  ... dst_host_srv_rerror_rate     type\n",
              "0         0           tcp  ...                      0.0  normal.\n",
              "1         0           tcp  ...                      0.0  normal.\n",
              "2         0           tcp  ...                      0.0  normal.\n",
              "3         0           tcp  ...                      0.0  normal.\n",
              "4         0           tcp  ...                      0.0  normal.\n",
              "\n",
              "[5 rows x 42 columns]"
            ]
          },
          "metadata": {
            "tags": []
          },
          "execution_count": 7
        }
      ]
    },
    {
      "cell_type": "code",
      "metadata": {
        "colab": {
          "base_uri": "https://localhost:8080/",
          "height": 317
        },
        "id": "BYrD5SHDOU29",
        "outputId": "fdd4b70b-2c76-48a9-ec76-de64dc7c92d5"
      },
      "source": [
        "data.describe()"
      ],
      "execution_count": null,
      "outputs": [
        {
          "output_type": "execute_result",
          "data": {
            "text/html": [
              "<div>\n",
              "<style scoped>\n",
              "    .dataframe tbody tr th:only-of-type {\n",
              "        vertical-align: middle;\n",
              "    }\n",
              "\n",
              "    .dataframe tbody tr th {\n",
              "        vertical-align: top;\n",
              "    }\n",
              "\n",
              "    .dataframe thead th {\n",
              "        text-align: right;\n",
              "    }\n",
              "</style>\n",
              "<table border=\"1\" class=\"dataframe\">\n",
              "  <thead>\n",
              "    <tr style=\"text-align: right;\">\n",
              "      <th></th>\n",
              "      <th>duration</th>\n",
              "      <th>src_bytes</th>\n",
              "      <th>dst_bytes</th>\n",
              "      <th>land</th>\n",
              "      <th>wrong_fragment</th>\n",
              "      <th>urgent</th>\n",
              "      <th>hot</th>\n",
              "      <th>num_failed_logins</th>\n",
              "      <th>logged_in</th>\n",
              "      <th>num_compromised</th>\n",
              "      <th>root_shell</th>\n",
              "      <th>su_attempted</th>\n",
              "      <th>num_root</th>\n",
              "      <th>num_file_creations</th>\n",
              "      <th>num_shells</th>\n",
              "      <th>num_access_files</th>\n",
              "      <th>num_outbound_cmds</th>\n",
              "      <th>is_host_login</th>\n",
              "      <th>is_guest_login</th>\n",
              "      <th>count</th>\n",
              "      <th>srv_count</th>\n",
              "      <th>serror_rate</th>\n",
              "      <th>srv_serror_rate</th>\n",
              "      <th>rerror_rate</th>\n",
              "      <th>srv_rerror_rate</th>\n",
              "      <th>same_srv_rate</th>\n",
              "      <th>diff_srv_rate</th>\n",
              "      <th>srv_diff_host_rate</th>\n",
              "      <th>dst_host_count</th>\n",
              "      <th>dst_host_srv_count</th>\n",
              "      <th>dst_host_same_srv_rate</th>\n",
              "      <th>dst_host_diff_srv_rate</th>\n",
              "      <th>dst_host_same_src_port_rate</th>\n",
              "      <th>dst_host_srv_diff_host_rate</th>\n",
              "      <th>dst_host_serror_rate</th>\n",
              "      <th>dst_host_srv_serror_rate</th>\n",
              "      <th>dst_host_rerror_rate</th>\n",
              "      <th>dst_host_srv_rerror_rate</th>\n",
              "    </tr>\n",
              "  </thead>\n",
              "  <tbody>\n",
              "    <tr>\n",
              "      <th>count</th>\n",
              "      <td>494021.000000</td>\n",
              "      <td>4.940210e+05</td>\n",
              "      <td>4.940210e+05</td>\n",
              "      <td>494021.000000</td>\n",
              "      <td>494021.000000</td>\n",
              "      <td>494021.000000</td>\n",
              "      <td>494021.000000</td>\n",
              "      <td>494021.000000</td>\n",
              "      <td>494021.000000</td>\n",
              "      <td>494021.000000</td>\n",
              "      <td>494021.000000</td>\n",
              "      <td>494021.000000</td>\n",
              "      <td>494021.000000</td>\n",
              "      <td>494021.000000</td>\n",
              "      <td>494021.000000</td>\n",
              "      <td>494021.000000</td>\n",
              "      <td>494021.0</td>\n",
              "      <td>494021.0</td>\n",
              "      <td>494021.000000</td>\n",
              "      <td>494021.000000</td>\n",
              "      <td>494021.000000</td>\n",
              "      <td>494021.000000</td>\n",
              "      <td>494021.000000</td>\n",
              "      <td>494021.000000</td>\n",
              "      <td>494021.000000</td>\n",
              "      <td>494021.000000</td>\n",
              "      <td>494021.000000</td>\n",
              "      <td>494021.000000</td>\n",
              "      <td>494021.000000</td>\n",
              "      <td>494021.000000</td>\n",
              "      <td>494021.000000</td>\n",
              "      <td>494021.000000</td>\n",
              "      <td>494021.000000</td>\n",
              "      <td>494021.000000</td>\n",
              "      <td>494021.000000</td>\n",
              "      <td>494021.000000</td>\n",
              "      <td>494021.000000</td>\n",
              "      <td>494021.000000</td>\n",
              "    </tr>\n",
              "    <tr>\n",
              "      <th>mean</th>\n",
              "      <td>47.979302</td>\n",
              "      <td>3.025610e+03</td>\n",
              "      <td>8.685324e+02</td>\n",
              "      <td>0.000045</td>\n",
              "      <td>0.006433</td>\n",
              "      <td>0.000014</td>\n",
              "      <td>0.034519</td>\n",
              "      <td>0.000152</td>\n",
              "      <td>0.148247</td>\n",
              "      <td>0.010212</td>\n",
              "      <td>0.000111</td>\n",
              "      <td>0.000036</td>\n",
              "      <td>0.011352</td>\n",
              "      <td>0.001083</td>\n",
              "      <td>0.000109</td>\n",
              "      <td>0.001008</td>\n",
              "      <td>0.0</td>\n",
              "      <td>0.0</td>\n",
              "      <td>0.001387</td>\n",
              "      <td>332.285690</td>\n",
              "      <td>292.906557</td>\n",
              "      <td>0.176687</td>\n",
              "      <td>0.176609</td>\n",
              "      <td>0.057433</td>\n",
              "      <td>0.057719</td>\n",
              "      <td>0.791547</td>\n",
              "      <td>0.020982</td>\n",
              "      <td>0.028997</td>\n",
              "      <td>232.470778</td>\n",
              "      <td>188.665670</td>\n",
              "      <td>0.753780</td>\n",
              "      <td>0.030906</td>\n",
              "      <td>0.601935</td>\n",
              "      <td>0.006684</td>\n",
              "      <td>0.176754</td>\n",
              "      <td>0.176443</td>\n",
              "      <td>0.058118</td>\n",
              "      <td>0.057412</td>\n",
              "    </tr>\n",
              "    <tr>\n",
              "      <th>std</th>\n",
              "      <td>707.746472</td>\n",
              "      <td>9.882181e+05</td>\n",
              "      <td>3.304000e+04</td>\n",
              "      <td>0.006673</td>\n",
              "      <td>0.134805</td>\n",
              "      <td>0.005510</td>\n",
              "      <td>0.782103</td>\n",
              "      <td>0.015520</td>\n",
              "      <td>0.355345</td>\n",
              "      <td>1.798326</td>\n",
              "      <td>0.010551</td>\n",
              "      <td>0.007793</td>\n",
              "      <td>2.012718</td>\n",
              "      <td>0.096416</td>\n",
              "      <td>0.011020</td>\n",
              "      <td>0.036482</td>\n",
              "      <td>0.0</td>\n",
              "      <td>0.0</td>\n",
              "      <td>0.037211</td>\n",
              "      <td>213.147412</td>\n",
              "      <td>246.322817</td>\n",
              "      <td>0.380717</td>\n",
              "      <td>0.381017</td>\n",
              "      <td>0.231623</td>\n",
              "      <td>0.232147</td>\n",
              "      <td>0.388189</td>\n",
              "      <td>0.082205</td>\n",
              "      <td>0.142397</td>\n",
              "      <td>64.745380</td>\n",
              "      <td>106.040437</td>\n",
              "      <td>0.410781</td>\n",
              "      <td>0.109259</td>\n",
              "      <td>0.481309</td>\n",
              "      <td>0.042133</td>\n",
              "      <td>0.380593</td>\n",
              "      <td>0.380919</td>\n",
              "      <td>0.230590</td>\n",
              "      <td>0.230140</td>\n",
              "    </tr>\n",
              "    <tr>\n",
              "      <th>min</th>\n",
              "      <td>0.000000</td>\n",
              "      <td>0.000000e+00</td>\n",
              "      <td>0.000000e+00</td>\n",
              "      <td>0.000000</td>\n",
              "      <td>0.000000</td>\n",
              "      <td>0.000000</td>\n",
              "      <td>0.000000</td>\n",
              "      <td>0.000000</td>\n",
              "      <td>0.000000</td>\n",
              "      <td>0.000000</td>\n",
              "      <td>0.000000</td>\n",
              "      <td>0.000000</td>\n",
              "      <td>0.000000</td>\n",
              "      <td>0.000000</td>\n",
              "      <td>0.000000</td>\n",
              "      <td>0.000000</td>\n",
              "      <td>0.0</td>\n",
              "      <td>0.0</td>\n",
              "      <td>0.000000</td>\n",
              "      <td>0.000000</td>\n",
              "      <td>0.000000</td>\n",
              "      <td>0.000000</td>\n",
              "      <td>0.000000</td>\n",
              "      <td>0.000000</td>\n",
              "      <td>0.000000</td>\n",
              "      <td>0.000000</td>\n",
              "      <td>0.000000</td>\n",
              "      <td>0.000000</td>\n",
              "      <td>0.000000</td>\n",
              "      <td>0.000000</td>\n",
              "      <td>0.000000</td>\n",
              "      <td>0.000000</td>\n",
              "      <td>0.000000</td>\n",
              "      <td>0.000000</td>\n",
              "      <td>0.000000</td>\n",
              "      <td>0.000000</td>\n",
              "      <td>0.000000</td>\n",
              "      <td>0.000000</td>\n",
              "    </tr>\n",
              "    <tr>\n",
              "      <th>25%</th>\n",
              "      <td>0.000000</td>\n",
              "      <td>4.500000e+01</td>\n",
              "      <td>0.000000e+00</td>\n",
              "      <td>0.000000</td>\n",
              "      <td>0.000000</td>\n",
              "      <td>0.000000</td>\n",
              "      <td>0.000000</td>\n",
              "      <td>0.000000</td>\n",
              "      <td>0.000000</td>\n",
              "      <td>0.000000</td>\n",
              "      <td>0.000000</td>\n",
              "      <td>0.000000</td>\n",
              "      <td>0.000000</td>\n",
              "      <td>0.000000</td>\n",
              "      <td>0.000000</td>\n",
              "      <td>0.000000</td>\n",
              "      <td>0.0</td>\n",
              "      <td>0.0</td>\n",
              "      <td>0.000000</td>\n",
              "      <td>117.000000</td>\n",
              "      <td>10.000000</td>\n",
              "      <td>0.000000</td>\n",
              "      <td>0.000000</td>\n",
              "      <td>0.000000</td>\n",
              "      <td>0.000000</td>\n",
              "      <td>1.000000</td>\n",
              "      <td>0.000000</td>\n",
              "      <td>0.000000</td>\n",
              "      <td>255.000000</td>\n",
              "      <td>46.000000</td>\n",
              "      <td>0.410000</td>\n",
              "      <td>0.000000</td>\n",
              "      <td>0.000000</td>\n",
              "      <td>0.000000</td>\n",
              "      <td>0.000000</td>\n",
              "      <td>0.000000</td>\n",
              "      <td>0.000000</td>\n",
              "      <td>0.000000</td>\n",
              "    </tr>\n",
              "    <tr>\n",
              "      <th>50%</th>\n",
              "      <td>0.000000</td>\n",
              "      <td>5.200000e+02</td>\n",
              "      <td>0.000000e+00</td>\n",
              "      <td>0.000000</td>\n",
              "      <td>0.000000</td>\n",
              "      <td>0.000000</td>\n",
              "      <td>0.000000</td>\n",
              "      <td>0.000000</td>\n",
              "      <td>0.000000</td>\n",
              "      <td>0.000000</td>\n",
              "      <td>0.000000</td>\n",
              "      <td>0.000000</td>\n",
              "      <td>0.000000</td>\n",
              "      <td>0.000000</td>\n",
              "      <td>0.000000</td>\n",
              "      <td>0.000000</td>\n",
              "      <td>0.0</td>\n",
              "      <td>0.0</td>\n",
              "      <td>0.000000</td>\n",
              "      <td>510.000000</td>\n",
              "      <td>510.000000</td>\n",
              "      <td>0.000000</td>\n",
              "      <td>0.000000</td>\n",
              "      <td>0.000000</td>\n",
              "      <td>0.000000</td>\n",
              "      <td>1.000000</td>\n",
              "      <td>0.000000</td>\n",
              "      <td>0.000000</td>\n",
              "      <td>255.000000</td>\n",
              "      <td>255.000000</td>\n",
              "      <td>1.000000</td>\n",
              "      <td>0.000000</td>\n",
              "      <td>1.000000</td>\n",
              "      <td>0.000000</td>\n",
              "      <td>0.000000</td>\n",
              "      <td>0.000000</td>\n",
              "      <td>0.000000</td>\n",
              "      <td>0.000000</td>\n",
              "    </tr>\n",
              "    <tr>\n",
              "      <th>75%</th>\n",
              "      <td>0.000000</td>\n",
              "      <td>1.032000e+03</td>\n",
              "      <td>0.000000e+00</td>\n",
              "      <td>0.000000</td>\n",
              "      <td>0.000000</td>\n",
              "      <td>0.000000</td>\n",
              "      <td>0.000000</td>\n",
              "      <td>0.000000</td>\n",
              "      <td>0.000000</td>\n",
              "      <td>0.000000</td>\n",
              "      <td>0.000000</td>\n",
              "      <td>0.000000</td>\n",
              "      <td>0.000000</td>\n",
              "      <td>0.000000</td>\n",
              "      <td>0.000000</td>\n",
              "      <td>0.000000</td>\n",
              "      <td>0.0</td>\n",
              "      <td>0.0</td>\n",
              "      <td>0.000000</td>\n",
              "      <td>511.000000</td>\n",
              "      <td>511.000000</td>\n",
              "      <td>0.000000</td>\n",
              "      <td>0.000000</td>\n",
              "      <td>0.000000</td>\n",
              "      <td>0.000000</td>\n",
              "      <td>1.000000</td>\n",
              "      <td>0.000000</td>\n",
              "      <td>0.000000</td>\n",
              "      <td>255.000000</td>\n",
              "      <td>255.000000</td>\n",
              "      <td>1.000000</td>\n",
              "      <td>0.040000</td>\n",
              "      <td>1.000000</td>\n",
              "      <td>0.000000</td>\n",
              "      <td>0.000000</td>\n",
              "      <td>0.000000</td>\n",
              "      <td>0.000000</td>\n",
              "      <td>0.000000</td>\n",
              "    </tr>\n",
              "    <tr>\n",
              "      <th>max</th>\n",
              "      <td>58329.000000</td>\n",
              "      <td>6.933756e+08</td>\n",
              "      <td>5.155468e+06</td>\n",
              "      <td>1.000000</td>\n",
              "      <td>3.000000</td>\n",
              "      <td>3.000000</td>\n",
              "      <td>30.000000</td>\n",
              "      <td>5.000000</td>\n",
              "      <td>1.000000</td>\n",
              "      <td>884.000000</td>\n",
              "      <td>1.000000</td>\n",
              "      <td>2.000000</td>\n",
              "      <td>993.000000</td>\n",
              "      <td>28.000000</td>\n",
              "      <td>2.000000</td>\n",
              "      <td>8.000000</td>\n",
              "      <td>0.0</td>\n",
              "      <td>0.0</td>\n",
              "      <td>1.000000</td>\n",
              "      <td>511.000000</td>\n",
              "      <td>511.000000</td>\n",
              "      <td>1.000000</td>\n",
              "      <td>1.000000</td>\n",
              "      <td>1.000000</td>\n",
              "      <td>1.000000</td>\n",
              "      <td>1.000000</td>\n",
              "      <td>1.000000</td>\n",
              "      <td>1.000000</td>\n",
              "      <td>255.000000</td>\n",
              "      <td>255.000000</td>\n",
              "      <td>1.000000</td>\n",
              "      <td>1.000000</td>\n",
              "      <td>1.000000</td>\n",
              "      <td>1.000000</td>\n",
              "      <td>1.000000</td>\n",
              "      <td>1.000000</td>\n",
              "      <td>1.000000</td>\n",
              "      <td>1.000000</td>\n",
              "    </tr>\n",
              "  </tbody>\n",
              "</table>\n",
              "</div>"
            ],
            "text/plain": [
              "            duration  ...  dst_host_srv_rerror_rate\n",
              "count  494021.000000  ...             494021.000000\n",
              "mean       47.979302  ...                  0.057412\n",
              "std       707.746472  ...                  0.230140\n",
              "min         0.000000  ...                  0.000000\n",
              "25%         0.000000  ...                  0.000000\n",
              "50%         0.000000  ...                  0.000000\n",
              "75%         0.000000  ...                  0.000000\n",
              "max     58329.000000  ...                  1.000000\n",
              "\n",
              "[8 rows x 38 columns]"
            ]
          },
          "metadata": {
            "tags": []
          },
          "execution_count": 8
        }
      ]
    },
    {
      "cell_type": "code",
      "metadata": {
        "colab": {
          "base_uri": "https://localhost:8080/"
        },
        "id": "k8JxgpKZDkWe",
        "outputId": "993069ee-aac5-4709-e99c-64a16571f02f"
      },
      "source": [
        "data.info()"
      ],
      "execution_count": null,
      "outputs": [
        {
          "output_type": "stream",
          "text": [
            "<class 'pandas.core.frame.DataFrame'>\n",
            "RangeIndex: 494021 entries, 0 to 494020\n",
            "Data columns (total 42 columns):\n",
            " #   Column                       Non-Null Count   Dtype  \n",
            "---  ------                       --------------   -----  \n",
            " 0   duration                     494021 non-null  int64  \n",
            " 1   protocol_type                494021 non-null  object \n",
            " 2   service                      494021 non-null  object \n",
            " 3   flag                         494021 non-null  object \n",
            " 4   src_bytes                    494021 non-null  int64  \n",
            " 5   dst_bytes                    494021 non-null  int64  \n",
            " 6   land                         494021 non-null  int64  \n",
            " 7   wrong_fragment               494021 non-null  int64  \n",
            " 8   urgent                       494021 non-null  int64  \n",
            " 9   hot                          494021 non-null  int64  \n",
            " 10  num_failed_logins            494021 non-null  int64  \n",
            " 11  logged_in                    494021 non-null  int64  \n",
            " 12  num_compromised              494021 non-null  int64  \n",
            " 13  root_shell                   494021 non-null  int64  \n",
            " 14  su_attempted                 494021 non-null  int64  \n",
            " 15  num_root                     494021 non-null  int64  \n",
            " 16  num_file_creations           494021 non-null  int64  \n",
            " 17  num_shells                   494021 non-null  int64  \n",
            " 18  num_access_files             494021 non-null  int64  \n",
            " 19  num_outbound_cmds            494021 non-null  int64  \n",
            " 20  is_host_login                494021 non-null  int64  \n",
            " 21  is_guest_login               494021 non-null  int64  \n",
            " 22  count                        494021 non-null  int64  \n",
            " 23  srv_count                    494021 non-null  int64  \n",
            " 24  serror_rate                  494021 non-null  float64\n",
            " 25  srv_serror_rate              494021 non-null  float64\n",
            " 26  rerror_rate                  494021 non-null  float64\n",
            " 27  srv_rerror_rate              494021 non-null  float64\n",
            " 28  same_srv_rate                494021 non-null  float64\n",
            " 29  diff_srv_rate                494021 non-null  float64\n",
            " 30  srv_diff_host_rate           494021 non-null  float64\n",
            " 31  dst_host_count               494021 non-null  int64  \n",
            " 32  dst_host_srv_count           494021 non-null  int64  \n",
            " 33  dst_host_same_srv_rate       494021 non-null  float64\n",
            " 34  dst_host_diff_srv_rate       494021 non-null  float64\n",
            " 35  dst_host_same_src_port_rate  494021 non-null  float64\n",
            " 36  dst_host_srv_diff_host_rate  494021 non-null  float64\n",
            " 37  dst_host_serror_rate         494021 non-null  float64\n",
            " 38  dst_host_srv_serror_rate     494021 non-null  float64\n",
            " 39  dst_host_rerror_rate         494021 non-null  float64\n",
            " 40  dst_host_srv_rerror_rate     494021 non-null  float64\n",
            " 41  type                         494021 non-null  object \n",
            "dtypes: float64(15), int64(23), object(4)\n",
            "memory usage: 158.3+ MB\n"
          ],
          "name": "stdout"
        }
      ]
    },
    {
      "cell_type": "markdown",
      "metadata": {
        "id": "2mDMmAeswbY7"
      },
      "source": [
        "The dataset includes the traffic records with the normal traffics and 22 type of attacks. Among these records, only around 20% of the records are the normal ones and the rest 80% are the abnormal ones."
      ]
    },
    {
      "cell_type": "code",
      "metadata": {
        "colab": {
          "base_uri": "https://localhost:8080/"
        },
        "id": "wZO9EaxYMTul",
        "outputId": "d176f0ee-b5e8-4091-c734-3d40bfedbead"
      },
      "source": [
        "proportions = data[\"type\"].value_counts()\n",
        "print(proportions)\n",
        "normal_data_count = data[\"type\"].loc[data[\"type\"]==\"normal.\"].value_counts()\n",
        "print(normal_data_count)\n",
        "print(\"Anomaly Percentage\", normal_data_count / proportions.sum())"
      ],
      "execution_count": null,
      "outputs": [
        {
          "output_type": "stream",
          "text": [
            "smurf.              280790\n",
            "neptune.            107201\n",
            "normal.              97278\n",
            "back.                 2203\n",
            "satan.                1589\n",
            "ipsweep.              1247\n",
            "portsweep.            1040\n",
            "warezclient.          1020\n",
            "teardrop.              979\n",
            "pod.                   264\n",
            "nmap.                  231\n",
            "guess_passwd.           53\n",
            "buffer_overflow.        30\n",
            "land.                   21\n",
            "warezmaster.            20\n",
            "imap.                   12\n",
            "rootkit.                10\n",
            "loadmodule.              9\n",
            "ftp_write.               8\n",
            "multihop.                7\n",
            "phf.                     4\n",
            "perl.                    3\n",
            "spy.                     2\n",
            "Name: type, dtype: int64\n",
            "normal.    97278\n",
            "Name: type, dtype: int64\n",
            "Anomaly Percentage normal.    0.196911\n",
            "Name: type, dtype: float64\n"
          ],
          "name": "stdout"
        }
      ]
    },
    {
      "cell_type": "markdown",
      "metadata": {
        "id": "fdLqvMe1mttI"
      },
      "source": [
        "# **Preprocessing**"
      ]
    },
    {
      "cell_type": "markdown",
      "metadata": {
        "id": "sY5Qo2n8wg32"
      },
      "source": [
        "Data encoding:\n",
        "\n",
        "To do the binary clustering, the label with different type of attacks need to be encoded into abnormal/normal. "
      ]
    },
    {
      "cell_type": "code",
      "metadata": {
        "id": "s1hDKXGEZ4-u"
      },
      "source": [
        "# Encode the dataset label into binary format: abnormal (0)/normal (1)\n",
        "data.loc[data[\"type\"] != \"normal.\", 'type'] = 0\n",
        "data.loc[data[\"type\"] == \"normal.\", 'type'] = 1"
      ],
      "execution_count": null,
      "outputs": []
    },
    {
      "cell_type": "code",
      "metadata": {
        "colab": {
          "base_uri": "https://localhost:8080/"
        },
        "id": "GAo7-_v-Pkqw",
        "outputId": "23951b74-c241-43e0-cfbc-ee8612f0cba9"
      },
      "source": [
        "# check the binary encoding results\n",
        "\n",
        "proportions = data[\"type\"].value_counts()\n",
        "print(proportions)\n",
        "print(\"Anomaly Percentage\",proportions[0] / proportions.sum())"
      ],
      "execution_count": null,
      "outputs": [
        {
          "output_type": "stream",
          "text": [
            "0    396743\n",
            "1     97278\n",
            "Name: type, dtype: int64\n",
            "Anomaly Percentage 0.8030893423558918\n"
          ],
          "name": "stdout"
        }
      ]
    },
    {
      "cell_type": "markdown",
      "metadata": {
        "id": "M3KGL6HVxDfE"
      },
      "source": [
        "Since the featrues are saved in different format in the dataset and it's hard to process the features recorded as object. Thus, the one-hot encoding is done to these features to encode them into numerical values. "
      ]
    },
    {
      "cell_type": "code",
      "metadata": {
        "colab": {
          "base_uri": "https://localhost:8080/",
          "height": 253
        },
        "id": "KjGXA8N9PgE-",
        "outputId": "3522c069-e0e9-425e-bea5-dd127b00d2ec"
      },
      "source": [
        "# One-hot encoding the data int numerical values\n",
        "\n",
        "one_hot_protocol = pd.get_dummies(data[\"protocol_type\"])\n",
        "one_hot_service = pd.get_dummies(data[\"service\"])\n",
        "one_hot_flag = pd.get_dummies(data[\"flag\"])\n",
        "\n",
        "data = data.drop(\"protocol_type\",axis=1)\n",
        "data = data.drop(\"service\",axis=1)\n",
        "data = data.drop(\"flag\",axis=1)\n",
        "    \n",
        "data = pd.concat([one_hot_protocol, one_hot_service,one_hot_flag, data],axis=1)\n",
        "data.head()"
      ],
      "execution_count": null,
      "outputs": [
        {
          "output_type": "execute_result",
          "data": {
            "text/html": [
              "<div>\n",
              "<style scoped>\n",
              "    .dataframe tbody tr th:only-of-type {\n",
              "        vertical-align: middle;\n",
              "    }\n",
              "\n",
              "    .dataframe tbody tr th {\n",
              "        vertical-align: top;\n",
              "    }\n",
              "\n",
              "    .dataframe thead th {\n",
              "        text-align: right;\n",
              "    }\n",
              "</style>\n",
              "<table border=\"1\" class=\"dataframe\">\n",
              "  <thead>\n",
              "    <tr style=\"text-align: right;\">\n",
              "      <th></th>\n",
              "      <th>icmp</th>\n",
              "      <th>tcp</th>\n",
              "      <th>udp</th>\n",
              "      <th>IRC</th>\n",
              "      <th>X11</th>\n",
              "      <th>Z39_50</th>\n",
              "      <th>auth</th>\n",
              "      <th>bgp</th>\n",
              "      <th>courier</th>\n",
              "      <th>csnet_ns</th>\n",
              "      <th>ctf</th>\n",
              "      <th>daytime</th>\n",
              "      <th>discard</th>\n",
              "      <th>domain</th>\n",
              "      <th>domain_u</th>\n",
              "      <th>echo</th>\n",
              "      <th>eco_i</th>\n",
              "      <th>ecr_i</th>\n",
              "      <th>efs</th>\n",
              "      <th>exec</th>\n",
              "      <th>finger</th>\n",
              "      <th>ftp</th>\n",
              "      <th>ftp_data</th>\n",
              "      <th>gopher</th>\n",
              "      <th>hostnames</th>\n",
              "      <th>http</th>\n",
              "      <th>http_443</th>\n",
              "      <th>imap4</th>\n",
              "      <th>iso_tsap</th>\n",
              "      <th>klogin</th>\n",
              "      <th>kshell</th>\n",
              "      <th>ldap</th>\n",
              "      <th>link</th>\n",
              "      <th>login</th>\n",
              "      <th>mtp</th>\n",
              "      <th>name</th>\n",
              "      <th>netbios_dgm</th>\n",
              "      <th>netbios_ns</th>\n",
              "      <th>netbios_ssn</th>\n",
              "      <th>netstat</th>\n",
              "      <th>...</th>\n",
              "      <th>SH</th>\n",
              "      <th>duration</th>\n",
              "      <th>src_bytes</th>\n",
              "      <th>dst_bytes</th>\n",
              "      <th>land</th>\n",
              "      <th>wrong_fragment</th>\n",
              "      <th>urgent</th>\n",
              "      <th>hot</th>\n",
              "      <th>num_failed_logins</th>\n",
              "      <th>logged_in</th>\n",
              "      <th>num_compromised</th>\n",
              "      <th>root_shell</th>\n",
              "      <th>su_attempted</th>\n",
              "      <th>num_root</th>\n",
              "      <th>num_file_creations</th>\n",
              "      <th>num_shells</th>\n",
              "      <th>num_access_files</th>\n",
              "      <th>num_outbound_cmds</th>\n",
              "      <th>is_host_login</th>\n",
              "      <th>is_guest_login</th>\n",
              "      <th>count</th>\n",
              "      <th>srv_count</th>\n",
              "      <th>serror_rate</th>\n",
              "      <th>srv_serror_rate</th>\n",
              "      <th>rerror_rate</th>\n",
              "      <th>srv_rerror_rate</th>\n",
              "      <th>same_srv_rate</th>\n",
              "      <th>diff_srv_rate</th>\n",
              "      <th>srv_diff_host_rate</th>\n",
              "      <th>dst_host_count</th>\n",
              "      <th>dst_host_srv_count</th>\n",
              "      <th>dst_host_same_srv_rate</th>\n",
              "      <th>dst_host_diff_srv_rate</th>\n",
              "      <th>dst_host_same_src_port_rate</th>\n",
              "      <th>dst_host_srv_diff_host_rate</th>\n",
              "      <th>dst_host_serror_rate</th>\n",
              "      <th>dst_host_srv_serror_rate</th>\n",
              "      <th>dst_host_rerror_rate</th>\n",
              "      <th>dst_host_srv_rerror_rate</th>\n",
              "      <th>type</th>\n",
              "    </tr>\n",
              "  </thead>\n",
              "  <tbody>\n",
              "    <tr>\n",
              "      <th>0</th>\n",
              "      <td>0</td>\n",
              "      <td>1</td>\n",
              "      <td>0</td>\n",
              "      <td>0</td>\n",
              "      <td>0</td>\n",
              "      <td>0</td>\n",
              "      <td>0</td>\n",
              "      <td>0</td>\n",
              "      <td>0</td>\n",
              "      <td>0</td>\n",
              "      <td>0</td>\n",
              "      <td>0</td>\n",
              "      <td>0</td>\n",
              "      <td>0</td>\n",
              "      <td>0</td>\n",
              "      <td>0</td>\n",
              "      <td>0</td>\n",
              "      <td>0</td>\n",
              "      <td>0</td>\n",
              "      <td>0</td>\n",
              "      <td>0</td>\n",
              "      <td>0</td>\n",
              "      <td>0</td>\n",
              "      <td>0</td>\n",
              "      <td>0</td>\n",
              "      <td>1</td>\n",
              "      <td>0</td>\n",
              "      <td>0</td>\n",
              "      <td>0</td>\n",
              "      <td>0</td>\n",
              "      <td>0</td>\n",
              "      <td>0</td>\n",
              "      <td>0</td>\n",
              "      <td>0</td>\n",
              "      <td>0</td>\n",
              "      <td>0</td>\n",
              "      <td>0</td>\n",
              "      <td>0</td>\n",
              "      <td>0</td>\n",
              "      <td>0</td>\n",
              "      <td>...</td>\n",
              "      <td>0</td>\n",
              "      <td>0</td>\n",
              "      <td>181</td>\n",
              "      <td>5450</td>\n",
              "      <td>0</td>\n",
              "      <td>0</td>\n",
              "      <td>0</td>\n",
              "      <td>0</td>\n",
              "      <td>0</td>\n",
              "      <td>1</td>\n",
              "      <td>0</td>\n",
              "      <td>0</td>\n",
              "      <td>0</td>\n",
              "      <td>0</td>\n",
              "      <td>0</td>\n",
              "      <td>0</td>\n",
              "      <td>0</td>\n",
              "      <td>0</td>\n",
              "      <td>0</td>\n",
              "      <td>0</td>\n",
              "      <td>8</td>\n",
              "      <td>8</td>\n",
              "      <td>0.0</td>\n",
              "      <td>0.0</td>\n",
              "      <td>0.0</td>\n",
              "      <td>0.0</td>\n",
              "      <td>1.0</td>\n",
              "      <td>0.0</td>\n",
              "      <td>0.0</td>\n",
              "      <td>9</td>\n",
              "      <td>9</td>\n",
              "      <td>1.0</td>\n",
              "      <td>0.0</td>\n",
              "      <td>0.11</td>\n",
              "      <td>0.0</td>\n",
              "      <td>0.0</td>\n",
              "      <td>0.0</td>\n",
              "      <td>0.0</td>\n",
              "      <td>0.0</td>\n",
              "      <td>1</td>\n",
              "    </tr>\n",
              "    <tr>\n",
              "      <th>1</th>\n",
              "      <td>0</td>\n",
              "      <td>1</td>\n",
              "      <td>0</td>\n",
              "      <td>0</td>\n",
              "      <td>0</td>\n",
              "      <td>0</td>\n",
              "      <td>0</td>\n",
              "      <td>0</td>\n",
              "      <td>0</td>\n",
              "      <td>0</td>\n",
              "      <td>0</td>\n",
              "      <td>0</td>\n",
              "      <td>0</td>\n",
              "      <td>0</td>\n",
              "      <td>0</td>\n",
              "      <td>0</td>\n",
              "      <td>0</td>\n",
              "      <td>0</td>\n",
              "      <td>0</td>\n",
              "      <td>0</td>\n",
              "      <td>0</td>\n",
              "      <td>0</td>\n",
              "      <td>0</td>\n",
              "      <td>0</td>\n",
              "      <td>0</td>\n",
              "      <td>1</td>\n",
              "      <td>0</td>\n",
              "      <td>0</td>\n",
              "      <td>0</td>\n",
              "      <td>0</td>\n",
              "      <td>0</td>\n",
              "      <td>0</td>\n",
              "      <td>0</td>\n",
              "      <td>0</td>\n",
              "      <td>0</td>\n",
              "      <td>0</td>\n",
              "      <td>0</td>\n",
              "      <td>0</td>\n",
              "      <td>0</td>\n",
              "      <td>0</td>\n",
              "      <td>...</td>\n",
              "      <td>0</td>\n",
              "      <td>0</td>\n",
              "      <td>239</td>\n",
              "      <td>486</td>\n",
              "      <td>0</td>\n",
              "      <td>0</td>\n",
              "      <td>0</td>\n",
              "      <td>0</td>\n",
              "      <td>0</td>\n",
              "      <td>1</td>\n",
              "      <td>0</td>\n",
              "      <td>0</td>\n",
              "      <td>0</td>\n",
              "      <td>0</td>\n",
              "      <td>0</td>\n",
              "      <td>0</td>\n",
              "      <td>0</td>\n",
              "      <td>0</td>\n",
              "      <td>0</td>\n",
              "      <td>0</td>\n",
              "      <td>8</td>\n",
              "      <td>8</td>\n",
              "      <td>0.0</td>\n",
              "      <td>0.0</td>\n",
              "      <td>0.0</td>\n",
              "      <td>0.0</td>\n",
              "      <td>1.0</td>\n",
              "      <td>0.0</td>\n",
              "      <td>0.0</td>\n",
              "      <td>19</td>\n",
              "      <td>19</td>\n",
              "      <td>1.0</td>\n",
              "      <td>0.0</td>\n",
              "      <td>0.05</td>\n",
              "      <td>0.0</td>\n",
              "      <td>0.0</td>\n",
              "      <td>0.0</td>\n",
              "      <td>0.0</td>\n",
              "      <td>0.0</td>\n",
              "      <td>1</td>\n",
              "    </tr>\n",
              "    <tr>\n",
              "      <th>2</th>\n",
              "      <td>0</td>\n",
              "      <td>1</td>\n",
              "      <td>0</td>\n",
              "      <td>0</td>\n",
              "      <td>0</td>\n",
              "      <td>0</td>\n",
              "      <td>0</td>\n",
              "      <td>0</td>\n",
              "      <td>0</td>\n",
              "      <td>0</td>\n",
              "      <td>0</td>\n",
              "      <td>0</td>\n",
              "      <td>0</td>\n",
              "      <td>0</td>\n",
              "      <td>0</td>\n",
              "      <td>0</td>\n",
              "      <td>0</td>\n",
              "      <td>0</td>\n",
              "      <td>0</td>\n",
              "      <td>0</td>\n",
              "      <td>0</td>\n",
              "      <td>0</td>\n",
              "      <td>0</td>\n",
              "      <td>0</td>\n",
              "      <td>0</td>\n",
              "      <td>1</td>\n",
              "      <td>0</td>\n",
              "      <td>0</td>\n",
              "      <td>0</td>\n",
              "      <td>0</td>\n",
              "      <td>0</td>\n",
              "      <td>0</td>\n",
              "      <td>0</td>\n",
              "      <td>0</td>\n",
              "      <td>0</td>\n",
              "      <td>0</td>\n",
              "      <td>0</td>\n",
              "      <td>0</td>\n",
              "      <td>0</td>\n",
              "      <td>0</td>\n",
              "      <td>...</td>\n",
              "      <td>0</td>\n",
              "      <td>0</td>\n",
              "      <td>235</td>\n",
              "      <td>1337</td>\n",
              "      <td>0</td>\n",
              "      <td>0</td>\n",
              "      <td>0</td>\n",
              "      <td>0</td>\n",
              "      <td>0</td>\n",
              "      <td>1</td>\n",
              "      <td>0</td>\n",
              "      <td>0</td>\n",
              "      <td>0</td>\n",
              "      <td>0</td>\n",
              "      <td>0</td>\n",
              "      <td>0</td>\n",
              "      <td>0</td>\n",
              "      <td>0</td>\n",
              "      <td>0</td>\n",
              "      <td>0</td>\n",
              "      <td>8</td>\n",
              "      <td>8</td>\n",
              "      <td>0.0</td>\n",
              "      <td>0.0</td>\n",
              "      <td>0.0</td>\n",
              "      <td>0.0</td>\n",
              "      <td>1.0</td>\n",
              "      <td>0.0</td>\n",
              "      <td>0.0</td>\n",
              "      <td>29</td>\n",
              "      <td>29</td>\n",
              "      <td>1.0</td>\n",
              "      <td>0.0</td>\n",
              "      <td>0.03</td>\n",
              "      <td>0.0</td>\n",
              "      <td>0.0</td>\n",
              "      <td>0.0</td>\n",
              "      <td>0.0</td>\n",
              "      <td>0.0</td>\n",
              "      <td>1</td>\n",
              "    </tr>\n",
              "    <tr>\n",
              "      <th>3</th>\n",
              "      <td>0</td>\n",
              "      <td>1</td>\n",
              "      <td>0</td>\n",
              "      <td>0</td>\n",
              "      <td>0</td>\n",
              "      <td>0</td>\n",
              "      <td>0</td>\n",
              "      <td>0</td>\n",
              "      <td>0</td>\n",
              "      <td>0</td>\n",
              "      <td>0</td>\n",
              "      <td>0</td>\n",
              "      <td>0</td>\n",
              "      <td>0</td>\n",
              "      <td>0</td>\n",
              "      <td>0</td>\n",
              "      <td>0</td>\n",
              "      <td>0</td>\n",
              "      <td>0</td>\n",
              "      <td>0</td>\n",
              "      <td>0</td>\n",
              "      <td>0</td>\n",
              "      <td>0</td>\n",
              "      <td>0</td>\n",
              "      <td>0</td>\n",
              "      <td>1</td>\n",
              "      <td>0</td>\n",
              "      <td>0</td>\n",
              "      <td>0</td>\n",
              "      <td>0</td>\n",
              "      <td>0</td>\n",
              "      <td>0</td>\n",
              "      <td>0</td>\n",
              "      <td>0</td>\n",
              "      <td>0</td>\n",
              "      <td>0</td>\n",
              "      <td>0</td>\n",
              "      <td>0</td>\n",
              "      <td>0</td>\n",
              "      <td>0</td>\n",
              "      <td>...</td>\n",
              "      <td>0</td>\n",
              "      <td>0</td>\n",
              "      <td>219</td>\n",
              "      <td>1337</td>\n",
              "      <td>0</td>\n",
              "      <td>0</td>\n",
              "      <td>0</td>\n",
              "      <td>0</td>\n",
              "      <td>0</td>\n",
              "      <td>1</td>\n",
              "      <td>0</td>\n",
              "      <td>0</td>\n",
              "      <td>0</td>\n",
              "      <td>0</td>\n",
              "      <td>0</td>\n",
              "      <td>0</td>\n",
              "      <td>0</td>\n",
              "      <td>0</td>\n",
              "      <td>0</td>\n",
              "      <td>0</td>\n",
              "      <td>6</td>\n",
              "      <td>6</td>\n",
              "      <td>0.0</td>\n",
              "      <td>0.0</td>\n",
              "      <td>0.0</td>\n",
              "      <td>0.0</td>\n",
              "      <td>1.0</td>\n",
              "      <td>0.0</td>\n",
              "      <td>0.0</td>\n",
              "      <td>39</td>\n",
              "      <td>39</td>\n",
              "      <td>1.0</td>\n",
              "      <td>0.0</td>\n",
              "      <td>0.03</td>\n",
              "      <td>0.0</td>\n",
              "      <td>0.0</td>\n",
              "      <td>0.0</td>\n",
              "      <td>0.0</td>\n",
              "      <td>0.0</td>\n",
              "      <td>1</td>\n",
              "    </tr>\n",
              "    <tr>\n",
              "      <th>4</th>\n",
              "      <td>0</td>\n",
              "      <td>1</td>\n",
              "      <td>0</td>\n",
              "      <td>0</td>\n",
              "      <td>0</td>\n",
              "      <td>0</td>\n",
              "      <td>0</td>\n",
              "      <td>0</td>\n",
              "      <td>0</td>\n",
              "      <td>0</td>\n",
              "      <td>0</td>\n",
              "      <td>0</td>\n",
              "      <td>0</td>\n",
              "      <td>0</td>\n",
              "      <td>0</td>\n",
              "      <td>0</td>\n",
              "      <td>0</td>\n",
              "      <td>0</td>\n",
              "      <td>0</td>\n",
              "      <td>0</td>\n",
              "      <td>0</td>\n",
              "      <td>0</td>\n",
              "      <td>0</td>\n",
              "      <td>0</td>\n",
              "      <td>0</td>\n",
              "      <td>1</td>\n",
              "      <td>0</td>\n",
              "      <td>0</td>\n",
              "      <td>0</td>\n",
              "      <td>0</td>\n",
              "      <td>0</td>\n",
              "      <td>0</td>\n",
              "      <td>0</td>\n",
              "      <td>0</td>\n",
              "      <td>0</td>\n",
              "      <td>0</td>\n",
              "      <td>0</td>\n",
              "      <td>0</td>\n",
              "      <td>0</td>\n",
              "      <td>0</td>\n",
              "      <td>...</td>\n",
              "      <td>0</td>\n",
              "      <td>0</td>\n",
              "      <td>217</td>\n",
              "      <td>2032</td>\n",
              "      <td>0</td>\n",
              "      <td>0</td>\n",
              "      <td>0</td>\n",
              "      <td>0</td>\n",
              "      <td>0</td>\n",
              "      <td>1</td>\n",
              "      <td>0</td>\n",
              "      <td>0</td>\n",
              "      <td>0</td>\n",
              "      <td>0</td>\n",
              "      <td>0</td>\n",
              "      <td>0</td>\n",
              "      <td>0</td>\n",
              "      <td>0</td>\n",
              "      <td>0</td>\n",
              "      <td>0</td>\n",
              "      <td>6</td>\n",
              "      <td>6</td>\n",
              "      <td>0.0</td>\n",
              "      <td>0.0</td>\n",
              "      <td>0.0</td>\n",
              "      <td>0.0</td>\n",
              "      <td>1.0</td>\n",
              "      <td>0.0</td>\n",
              "      <td>0.0</td>\n",
              "      <td>49</td>\n",
              "      <td>49</td>\n",
              "      <td>1.0</td>\n",
              "      <td>0.0</td>\n",
              "      <td>0.02</td>\n",
              "      <td>0.0</td>\n",
              "      <td>0.0</td>\n",
              "      <td>0.0</td>\n",
              "      <td>0.0</td>\n",
              "      <td>0.0</td>\n",
              "      <td>1</td>\n",
              "    </tr>\n",
              "  </tbody>\n",
              "</table>\n",
              "<p>5 rows × 119 columns</p>\n",
              "</div>"
            ],
            "text/plain": [
              "   icmp  tcp  udp  ...  dst_host_rerror_rate  dst_host_srv_rerror_rate  type\n",
              "0     0    1    0  ...                   0.0                       0.0     1\n",
              "1     0    1    0  ...                   0.0                       0.0     1\n",
              "2     0    1    0  ...                   0.0                       0.0     1\n",
              "3     0    1    0  ...                   0.0                       0.0     1\n",
              "4     0    1    0  ...                   0.0                       0.0     1\n",
              "\n",
              "[5 rows x 119 columns]"
            ]
          },
          "metadata": {
            "tags": []
          },
          "execution_count": 12
        }
      ]
    },
    {
      "cell_type": "markdown",
      "metadata": {
        "id": "3f6BN3wzxKdU"
      },
      "source": [
        "Featrue scaling:\n",
        " \n",
        "Considering the features has different range, standardization is done to deal with this by keeping the values centered around the mean with a unit standard deviation."
      ]
    },
    {
      "cell_type": "code",
      "metadata": {
        "id": "YgS2AhcYPnf_"
      },
      "source": [
        "# Standardize the numeric variables\n",
        "\n",
        "cols_to_norm = [\"duration\", \"src_bytes\", \"dst_bytes\", \"wrong_fragment\", \"urgent\", \n",
        "            \"hot\", \"num_failed_logins\", \"num_compromised\", \"num_root\", \n",
        "            \"num_file_creations\", \"num_shells\", \"num_access_files\", \"count\", \"srv_count\", \n",
        "            \"serror_rate\", \"srv_serror_rate\", \"rerror_rate\", \"srv_rerror_rate\", \"same_srv_rate\", \n",
        "            \"diff_srv_rate\", \"srv_diff_host_rate\", \"dst_host_count\", \"dst_host_srv_count\", \"dst_host_same_srv_rate\", \n",
        "            \"dst_host_diff_srv_rate\", \"dst_host_same_src_port_rate\", \"dst_host_srv_diff_host_rate\", \n",
        "            \"dst_host_serror_rate\", \"dst_host_srv_serror_rate\", \"dst_host_rerror_rate\", \"dst_host_srv_rerror_rate\" ]\n",
        "\n",
        "data.loc[:, cols_to_norm] = (data[cols_to_norm] - data[cols_to_norm].mean()) / data[cols_to_norm].std()\n",
        "min_cols = data.loc[data[\"type\"]==0 , cols_to_norm].min()\n",
        "max_cols = data.loc[data[\"type\"]==0 , cols_to_norm].max()"
      ],
      "execution_count": null,
      "outputs": []
    },
    {
      "cell_type": "markdown",
      "metadata": {
        "id": "sm11hEncxQPT"
      },
      "source": [
        "Split the dataset:\n",
        "\n",
        "Split the label out of the dataset into X and y. Split the X and y into trainset and testset with 66% of samples as trainset."
      ]
    },
    {
      "cell_type": "code",
      "metadata": {
        "colab": {
          "base_uri": "https://localhost:8080/"
        },
        "id": "c6UzA0b9P-0g",
        "outputId": "c7ac51f0-62a2-4e91-8d18-80dd8b5f6bdc"
      },
      "source": [
        "# separate between features/inputs X and label/output variables y\n",
        "mat = data.values\n",
        "X = mat[:,0:-1]\n",
        "print(X.shape)\n",
        "y = mat[:,-1]\n",
        "y = y.astype('int')\n",
        "print(y.shape)\n"
      ],
      "execution_count": null,
      "outputs": [
        {
          "output_type": "stream",
          "text": [
            "(494021, 118)\n",
            "(494021,)\n"
          ],
          "name": "stdout"
        }
      ]
    },
    {
      "cell_type": "code",
      "metadata": {
        "colab": {
          "base_uri": "https://localhost:8080/"
        },
        "id": "_I_7L2kpYo45",
        "outputId": "90228844-0010-41f2-ddf0-16c328ddb71e"
      },
      "source": [
        "train_perc = 0.66 # percentage of training data\n",
        "split_point = int(train_perc*len(y))\n",
        "perm = np.random.permutation(len(y))\n",
        "ix_train = perm[:split_point]\n",
        "ix_test = perm[split_point:]\n",
        "X_train = X[ix_train,:]\n",
        "X_test = X[ix_test,:]\n",
        "y_train = y[ix_train]\n",
        "y_test = y[ix_test]\n",
        "print(\"num train: %d\" % len(y_train))\n",
        "print(\"num test: %d\" % len(y_test))"
      ],
      "execution_count": null,
      "outputs": [
        {
          "output_type": "stream",
          "text": [
            "num train: 326053\n",
            "num test: 167968\n"
          ],
          "name": "stdout"
        }
      ]
    },
    {
      "cell_type": "markdown",
      "metadata": {
        "id": "5NW9Z1sTxbMj"
      },
      "source": [
        "# **Baseline model from sklearn**\n",
        "\n",
        "Define the GMM from sklearn as the baseline model:"
      ]
    },
    {
      "cell_type": "code",
      "metadata": {
        "id": "CDvvr1PrYo5S",
        "colab": {
          "base_uri": "https://localhost:8080/"
        },
        "outputId": "34cd28eb-3aa1-4373-de2f-19103b864907"
      },
      "source": [
        "from sklearn.mixture import GaussianMixture\n",
        "gmm = GaussianMixture(2, covariance_type='spherical', random_state=0) # Several type of covariance_type are offered in sklearn GMM and \"spherical\" works the best here\n",
        "\n",
        "gmm.fit(X_train)\n",
        "\n",
        "# make predictions for test set\n",
        "y_hat = gmm.predict(X_test)\n",
        "print(\"predictions:\", y_hat)\n",
        "print(\"true values:\", y_test)\n",
        "\n",
        "# Compute the general prediction accuracy\n",
        "print(\"Accuracy:\", 1.0*np.sum(y_hat == y_test) / len(y_test))"
      ],
      "execution_count": null,
      "outputs": [
        {
          "output_type": "stream",
          "text": [
            "predictions: [1 0 0 ... 0 1 1]\n",
            "true values: [0 0 0 ... 0 1 0]\n",
            "Accuracy: 0.7256203562583349\n"
          ],
          "name": "stdout"
        }
      ]
    },
    {
      "cell_type": "markdown",
      "metadata": {
        "id": "6WCVtTmDxz3j"
      },
      "source": [
        "To look into details on how the model performs, classification_report provided by sklearn is called here to present a detailed evaluation with metrics like precision, recall, f1-score for each class. "
      ]
    },
    {
      "cell_type": "code",
      "metadata": {
        "id": "dTOY4oJgZ4-z",
        "colab": {
          "base_uri": "https://localhost:8080/"
        },
        "outputId": "b93b3757-1a38-4139-db84-ec0b03d74b54"
      },
      "source": [
        "from sklearn.metrics import classification_report\n",
        "print(classification_report(y_test, y_hat))"
      ],
      "execution_count": null,
      "outputs": [
        {
          "output_type": "stream",
          "text": [
            "              precision    recall  f1-score   support\n",
            "\n",
            "           0       1.00      0.66      0.79    134730\n",
            "           1       0.42      1.00      0.59     33238\n",
            "\n",
            "    accuracy                           0.73    167968\n",
            "   macro avg       0.71      0.83      0.69    167968\n",
            "weighted avg       0.89      0.73      0.75    167968\n",
            "\n"
          ],
          "name": "stdout"
        }
      ]
    },
    {
      "cell_type": "markdown",
      "metadata": {
        "id": "p0rpw_lnxvZ3"
      },
      "source": [
        "# **GMM Model Training & Evaluation**"
      ]
    },
    {
      "cell_type": "markdown",
      "metadata": {
        "id": "v8Afzo_qyMa6"
      },
      "source": [
        "**GMM model with 2 components**\n",
        "\n",
        "In this notebook, the target is to do a coarse-grained binary clustering to label the samples in the dataset into 2 clusters, the components of Gaussian mixture is defined as $K=2$ with some tuned parameter. The generative process is: \n",
        "\n",
        "\n",
        "\n",
        "1. Draw $w$ which is a vector $(1 \\times K)$ with probabilities of each class: $w \\sim \\operatorname{Dirichlet}\\left(w_{0}=10\\right)$\n",
        "2. Draw the uncertainty value of the clusters: $\\sigma \\sim \\operatorname{Lognormal}\\left(\\mu_{0}=0, \\sigma_{0}=5\\right)$\n",
        "3. For each cluster $k$ in the clusters $k \\in\\{1, \\ldots, K\\}$ where $K=2$: \n",
        "  * Draw the mean value of the this cluster: $\\mu_{k} \\sim \\operatorname{Normal}\\left(\\mu_{1}=0, \\sigma_{1}=5\\right)$\n",
        "\n",
        "4. For each sample in the dataset $n \\in\\{1, \\ldots, N\\}$: \n",
        "  * Draw latent variable: $z_{n} \\sim \\operatorname{Cat}(w)$ \n",
        "  * Define $k=z_{n}$ generate the samples: $x_{n} \\sim \\operatorname{Normal}\\left(\\mu_{k}, \\sigma\\right)$\n",
        "\n",
        "To implement the model, vectorization is done for the variable to optimize the performance in Pyro. This implementation refers to the Pyro guideline [2] and config_enumerate() handler in Pyro [3] is called here to enable the enumeration over the assignments in each iteration.\n",
        "\n",
        "[2] Gaussian Mixture Model, https://pyro.ai/examples/gmm.html\n",
        "\n",
        "\n",
        "[3] Inference with Discrete Latent Variables, http://pyro.ai/examples/enumeration.html"
      ]
    },
    {
      "cell_type": "code",
      "metadata": {
        "id": "0gwzm2aH2WHH"
      },
      "source": [
        "K = 2  # Fixed number of components.\n",
        "\n",
        "@config_enumerate\n",
        "def gmm(data=None):\n",
        "    D = data.shape[1]\n",
        "    # Global variables\n",
        "    weights = pyro.sample('weights', dist.Dirichlet(10 * torch.ones(K, device=device)))\n",
        "    scale = pyro.sample('scale', dist.LogNormal(0., 5.)).to(device)\n",
        "    with pyro.plate('components', K):\n",
        "        locs = pyro.sample('locs', dist.Normal(torch.zeros(D, device=device), 5.).to_event(1))\n",
        "        assert locs.shape == (K, D)\n",
        "    with pyro.plate('data', len(data)):\n",
        "        # Local variables.\n",
        "        assignment = pyro.sample('assignment', dist.Categorical(weights))\n",
        "        pyro.sample('obs', dist.Normal(locs[assignment], scale).to_event(1),obs=data)"
      ],
      "execution_count": null,
      "outputs": []
    },
    {
      "cell_type": "markdown",
      "metadata": {
        "id": "lUqM5Hmx2epb"
      },
      "source": [
        "The speed of the learning process is tweaked by defining the learning rate and $\\beta_{1}$ & $\\beta_{2}$. To run the inference in Pyro, TraceEnum_ELBO is used here to enable the enumerations in parallel during the sampling from discrete latent states. "
      ]
    },
    {
      "cell_type": "code",
      "metadata": {
        "id": "rng6OgVXZ4-0"
      },
      "source": [
        "optim = pyro.optim.Adam({'lr': 0.0005, 'betas': [0.8, 0.99]})\n",
        "elbo = TraceEnum_ELBO(max_plate_nesting=1)\n",
        "\n",
        "# transform the dataset to tensor\n",
        "X_train_torch = torch.from_numpy(X_train.astype(np.float64)).float()\n",
        "X_test_torch = torch.from_numpy(X_test.astype(np.float64)).float()"
      ],
      "execution_count": null,
      "outputs": []
    },
    {
      "cell_type": "markdown",
      "metadata": {
        "id": "ZT6dZV8M2jzn"
      },
      "source": [
        "The auto guide AutoDelta is used to construct a MAP guide based on Delta distributions. SVI is configured for inference. Compared with MCMC, experiments on this dataset show that SVI can present reasonable convergence time. "
      ]
    },
    {
      "cell_type": "code",
      "metadata": {
        "id": "wnMM86Hb6YuY"
      },
      "source": [
        "pyro.clear_param_store()\n",
        "guide = AutoDelta(poutine.block(gmm, expose=['weights', 'locs', 'scale']))\n",
        "svi = SVI(gmm, guide, optim, loss=elbo)"
      ],
      "execution_count": null,
      "outputs": []
    },
    {
      "cell_type": "markdown",
      "metadata": {
        "id": "MhDjhT8l2qXb"
      },
      "source": [
        "Initialization is done first in the consideration of the GMM is prone to local mode. The optimal initail value is selected from a number of values by iterating the seeds. "
      ]
    },
    {
      "cell_type": "code",
      "metadata": {
        "id": "qYNVNRThZ4-0",
        "colab": {
          "base_uri": "https://localhost:8080/"
        },
        "outputId": "0a8b7c04-ec54-437b-e6fe-c1f9b5316d52"
      },
      "source": [
        "# Initialize the variables to uniform.\n",
        "def init_loc_fn(site):\n",
        "    if site[\"name\"] == \"weights\":\n",
        "        return (torch.ones(K) / K).to(device)\n",
        "    if site[\"name\"] == \"scale\":\n",
        "        return (data.var() / 2).sqrt()\n",
        "    if site[\"name\"] == \"locs\":\n",
        "        return data[torch.multinomial(torch.ones(len(data)) / len(data), K)]\n",
        "    raise ValueError(site[\"name\"])\n",
        "\n",
        "def initialize(seed):\n",
        "    global global_guide, svi\n",
        "    pyro.set_rng_seed(seed)\n",
        "    pyro.clear_param_store()\n",
        "    global_guide = AutoDelta(poutine.block(gmm, expose=['weights', 'locs', 'scale']))\n",
        "    svi = SVI(gmm, global_guide, optim, loss=elbo)\n",
        "    return svi.loss(gmm, global_guide, data)\n",
        "\n",
        "# Choose the best value among 8000 random initializations.\n",
        "data = X_train_torch.to(device)\n",
        "loss, seed = min((initialize(seed), seed) for seed in range(8000))\n",
        "initialize(seed)\n",
        "print('seed = {}, initial_loss = {}'.format(seed, loss))"
      ],
      "execution_count": null,
      "outputs": [
        {
          "output_type": "stream",
          "text": [
            "seed = 1684, initial_loss = 66405064.0\n"
          ],
          "name": "stdout"
        }
      ]
    },
    {
      "cell_type": "code",
      "metadata": {
        "id": "Sl48xoIDZ4-1",
        "colab": {
          "base_uri": "https://localhost:8080/"
        },
        "outputId": "271c4723-f290-4c50-d414-83d0f7a7ad9a"
      },
      "source": [
        "losses = []\n",
        "n_steps = 5000\n",
        "for step in range(n_steps):\n",
        "    loss = svi.step(data)\n",
        "    losses.append(loss)\n",
        "    if step % 500 == 0:\n",
        "        print(\"[%d] ELBO: %.1f\" % (step, loss))"
      ],
      "execution_count": null,
      "outputs": [
        {
          "output_type": "stream",
          "text": [
            "[0] ELBO: 66405064.0\n",
            "[500] ELBO: 60472908.0\n",
            "[1000] ELBO: 54878628.0\n",
            "[1500] ELBO: 49302796.0\n",
            "[2000] ELBO: 43943540.0\n",
            "[2500] ELBO: 39104908.0\n",
            "[3000] ELBO: 35270376.0\n",
            "[3500] ELBO: 32651952.0\n",
            "[4000] ELBO: 31098112.0\n",
            "[4500] ELBO: 30301244.0\n"
          ],
          "name": "stdout"
        }
      ]
    },
    {
      "cell_type": "markdown",
      "metadata": {
        "id": "Lt0jsa2723Fz"
      },
      "source": [
        "The inference comletes after 5000 steps. The plot below presents that the loss basically reaches a convergence. But the converged loss is relatively high, which also indicates that the model might get stuck in local optima. This can be happened due to the non-convex feature of the mixture model optimization process. "
      ]
    },
    {
      "cell_type": "code",
      "metadata": {
        "id": "iIrLuIV_2GnP",
        "colab": {
          "base_uri": "https://localhost:8080/",
          "height": 334
        },
        "outputId": "925e4559-0ff3-4df8-d52f-9a50124a49ef"
      },
      "source": [
        "from matplotlib import pyplot\n",
        "%matplotlib inline\n",
        "\n",
        "pyplot.figure(figsize=(10,3), dpi=100).set_facecolor('white')\n",
        "pyplot.plot(losses)\n",
        "pyplot.xlabel('iters')\n",
        "pyplot.ylabel('loss')\n",
        "pyplot.yscale('log')\n",
        "pyplot.title('Convergence of SVI');"
      ],
      "execution_count": null,
      "outputs": [
        {
          "output_type": "display_data",
          "data": {
            "image/png": "[encoded data removed]",
            "text/plain": [
              "<Figure size 1000x300 with 1 Axes>"
            ]
          },
          "metadata": {
            "tags": []
          }
        }
      ]
    },
    {
      "cell_type": "markdown",
      "metadata": {
        "id": "G6PEdMho2_bL"
      },
      "source": [
        "**Model evaluation**\n",
        "\n",
        "With a model trained by the trainset, the model is expected to be used to make prediction on the testset for evaluation. To do this, the classifier is built to predict the testset based on the discrete inference. Effect handlers of *trace*, *replay* and *infer_discrete* in Pyro is used here to build the classfier and read out the cluster assignment results from the model. The trace hanlder here records the relationships amongst different pyro primitives. Each node in the trace includes the name, input and output value of the site. [4]\n",
        "\n",
        "\n",
        "[4] Trace, https://docs.pyro.ai/en/dev/poutine.html#trace"
      ]
    },
    {
      "cell_type": "code",
      "metadata": {
        "id": "kvmc39P7Z4-1",
        "colab": {
          "base_uri": "https://localhost:8080/"
        },
        "outputId": "ee64e0ff-d5e7-41eb-9beb-303e4f2ec741"
      },
      "source": [
        "guide_trace = poutine.trace(guide).get_trace(data)  # record the globals\n",
        "trained_model = poutine.replay(gmm, trace=guide_trace)  # replay the globals\n",
        "\n",
        "def classifier(data, temperature=0):\n",
        "    inferred_model = infer_discrete(trained_model, temperature=temperature, first_available_dim=-2)  # avoid conflict with data plate\n",
        "    trace = poutine.trace(inferred_model).get_trace(data)\n",
        "    print(trace)\n",
        "    return trace.nodes[\"assignment\"][\"value\"], trace.nodes[\"weights\"][\"value\"], trace.nodes[\"locs\"][\"value\"], trace.nodes[\"scale\"][\"value\"]\n",
        "\n",
        "print(classifier(X_test_torch.to(device)))"
      ],
      "execution_count": null,
      "outputs": [
        {
          "output_type": "stream",
          "text": [
            "<pyro.poutine.trace_struct.Trace object at 0x7f9944953e90>\n",
            "(tensor([0, 0, 0,  ..., 0, 0, 0]), tensor([0.9899, 0.0101], grad_fn=<ExpandBackward>), tensor([[ 5.7627e-01,  3.8307e-01,  4.0636e-02,  7.5990e-05,  3.4915e-05,\n",
            "          2.3695e-04,  7.0267e-04,  2.2103e-04,  1.9029e-04,  2.4022e-04,\n",
            "          4.7372e-04,  2.0660e-04,  2.5119e-04,  1.8256e-04,  1.1830e-02,\n",
            "          2.3311e-04,  3.3056e-03,  5.7181e-01,  2.0294e-04,  2.9518e-04,\n",
            "          1.3784e-03,  2.5620e-04,  9.3091e-03,  2.0655e-04,  2.1791e-04,\n",
            "          1.2966e-01, -3.3897e-02,  2.5226e-04,  2.3167e-04,  2.3447e-04,\n",
            "          1.9680e-04,  2.0897e-04,  2.0648e-04,  2.1372e-04,  2.1161e-04,\n",
            "          2.4008e-04,  3.0294e-01,  2.3075e-04,  2.0389e-04,  1.8731e-04,\n",
            "          2.1691e-04,  1.8473e-04,  7.9634e-04,  1.4205e-02, -4.5480e-08,\n",
            "          1.8153e-04,  3.8915e-04,  2.5981e-04,  2.2520e-01,  3.2241e-06,\n",
            "          2.1421e-04,  1.5062e-04,  2.3075e-04,  1.9504e-02,  1.8805e-04,\n",
            "          2.3617e-04,  2.0501e-04,  2.1025e-04,  2.5256e-04,  9.1946e-04,\n",
            "          3.0767e-06,  1.2745e-05,  3.3370e-04,  6.2725e-05,  1.1322e-03,\n",
            "          1.8088e-04,  2.1617e-04,  1.9056e-04,  2.2460e-04,  4.0942e-05,\n",
            "          5.4905e-02,  1.1892e-03,  2.3442e-05,  1.6908e-03,  1.7675e-01,\n",
            "          1.8334e-04, -5.6879e-06, -8.2445e-06,  7.6507e-01,  2.2147e-04,\n",
            "         -1.9459e-02, -1.9270e-03, -7.2667e-04,  3.9216e-05, -5.5418e-04,\n",
            "         -2.5702e-03, -3.2346e-02, -6.3707e-05,  1.4568e-01, -3.1362e-03,\n",
            "          4.7978e-05,  2.2983e-05, -2.9329e-03, -7.0598e-03, -9.9120e-03,\n",
            "         -2.7622e-02,  0.0000e+00, -3.3171e-01,  3.3415e-02,  6.0241e-03,\n",
            "          4.5170e-03,  1.6089e-03,  1.6070e-03,  1.6429e-03,  1.3570e-03,\n",
            "         -2.0005e-03,  8.0288e-04, -2.3902e-03,  4.0077e-03,  3.0179e-03,\n",
            "          2.1068e-03, -4.2485e-03,  2.5486e-03, -1.4361e-03,  1.6438e-03,\n",
            "          1.6558e-03,  3.1619e-02,  1.3720e-03],\n",
            "        [ 2.1188e-33,  8.3152e-01,  1.3724e-01,  1.2202e+00,  1.9808e-39,\n",
            "         -2.4809e-07,  1.1562e-07, -6.3779e-40, -9.1963e-05,  9.7036e-04,\n",
            "         -1.9656e-07, -5.1692e-07,  5.8131e-15, -6.1096e-07,  1.7887e-24,\n",
            "         -1.5515e-05, -6.1945e-29,  1.7569e-06,  9.5644e-04,  1.6954e-07,\n",
            "          9.6187e-04,  4.3136e-01,  7.4614e-02,  3.9502e-06, -1.0728e-06,\n",
            "          2.0657e-01,  1.6816e-06,  1.1386e-24, -8.8381e-01, -1.8038e-06,\n",
            "         -5.0875e-01,  2.5899e-06,  1.0161e-06,  6.1800e-03,  1.0019e-02,\n",
            "          6.3853e-06,  0.0000e+00, -1.1623e-04,  4.9179e-04, -4.5450e-05,\n",
            "          1.4708e-04,  4.0327e-07,  7.2432e-06,  3.4933e-01,  8.7809e-07,\n",
            "          4.8564e-06, -1.4451e-27,  9.6842e-04,  3.0053e-02,  5.2512e-06,\n",
            "          6.2270e-02, -1.1959e-02, -3.2822e-06,  7.2644e-02, -0.0000e+00,\n",
            "         -2.3840e-06, -1.0268e-07,  9.6329e-04, -1.0222e-05,  3.4954e-02,\n",
            "          5.9783e-07,  9.7210e-05, -8.3399e-05,  2.5223e-44,  9.1614e-07,\n",
            "          9.6842e-04,  6.1970e-06,  8.8692e-07, -6.0674e-06,  1.7869e-04,\n",
            "          5.4724e-08,  2.9062e-03,  9.9657e-04,  1.3614e+00,  4.6393e-06,\n",
            "         -5.5551e-01, -1.5908e-07,  1.9763e-03,  5.3285e-01,  3.3872e-05,\n",
            "          1.1298e+00,  8.1933e-01,  6.9851e-02,  2.7099e-07, -4.7711e-02,\n",
            "          1.7340e-01,  6.6119e+00, -9.7815e-03,  8.2355e-01,  8.3500e-01,\n",
            "          2.4219e-02,  6.7917e-03,  8.0713e-01,  1.5266e+00,  1.7877e+00,\n",
            "          1.5160e+00,  1.3714e-04, -1.9797e-05,  4.2925e-01, -1.5491e+00,\n",
            "         -1.1798e+00, -4.5459e-01, -4.5483e-01, -6.0161e-02, -3.4241e-02,\n",
            "          4.4487e-01,  8.8016e-02,  2.0468e-01, -8.1837e-01, -9.5710e-01,\n",
            "         -7.8726e-01,  8.2044e-01, -7.5729e-01,  1.7929e-02, -4.3772e-01,\n",
            "         -4.4743e-01, -7.6046e-02, -1.0646e+00]], grad_fn=<ExpandBackward>), tensor(0.5271, grad_fn=<ExpandBackward>))\n"
          ],
          "name": "stdout"
        }
      ]
    },
    {
      "cell_type": "code",
      "metadata": {
        "id": "VvO4CWYUZ4-2",
        "colab": {
          "base_uri": "https://localhost:8080/"
        },
        "outputId": "5b85bd0b-e710-4713-de5b-77b51125786b"
      },
      "source": [
        "y_pred, y_weights, y_locs, y_scale = classifier(X_test_torch.to(device))\n",
        "print(y_pred)"
      ],
      "execution_count": null,
      "outputs": [
        {
          "output_type": "stream",
          "text": [
            "<pyro.poutine.trace_struct.Trace object at 0x7f9944953410>\n",
            "tensor([0, 0, 0,  ..., 0, 0, 0])\n"
          ],
          "name": "stdout"
        }
      ]
    },
    {
      "cell_type": "markdown",
      "metadata": {
        "id": "lWnYSKNL5uKI"
      },
      "source": [
        "**Prediction results**"
      ]
    },
    {
      "cell_type": "markdown",
      "metadata": {
        "id": "eohfEBPc5XxV"
      },
      "source": [
        "Detach the prediction results from GPU and make a general evalution on the accuracy by comparing the labels between the testset and prediction results. "
      ]
    },
    {
      "cell_type": "markdown",
      "metadata": {
        "id": "q5LiX2Zs59um"
      },
      "source": [
        "The accuracy shows an accuracy of 0.80 which is slighly higher than the baseline result 0.73 got from sklearn."
      ]
    },
    {
      "cell_type": "code",
      "metadata": {
        "id": "3j2j2nygZ4-2",
        "colab": {
          "base_uri": "https://localhost:8080/"
        },
        "outputId": "35ab9b40-f153-443e-8439-c42d5b462ab9"
      },
      "source": [
        "y_pred = y_pred.detach().cpu().numpy() \n",
        "# evaluate prediction accuracy\n",
        "print(\"Accuracy:\", 1.0*np.sum(y_pred == y_test) / len(y_test))"
      ],
      "execution_count": null,
      "outputs": [
        {
          "output_type": "stream",
          "text": [
            "Accuracy: 0.8035459135073347\n"
          ],
          "name": "stdout"
        }
      ]
    },
    {
      "cell_type": "markdown",
      "metadata": {
        "id": "bXEf9nGZ3XLH"
      },
      "source": [
        "By taking a closer look at the prediction results for each cluster, the model implemented in Pyro also shows a better performance than the sklearn baseline model in general. Specifically, the model implemented in Pyro presents a more balanced detection capabilities with both relatively high precision in anomalous samples (0) and normal samples (1). But for the detection on normal samples, the recall and f1-score indicates that the model still need further tuning to yield more reliable detection results. "
      ]
    },
    {
      "cell_type": "code",
      "metadata": {
        "id": "gzgzbQE8Z4-2",
        "colab": {
          "base_uri": "https://localhost:8080/"
        },
        "outputId": "dd1d3ec2-d689-4107-8178-7b42b251b022"
      },
      "source": [
        "from sklearn.metrics import classification_report\n",
        "print(classification_report(y_test, y_pred))"
      ],
      "execution_count": null,
      "outputs": [
        {
          "output_type": "stream",
          "text": [
            "              precision    recall  f1-score   support\n",
            "\n",
            "           0       0.80      1.00      0.89    134730\n",
            "           1       0.72      0.01      0.02     33238\n",
            "\n",
            "    accuracy                           0.80    167968\n",
            "   macro avg       0.76      0.51      0.46    167968\n",
            "weighted avg       0.79      0.80      0.72    167968\n",
            "\n"
          ],
          "name": "stdout"
        }
      ]
    },
    {
      "cell_type": "markdown",
      "metadata": {
        "id": "jYKGJULd5y-a"
      },
      "source": [
        "**Clustering parameters**"
      ]
    },
    {
      "cell_type": "markdown",
      "metadata": {
        "id": "j7AkWoEF8om9"
      },
      "source": [
        "Below presents the parameters fitted for the GMM model trained in Pyro. The weights show that most of the data gathered in the component 0 (anomalous points) and others clustered to the component 1 (normal points)."
      ]
    },
    {
      "cell_type": "code",
      "metadata": {
        "colab": {
          "base_uri": "https://localhost:8080/"
        },
        "id": "2PWj4YigFaya",
        "outputId": "fd747772-1d0f-488a-86fc-6c1dcc64abb6"
      },
      "source": [
        "y_weights.cpu().detach().numpy()"
      ],
      "execution_count": null,
      "outputs": [
        {
          "output_type": "execute_result",
          "data": {
            "text/plain": [
              "array([0.98993826, 0.01006181], dtype=float32)"
            ]
          },
          "metadata": {
            "tags": []
          },
          "execution_count": 32
        }
      ]
    },
    {
      "cell_type": "code",
      "metadata": {
        "id": "eiZv52ldKYs9",
        "colab": {
          "base_uri": "https://localhost:8080/",
          "height": 319
        },
        "outputId": "f2fd6e15-a140-4224-80e5-69497f03f5d9"
      },
      "source": [
        "sns.distplot(y_weights.cpu().detach().numpy(), label=\"prediction\")\n",
        "plt.legend()\n",
        "plt.show()"
      ],
      "execution_count": null,
      "outputs": [
        {
          "output_type": "stream",
          "text": [
            "/usr/local/lib/python3.7/dist-packages/seaborn/distributions.py:2557: FutureWarning: `distplot` is a deprecated function and will be removed in a future version. Please adapt your code to use either `displot` (a figure-level function with similar flexibility) or `histplot` (an axes-level function for histograms).\n",
            "  warnings.warn(msg, FutureWarning)\n"
          ],
          "name": "stderr"
        },
        {
          "output_type": "display_data",
          "data": {
            "image/png": "[encoded data removed]",
            "text/plain": [
              "<Figure size 432x288 with 1 Axes>"
            ]
          },
          "metadata": {
            "tags": [],
            "needs_background": "light"
          }
        }
      ]
    },
    {
      "cell_type": "markdown",
      "metadata": {
        "id": "c8QM2ILQ7Pq1"
      },
      "source": [
        "The plot below is the density estimate and histogram of the mean values for the Gaussian distributions modeled for the samples of each component. "
      ]
    },
    {
      "cell_type": "code",
      "metadata": {
        "colab": {
          "base_uri": "https://localhost:8080/",
          "height": 319
        },
        "id": "zDefay82rOBa",
        "outputId": "a94f0c53-8a55-412f-8db6-dbc3a5c66ce3"
      },
      "source": [
        "sns.distplot(y_locs.cpu().detach().numpy(), label=\"prediction\")\n",
        "plt.legend()\n",
        "plt.show()"
      ],
      "execution_count": null,
      "outputs": [
        {
          "output_type": "stream",
          "text": [
            "/usr/local/lib/python3.7/dist-packages/seaborn/distributions.py:2557: FutureWarning: `distplot` is a deprecated function and will be removed in a future version. Please adapt your code to use either `displot` (a figure-level function with similar flexibility) or `histplot` (an axes-level function for histograms).\n",
            "  warnings.warn(msg, FutureWarning)\n"
          ],
          "name": "stderr"
        },
        {
          "output_type": "display_data",
          "data": {
            "image/png": "[encoded data removed]",
            "text/plain": [
              "<Figure size 432x288 with 1 Axes>"
            ]
          },
          "metadata": {
            "tags": [],
            "needs_background": "light"
          }
        }
      ]
    },
    {
      "cell_type": "markdown",
      "metadata": {
        "id": "fp57I1xi7VDu"
      },
      "source": [
        "To clearly compare the mixture model, the density estimate and histogram is drawn for both the real case (blue) and predicted case (red). In general, they show a similar pattern with two peaks. But it still presents some deviations from the real case. "
      ]
    },
    {
      "cell_type": "code",
      "metadata": {
        "colab": {
          "base_uri": "https://localhost:8080/",
          "height": 354
        },
        "id": "cjEnn0pKsADU",
        "outputId": "ca3ffc89-71d6-42a5-af5c-f60aee76db45"
      },
      "source": [
        "sns.distplot(y_pred, label=\"prediction\")\n",
        "sns.distplot(y_test, label=\"true\")\n",
        "plt.legend()\n",
        "plt.show()"
      ],
      "execution_count": null,
      "outputs": [
        {
          "output_type": "stream",
          "text": [
            "/usr/local/lib/python3.7/dist-packages/seaborn/distributions.py:2557: FutureWarning: `distplot` is a deprecated function and will be removed in a future version. Please adapt your code to use either `displot` (a figure-level function with similar flexibility) or `histplot` (an axes-level function for histograms).\n",
            "  warnings.warn(msg, FutureWarning)\n",
            "/usr/local/lib/python3.7/dist-packages/seaborn/distributions.py:2557: FutureWarning: `distplot` is a deprecated function and will be removed in a future version. Please adapt your code to use either `displot` (a figure-level function with similar flexibility) or `histplot` (an axes-level function for histograms).\n",
            "  warnings.warn(msg, FutureWarning)\n"
          ],
          "name": "stderr"
        },
        {
          "output_type": "display_data",
          "data": {
            "image/png": "[encoded data removed]",
            "text/plain": [
              "<Figure size 432x288 with 1 Axes>"
            ]
          },
          "metadata": {
            "tags": [],
            "needs_background": "light"
          }
        }
      ]
    }
  ]
}