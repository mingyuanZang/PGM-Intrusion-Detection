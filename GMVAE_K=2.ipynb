{
  "nbformat": 4,
  "nbformat_minor": 0,
  "metadata": {
    "accelerator": "GPU",
    "colab": {
      "name": "(final)GMVAE-K2-plots.ipynb",
      "provenance": [],
      "collapsed_sections": []
    },
    "kernelspec": {
      "display_name": "Python 3",
      "language": "python",
      "name": "python3"
    },
    "language_info": {
      "codemirror_mode": {
        "name": "ipython",
        "version": 3
      },
      "file_extension": ".py",
      "mimetype": "text/x-python",
      "name": "python",
      "nbconvert_exporter": "python",
      "pygments_lexer": "ipython3",
      "version": "3.7.3"
    }
  },
  "cells": [
    {
      "cell_type": "markdown",
      "metadata": {
        "id": "C60ZAm4-Yo4M"
      },
      "source": [
        "# Project for 42186 Model-based Machine Learning F21  \n",
        "\n",
        "## PGM in Intrusion Detection System\n",
        "\n",
        "### Notebook - GMVAE (K=2)\n",
        "\n",
        "The KDDCUP99 10 percent dataset from the UCI repository. [1] It is a benchmark dataset for the evaluation of network Intrusion Detection System including the records of normal and malicious traffics. It contains 494021 samples in total with 42 dimensions. \n",
        "\n",
        "The target for this project is to consider intrusion detection as a classification problem without time as parameter over the dataset. Considering the multiple features in this dataset and referring to the GMVAE work in paper https://arxiv.org/pdf/1611.02648.pdf, the Variational Autoencoders (VAE) is tried in this notebook to be added into GMM to get GMVAE model, so that to utilize the idea of latent variable in deep generative model like VAE. This notebook studies if this model structure can help improve the coarse-grained results in notebook GMM (K=2) where the dataset samples are classified into normal/abnormal. \n",
        "\n",
        "\\* Note that, due to the GPU timeout issues in Colab, this model is run with local CPU. \n",
        "\n",
        "[1] http://kdd.ics.uci.edu/databases/kddcup99/"
      ]
    },
    {
      "cell_type": "markdown",
      "metadata": {
        "id": "2f9E8qzwlEwv"
      },
      "source": [
        "# **Preparation**"
      ]
    },
    {
      "cell_type": "markdown",
      "metadata": {
        "id": "CMkh3tSlkmja"
      },
      "source": [
        "Import required libraries Pyro:"
      ]
    },
    {
      "cell_type": "code",
      "metadata": {
        "colab": {
          "base_uri": "https://localhost:8080/"
        },
        "id": "Ei1QbnmhYyXM",
        "outputId": "be01bed5-803f-4c9c-d2a7-c6e9a34bad73"
      },
      "source": [
        "# Install Pyro, if necessary\n",
        "!pip install pyro-ppl"
      ],
      "execution_count": null,
      "outputs": [
        {
          "output_type": "stream",
          "text": [
            "Requirement already satisfied: pyro-ppl in /home/fotonik208/anaconda3/lib/python3.7/site-packages (1.6.0)\n",
            "Requirement already satisfied: torch>=1.8.0 in /home/fotonik208/anaconda3/lib/python3.7/site-packages (from pyro-ppl) (1.8.1)\n",
            "Requirement already satisfied: opt-einsum>=2.3.2 in /home/fotonik208/anaconda3/lib/python3.7/site-packages (from pyro-ppl) (3.3.0)\n",
            "Requirement already satisfied: tqdm>=4.36 in /home/fotonik208/anaconda3/lib/python3.7/site-packages (from pyro-ppl) (4.60.0)\n",
            "Requirement already satisfied: pyro-api>=0.1.1 in /home/fotonik208/anaconda3/lib/python3.7/site-packages (from pyro-ppl) (0.1.2)\n",
            "Requirement already satisfied: numpy>=1.7 in /home/fotonik208/anaconda3/lib/python3.7/site-packages (from pyro-ppl) (1.16.4)\n",
            "Requirement already satisfied: typing-extensions in /home/fotonik208/anaconda3/lib/python3.7/site-packages (from torch>=1.8.0->pyro-ppl) (3.7.4.3)\n"
          ],
          "name": "stdout"
        }
      ]
    },
    {
      "cell_type": "markdown",
      "metadata": {
        "id": "2-5fm56YkqXa"
      },
      "source": [
        "Import the necessary packages"
      ]
    },
    {
      "cell_type": "code",
      "metadata": {
        "id": "iGyKT_grYo4O"
      },
      "source": [
        "import numpy as np\n",
        "import pandas as pd\n",
        "from matplotlib import pyplot as plt\n",
        "from sklearn import linear_model\n",
        "import seaborn as sns\n",
        "import torch\n",
        "import torch.autograd as autograd\n",
        "\n",
        "import pyro\n",
        "import pyro.distributions as dist\n",
        "from pyro.contrib.autoguide import AutoDiagonalNormal, AutoMultivariateNormal, AutoGuideList\n",
        "from pyro.infer import MCMC, NUTS, HMC, SVI, Trace_ELBO\n",
        "from pyro.optim import Adam, ClippedAdam\n",
        "from pyro.infer import SVI, TraceEnum_ELBO, JitTrace_ELBO, config_enumerate, infer_discrete\n",
        "from pyro.infer.autoguide import AutoDelta\n",
        "from pyro import poutine\n",
        "\n",
        "import torch\n",
        "import torch.nn as nn\n",
        "\n",
        "# fix random generator seed (for reproducibility of results)\n",
        "np.random.seed(42)\n",
        "\n",
        "# matplotlib style options\n",
        "plt.style.use('ggplot')\n",
        "%matplotlib inline\n",
        "plt.rcParams['figure.figsize'] = (12, 8)"
      ],
      "execution_count": null,
      "outputs": []
    },
    {
      "cell_type": "markdown",
      "metadata": {
        "id": "leUFPWUjI_Ho"
      },
      "source": [
        "**Load the dataset from local folder**"
      ]
    },
    {
      "cell_type": "markdown",
      "metadata": {
        "id": "T9AqN3J7lpe4"
      },
      "source": [
        "Based on the printed statistics and information, the dataset contains 494021 samples in total with 42 dimensions, where the first 41 of them are the features of network traffic and the last dimension is the label to indicate whether the traffic is normal or not. The 41 features are collected by directly extracting from the network traffic flow like the src_bytes, or by computing with a two-second time window like the serror_rate. For these 41 features, they are in the form of continuous, discrete or symbolic with the ranges varying widely. "
      ]
    },
    {
      "cell_type": "code",
      "metadata": {
        "colab": {
          "base_uri": "https://localhost:8080/",
          "height": 224
        },
        "id": "SElGiw97uk_G",
        "outputId": "221c35b7-218d-4781-b756-f0fc098a2594"
      },
      "source": [
        "# load csv\n",
        "data = pd.read_csv(\"/home/fotonik208/mbml/kddcup.data_10_percent_corrected\", header=None,names=['duration', 'protocol_type', 'service', 'flag', 'src_bytes', 'dst_bytes', 'land', 'wrong_fragment', 'urgent', 'hot', 'num_failed_logins', 'logged_in', 'num_compromised', 'root_shell', 'su_attempted', 'num_root', 'num_file_creations', 'num_shells', 'num_access_files', 'num_outbound_cmds', 'is_host_login', 'is_guest_login', 'count', 'srv_count', 'serror_rate', 'srv_serror_rate', 'rerror_rate', 'srv_rerror_rate', 'same_srv_rate', 'diff_srv_rate', 'srv_diff_host_rate', 'dst_host_count', 'dst_host_srv_count', 'dst_host_same_srv_rate', 'dst_host_diff_srv_rate', 'dst_host_same_src_port_rate', 'dst_host_srv_diff_host_rate', 'dst_host_serror_rate', 'dst_host_srv_serror_rate', 'dst_host_rerror_rate', 'dst_host_srv_rerror_rate', 'type'])\n",
        "data.head()"
      ],
      "execution_count": null,
      "outputs": [
        {
          "output_type": "execute_result",
          "data": {
            "text/html": [
              "<div>\n",
              "<style scoped>\n",
              "    .dataframe tbody tr th:only-of-type {\n",
              "        vertical-align: middle;\n",
              "    }\n",
              "\n",
              "    .dataframe tbody tr th {\n",
              "        vertical-align: top;\n",
              "    }\n",
              "\n",
              "    .dataframe thead th {\n",
              "        text-align: right;\n",
              "    }\n",
              "</style>\n",
              "<table border=\"1\" class=\"dataframe\">\n",
              "  <thead>\n",
              "    <tr style=\"text-align: right;\">\n",
              "      <th></th>\n",
              "      <th>duration</th>\n",
              "      <th>protocol_type</th>\n",
              "      <th>service</th>\n",
              "      <th>flag</th>\n",
              "      <th>src_bytes</th>\n",
              "      <th>dst_bytes</th>\n",
              "      <th>land</th>\n",
              "      <th>wrong_fragment</th>\n",
              "      <th>urgent</th>\n",
              "      <th>hot</th>\n",
              "      <th>...</th>\n",
              "      <th>dst_host_srv_count</th>\n",
              "      <th>dst_host_same_srv_rate</th>\n",
              "      <th>dst_host_diff_srv_rate</th>\n",
              "      <th>dst_host_same_src_port_rate</th>\n",
              "      <th>dst_host_srv_diff_host_rate</th>\n",
              "      <th>dst_host_serror_rate</th>\n",
              "      <th>dst_host_srv_serror_rate</th>\n",
              "      <th>dst_host_rerror_rate</th>\n",
              "      <th>dst_host_srv_rerror_rate</th>\n",
              "      <th>type</th>\n",
              "    </tr>\n",
              "  </thead>\n",
              "  <tbody>\n",
              "    <tr>\n",
              "      <th>0</th>\n",
              "      <td>0</td>\n",
              "      <td>tcp</td>\n",
              "      <td>http</td>\n",
              "      <td>SF</td>\n",
              "      <td>181</td>\n",
              "      <td>5450</td>\n",
              "      <td>0</td>\n",
              "      <td>0</td>\n",
              "      <td>0</td>\n",
              "      <td>0</td>\n",
              "      <td>...</td>\n",
              "      <td>9</td>\n",
              "      <td>1.0</td>\n",
              "      <td>0.0</td>\n",
              "      <td>0.11</td>\n",
              "      <td>0.0</td>\n",
              "      <td>0.0</td>\n",
              "      <td>0.0</td>\n",
              "      <td>0.0</td>\n",
              "      <td>0.0</td>\n",
              "      <td>normal.</td>\n",
              "    </tr>\n",
              "    <tr>\n",
              "      <th>1</th>\n",
              "      <td>0</td>\n",
              "      <td>tcp</td>\n",
              "      <td>http</td>\n",
              "      <td>SF</td>\n",
              "      <td>239</td>\n",
              "      <td>486</td>\n",
              "      <td>0</td>\n",
              "      <td>0</td>\n",
              "      <td>0</td>\n",
              "      <td>0</td>\n",
              "      <td>...</td>\n",
              "      <td>19</td>\n",
              "      <td>1.0</td>\n",
              "      <td>0.0</td>\n",
              "      <td>0.05</td>\n",
              "      <td>0.0</td>\n",
              "      <td>0.0</td>\n",
              "      <td>0.0</td>\n",
              "      <td>0.0</td>\n",
              "      <td>0.0</td>\n",
              "      <td>normal.</td>\n",
              "    </tr>\n",
              "    <tr>\n",
              "      <th>2</th>\n",
              "      <td>0</td>\n",
              "      <td>tcp</td>\n",
              "      <td>http</td>\n",
              "      <td>SF</td>\n",
              "      <td>235</td>\n",
              "      <td>1337</td>\n",
              "      <td>0</td>\n",
              "      <td>0</td>\n",
              "      <td>0</td>\n",
              "      <td>0</td>\n",
              "      <td>...</td>\n",
              "      <td>29</td>\n",
              "      <td>1.0</td>\n",
              "      <td>0.0</td>\n",
              "      <td>0.03</td>\n",
              "      <td>0.0</td>\n",
              "      <td>0.0</td>\n",
              "      <td>0.0</td>\n",
              "      <td>0.0</td>\n",
              "      <td>0.0</td>\n",
              "      <td>normal.</td>\n",
              "    </tr>\n",
              "    <tr>\n",
              "      <th>3</th>\n",
              "      <td>0</td>\n",
              "      <td>tcp</td>\n",
              "      <td>http</td>\n",
              "      <td>SF</td>\n",
              "      <td>219</td>\n",
              "      <td>1337</td>\n",
              "      <td>0</td>\n",
              "      <td>0</td>\n",
              "      <td>0</td>\n",
              "      <td>0</td>\n",
              "      <td>...</td>\n",
              "      <td>39</td>\n",
              "      <td>1.0</td>\n",
              "      <td>0.0</td>\n",
              "      <td>0.03</td>\n",
              "      <td>0.0</td>\n",
              "      <td>0.0</td>\n",
              "      <td>0.0</td>\n",
              "      <td>0.0</td>\n",
              "      <td>0.0</td>\n",
              "      <td>normal.</td>\n",
              "    </tr>\n",
              "    <tr>\n",
              "      <th>4</th>\n",
              "      <td>0</td>\n",
              "      <td>tcp</td>\n",
              "      <td>http</td>\n",
              "      <td>SF</td>\n",
              "      <td>217</td>\n",
              "      <td>2032</td>\n",
              "      <td>0</td>\n",
              "      <td>0</td>\n",
              "      <td>0</td>\n",
              "      <td>0</td>\n",
              "      <td>...</td>\n",
              "      <td>49</td>\n",
              "      <td>1.0</td>\n",
              "      <td>0.0</td>\n",
              "      <td>0.02</td>\n",
              "      <td>0.0</td>\n",
              "      <td>0.0</td>\n",
              "      <td>0.0</td>\n",
              "      <td>0.0</td>\n",
              "      <td>0.0</td>\n",
              "      <td>normal.</td>\n",
              "    </tr>\n",
              "  </tbody>\n",
              "</table>\n",
              "<p>5 rows × 42 columns</p>\n",
              "</div>"
            ],
            "text/plain": [
              "   duration protocol_type service flag  src_bytes  dst_bytes  land  \\\n",
              "0         0           tcp    http   SF        181       5450     0   \n",
              "1         0           tcp    http   SF        239        486     0   \n",
              "2         0           tcp    http   SF        235       1337     0   \n",
              "3         0           tcp    http   SF        219       1337     0   \n",
              "4         0           tcp    http   SF        217       2032     0   \n",
              "\n",
              "   wrong_fragment  urgent  hot  ...  dst_host_srv_count  \\\n",
              "0               0       0    0  ...                   9   \n",
              "1               0       0    0  ...                  19   \n",
              "2               0       0    0  ...                  29   \n",
              "3               0       0    0  ...                  39   \n",
              "4               0       0    0  ...                  49   \n",
              "\n",
              "   dst_host_same_srv_rate  dst_host_diff_srv_rate  \\\n",
              "0                     1.0                     0.0   \n",
              "1                     1.0                     0.0   \n",
              "2                     1.0                     0.0   \n",
              "3                     1.0                     0.0   \n",
              "4                     1.0                     0.0   \n",
              "\n",
              "   dst_host_same_src_port_rate  dst_host_srv_diff_host_rate  \\\n",
              "0                         0.11                          0.0   \n",
              "1                         0.05                          0.0   \n",
              "2                         0.03                          0.0   \n",
              "3                         0.03                          0.0   \n",
              "4                         0.02                          0.0   \n",
              "\n",
              "   dst_host_serror_rate  dst_host_srv_serror_rate  dst_host_rerror_rate  \\\n",
              "0                   0.0                       0.0                   0.0   \n",
              "1                   0.0                       0.0                   0.0   \n",
              "2                   0.0                       0.0                   0.0   \n",
              "3                   0.0                       0.0                   0.0   \n",
              "4                   0.0                       0.0                   0.0   \n",
              "\n",
              "   dst_host_srv_rerror_rate     type  \n",
              "0                       0.0  normal.  \n",
              "1                       0.0  normal.  \n",
              "2                       0.0  normal.  \n",
              "3                       0.0  normal.  \n",
              "4                       0.0  normal.  \n",
              "\n",
              "[5 rows x 42 columns]"
            ]
          },
          "metadata": {
            "tags": []
          },
          "execution_count": 4
        }
      ]
    },
    {
      "cell_type": "code",
      "metadata": {
        "colab": {
          "base_uri": "https://localhost:8080/",
          "height": 317
        },
        "id": "BYrD5SHDOU29",
        "outputId": "fc83d3ac-1222-4edf-a0b8-6a46b09ec603"
      },
      "source": [
        "data.describe()"
      ],
      "execution_count": null,
      "outputs": [
        {
          "output_type": "execute_result",
          "data": {
            "text/html": [
              "<div>\n",
              "<style scoped>\n",
              "    .dataframe tbody tr th:only-of-type {\n",
              "        vertical-align: middle;\n",
              "    }\n",
              "\n",
              "    .dataframe tbody tr th {\n",
              "        vertical-align: top;\n",
              "    }\n",
              "\n",
              "    .dataframe thead th {\n",
              "        text-align: right;\n",
              "    }\n",
              "</style>\n",
              "<table border=\"1\" class=\"dataframe\">\n",
              "  <thead>\n",
              "    <tr style=\"text-align: right;\">\n",
              "      <th></th>\n",
              "      <th>duration</th>\n",
              "      <th>src_bytes</th>\n",
              "      <th>dst_bytes</th>\n",
              "      <th>land</th>\n",
              "      <th>wrong_fragment</th>\n",
              "      <th>urgent</th>\n",
              "      <th>hot</th>\n",
              "      <th>num_failed_logins</th>\n",
              "      <th>logged_in</th>\n",
              "      <th>num_compromised</th>\n",
              "      <th>...</th>\n",
              "      <th>dst_host_count</th>\n",
              "      <th>dst_host_srv_count</th>\n",
              "      <th>dst_host_same_srv_rate</th>\n",
              "      <th>dst_host_diff_srv_rate</th>\n",
              "      <th>dst_host_same_src_port_rate</th>\n",
              "      <th>dst_host_srv_diff_host_rate</th>\n",
              "      <th>dst_host_serror_rate</th>\n",
              "      <th>dst_host_srv_serror_rate</th>\n",
              "      <th>dst_host_rerror_rate</th>\n",
              "      <th>dst_host_srv_rerror_rate</th>\n",
              "    </tr>\n",
              "  </thead>\n",
              "  <tbody>\n",
              "    <tr>\n",
              "      <th>count</th>\n",
              "      <td>494021.000000</td>\n",
              "      <td>4.940210e+05</td>\n",
              "      <td>4.940210e+05</td>\n",
              "      <td>494021.000000</td>\n",
              "      <td>494021.000000</td>\n",
              "      <td>494021.000000</td>\n",
              "      <td>494021.000000</td>\n",
              "      <td>494021.000000</td>\n",
              "      <td>494021.000000</td>\n",
              "      <td>494021.000000</td>\n",
              "      <td>...</td>\n",
              "      <td>494021.000000</td>\n",
              "      <td>494021.000000</td>\n",
              "      <td>494021.000000</td>\n",
              "      <td>494021.000000</td>\n",
              "      <td>494021.000000</td>\n",
              "      <td>494021.000000</td>\n",
              "      <td>494021.000000</td>\n",
              "      <td>494021.000000</td>\n",
              "      <td>494021.000000</td>\n",
              "      <td>494021.000000</td>\n",
              "    </tr>\n",
              "    <tr>\n",
              "      <th>mean</th>\n",
              "      <td>47.979302</td>\n",
              "      <td>3.025610e+03</td>\n",
              "      <td>8.685324e+02</td>\n",
              "      <td>0.000045</td>\n",
              "      <td>0.006433</td>\n",
              "      <td>0.000014</td>\n",
              "      <td>0.034519</td>\n",
              "      <td>0.000152</td>\n",
              "      <td>0.148247</td>\n",
              "      <td>0.010212</td>\n",
              "      <td>...</td>\n",
              "      <td>232.470778</td>\n",
              "      <td>188.665670</td>\n",
              "      <td>0.753780</td>\n",
              "      <td>0.030906</td>\n",
              "      <td>0.601935</td>\n",
              "      <td>0.006684</td>\n",
              "      <td>0.176754</td>\n",
              "      <td>0.176443</td>\n",
              "      <td>0.058118</td>\n",
              "      <td>0.057412</td>\n",
              "    </tr>\n",
              "    <tr>\n",
              "      <th>std</th>\n",
              "      <td>707.746472</td>\n",
              "      <td>9.882181e+05</td>\n",
              "      <td>3.304000e+04</td>\n",
              "      <td>0.006673</td>\n",
              "      <td>0.134805</td>\n",
              "      <td>0.005510</td>\n",
              "      <td>0.782103</td>\n",
              "      <td>0.015520</td>\n",
              "      <td>0.355345</td>\n",
              "      <td>1.798326</td>\n",
              "      <td>...</td>\n",
              "      <td>64.745380</td>\n",
              "      <td>106.040437</td>\n",
              "      <td>0.410781</td>\n",
              "      <td>0.109259</td>\n",
              "      <td>0.481309</td>\n",
              "      <td>0.042133</td>\n",
              "      <td>0.380593</td>\n",
              "      <td>0.380919</td>\n",
              "      <td>0.230590</td>\n",
              "      <td>0.230140</td>\n",
              "    </tr>\n",
              "    <tr>\n",
              "      <th>min</th>\n",
              "      <td>0.000000</td>\n",
              "      <td>0.000000e+00</td>\n",
              "      <td>0.000000e+00</td>\n",
              "      <td>0.000000</td>\n",
              "      <td>0.000000</td>\n",
              "      <td>0.000000</td>\n",
              "      <td>0.000000</td>\n",
              "      <td>0.000000</td>\n",
              "      <td>0.000000</td>\n",
              "      <td>0.000000</td>\n",
              "      <td>...</td>\n",
              "      <td>0.000000</td>\n",
              "      <td>0.000000</td>\n",
              "      <td>0.000000</td>\n",
              "      <td>0.000000</td>\n",
              "      <td>0.000000</td>\n",
              "      <td>0.000000</td>\n",
              "      <td>0.000000</td>\n",
              "      <td>0.000000</td>\n",
              "      <td>0.000000</td>\n",
              "      <td>0.000000</td>\n",
              "    </tr>\n",
              "    <tr>\n",
              "      <th>25%</th>\n",
              "      <td>0.000000</td>\n",
              "      <td>4.500000e+01</td>\n",
              "      <td>0.000000e+00</td>\n",
              "      <td>0.000000</td>\n",
              "      <td>0.000000</td>\n",
              "      <td>0.000000</td>\n",
              "      <td>0.000000</td>\n",
              "      <td>0.000000</td>\n",
              "      <td>0.000000</td>\n",
              "      <td>0.000000</td>\n",
              "      <td>...</td>\n",
              "      <td>255.000000</td>\n",
              "      <td>46.000000</td>\n",
              "      <td>0.410000</td>\n",
              "      <td>0.000000</td>\n",
              "      <td>0.000000</td>\n",
              "      <td>0.000000</td>\n",
              "      <td>0.000000</td>\n",
              "      <td>0.000000</td>\n",
              "      <td>0.000000</td>\n",
              "      <td>0.000000</td>\n",
              "    </tr>\n",
              "    <tr>\n",
              "      <th>50%</th>\n",
              "      <td>0.000000</td>\n",
              "      <td>5.200000e+02</td>\n",
              "      <td>0.000000e+00</td>\n",
              "      <td>0.000000</td>\n",
              "      <td>0.000000</td>\n",
              "      <td>0.000000</td>\n",
              "      <td>0.000000</td>\n",
              "      <td>0.000000</td>\n",
              "      <td>0.000000</td>\n",
              "      <td>0.000000</td>\n",
              "      <td>...</td>\n",
              "      <td>255.000000</td>\n",
              "      <td>255.000000</td>\n",
              "      <td>1.000000</td>\n",
              "      <td>0.000000</td>\n",
              "      <td>1.000000</td>\n",
              "      <td>0.000000</td>\n",
              "      <td>0.000000</td>\n",
              "      <td>0.000000</td>\n",
              "      <td>0.000000</td>\n",
              "      <td>0.000000</td>\n",
              "    </tr>\n",
              "    <tr>\n",
              "      <th>75%</th>\n",
              "      <td>0.000000</td>\n",
              "      <td>1.032000e+03</td>\n",
              "      <td>0.000000e+00</td>\n",
              "      <td>0.000000</td>\n",
              "      <td>0.000000</td>\n",
              "      <td>0.000000</td>\n",
              "      <td>0.000000</td>\n",
              "      <td>0.000000</td>\n",
              "      <td>0.000000</td>\n",
              "      <td>0.000000</td>\n",
              "      <td>...</td>\n",
              "      <td>255.000000</td>\n",
              "      <td>255.000000</td>\n",
              "      <td>1.000000</td>\n",
              "      <td>0.040000</td>\n",
              "      <td>1.000000</td>\n",
              "      <td>0.000000</td>\n",
              "      <td>0.000000</td>\n",
              "      <td>0.000000</td>\n",
              "      <td>0.000000</td>\n",
              "      <td>0.000000</td>\n",
              "    </tr>\n",
              "    <tr>\n",
              "      <th>max</th>\n",
              "      <td>58329.000000</td>\n",
              "      <td>6.933756e+08</td>\n",
              "      <td>5.155468e+06</td>\n",
              "      <td>1.000000</td>\n",
              "      <td>3.000000</td>\n",
              "      <td>3.000000</td>\n",
              "      <td>30.000000</td>\n",
              "      <td>5.000000</td>\n",
              "      <td>1.000000</td>\n",
              "      <td>884.000000</td>\n",
              "      <td>...</td>\n",
              "      <td>255.000000</td>\n",
              "      <td>255.000000</td>\n",
              "      <td>1.000000</td>\n",
              "      <td>1.000000</td>\n",
              "      <td>1.000000</td>\n",
              "      <td>1.000000</td>\n",
              "      <td>1.000000</td>\n",
              "      <td>1.000000</td>\n",
              "      <td>1.000000</td>\n",
              "      <td>1.000000</td>\n",
              "    </tr>\n",
              "  </tbody>\n",
              "</table>\n",
              "<p>8 rows × 38 columns</p>\n",
              "</div>"
            ],
            "text/plain": [
              "            duration     src_bytes     dst_bytes           land  \\\n",
              "count  494021.000000  4.940210e+05  4.940210e+05  494021.000000   \n",
              "mean       47.979302  3.025610e+03  8.685324e+02       0.000045   \n",
              "std       707.746472  9.882181e+05  3.304000e+04       0.006673   \n",
              "min         0.000000  0.000000e+00  0.000000e+00       0.000000   \n",
              "25%         0.000000  4.500000e+01  0.000000e+00       0.000000   \n",
              "50%         0.000000  5.200000e+02  0.000000e+00       0.000000   \n",
              "75%         0.000000  1.032000e+03  0.000000e+00       0.000000   \n",
              "max     58329.000000  6.933756e+08  5.155468e+06       1.000000   \n",
              "\n",
              "       wrong_fragment         urgent            hot  num_failed_logins  \\\n",
              "count   494021.000000  494021.000000  494021.000000      494021.000000   \n",
              "mean         0.006433       0.000014       0.034519           0.000152   \n",
              "std          0.134805       0.005510       0.782103           0.015520   \n",
              "min          0.000000       0.000000       0.000000           0.000000   \n",
              "25%          0.000000       0.000000       0.000000           0.000000   \n",
              "50%          0.000000       0.000000       0.000000           0.000000   \n",
              "75%          0.000000       0.000000       0.000000           0.000000   \n",
              "max          3.000000       3.000000      30.000000           5.000000   \n",
              "\n",
              "           logged_in  num_compromised  ...  dst_host_count  \\\n",
              "count  494021.000000    494021.000000  ...   494021.000000   \n",
              "mean        0.148247         0.010212  ...      232.470778   \n",
              "std         0.355345         1.798326  ...       64.745380   \n",
              "min         0.000000         0.000000  ...        0.000000   \n",
              "25%         0.000000         0.000000  ...      255.000000   \n",
              "50%         0.000000         0.000000  ...      255.000000   \n",
              "75%         0.000000         0.000000  ...      255.000000   \n",
              "max         1.000000       884.000000  ...      255.000000   \n",
              "\n",
              "       dst_host_srv_count  dst_host_same_srv_rate  dst_host_diff_srv_rate  \\\n",
              "count       494021.000000           494021.000000           494021.000000   \n",
              "mean           188.665670                0.753780                0.030906   \n",
              "std            106.040437                0.410781                0.109259   \n",
              "min              0.000000                0.000000                0.000000   \n",
              "25%             46.000000                0.410000                0.000000   \n",
              "50%            255.000000                1.000000                0.000000   \n",
              "75%            255.000000                1.000000                0.040000   \n",
              "max            255.000000                1.000000                1.000000   \n",
              "\n",
              "       dst_host_same_src_port_rate  dst_host_srv_diff_host_rate  \\\n",
              "count                494021.000000                494021.000000   \n",
              "mean                      0.601935                     0.006684   \n",
              "std                       0.481309                     0.042133   \n",
              "min                       0.000000                     0.000000   \n",
              "25%                       0.000000                     0.000000   \n",
              "50%                       1.000000                     0.000000   \n",
              "75%                       1.000000                     0.000000   \n",
              "max                       1.000000                     1.000000   \n",
              "\n",
              "       dst_host_serror_rate  dst_host_srv_serror_rate  dst_host_rerror_rate  \\\n",
              "count         494021.000000             494021.000000         494021.000000   \n",
              "mean               0.176754                  0.176443              0.058118   \n",
              "std                0.380593                  0.380919              0.230590   \n",
              "min                0.000000                  0.000000              0.000000   \n",
              "25%                0.000000                  0.000000              0.000000   \n",
              "50%                0.000000                  0.000000              0.000000   \n",
              "75%                0.000000                  0.000000              0.000000   \n",
              "max                1.000000                  1.000000              1.000000   \n",
              "\n",
              "       dst_host_srv_rerror_rate  \n",
              "count             494021.000000  \n",
              "mean                   0.057412  \n",
              "std                    0.230140  \n",
              "min                    0.000000  \n",
              "25%                    0.000000  \n",
              "50%                    0.000000  \n",
              "75%                    0.000000  \n",
              "max                    1.000000  \n",
              "\n",
              "[8 rows x 38 columns]"
            ]
          },
          "metadata": {
            "tags": []
          },
          "execution_count": 5
        }
      ]
    },
    {
      "cell_type": "code",
      "metadata": {
        "colab": {
          "base_uri": "https://localhost:8080/"
        },
        "id": "k8JxgpKZDkWe",
        "outputId": "24da863a-e6b2-460f-8735-58af23d811ff"
      },
      "source": [
        "data.info()"
      ],
      "execution_count": null,
      "outputs": [
        {
          "output_type": "stream",
          "text": [
            "<class 'pandas.core.frame.DataFrame'>\n",
            "RangeIndex: 494021 entries, 0 to 494020\n",
            "Data columns (total 42 columns):\n",
            "duration                       494021 non-null int64\n",
            "protocol_type                  494021 non-null object\n",
            "service                        494021 non-null object\n",
            "flag                           494021 non-null object\n",
            "src_bytes                      494021 non-null int64\n",
            "dst_bytes                      494021 non-null int64\n",
            "land                           494021 non-null int64\n",
            "wrong_fragment                 494021 non-null int64\n",
            "urgent                         494021 non-null int64\n",
            "hot                            494021 non-null int64\n",
            "num_failed_logins              494021 non-null int64\n",
            "logged_in                      494021 non-null int64\n",
            "num_compromised                494021 non-null int64\n",
            "root_shell                     494021 non-null int64\n",
            "su_attempted                   494021 non-null int64\n",
            "num_root                       494021 non-null int64\n",
            "num_file_creations             494021 non-null int64\n",
            "num_shells                     494021 non-null int64\n",
            "num_access_files               494021 non-null int64\n",
            "num_outbound_cmds              494021 non-null int64\n",
            "is_host_login                  494021 non-null int64\n",
            "is_guest_login                 494021 non-null int64\n",
            "count                          494021 non-null int64\n",
            "srv_count                      494021 non-null int64\n",
            "serror_rate                    494021 non-null float64\n",
            "srv_serror_rate                494021 non-null float64\n",
            "rerror_rate                    494021 non-null float64\n",
            "srv_rerror_rate                494021 non-null float64\n",
            "same_srv_rate                  494021 non-null float64\n",
            "diff_srv_rate                  494021 non-null float64\n",
            "srv_diff_host_rate             494021 non-null float64\n",
            "dst_host_count                 494021 non-null int64\n",
            "dst_host_srv_count             494021 non-null int64\n",
            "dst_host_same_srv_rate         494021 non-null float64\n",
            "dst_host_diff_srv_rate         494021 non-null float64\n",
            "dst_host_same_src_port_rate    494021 non-null float64\n",
            "dst_host_srv_diff_host_rate    494021 non-null float64\n",
            "dst_host_serror_rate           494021 non-null float64\n",
            "dst_host_srv_serror_rate       494021 non-null float64\n",
            "dst_host_rerror_rate           494021 non-null float64\n",
            "dst_host_srv_rerror_rate       494021 non-null float64\n",
            "type                           494021 non-null object\n",
            "dtypes: float64(15), int64(23), object(4)\n",
            "memory usage: 158.3+ MB\n"
          ],
          "name": "stdout"
        }
      ]
    },
    {
      "cell_type": "markdown",
      "metadata": {
        "id": "Tc2mxzfkkzDB"
      },
      "source": [
        "The dataset includes the traffic records with the normal traffics and 22 type of attacks. Among these records, only around 20% of the records are the normal ones and the rest 80% are the abnormal ones."
      ]
    },
    {
      "cell_type": "code",
      "metadata": {
        "colab": {
          "base_uri": "https://localhost:8080/"
        },
        "id": "wZO9EaxYMTul",
        "outputId": "546fe090-69be-4e76-89f4-1bac522eb326"
      },
      "source": [
        "proportions = data[\"type\"].value_counts()\n",
        "print(proportions)\n",
        "normal_data_count = data[\"type\"].loc[data[\"type\"]==\"normal.\"].value_counts()\n",
        "print(normal_data_count)\n",
        "print(\"Anomaly Percentage\", normal_data_count / proportions.sum())"
      ],
      "execution_count": null,
      "outputs": [
        {
          "output_type": "stream",
          "text": [
            "smurf.              280790\n",
            "neptune.            107201\n",
            "normal.              97278\n",
            "back.                 2203\n",
            "satan.                1589\n",
            "ipsweep.              1247\n",
            "portsweep.            1040\n",
            "warezclient.          1020\n",
            "teardrop.              979\n",
            "pod.                   264\n",
            "nmap.                  231\n",
            "guess_passwd.           53\n",
            "buffer_overflow.        30\n",
            "land.                   21\n",
            "warezmaster.            20\n",
            "imap.                   12\n",
            "rootkit.                10\n",
            "loadmodule.              9\n",
            "ftp_write.               8\n",
            "multihop.                7\n",
            "phf.                     4\n",
            "perl.                    3\n",
            "spy.                     2\n",
            "Name: type, dtype: int64\n",
            "normal.    97278\n",
            "Name: type, dtype: int64\n",
            "Anomaly Percentage normal.    0.196911\n",
            "Name: type, dtype: float64\n"
          ],
          "name": "stdout"
        }
      ]
    },
    {
      "cell_type": "markdown",
      "metadata": {
        "id": "fdLqvMe1mttI"
      },
      "source": [
        "# **Preprocessing**"
      ]
    },
    {
      "cell_type": "markdown",
      "metadata": {
        "id": "sY5Qo2n8wg32"
      },
      "source": [
        "Data encoding:\n",
        "\n",
        "To do the binary clustering, the label with different type of attacks need to be encoded into abnormal/normal. "
      ]
    },
    {
      "cell_type": "code",
      "metadata": {
        "id": "kUxndfSfPad3"
      },
      "source": [
        "# Encode the dataset label into binary format: abnormal (0)/normal (1)\n",
        "data.loc[data[\"type\"] != \"normal.\", 'type'] = 0\n",
        "data.loc[data[\"type\"] == \"normal.\", 'type'] = 1"
      ],
      "execution_count": null,
      "outputs": []
    },
    {
      "cell_type": "code",
      "metadata": {
        "colab": {
          "base_uri": "https://localhost:8080/"
        },
        "id": "GAo7-_v-Pkqw",
        "outputId": "b7fd6dfc-43e2-4a76-98eb-ba7b0c9f7499"
      },
      "source": [
        "# check the binary encoding results\n",
        "\n",
        "proportions = data[\"type\"].value_counts()\n",
        "print(proportions)\n",
        "print(\"Anomaly Percentage\",proportions[1] / proportions.sum())"
      ],
      "execution_count": null,
      "outputs": [
        {
          "output_type": "stream",
          "text": [
            "0    396743\n",
            "1     97278\n",
            "Name: type, dtype: int64\n",
            "Anomaly Percentage 0.19691065764410826\n"
          ],
          "name": "stdout"
        }
      ]
    },
    {
      "cell_type": "markdown",
      "metadata": {
        "id": "YpTpzOTCk-Ty"
      },
      "source": [
        "Since the featrues are saved in different format in the dataset and it's hard to process the features recorded as object. Thus, the one-hot encoding is done to these features to encode them into numerical values. "
      ]
    },
    {
      "cell_type": "code",
      "metadata": {
        "colab": {
          "base_uri": "https://localhost:8080/",
          "height": 253
        },
        "id": "KjGXA8N9PgE-",
        "outputId": "4306077a-2ab3-4e98-9629-f89281531629"
      },
      "source": [
        "# One-hot encoding the data int numerical values\n",
        "\n",
        "one_hot_protocol = pd.get_dummies(data[\"protocol_type\"])\n",
        "one_hot_service = pd.get_dummies(data[\"service\"])\n",
        "one_hot_flag = pd.get_dummies(data[\"flag\"])\n",
        "\n",
        "data = data.drop(\"protocol_type\",axis=1)\n",
        "data = data.drop(\"service\",axis=1)\n",
        "data = data.drop(\"flag\",axis=1)\n",
        "    \n",
        "data = pd.concat([one_hot_protocol, one_hot_service,one_hot_flag, data],axis=1)\n",
        "data.head()"
      ],
      "execution_count": null,
      "outputs": [
        {
          "output_type": "execute_result",
          "data": {
            "text/html": [
              "<div>\n",
              "<style scoped>\n",
              "    .dataframe tbody tr th:only-of-type {\n",
              "        vertical-align: middle;\n",
              "    }\n",
              "\n",
              "    .dataframe tbody tr th {\n",
              "        vertical-align: top;\n",
              "    }\n",
              "\n",
              "    .dataframe thead th {\n",
              "        text-align: right;\n",
              "    }\n",
              "</style>\n",
              "<table border=\"1\" class=\"dataframe\">\n",
              "  <thead>\n",
              "    <tr style=\"text-align: right;\">\n",
              "      <th></th>\n",
              "      <th>icmp</th>\n",
              "      <th>tcp</th>\n",
              "      <th>udp</th>\n",
              "      <th>IRC</th>\n",
              "      <th>X11</th>\n",
              "      <th>Z39_50</th>\n",
              "      <th>auth</th>\n",
              "      <th>bgp</th>\n",
              "      <th>courier</th>\n",
              "      <th>csnet_ns</th>\n",
              "      <th>...</th>\n",
              "      <th>dst_host_srv_count</th>\n",
              "      <th>dst_host_same_srv_rate</th>\n",
              "      <th>dst_host_diff_srv_rate</th>\n",
              "      <th>dst_host_same_src_port_rate</th>\n",
              "      <th>dst_host_srv_diff_host_rate</th>\n",
              "      <th>dst_host_serror_rate</th>\n",
              "      <th>dst_host_srv_serror_rate</th>\n",
              "      <th>dst_host_rerror_rate</th>\n",
              "      <th>dst_host_srv_rerror_rate</th>\n",
              "      <th>type</th>\n",
              "    </tr>\n",
              "  </thead>\n",
              "  <tbody>\n",
              "    <tr>\n",
              "      <th>0</th>\n",
              "      <td>0</td>\n",
              "      <td>1</td>\n",
              "      <td>0</td>\n",
              "      <td>0</td>\n",
              "      <td>0</td>\n",
              "      <td>0</td>\n",
              "      <td>0</td>\n",
              "      <td>0</td>\n",
              "      <td>0</td>\n",
              "      <td>0</td>\n",
              "      <td>...</td>\n",
              "      <td>9</td>\n",
              "      <td>1.0</td>\n",
              "      <td>0.0</td>\n",
              "      <td>0.11</td>\n",
              "      <td>0.0</td>\n",
              "      <td>0.0</td>\n",
              "      <td>0.0</td>\n",
              "      <td>0.0</td>\n",
              "      <td>0.0</td>\n",
              "      <td>1</td>\n",
              "    </tr>\n",
              "    <tr>\n",
              "      <th>1</th>\n",
              "      <td>0</td>\n",
              "      <td>1</td>\n",
              "      <td>0</td>\n",
              "      <td>0</td>\n",
              "      <td>0</td>\n",
              "      <td>0</td>\n",
              "      <td>0</td>\n",
              "      <td>0</td>\n",
              "      <td>0</td>\n",
              "      <td>0</td>\n",
              "      <td>...</td>\n",
              "      <td>19</td>\n",
              "      <td>1.0</td>\n",
              "      <td>0.0</td>\n",
              "      <td>0.05</td>\n",
              "      <td>0.0</td>\n",
              "      <td>0.0</td>\n",
              "      <td>0.0</td>\n",
              "      <td>0.0</td>\n",
              "      <td>0.0</td>\n",
              "      <td>1</td>\n",
              "    </tr>\n",
              "    <tr>\n",
              "      <th>2</th>\n",
              "      <td>0</td>\n",
              "      <td>1</td>\n",
              "      <td>0</td>\n",
              "      <td>0</td>\n",
              "      <td>0</td>\n",
              "      <td>0</td>\n",
              "      <td>0</td>\n",
              "      <td>0</td>\n",
              "      <td>0</td>\n",
              "      <td>0</td>\n",
              "      <td>...</td>\n",
              "      <td>29</td>\n",
              "      <td>1.0</td>\n",
              "      <td>0.0</td>\n",
              "      <td>0.03</td>\n",
              "      <td>0.0</td>\n",
              "      <td>0.0</td>\n",
              "      <td>0.0</td>\n",
              "      <td>0.0</td>\n",
              "      <td>0.0</td>\n",
              "      <td>1</td>\n",
              "    </tr>\n",
              "    <tr>\n",
              "      <th>3</th>\n",
              "      <td>0</td>\n",
              "      <td>1</td>\n",
              "      <td>0</td>\n",
              "      <td>0</td>\n",
              "      <td>0</td>\n",
              "      <td>0</td>\n",
              "      <td>0</td>\n",
              "      <td>0</td>\n",
              "      <td>0</td>\n",
              "      <td>0</td>\n",
              "      <td>...</td>\n",
              "      <td>39</td>\n",
              "      <td>1.0</td>\n",
              "      <td>0.0</td>\n",
              "      <td>0.03</td>\n",
              "      <td>0.0</td>\n",
              "      <td>0.0</td>\n",
              "      <td>0.0</td>\n",
              "      <td>0.0</td>\n",
              "      <td>0.0</td>\n",
              "      <td>1</td>\n",
              "    </tr>\n",
              "    <tr>\n",
              "      <th>4</th>\n",
              "      <td>0</td>\n",
              "      <td>1</td>\n",
              "      <td>0</td>\n",
              "      <td>0</td>\n",
              "      <td>0</td>\n",
              "      <td>0</td>\n",
              "      <td>0</td>\n",
              "      <td>0</td>\n",
              "      <td>0</td>\n",
              "      <td>0</td>\n",
              "      <td>...</td>\n",
              "      <td>49</td>\n",
              "      <td>1.0</td>\n",
              "      <td>0.0</td>\n",
              "      <td>0.02</td>\n",
              "      <td>0.0</td>\n",
              "      <td>0.0</td>\n",
              "      <td>0.0</td>\n",
              "      <td>0.0</td>\n",
              "      <td>0.0</td>\n",
              "      <td>1</td>\n",
              "    </tr>\n",
              "  </tbody>\n",
              "</table>\n",
              "<p>5 rows × 119 columns</p>\n",
              "</div>"
            ],
            "text/plain": [
              "   icmp  tcp  udp  IRC  X11  Z39_50  auth  bgp  courier  csnet_ns  ...  \\\n",
              "0     0    1    0    0    0       0     0    0        0         0  ...   \n",
              "1     0    1    0    0    0       0     0    0        0         0  ...   \n",
              "2     0    1    0    0    0       0     0    0        0         0  ...   \n",
              "3     0    1    0    0    0       0     0    0        0         0  ...   \n",
              "4     0    1    0    0    0       0     0    0        0         0  ...   \n",
              "\n",
              "   dst_host_srv_count  dst_host_same_srv_rate  dst_host_diff_srv_rate  \\\n",
              "0                   9                     1.0                     0.0   \n",
              "1                  19                     1.0                     0.0   \n",
              "2                  29                     1.0                     0.0   \n",
              "3                  39                     1.0                     0.0   \n",
              "4                  49                     1.0                     0.0   \n",
              "\n",
              "   dst_host_same_src_port_rate  dst_host_srv_diff_host_rate  \\\n",
              "0                         0.11                          0.0   \n",
              "1                         0.05                          0.0   \n",
              "2                         0.03                          0.0   \n",
              "3                         0.03                          0.0   \n",
              "4                         0.02                          0.0   \n",
              "\n",
              "   dst_host_serror_rate  dst_host_srv_serror_rate  dst_host_rerror_rate  \\\n",
              "0                   0.0                       0.0                   0.0   \n",
              "1                   0.0                       0.0                   0.0   \n",
              "2                   0.0                       0.0                   0.0   \n",
              "3                   0.0                       0.0                   0.0   \n",
              "4                   0.0                       0.0                   0.0   \n",
              "\n",
              "   dst_host_srv_rerror_rate  type  \n",
              "0                       0.0     1  \n",
              "1                       0.0     1  \n",
              "2                       0.0     1  \n",
              "3                       0.0     1  \n",
              "4                       0.0     1  \n",
              "\n",
              "[5 rows x 119 columns]"
            ]
          },
          "metadata": {
            "tags": []
          },
          "execution_count": 9
        }
      ]
    },
    {
      "cell_type": "markdown",
      "metadata": {
        "id": "jJhs8JRzlKiS"
      },
      "source": [
        "Featrue scaling:\n",
        " \n",
        "Considering the features has different range, different than the GMM solutions in other notebooks. normalization is done in this case to rescale the values into a range of [0,1] to yield convergence results."
      ]
    },
    {
      "cell_type": "code",
      "metadata": {
        "id": "YgS2AhcYPnf_"
      },
      "source": [
        "# Normalize the numeric variables\n",
        "\n",
        "cols_to_norm = [\"duration\", \"src_bytes\", \"dst_bytes\", \"wrong_fragment\", \"urgent\", \n",
        "            \"hot\", \"num_failed_logins\", \"num_compromised\", \"num_root\", \n",
        "            \"num_file_creations\", \"num_shells\", \"num_access_files\", \"count\", \"srv_count\", \n",
        "            \"serror_rate\", \"srv_serror_rate\", \"rerror_rate\", \"srv_rerror_rate\", \"same_srv_rate\", \n",
        "            \"diff_srv_rate\", \"srv_diff_host_rate\", \"dst_host_count\", \"dst_host_srv_count\", \"dst_host_same_srv_rate\", \n",
        "            \"dst_host_diff_srv_rate\", \"dst_host_same_src_port_rate\", \"dst_host_srv_diff_host_rate\", \n",
        "            \"dst_host_serror_rate\", \"dst_host_srv_serror_rate\", \"dst_host_rerror_rate\", \"dst_host_srv_rerror_rate\" ]\n",
        "\n",
        "min_cols = data.loc[data[\"type\"]==0 , cols_to_norm].min()\n",
        "max_cols = data.loc[data[\"type\"]==0 , cols_to_norm].max()\n",
        "\n",
        "data.loc[:, cols_to_norm] = (data[cols_to_norm] - min_cols) / (max_cols - min_cols)"
      ],
      "execution_count": null,
      "outputs": []
    },
    {
      "cell_type": "markdown",
      "metadata": {
        "id": "oT5cbTT8lReK"
      },
      "source": [
        "Split the dataset:\n",
        "\n",
        "Split the label out of the dataset into X and y. Split the X and y into trainset and testset with 66% of samples as trainset."
      ]
    },
    {
      "cell_type": "code",
      "metadata": {
        "colab": {
          "base_uri": "https://localhost:8080/"
        },
        "id": "c6UzA0b9P-0g",
        "outputId": "10f8fa6f-155c-4688-b286-dfaf0298f813"
      },
      "source": [
        "# separate between features/inputs X and label/output variables y\n",
        "mat = data.values\n",
        "X = mat[:,0:-1]\n",
        "print(X.shape)\n",
        "y = mat[:,-1]\n",
        "y = y.astype('int')\n",
        "print(y.shape)\n"
      ],
      "execution_count": null,
      "outputs": [
        {
          "output_type": "stream",
          "text": [
            "(494021, 118)\n",
            "(494021,)\n"
          ],
          "name": "stdout"
        }
      ]
    },
    {
      "cell_type": "code",
      "metadata": {
        "colab": {
          "base_uri": "https://localhost:8080/"
        },
        "id": "_I_7L2kpYo45",
        "outputId": "ee69f328-a8a6-4dcd-f141-fe99a669c096"
      },
      "source": [
        "train_perc = 0.66 # percentage of training data\n",
        "split_point = int(train_perc*len(y))\n",
        "perm = np.random.permutation(len(y))\n",
        "ix_train = perm[:split_point]\n",
        "ix_test = perm[split_point:]\n",
        "X_train = X[ix_train,:]\n",
        "X_test = X[ix_test,:]\n",
        "# ind_train = ind[ix_train]\n",
        "# ind_test = ind[ix_test]\n",
        "y_train = y[ix_train]\n",
        "y_test = y[ix_test]\n",
        "print(\"num train: %d\" % len(y_train))\n",
        "print(\"num test: %d\" % len(y_test))"
      ],
      "execution_count": null,
      "outputs": [
        {
          "output_type": "stream",
          "text": [
            "num train: 326053\n",
            "num test: 167968\n"
          ],
          "name": "stdout"
        }
      ]
    },
    {
      "cell_type": "markdown",
      "metadata": {
        "id": "5NW9Z1sTxbMj"
      },
      "source": [
        "# **Baseline model from sklearn**\n",
        "\n",
        "Define the GMM from sklearn as the baseline model:"
      ]
    },
    {
      "cell_type": "code",
      "metadata": {
        "colab": {
          "base_uri": "https://localhost:8080/"
        },
        "id": "AOnWqgJnmYN6",
        "outputId": "34cd28eb-3aa1-4373-de2f-19103b864907"
      },
      "source": [
        "from sklearn.mixture import GaussianMixture\n",
        "gmm = GaussianMixture(2, covariance_type='spherical', random_state=0) # Several type of covariance_type are offered in sklearn GMM and \"spherical\" works the best here\n",
        "\n",
        "gmm.fit(X_train)\n",
        "\n",
        "# make predictions for test set\n",
        "y_hat = gmm.predict(X_test)\n",
        "print(\"predictions:\", y_hat)\n",
        "print(\"true values:\", y_test)\n",
        "\n",
        "# Compute the general prediction accuracy\n",
        "print(\"Accuracy:\", 1.0*np.sum(y_hat == y_test) / len(y_test))"
      ],
      "execution_count": null,
      "outputs": [
        {
          "output_type": "stream",
          "text": [
            "predictions: [1 0 0 ... 0 1 1]\n",
            "true values: [0 0 0 ... 0 1 0]\n",
            "Accuracy: 0.7256203562583349\n"
          ],
          "name": "stdout"
        }
      ]
    },
    {
      "cell_type": "markdown",
      "metadata": {
        "id": "6WCVtTmDxz3j"
      },
      "source": [
        "To look into details on how the model performs, classification_report provided by sklearn is called here to present a detailed evaluation with metrics like precision, recall, f1-score for each class. "
      ]
    },
    {
      "cell_type": "code",
      "metadata": {
        "id": "dTOY4oJgZ4-z",
        "colab": {
          "base_uri": "https://localhost:8080/"
        },
        "outputId": "b93b3757-1a38-4139-db84-ec0b03d74b54"
      },
      "source": [
        "from sklearn.metrics import classification_report\n",
        "print(classification_report(y_test, y_hat))"
      ],
      "execution_count": null,
      "outputs": [
        {
          "output_type": "stream",
          "text": [
            "              precision    recall  f1-score   support\n",
            "\n",
            "           0       1.00      0.66      0.79    134730\n",
            "           1       0.42      1.00      0.59     33238\n",
            "\n",
            "    accuracy                           0.73    167968\n",
            "   macro avg       0.71      0.83      0.69    167968\n",
            "weighted avg       0.89      0.73      0.75    167968\n",
            "\n"
          ],
          "name": "stdout"
        }
      ]
    },
    {
      "cell_type": "markdown",
      "metadata": {
        "id": "p0rpw_lnxvZ3"
      },
      "source": [
        "# **GMVAE Model Training & Evaluation**"
      ]
    },
    {
      "cell_type": "markdown",
      "metadata": {
        "id": "Jn4X1lGBmiSw"
      },
      "source": [
        "**GMVAE model with 2 components**\n",
        "\n",
        "In this notebook, the target is try to build a GMVAE model to do a coarse-grained binary clustering to label the samples in the dataset into 2 clusters, the components of Gaussian mixture is defined as $K=2$. Refered to the paper [2] and the post [3]. The generative process is defined as: \n",
        "\n",
        "\n",
        "\n",
        "1. Draw Neural Network parameters: $\\theta \\sim \\mathcal{N}( \\mathbf{0}, \\mathbf{I})$, $\\beta \\sim \\mathcal{N}( \\mathbf{0}, \\mathbf{I})$\n",
        "2. For each sample in the dataset $n \\in\\{1, \\ldots, N\\}$: \n",
        "  * Draw one component from $K$ Gaussian mixture: $\\alpha_{n} \\sim \\operatorname{Cat}(1/K)$\n",
        "  * Draw the latent variable: $z_{n} \\sim \\mathcal{N}\\left(\\mu_{z}(\\alpha_{n}), \\sigma_{z}(\\alpha_{n})\\right)$\n",
        "  * Draw the samples: $x_{n} \\sim \\mathcal{B}\\left(\\mu_{x}(z_{n})\\right)$\n",
        "\n",
        "  where $\\mu_{z}$ and $\\sigma_{z}$ are outputs from the neural network with parameter $\\beta$, and $\\mu_{x}$ is got from the neural network with $\\theta$.\n",
        "\n",
        "\n",
        "\n",
        "\n",
        "To implement the GMVAE model, the combination between GMM and VAE is tried. This implementation refers to the Pyro guideline [4][5] and config_enumerate() handler in Pyro [6] is called here to enable the enumeration over the assignments in each iteration.\n",
        "\n",
        "\n",
        "\n",
        "---\n",
        "\n",
        "\n",
        "\n",
        "[2] N.  Dilokthanakul,  P.  A.  M.  Mediano,  M.  Garnelo,  M.  C.  H.  Lee,  H.  Salimbeni,K.  Arulkumaran,  and  M.  Shanahan,  “Deep  unsupervised  clustering  with  gaussianmixture variational autoencoders,”CoRR, vol. abs/1611.02648, 2016. [Online]. Available:http://arxiv.org/abs/1611.02648\n",
        "\n",
        "[3] R. Shi, “Gaussian mixture vae: Lessons in variational inference, generative models, and deepnets,” http://kdd.ics.uci.edu/databases/kddcup99/.\n",
        "\n",
        "[4] Gaussian Mixture Model, https://pyro.ai/examples/gmm.html\n",
        "\n",
        "[5] Variational Autoencoders, https://pyro.ai/examples/vae.html\n",
        "\n",
        "\n",
        "[6] Inference with Discrete Latent Variables, http://pyro.ai/examples/enumeration.html"
      ]
    },
    {
      "cell_type": "markdown",
      "metadata": {
        "id": "gKQyhoXlpBfV"
      },
      "source": [
        "Define the number of components, the dimension of latent variable $z$ and the dimension of hidden units $hidden\\_dim$"
      ]
    },
    {
      "cell_type": "code",
      "metadata": {
        "id": "0gwzm2aH2WHH"
      },
      "source": [
        "n_cats=2 # number of components K=2\n",
        "z_dim = 10\n",
        "hidden_dim = 40\n",
        "\n",
        "size_dim = X_train.shape[1]\n",
        "N = X_train.shape[0]\n",
        "\n",
        "pyro.distributions.enable_validation(False)"
      ],
      "execution_count": null,
      "outputs": []
    },
    {
      "cell_type": "code",
      "metadata": {
        "id": "Xem02nlXf3Rr"
      },
      "source": [
        "@config_enumerate\n",
        "class GMMVAE(nn.Module):\n",
        "    def __init__(self, n_cats, loc_sep=5.0, z_dim=z_dim, hidden_dim=hidden_dim, size_dim=size_dim, use_cuda=False):\n",
        "        super().__init__()\n",
        "        self.encoder = Encoder(z_dim, hidden_dim, size_dim)\n",
        "        self.decoder = Decoder(z_dim, hidden_dim, size_dim)\n",
        "        self.use_cuda = False\n",
        "        self.z_dim = z_dim\n",
        "        self.hidden_dim = hidden_dim\n",
        "        self.size_dim = size_dim\n",
        "        self.n_cats = n_cats\n",
        "        self.component_locs = torch.zeros(self.n_cats, self.z_dim)\n",
        "        for i in range(n_cats):\n",
        "            self.component_locs[i, i] = loc_sep\n",
        "            \n",
        "    def model(self, x):\n",
        "        # register PyTorch module `decoder` with Pyro\n",
        "        pyro.module(\"decoder\", self.decoder)\n",
        "        with pyro.plate(\"data\", x.shape[0]):\n",
        "            assignment = pyro.sample('assignment', dist.Categorical(torch.ones(x.shape[0], n_cats) * 1 / n_cats))\n",
        "            z_loc = self.component_locs[assignment]\n",
        "            z_scale = torch.ones(x.shape[0], self.z_dim)\n",
        "            z = pyro.sample(\"latent\", dist.Normal(z_loc, z_scale).to_event(1))\n",
        "            # decode the latent code z\n",
        "            loc_img = self.decoder.forward(z)\n",
        "            # score against actual outputs\n",
        "            pyro.sample(\"obs\", dist.Bernoulli(loc_img).to_event(1), obs=x.reshape(-1, size_dim), infer={\"enumerate\": \"parallel\"})\n",
        "            return loc_img\n",
        "    \n",
        "    # Customized guide\n",
        "    def guide(self, x):\n",
        "        # register PyTorch module `encoder` with Pyro\n",
        "        pyro.module(\"encoder\", self.encoder)\n",
        "        with pyro.plate(\"data\", x.shape[0]):\n",
        "            # use the encoder to get the parameters used to define q(z|x)\n",
        "            z_loc, z_scale = self.encoder.forward(x)\n",
        "            # sample the latent code z\n",
        "            z = pyro.sample(\"latent\", dist.Normal(z_loc, z_scale).to_event(1))\n",
        "            assignment = pyro.sample('assignment', dist.Categorical(torch.ones(x.shape[0], n_cats) * 1 / n_cats))\n",
        "\n",
        "class Encoder(nn.Module):\n",
        "    def __init__(self, z_dim, hidden_dim, size_dim):\n",
        "        super().__init__()\n",
        "        # setup the three linear transformations used\n",
        "        self.fc1 = nn.Linear(size_dim, hidden_dim)\n",
        "        self.fc21 = nn.Linear(hidden_dim, z_dim)\n",
        "        self.fc22 = nn.Linear(hidden_dim, z_dim)\n",
        "        # setup the non-linearities\n",
        "        self.softplus = nn.Softplus()\n",
        "\n",
        "    def forward(self, x):\n",
        "        # define the forward computation on x\n",
        "        # reshape x \n",
        "        x = x.reshape(-1, size_dim)\n",
        "        # compute the hidden units\n",
        "        hidden = self.softplus(self.fc1(x))\n",
        "        # return a mean vector and a (positive) square root covariance\n",
        "        z_loc = self.fc21(hidden)\n",
        "        z_scale = torch.exp(self.fc22(hidden))\n",
        "        return z_loc, z_scale\n",
        "\n",
        "\n",
        "class Decoder(nn.Module):\n",
        "    def __init__(self, z_dim, hidden_dim, size_dim):\n",
        "        super().__init__()\n",
        "        # setup the two linear transformations used\n",
        "        self.fc1 = nn.Linear(z_dim, hidden_dim)\n",
        "        self.fc21 = nn.Linear(hidden_dim, size_dim)\n",
        "        # setup the non-linearities\n",
        "        self.softplus = nn.Softplus()\n",
        "        self.sigmoid = nn.Sigmoid()\n",
        "\n",
        "    def forward(self, z):\n",
        "        # define the forward computation on the latent z\n",
        "        # first compute the hidden units\n",
        "        hidden = self.softplus(self.fc1(z))\n",
        "        # return the parameter for the output Bernoulli\n",
        "        loc_img = self.sigmoid(self.fc21(hidden))\n",
        "        return loc_img"
      ],
      "execution_count": null,
      "outputs": []
    },
    {
      "cell_type": "markdown",
      "metadata": {
        "id": "gchwtM8mq2eu"
      },
      "source": [
        "The speed of the learning process is tweaked by defining the learning rate and $\\beta_{1}$ & $\\beta_{2}$. To run the inference in Pyro, TraceEnum_ELBO is used here to enable the enumerations in parallel during the sampling from discrete latent states. "
      ]
    },
    {
      "cell_type": "code",
      "metadata": {
        "id": "rDXbeLDpf3Rt",
        "outputId": "fd7ce57d-0edd-4fd1-dd85-d2faf0984cfc"
      },
      "source": [
        "optim = pyro.optim.Adam({'lr': 0.0001, 'betas': [0.8, 0.99]})\n",
        "elbo = TraceEnum_ELBO(max_plate_nesting=1)\n",
        "\n",
        "# transform the dataset to tensor\n",
        "X_train_torch = torch.tensor(X_train).float()\n",
        "X_test_torch = torch.tensor(X_test).float()"
      ],
      "execution_count": null,
      "outputs": [
        {
          "output_type": "stream",
          "text": [
            "/home/fotonik208/anaconda3/lib/python3.7/site-packages/ipykernel_launcher.py:3: UserWarning: To copy construct from a tensor, it is recommended to use sourceTensor.clone().detach() or sourceTensor.clone().detach().requires_grad_(True), rather than torch.tensor(sourceTensor).\n",
            "  This is separate from the ipykernel package so we can avoid doing imports until\n"
          ],
          "name": "stderr"
        }
      ]
    },
    {
      "cell_type": "markdown",
      "metadata": {
        "id": "K3q3oa_oq9jG"
      },
      "source": [
        "Different from inference for GMM in other notebooks, the guide is defined for GMVAE instead of using the auto guide. The SVI is still configured for inference. "
      ]
    },
    {
      "cell_type": "code",
      "metadata": {
        "id": "Gbp__GAZf3Rt",
        "outputId": "e8927355-1bb4-4b23-e5ab-79a9e2e2864c"
      },
      "source": [
        "# Define the number of optimization steps\n",
        "n_steps = 5000\n",
        "\n",
        "# Reset parameter values\n",
        "pyro.clear_param_store()\n",
        "\n",
        "vae = GMMVAE(n_cats=n_cats, z_dim=z_dim, hidden_dim=hidden_dim, size_dim=size_dim)\n",
        "svi = SVI(vae.model, vae.guide, optim, loss=elbo)\n",
        "\n",
        "losses = []\n",
        "for step in range(n_steps):\n",
        "    elbo = svi.step(X_train)\n",
        "    losses.append(elbo)\n",
        "    if step % 500 == 0:\n",
        "        print(\"[%d] ELBO: %.1f\" % (step, elbo))"
      ],
      "execution_count": null,
      "outputs": [
        {
          "output_type": "stream",
          "text": [
            "[0] ELBO: 30816066.0\n",
            "[500] ELBO: 9815702.0\n",
            "[1000] ELBO: 5696119.0\n",
            "[1500] ELBO: 4204448.5\n",
            "[2000] ELBO: 3543635.5\n",
            "[2500] ELBO: 3176295.0\n",
            "[3000] ELBO: 2936060.5\n",
            "[3500] ELBO: 2797069.2\n",
            "[4000] ELBO: 2707731.0\n",
            "[4500] ELBO: 2624497.5\n"
          ],
          "name": "stdout"
        }
      ]
    },
    {
      "cell_type": "markdown",
      "metadata": {
        "id": "qSJsfM9brXdh"
      },
      "source": [
        "The inference comletes after 5000 steps. The plot below presents that the loss basically reaches a convergence. But the converged loss is relatively high, which also indicates that the GMVAE model also might get stuck in local optima. This can be happened due to the non-convex feature of the mixture model optimization process. "
      ]
    },
    {
      "cell_type": "code",
      "metadata": {
        "id": "iIrLuIV_2GnP",
        "outputId": "6eff372f-8986-4f4c-bf08-ba43df3699b4"
      },
      "source": [
        "from matplotlib import pyplot\n",
        "%matplotlib inline\n",
        "\n",
        "pyplot.figure(figsize=(10,3), dpi=100).set_facecolor('white')\n",
        "pyplot.plot(losses)\n",
        "pyplot.xlabel('iters')\n",
        "pyplot.ylabel('loss')\n",
        "pyplot.yscale('log')\n",
        "pyplot.title('Convergence of SVI');"
      ],
      "execution_count": null,
      "outputs": [
        {
          "output_type": "display_data",
          "data": {
            "image/png": "[encoded data removed]",
            "text/plain": [
              "<Figure size 1000x300 with 1 Axes>"
            ]
          },
          "metadata": {
            "tags": []
          }
        }
      ]
    },
    {
      "cell_type": "markdown",
      "metadata": {
        "id": "as0V-_SWrn4G"
      },
      "source": [
        "**Model evaluation**\n",
        "\n",
        "With a model trained by the trainset, the model is expected to be used to make prediction on the testset for evaluation. To do this, similar as the other notebooks, the classifier is built to predict the testset based on the discrete inference. Effect handlers of *trace*, *replay* and *infer_discrete* in Pyro is used here to build the classfier and read out the cluster assignment results from the model. The trace hanlder here records the relationships amongst different pyro primitives. Each node in the trace includes the name, input and output value of the site. [4]\n",
        "\n",
        "\n",
        "[4] Trace, https://docs.pyro.ai/en/dev/poutine.html#trace"
      ]
    },
    {
      "cell_type": "code",
      "metadata": {
        "id": "eiZv52ldKYs9",
        "outputId": "2ae2e6a3-7595-409f-a944-2ae7f556abae"
      },
      "source": [
        "guide_trace = poutine.trace(vae.guide).get_trace(X_test_torch)  # record the globals\n",
        "trained_model = poutine.replay(vae.model, trace=guide_trace)  # replay the globals\n",
        "\n",
        "def classifier(data, temperature=0):\n",
        "    inferred_model = infer_discrete(trained_model,temperature=temperature, first_available_dim=-2)  # avoid conflict with data plate\n",
        "    trace = poutine.trace(inferred_model)\n",
        "    trace_data = trace.get_trace(data)\n",
        "    print(trace_data)\n",
        "    return trace_data.nodes[\"assignment\"][\"value\"], trace_data.nodes[\"latent\"][\"value\"]\n",
        "\n",
        "print(classifier(X_test_torch))"
      ],
      "execution_count": null,
      "outputs": [
        {
          "output_type": "stream",
          "text": [
            "<pyro.poutine.trace_struct.Trace object at 0x7f199cdb77f0>\n",
            "(tensor([0, 1, 1,  ..., 0, 1, 0]), tensor([[ 1.3431,  0.6783, -0.5456,  ..., -0.2275,  0.5856, -0.9945],\n",
            "        [ 1.5969,  0.8956,  1.3791,  ..., -0.1892,  1.2685, -0.4036],\n",
            "        [ 1.9981,  2.4150,  0.1369,  ...,  1.8533,  1.1995,  0.7792],\n",
            "        ...,\n",
            "        [ 0.6639,  1.8447,  1.4980,  ...,  0.0102, -0.1069, -0.9461],\n",
            "        [ 2.7381,  0.3504,  0.2269,  ..., -1.8704, -0.8596, -1.0756],\n",
            "        [ 0.3992,  0.5694, -0.2704,  ...,  0.6856, -1.9128,  0.5802]],\n",
            "       grad_fn=<AddBackward0>))\n"
          ],
          "name": "stdout"
        }
      ]
    },
    {
      "cell_type": "code",
      "metadata": {
        "id": "nQ0n-1RNf3Rv",
        "outputId": "d158da02-743f-4535-dd20-7da01368df5f"
      },
      "source": [
        "y_pred, y_latent = classifier(X_test_torch)\n",
        "print(y_pred)"
      ],
      "execution_count": null,
      "outputs": [
        {
          "output_type": "stream",
          "text": [
            "<pyro.poutine.trace_struct.Trace object at 0x7f199cf59278>\n",
            "tensor([0, 0, 1,  ..., 0, 0, 1])\n"
          ],
          "name": "stdout"
        }
      ]
    },
    {
      "cell_type": "markdown",
      "metadata": {
        "id": "lWnYSKNL5uKI"
      },
      "source": [
        "**Prediction results**"
      ]
    },
    {
      "cell_type": "markdown",
      "metadata": {
        "id": "eohfEBPc5XxV"
      },
      "source": [
        "Detach the prediction results and make a general evalution on the accuracy by comparing the labels between the testset and prediction results. "
      ]
    },
    {
      "cell_type": "markdown",
      "metadata": {
        "id": "q5LiX2Zs59um"
      },
      "source": [
        "The accuracy shows an accuracy of 0.50 which is not as good as the baseline result 0.73 got from sklearn or the results 0.80 got from GMM (K=2)."
      ]
    },
    {
      "cell_type": "code",
      "metadata": {
        "id": "Y7bxD0FHf3Rv",
        "outputId": "b3ba98c3-4fa6-40c0-e534-75662a09e58e"
      },
      "source": [
        "y_pred = y_pred.detach().cpu().numpy() \n",
        "# evaluate prediction accuracy\n",
        "print(\"Accuracy:\", 1.0*np.sum(y_pred == y_test) / len(y_test))"
      ],
      "execution_count": null,
      "outputs": [
        {
          "output_type": "stream",
          "text": [
            "Accuracy: 0.5067631929891407\n"
          ],
          "name": "stdout"
        }
      ]
    },
    {
      "cell_type": "markdown",
      "metadata": {
        "id": "jv_aPk4JsHv9"
      },
      "source": [
        "To take a closer look at the classification report, the detection on the anomalous samples shows similar performance as GMM (K=2) model, but the detection on the normal samples presents limited but relatively stable performance with a low precision and fair recall score. "
      ]
    },
    {
      "cell_type": "code",
      "metadata": {
        "id": "m0OJ42s5f3Rv",
        "outputId": "251b70e8-7cca-43d4-d7bc-e51d394d31b3"
      },
      "source": [
        "from sklearn.metrics import classification_report\n",
        "print(classification_report(y_test, y_pred))"
      ],
      "execution_count": null,
      "outputs": [
        {
          "output_type": "stream",
          "text": [
            "              precision    recall  f1-score   support\n",
            "\n",
            "           0       0.80      0.51      0.62    134730\n",
            "           1       0.20      0.49      0.28     33238\n",
            "\n",
            "    accuracy                           0.51    167968\n",
            "   macro avg       0.50      0.50      0.45    167968\n",
            "weighted avg       0.68      0.51      0.56    167968\n",
            "\n"
          ],
          "name": "stdout"
        }
      ]
    },
    {
      "cell_type": "markdown",
      "metadata": {
        "id": "jbATgQf-tEJ2"
      },
      "source": [
        "To clearly compare the mixture model, the density estimate and histogram is drawn for both the real case (blue) and predicted case (red). In general, they show a similar pattern with two peaks. But the prediction's histogram shows a relatively spreading shape than the real case's histogram, which indicates the GMVAE still need model improvements and further tuning to obtain a good fit. "
      ]
    },
    {
      "cell_type": "code",
      "metadata": {
        "id": "m8pObVEHf3Rv",
        "outputId": "e8dcda7d-76d1-4f39-96fb-4b4613e20bee"
      },
      "source": [
        "sns.distplot(y_pred, label=\"prediction\")\n",
        "sns.distplot(y_test, label=\"true\")\n",
        "plt.legend()\n",
        "plt.show()"
      ],
      "execution_count": null,
      "outputs": [
        {
          "output_type": "display_data",
          "data": {
            "image/png": "[encoded data removed]",
            "text/plain": [
              "<Figure size 432x288 with 1 Axes>"
            ]
          },
          "metadata": {
            "tags": [],
            "needs_background": "light"
          }
        }
      ]
    },
    {
      "cell_type": "code",
      "metadata": {
        "id": "eBkz3TBhf3Rw"
      },
      "source": [
        ""
      ],
      "execution_count": null,
      "outputs": []
    }
  ]
}