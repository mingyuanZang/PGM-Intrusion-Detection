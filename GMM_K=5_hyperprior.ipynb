{
  "nbformat": 4,
  "nbformat_minor": 0,
  "metadata": {
    "accelerator": "GPU",
    "colab": {
      "name": "(final)SVI_KDDCUP99_Classification_model_GMM_Pyro_GPU_K=5_hyperprior.ipynb",
      "provenance": [],
      "collapsed_sections": []
    },
    "kernelspec": {
      "display_name": "Python 3",
      "language": "python",
      "name": "python3"
    },
    "language_info": {
      "codemirror_mode": {
        "name": "ipython",
        "version": 3
      },
      "file_extension": ".py",
      "mimetype": "text/x-python",
      "name": "python",
      "nbconvert_exporter": "python",
      "pygments_lexer": "ipython3",
      "version": "3.7.3"
    }
  },
  "cells": [
    {
      "cell_type": "markdown",
      "metadata": {
        "id": "C60ZAm4-Yo4M"
      },
      "source": [
        "# Project for 42186 Model-based Machine Learning F21  \n",
        "\n",
        "## PGM in Intrusion Detection System\n",
        "\n",
        "### Notebook - GMM (K=5)-hyperprior\n",
        "\n",
        "The KDDCUP99 10 percent dataset from the UCI repository. [1] It is a benchmark dataset for the evaluation of network Intrusion Detection System including the records of normal and malicious traffics. It contains 494021 samples in total with 42 dimensions. \n",
        "\n",
        "The target for this project is to consider it as a classification problem without time as parameter. This notebook studies how to do a fine-grained detection to classify the data samples into normal or 4 type of attacks by running GMM as an unsupervised learning model to get a intrusion detection result. Based on the GMM (K=5) notebook, this notebook tries to improve the detection results by introducing extra hyperprior to the GMM model.  \n",
        "\n",
        "[1] http://kdd.ics.uci.edu/databases/kddcup99/"
      ]
    },
    {
      "cell_type": "markdown",
      "metadata": {
        "id": "2f9E8qzwlEwv"
      },
      "source": [
        "# **Preparation**"
      ]
    },
    {
      "cell_type": "markdown",
      "metadata": {
        "id": "AqhYSle3Ipam"
      },
      "source": [
        "Import required libraries Pyro:"
      ]
    },
    {
      "cell_type": "code",
      "metadata": {
        "colab": {
          "base_uri": "https://localhost:8080/"
        },
        "id": "Ei1QbnmhYyXM",
        "outputId": "1f8eb027-fb18-4f60-b263-8d9ef64a0679"
      },
      "source": [
        "# Install Pyro, if necessary\n",
        "!pip install pyro-ppl"
      ],
      "execution_count": null,
      "outputs": [
        {
          "output_type": "stream",
          "text": [
            "Collecting pyro-ppl\n",
            "\u001b[?25l  Downloading https://files.pythonhosted.org/packages/aa/7a/fbab572fd385154a0c07b0fa138683aa52e14603bb83d37b198e5f9269b1/pyro_ppl-1.6.0-py3-none-any.whl (634kB)\n",
            "\r\u001b[K     |▌                               | 10kB 21.8MB/s eta 0:00:01\r\u001b[K     |█                               | 20kB 17.4MB/s eta 0:00:01\r\u001b[K     |█▌                              | 30kB 14.6MB/s eta 0:00:01\r\u001b[K     |██                              | 40kB 13.7MB/s eta 0:00:01\r\u001b[K     |██▋                             | 51kB 7.6MB/s eta 0:00:01\r\u001b[K     |███                             | 61kB 7.4MB/s eta 0:00:01\r\u001b[K     |███▋                            | 71kB 8.4MB/s eta 0:00:01\r\u001b[K     |████▏                           | 81kB 8.9MB/s eta 0:00:01\r\u001b[K     |████▋                           | 92kB 9.2MB/s eta 0:00:01\r\u001b[K     |█████▏                          | 102kB 7.5MB/s eta 0:00:01\r\u001b[K     |█████▊                          | 112kB 7.5MB/s eta 0:00:01\r\u001b[K     |██████▏                         | 122kB 7.5MB/s eta 0:00:01\r\u001b[K     |██████▊                         | 133kB 7.5MB/s eta 0:00:01\r\u001b[K     |███████▎                        | 143kB 7.5MB/s eta 0:00:01\r\u001b[K     |███████▊                        | 153kB 7.5MB/s eta 0:00:01\r\u001b[K     |████████▎                       | 163kB 7.5MB/s eta 0:00:01\r\u001b[K     |████████▉                       | 174kB 7.5MB/s eta 0:00:01\r\u001b[K     |█████████▎                      | 184kB 7.5MB/s eta 0:00:01\r\u001b[K     |█████████▉                      | 194kB 7.5MB/s eta 0:00:01\r\u001b[K     |██████████▎                     | 204kB 7.5MB/s eta 0:00:01\r\u001b[K     |██████████▉                     | 215kB 7.5MB/s eta 0:00:01\r\u001b[K     |███████████▍                    | 225kB 7.5MB/s eta 0:00:01\r\u001b[K     |███████████▉                    | 235kB 7.5MB/s eta 0:00:01\r\u001b[K     |████████████▍                   | 245kB 7.5MB/s eta 0:00:01\r\u001b[K     |█████████████                   | 256kB 7.5MB/s eta 0:00:01\r\u001b[K     |█████████████▍                  | 266kB 7.5MB/s eta 0:00:01\r\u001b[K     |██████████████                  | 276kB 7.5MB/s eta 0:00:01\r\u001b[K     |██████████████▌                 | 286kB 7.5MB/s eta 0:00:01\r\u001b[K     |███████████████                 | 296kB 7.5MB/s eta 0:00:01\r\u001b[K     |███████████████▌                | 307kB 7.5MB/s eta 0:00:01\r\u001b[K     |████████████████                | 317kB 7.5MB/s eta 0:00:01\r\u001b[K     |████████████████▌               | 327kB 7.5MB/s eta 0:00:01\r\u001b[K     |█████████████████               | 337kB 7.5MB/s eta 0:00:01\r\u001b[K     |█████████████████▋              | 348kB 7.5MB/s eta 0:00:01\r\u001b[K     |██████████████████              | 358kB 7.5MB/s eta 0:00:01\r\u001b[K     |██████████████████▋             | 368kB 7.5MB/s eta 0:00:01\r\u001b[K     |███████████████████             | 378kB 7.5MB/s eta 0:00:01\r\u001b[K     |███████████████████▋            | 389kB 7.5MB/s eta 0:00:01\r\u001b[K     |████████████████████▏           | 399kB 7.5MB/s eta 0:00:01\r\u001b[K     |████████████████████▋           | 409kB 7.5MB/s eta 0:00:01\r\u001b[K     |█████████████████████▏          | 419kB 7.5MB/s eta 0:00:01\r\u001b[K     |█████████████████████▊          | 430kB 7.5MB/s eta 0:00:01\r\u001b[K     |██████████████████████▏         | 440kB 7.5MB/s eta 0:00:01\r\u001b[K     |██████████████████████▊         | 450kB 7.5MB/s eta 0:00:01\r\u001b[K     |███████████████████████▎        | 460kB 7.5MB/s eta 0:00:01\r\u001b[K     |███████████████████████▊        | 471kB 7.5MB/s eta 0:00:01\r\u001b[K     |████████████████████████▎       | 481kB 7.5MB/s eta 0:00:01\r\u001b[K     |████████████████████████▉       | 491kB 7.5MB/s eta 0:00:01\r\u001b[K     |█████████████████████████▎      | 501kB 7.5MB/s eta 0:00:01\r\u001b[K     |█████████████████████████▉      | 512kB 7.5MB/s eta 0:00:01\r\u001b[K     |██████████████████████████▍     | 522kB 7.5MB/s eta 0:00:01\r\u001b[K     |██████████████████████████▉     | 532kB 7.5MB/s eta 0:00:01\r\u001b[K     |███████████████████████████▍    | 542kB 7.5MB/s eta 0:00:01\r\u001b[K     |███████████████████████████▉    | 552kB 7.5MB/s eta 0:00:01\r\u001b[K     |████████████████████████████▍   | 563kB 7.5MB/s eta 0:00:01\r\u001b[K     |█████████████████████████████   | 573kB 7.5MB/s eta 0:00:01\r\u001b[K     |█████████████████████████████▍  | 583kB 7.5MB/s eta 0:00:01\r\u001b[K     |██████████████████████████████  | 593kB 7.5MB/s eta 0:00:01\r\u001b[K     |██████████████████████████████▌ | 604kB 7.5MB/s eta 0:00:01\r\u001b[K     |███████████████████████████████ | 614kB 7.5MB/s eta 0:00:01\r\u001b[K     |███████████████████████████████▌| 624kB 7.5MB/s eta 0:00:01\r\u001b[K     |████████████████████████████████| 634kB 7.5MB/s \n",
            "\u001b[?25hRequirement already satisfied: opt-einsum>=2.3.2 in /usr/local/lib/python3.7/dist-packages (from pyro-ppl) (3.3.0)\n",
            "Requirement already satisfied: torch>=1.8.0 in /usr/local/lib/python3.7/dist-packages (from pyro-ppl) (1.8.1+cu101)\n",
            "Requirement already satisfied: numpy>=1.7 in /usr/local/lib/python3.7/dist-packages (from pyro-ppl) (1.19.5)\n",
            "Requirement already satisfied: tqdm>=4.36 in /usr/local/lib/python3.7/dist-packages (from pyro-ppl) (4.41.1)\n",
            "Collecting pyro-api>=0.1.1\n",
            "  Downloading https://files.pythonhosted.org/packages/fc/81/957ae78e6398460a7230b0eb9b8f1cb954c5e913e868e48d89324c68cec7/pyro_api-0.1.2-py3-none-any.whl\n",
            "Requirement already satisfied: typing-extensions in /usr/local/lib/python3.7/dist-packages (from torch>=1.8.0->pyro-ppl) (3.7.4.3)\n",
            "Installing collected packages: pyro-api, pyro-ppl\n",
            "Successfully installed pyro-api-0.1.2 pyro-ppl-1.6.0\n"
          ],
          "name": "stdout"
        }
      ]
    },
    {
      "cell_type": "markdown",
      "metadata": {
        "id": "gX9_jwKvIsZj"
      },
      "source": [
        "Mount the Google Drive to read the dataset later"
      ]
    },
    {
      "cell_type": "code",
      "metadata": {
        "colab": {
          "base_uri": "https://localhost:8080/"
        },
        "id": "c88cbEAgeCa2",
        "outputId": "27bcca65-4663-42c4-bcbe-8aab841a998c"
      },
      "source": [
        "from google.colab import drive\n",
        "drive.mount('/content/gdrive')"
      ],
      "execution_count": null,
      "outputs": [
        {
          "output_type": "stream",
          "text": [
            "Mounted at /content/gdrive\n"
          ],
          "name": "stdout"
        }
      ]
    },
    {
      "cell_type": "markdown",
      "metadata": {
        "id": "dfauZ8WdIvCz"
      },
      "source": [
        "Import the necessary packages"
      ]
    },
    {
      "cell_type": "code",
      "metadata": {
        "id": "iGyKT_grYo4O"
      },
      "source": [
        "import numpy as np\n",
        "import pandas as pd\n",
        "from matplotlib import pyplot as plt\n",
        "from sklearn import linear_model\n",
        "import seaborn as sns\n",
        "import torch\n",
        "import torch.autograd as autograd\n",
        "\n",
        "import pyro\n",
        "import pyro.distributions as dist\n",
        "from pyro.contrib.autoguide import AutoDiagonalNormal, AutoMultivariateNormal, AutoGuideList\n",
        "from pyro.infer import MCMC, NUTS, HMC, SVI, Trace_ELBO\n",
        "from pyro.optim import Adam, ClippedAdam\n",
        "from pyro.infer import SVI, TraceEnum_ELBO, JitTrace_ELBO, config_enumerate, infer_discrete\n",
        "from pyro.infer.autoguide import AutoDelta\n",
        "from pyro import poutine\n",
        "\n",
        "import torch\n",
        "import torch.nn as nn\n",
        "\n",
        "# fix random generator seed (for reproducibility of results)\n",
        "np.random.seed(42)\n",
        "\n",
        "# matplotlib style options\n",
        "plt.style.use('ggplot')\n",
        "%matplotlib inline\n",
        "plt.rcParams['figure.figsize'] = (12, 8)"
      ],
      "execution_count": null,
      "outputs": []
    },
    {
      "cell_type": "markdown",
      "metadata": {
        "id": "vOTXtjBGIyQ1"
      },
      "source": [
        "GPU provided by Colab is configured in this case to speed up the training process"
      ]
    },
    {
      "cell_type": "code",
      "metadata": {
        "colab": {
          "base_uri": "https://localhost:8080/"
        },
        "id": "Ob4xlW5keApO",
        "outputId": "082fc913-70f8-4efd-a776-ae43fcca4ebe"
      },
      "source": [
        "USE_CUDA = torch.cuda.is_available()\n",
        "if USE_CUDA:  \n",
        "  device = torch.device('cuda:0')\n",
        "\n",
        "print(USE_CUDA)\n",
        "print(device)"
      ],
      "execution_count": null,
      "outputs": [
        {
          "output_type": "stream",
          "text": [
            "True\n",
            "cuda:0\n"
          ],
          "name": "stdout"
        }
      ]
    },
    {
      "cell_type": "code",
      "metadata": {
        "id": "-5IqH16KhkxI"
      },
      "source": [
        "torch.set_default_tensor_type('torch.cuda.FloatTensor')"
      ],
      "execution_count": null,
      "outputs": []
    },
    {
      "cell_type": "code",
      "metadata": {
        "colab": {
          "base_uri": "https://localhost:8080/"
        },
        "id": "3TAFyelSeneV",
        "outputId": "32663166-6a0c-463e-96ca-39f02ff151e8"
      },
      "source": [
        "# monitor the GPU usage\n",
        "from urllib.request import urlopen\n",
        "exec(urlopen(\"http://colab-monitor.smankusors.com/track.py\").read())\n",
        "_colabMonitor = ColabMonitor().start()"
      ],
      "execution_count": null,
      "outputs": [
        {
          "output_type": "stream",
          "text": [
            "Now live at : http://colab-monitor.smankusors.com/60af4ab90166b\n"
          ],
          "name": "stdout"
        }
      ]
    },
    {
      "cell_type": "markdown",
      "metadata": {
        "id": "leUFPWUjI_Ho"
      },
      "source": [
        "**Load the dataset from Drive**"
      ]
    },
    {
      "cell_type": "markdown",
      "metadata": {
        "id": "T9AqN3J7lpe4"
      },
      "source": [
        "Based on the printed statistics and information, the dataset contains 494021 samples in total with 42 dimensions, where the first 41 of them are the features of network traffic and the last dimension is the label to indicate whether the traffic is normal or not. The 41 features are collected by directly extracting from the network traffic flow like the src_bytes, or by computing with a two-second time window like the serror_rate. For these 41 features, they are in the form of continuous, discrete or symbolic with the ranges varying widely. "
      ]
    },
    {
      "cell_type": "code",
      "metadata": {
        "colab": {
          "base_uri": "https://localhost:8080/",
          "height": 222
        },
        "id": "SElGiw97uk_G",
        "outputId": "ca89ecd0-c13f-42c4-cebf-767922b78203"
      },
      "source": [
        "# load csv\n",
        "data = pd.read_csv(\"/content/gdrive/My Drive/KDD/kddcup.data_10_percent_corrected\", header=None,names=['duration', 'protocol_type', 'service', 'flag', 'src_bytes', 'dst_bytes', 'land', 'wrong_fragment', 'urgent', 'hot', 'num_failed_logins', 'logged_in', 'num_compromised', 'root_shell', 'su_attempted', 'num_root', 'num_file_creations', 'num_shells', 'num_access_files', 'num_outbound_cmds', 'is_host_login', 'is_guest_login', 'count', 'srv_count', 'serror_rate', 'srv_serror_rate', 'rerror_rate', 'srv_rerror_rate', 'same_srv_rate', 'diff_srv_rate', 'srv_diff_host_rate', 'dst_host_count', 'dst_host_srv_count', 'dst_host_same_srv_rate', 'dst_host_diff_srv_rate', 'dst_host_same_src_port_rate', 'dst_host_srv_diff_host_rate', 'dst_host_serror_rate', 'dst_host_srv_serror_rate', 'dst_host_rerror_rate', 'dst_host_srv_rerror_rate', 'type'])\n",
        "data.head()"
      ],
      "execution_count": null,
      "outputs": [
        {
          "output_type": "execute_result",
          "data": {
            "text/html": [
              "<div>\n",
              "<style scoped>\n",
              "    .dataframe tbody tr th:only-of-type {\n",
              "        vertical-align: middle;\n",
              "    }\n",
              "\n",
              "    .dataframe tbody tr th {\n",
              "        vertical-align: top;\n",
              "    }\n",
              "\n",
              "    .dataframe thead th {\n",
              "        text-align: right;\n",
              "    }\n",
              "</style>\n",
              "<table border=\"1\" class=\"dataframe\">\n",
              "  <thead>\n",
              "    <tr style=\"text-align: right;\">\n",
              "      <th></th>\n",
              "      <th>duration</th>\n",
              "      <th>protocol_type</th>\n",
              "      <th>service</th>\n",
              "      <th>flag</th>\n",
              "      <th>src_bytes</th>\n",
              "      <th>dst_bytes</th>\n",
              "      <th>land</th>\n",
              "      <th>wrong_fragment</th>\n",
              "      <th>urgent</th>\n",
              "      <th>hot</th>\n",
              "      <th>num_failed_logins</th>\n",
              "      <th>logged_in</th>\n",
              "      <th>num_compromised</th>\n",
              "      <th>root_shell</th>\n",
              "      <th>su_attempted</th>\n",
              "      <th>num_root</th>\n",
              "      <th>num_file_creations</th>\n",
              "      <th>num_shells</th>\n",
              "      <th>num_access_files</th>\n",
              "      <th>num_outbound_cmds</th>\n",
              "      <th>is_host_login</th>\n",
              "      <th>is_guest_login</th>\n",
              "      <th>count</th>\n",
              "      <th>srv_count</th>\n",
              "      <th>serror_rate</th>\n",
              "      <th>srv_serror_rate</th>\n",
              "      <th>rerror_rate</th>\n",
              "      <th>srv_rerror_rate</th>\n",
              "      <th>same_srv_rate</th>\n",
              "      <th>diff_srv_rate</th>\n",
              "      <th>srv_diff_host_rate</th>\n",
              "      <th>dst_host_count</th>\n",
              "      <th>dst_host_srv_count</th>\n",
              "      <th>dst_host_same_srv_rate</th>\n",
              "      <th>dst_host_diff_srv_rate</th>\n",
              "      <th>dst_host_same_src_port_rate</th>\n",
              "      <th>dst_host_srv_diff_host_rate</th>\n",
              "      <th>dst_host_serror_rate</th>\n",
              "      <th>dst_host_srv_serror_rate</th>\n",
              "      <th>dst_host_rerror_rate</th>\n",
              "      <th>dst_host_srv_rerror_rate</th>\n",
              "      <th>type</th>\n",
              "    </tr>\n",
              "  </thead>\n",
              "  <tbody>\n",
              "    <tr>\n",
              "      <th>0</th>\n",
              "      <td>0</td>\n",
              "      <td>tcp</td>\n",
              "      <td>http</td>\n",
              "      <td>SF</td>\n",
              "      <td>181</td>\n",
              "      <td>5450</td>\n",
              "      <td>0</td>\n",
              "      <td>0</td>\n",
              "      <td>0</td>\n",
              "      <td>0</td>\n",
              "      <td>0</td>\n",
              "      <td>1</td>\n",
              "      <td>0</td>\n",
              "      <td>0</td>\n",
              "      <td>0</td>\n",
              "      <td>0</td>\n",
              "      <td>0</td>\n",
              "      <td>0</td>\n",
              "      <td>0</td>\n",
              "      <td>0</td>\n",
              "      <td>0</td>\n",
              "      <td>0</td>\n",
              "      <td>8</td>\n",
              "      <td>8</td>\n",
              "      <td>0.0</td>\n",
              "      <td>0.0</td>\n",
              "      <td>0.0</td>\n",
              "      <td>0.0</td>\n",
              "      <td>1.0</td>\n",
              "      <td>0.0</td>\n",
              "      <td>0.0</td>\n",
              "      <td>9</td>\n",
              "      <td>9</td>\n",
              "      <td>1.0</td>\n",
              "      <td>0.0</td>\n",
              "      <td>0.11</td>\n",
              "      <td>0.0</td>\n",
              "      <td>0.0</td>\n",
              "      <td>0.0</td>\n",
              "      <td>0.0</td>\n",
              "      <td>0.0</td>\n",
              "      <td>normal.</td>\n",
              "    </tr>\n",
              "    <tr>\n",
              "      <th>1</th>\n",
              "      <td>0</td>\n",
              "      <td>tcp</td>\n",
              "      <td>http</td>\n",
              "      <td>SF</td>\n",
              "      <td>239</td>\n",
              "      <td>486</td>\n",
              "      <td>0</td>\n",
              "      <td>0</td>\n",
              "      <td>0</td>\n",
              "      <td>0</td>\n",
              "      <td>0</td>\n",
              "      <td>1</td>\n",
              "      <td>0</td>\n",
              "      <td>0</td>\n",
              "      <td>0</td>\n",
              "      <td>0</td>\n",
              "      <td>0</td>\n",
              "      <td>0</td>\n",
              "      <td>0</td>\n",
              "      <td>0</td>\n",
              "      <td>0</td>\n",
              "      <td>0</td>\n",
              "      <td>8</td>\n",
              "      <td>8</td>\n",
              "      <td>0.0</td>\n",
              "      <td>0.0</td>\n",
              "      <td>0.0</td>\n",
              "      <td>0.0</td>\n",
              "      <td>1.0</td>\n",
              "      <td>0.0</td>\n",
              "      <td>0.0</td>\n",
              "      <td>19</td>\n",
              "      <td>19</td>\n",
              "      <td>1.0</td>\n",
              "      <td>0.0</td>\n",
              "      <td>0.05</td>\n",
              "      <td>0.0</td>\n",
              "      <td>0.0</td>\n",
              "      <td>0.0</td>\n",
              "      <td>0.0</td>\n",
              "      <td>0.0</td>\n",
              "      <td>normal.</td>\n",
              "    </tr>\n",
              "    <tr>\n",
              "      <th>2</th>\n",
              "      <td>0</td>\n",
              "      <td>tcp</td>\n",
              "      <td>http</td>\n",
              "      <td>SF</td>\n",
              "      <td>235</td>\n",
              "      <td>1337</td>\n",
              "      <td>0</td>\n",
              "      <td>0</td>\n",
              "      <td>0</td>\n",
              "      <td>0</td>\n",
              "      <td>0</td>\n",
              "      <td>1</td>\n",
              "      <td>0</td>\n",
              "      <td>0</td>\n",
              "      <td>0</td>\n",
              "      <td>0</td>\n",
              "      <td>0</td>\n",
              "      <td>0</td>\n",
              "      <td>0</td>\n",
              "      <td>0</td>\n",
              "      <td>0</td>\n",
              "      <td>0</td>\n",
              "      <td>8</td>\n",
              "      <td>8</td>\n",
              "      <td>0.0</td>\n",
              "      <td>0.0</td>\n",
              "      <td>0.0</td>\n",
              "      <td>0.0</td>\n",
              "      <td>1.0</td>\n",
              "      <td>0.0</td>\n",
              "      <td>0.0</td>\n",
              "      <td>29</td>\n",
              "      <td>29</td>\n",
              "      <td>1.0</td>\n",
              "      <td>0.0</td>\n",
              "      <td>0.03</td>\n",
              "      <td>0.0</td>\n",
              "      <td>0.0</td>\n",
              "      <td>0.0</td>\n",
              "      <td>0.0</td>\n",
              "      <td>0.0</td>\n",
              "      <td>normal.</td>\n",
              "    </tr>\n",
              "    <tr>\n",
              "      <th>3</th>\n",
              "      <td>0</td>\n",
              "      <td>tcp</td>\n",
              "      <td>http</td>\n",
              "      <td>SF</td>\n",
              "      <td>219</td>\n",
              "      <td>1337</td>\n",
              "      <td>0</td>\n",
              "      <td>0</td>\n",
              "      <td>0</td>\n",
              "      <td>0</td>\n",
              "      <td>0</td>\n",
              "      <td>1</td>\n",
              "      <td>0</td>\n",
              "      <td>0</td>\n",
              "      <td>0</td>\n",
              "      <td>0</td>\n",
              "      <td>0</td>\n",
              "      <td>0</td>\n",
              "      <td>0</td>\n",
              "      <td>0</td>\n",
              "      <td>0</td>\n",
              "      <td>0</td>\n",
              "      <td>6</td>\n",
              "      <td>6</td>\n",
              "      <td>0.0</td>\n",
              "      <td>0.0</td>\n",
              "      <td>0.0</td>\n",
              "      <td>0.0</td>\n",
              "      <td>1.0</td>\n",
              "      <td>0.0</td>\n",
              "      <td>0.0</td>\n",
              "      <td>39</td>\n",
              "      <td>39</td>\n",
              "      <td>1.0</td>\n",
              "      <td>0.0</td>\n",
              "      <td>0.03</td>\n",
              "      <td>0.0</td>\n",
              "      <td>0.0</td>\n",
              "      <td>0.0</td>\n",
              "      <td>0.0</td>\n",
              "      <td>0.0</td>\n",
              "      <td>normal.</td>\n",
              "    </tr>\n",
              "    <tr>\n",
              "      <th>4</th>\n",
              "      <td>0</td>\n",
              "      <td>tcp</td>\n",
              "      <td>http</td>\n",
              "      <td>SF</td>\n",
              "      <td>217</td>\n",
              "      <td>2032</td>\n",
              "      <td>0</td>\n",
              "      <td>0</td>\n",
              "      <td>0</td>\n",
              "      <td>0</td>\n",
              "      <td>0</td>\n",
              "      <td>1</td>\n",
              "      <td>0</td>\n",
              "      <td>0</td>\n",
              "      <td>0</td>\n",
              "      <td>0</td>\n",
              "      <td>0</td>\n",
              "      <td>0</td>\n",
              "      <td>0</td>\n",
              "      <td>0</td>\n",
              "      <td>0</td>\n",
              "      <td>0</td>\n",
              "      <td>6</td>\n",
              "      <td>6</td>\n",
              "      <td>0.0</td>\n",
              "      <td>0.0</td>\n",
              "      <td>0.0</td>\n",
              "      <td>0.0</td>\n",
              "      <td>1.0</td>\n",
              "      <td>0.0</td>\n",
              "      <td>0.0</td>\n",
              "      <td>49</td>\n",
              "      <td>49</td>\n",
              "      <td>1.0</td>\n",
              "      <td>0.0</td>\n",
              "      <td>0.02</td>\n",
              "      <td>0.0</td>\n",
              "      <td>0.0</td>\n",
              "      <td>0.0</td>\n",
              "      <td>0.0</td>\n",
              "      <td>0.0</td>\n",
              "      <td>normal.</td>\n",
              "    </tr>\n",
              "  </tbody>\n",
              "</table>\n",
              "</div>"
            ],
            "text/plain": [
              "   duration protocol_type  ... dst_host_srv_rerror_rate     type\n",
              "0         0           tcp  ...                      0.0  normal.\n",
              "1         0           tcp  ...                      0.0  normal.\n",
              "2         0           tcp  ...                      0.0  normal.\n",
              "3         0           tcp  ...                      0.0  normal.\n",
              "4         0           tcp  ...                      0.0  normal.\n",
              "\n",
              "[5 rows x 42 columns]"
            ]
          },
          "metadata": {
            "tags": []
          },
          "execution_count": 7
        }
      ]
    },
    {
      "cell_type": "code",
      "metadata": {
        "colab": {
          "base_uri": "https://localhost:8080/",
          "height": 314
        },
        "id": "BYrD5SHDOU29",
        "outputId": "dc8f24b2-50a6-4ab8-ece2-5a544f5ce1b9"
      },
      "source": [
        "data.describe()"
      ],
      "execution_count": null,
      "outputs": [
        {
          "output_type": "execute_result",
          "data": {
            "text/html": [
              "<div>\n",
              "<style scoped>\n",
              "    .dataframe tbody tr th:only-of-type {\n",
              "        vertical-align: middle;\n",
              "    }\n",
              "\n",
              "    .dataframe tbody tr th {\n",
              "        vertical-align: top;\n",
              "    }\n",
              "\n",
              "    .dataframe thead th {\n",
              "        text-align: right;\n",
              "    }\n",
              "</style>\n",
              "<table border=\"1\" class=\"dataframe\">\n",
              "  <thead>\n",
              "    <tr style=\"text-align: right;\">\n",
              "      <th></th>\n",
              "      <th>duration</th>\n",
              "      <th>src_bytes</th>\n",
              "      <th>dst_bytes</th>\n",
              "      <th>land</th>\n",
              "      <th>wrong_fragment</th>\n",
              "      <th>urgent</th>\n",
              "      <th>hot</th>\n",
              "      <th>num_failed_logins</th>\n",
              "      <th>logged_in</th>\n",
              "      <th>num_compromised</th>\n",
              "      <th>root_shell</th>\n",
              "      <th>su_attempted</th>\n",
              "      <th>num_root</th>\n",
              "      <th>num_file_creations</th>\n",
              "      <th>num_shells</th>\n",
              "      <th>num_access_files</th>\n",
              "      <th>num_outbound_cmds</th>\n",
              "      <th>is_host_login</th>\n",
              "      <th>is_guest_login</th>\n",
              "      <th>count</th>\n",
              "      <th>srv_count</th>\n",
              "      <th>serror_rate</th>\n",
              "      <th>srv_serror_rate</th>\n",
              "      <th>rerror_rate</th>\n",
              "      <th>srv_rerror_rate</th>\n",
              "      <th>same_srv_rate</th>\n",
              "      <th>diff_srv_rate</th>\n",
              "      <th>srv_diff_host_rate</th>\n",
              "      <th>dst_host_count</th>\n",
              "      <th>dst_host_srv_count</th>\n",
              "      <th>dst_host_same_srv_rate</th>\n",
              "      <th>dst_host_diff_srv_rate</th>\n",
              "      <th>dst_host_same_src_port_rate</th>\n",
              "      <th>dst_host_srv_diff_host_rate</th>\n",
              "      <th>dst_host_serror_rate</th>\n",
              "      <th>dst_host_srv_serror_rate</th>\n",
              "      <th>dst_host_rerror_rate</th>\n",
              "      <th>dst_host_srv_rerror_rate</th>\n",
              "    </tr>\n",
              "  </thead>\n",
              "  <tbody>\n",
              "    <tr>\n",
              "      <th>count</th>\n",
              "      <td>494021.000000</td>\n",
              "      <td>4.940210e+05</td>\n",
              "      <td>4.940210e+05</td>\n",
              "      <td>494021.000000</td>\n",
              "      <td>494021.000000</td>\n",
              "      <td>494021.000000</td>\n",
              "      <td>494021.000000</td>\n",
              "      <td>494021.000000</td>\n",
              "      <td>494021.000000</td>\n",
              "      <td>494021.000000</td>\n",
              "      <td>494021.000000</td>\n",
              "      <td>494021.000000</td>\n",
              "      <td>494021.000000</td>\n",
              "      <td>494021.000000</td>\n",
              "      <td>494021.000000</td>\n",
              "      <td>494021.000000</td>\n",
              "      <td>494021.0</td>\n",
              "      <td>494021.0</td>\n",
              "      <td>494021.000000</td>\n",
              "      <td>494021.000000</td>\n",
              "      <td>494021.000000</td>\n",
              "      <td>494021.000000</td>\n",
              "      <td>494021.000000</td>\n",
              "      <td>494021.000000</td>\n",
              "      <td>494021.000000</td>\n",
              "      <td>494021.000000</td>\n",
              "      <td>494021.000000</td>\n",
              "      <td>494021.000000</td>\n",
              "      <td>494021.000000</td>\n",
              "      <td>494021.000000</td>\n",
              "      <td>494021.000000</td>\n",
              "      <td>494021.000000</td>\n",
              "      <td>494021.000000</td>\n",
              "      <td>494021.000000</td>\n",
              "      <td>494021.000000</td>\n",
              "      <td>494021.000000</td>\n",
              "      <td>494021.000000</td>\n",
              "      <td>494021.000000</td>\n",
              "    </tr>\n",
              "    <tr>\n",
              "      <th>mean</th>\n",
              "      <td>47.979302</td>\n",
              "      <td>3.025610e+03</td>\n",
              "      <td>8.685324e+02</td>\n",
              "      <td>0.000045</td>\n",
              "      <td>0.006433</td>\n",
              "      <td>0.000014</td>\n",
              "      <td>0.034519</td>\n",
              "      <td>0.000152</td>\n",
              "      <td>0.148247</td>\n",
              "      <td>0.010212</td>\n",
              "      <td>0.000111</td>\n",
              "      <td>0.000036</td>\n",
              "      <td>0.011352</td>\n",
              "      <td>0.001083</td>\n",
              "      <td>0.000109</td>\n",
              "      <td>0.001008</td>\n",
              "      <td>0.0</td>\n",
              "      <td>0.0</td>\n",
              "      <td>0.001387</td>\n",
              "      <td>332.285690</td>\n",
              "      <td>292.906557</td>\n",
              "      <td>0.176687</td>\n",
              "      <td>0.176609</td>\n",
              "      <td>0.057433</td>\n",
              "      <td>0.057719</td>\n",
              "      <td>0.791547</td>\n",
              "      <td>0.020982</td>\n",
              "      <td>0.028997</td>\n",
              "      <td>232.470778</td>\n",
              "      <td>188.665670</td>\n",
              "      <td>0.753780</td>\n",
              "      <td>0.030906</td>\n",
              "      <td>0.601935</td>\n",
              "      <td>0.006684</td>\n",
              "      <td>0.176754</td>\n",
              "      <td>0.176443</td>\n",
              "      <td>0.058118</td>\n",
              "      <td>0.057412</td>\n",
              "    </tr>\n",
              "    <tr>\n",
              "      <th>std</th>\n",
              "      <td>707.746472</td>\n",
              "      <td>9.882181e+05</td>\n",
              "      <td>3.304000e+04</td>\n",
              "      <td>0.006673</td>\n",
              "      <td>0.134805</td>\n",
              "      <td>0.005510</td>\n",
              "      <td>0.782103</td>\n",
              "      <td>0.015520</td>\n",
              "      <td>0.355345</td>\n",
              "      <td>1.798326</td>\n",
              "      <td>0.010551</td>\n",
              "      <td>0.007793</td>\n",
              "      <td>2.012718</td>\n",
              "      <td>0.096416</td>\n",
              "      <td>0.011020</td>\n",
              "      <td>0.036482</td>\n",
              "      <td>0.0</td>\n",
              "      <td>0.0</td>\n",
              "      <td>0.037211</td>\n",
              "      <td>213.147412</td>\n",
              "      <td>246.322817</td>\n",
              "      <td>0.380717</td>\n",
              "      <td>0.381017</td>\n",
              "      <td>0.231623</td>\n",
              "      <td>0.232147</td>\n",
              "      <td>0.388189</td>\n",
              "      <td>0.082205</td>\n",
              "      <td>0.142397</td>\n",
              "      <td>64.745380</td>\n",
              "      <td>106.040437</td>\n",
              "      <td>0.410781</td>\n",
              "      <td>0.109259</td>\n",
              "      <td>0.481309</td>\n",
              "      <td>0.042133</td>\n",
              "      <td>0.380593</td>\n",
              "      <td>0.380919</td>\n",
              "      <td>0.230590</td>\n",
              "      <td>0.230140</td>\n",
              "    </tr>\n",
              "    <tr>\n",
              "      <th>min</th>\n",
              "      <td>0.000000</td>\n",
              "      <td>0.000000e+00</td>\n",
              "      <td>0.000000e+00</td>\n",
              "      <td>0.000000</td>\n",
              "      <td>0.000000</td>\n",
              "      <td>0.000000</td>\n",
              "      <td>0.000000</td>\n",
              "      <td>0.000000</td>\n",
              "      <td>0.000000</td>\n",
              "      <td>0.000000</td>\n",
              "      <td>0.000000</td>\n",
              "      <td>0.000000</td>\n",
              "      <td>0.000000</td>\n",
              "      <td>0.000000</td>\n",
              "      <td>0.000000</td>\n",
              "      <td>0.000000</td>\n",
              "      <td>0.0</td>\n",
              "      <td>0.0</td>\n",
              "      <td>0.000000</td>\n",
              "      <td>0.000000</td>\n",
              "      <td>0.000000</td>\n",
              "      <td>0.000000</td>\n",
              "      <td>0.000000</td>\n",
              "      <td>0.000000</td>\n",
              "      <td>0.000000</td>\n",
              "      <td>0.000000</td>\n",
              "      <td>0.000000</td>\n",
              "      <td>0.000000</td>\n",
              "      <td>0.000000</td>\n",
              "      <td>0.000000</td>\n",
              "      <td>0.000000</td>\n",
              "      <td>0.000000</td>\n",
              "      <td>0.000000</td>\n",
              "      <td>0.000000</td>\n",
              "      <td>0.000000</td>\n",
              "      <td>0.000000</td>\n",
              "      <td>0.000000</td>\n",
              "      <td>0.000000</td>\n",
              "    </tr>\n",
              "    <tr>\n",
              "      <th>25%</th>\n",
              "      <td>0.000000</td>\n",
              "      <td>4.500000e+01</td>\n",
              "      <td>0.000000e+00</td>\n",
              "      <td>0.000000</td>\n",
              "      <td>0.000000</td>\n",
              "      <td>0.000000</td>\n",
              "      <td>0.000000</td>\n",
              "      <td>0.000000</td>\n",
              "      <td>0.000000</td>\n",
              "      <td>0.000000</td>\n",
              "      <td>0.000000</td>\n",
              "      <td>0.000000</td>\n",
              "      <td>0.000000</td>\n",
              "      <td>0.000000</td>\n",
              "      <td>0.000000</td>\n",
              "      <td>0.000000</td>\n",
              "      <td>0.0</td>\n",
              "      <td>0.0</td>\n",
              "      <td>0.000000</td>\n",
              "      <td>117.000000</td>\n",
              "      <td>10.000000</td>\n",
              "      <td>0.000000</td>\n",
              "      <td>0.000000</td>\n",
              "      <td>0.000000</td>\n",
              "      <td>0.000000</td>\n",
              "      <td>1.000000</td>\n",
              "      <td>0.000000</td>\n",
              "      <td>0.000000</td>\n",
              "      <td>255.000000</td>\n",
              "      <td>46.000000</td>\n",
              "      <td>0.410000</td>\n",
              "      <td>0.000000</td>\n",
              "      <td>0.000000</td>\n",
              "      <td>0.000000</td>\n",
              "      <td>0.000000</td>\n",
              "      <td>0.000000</td>\n",
              "      <td>0.000000</td>\n",
              "      <td>0.000000</td>\n",
              "    </tr>\n",
              "    <tr>\n",
              "      <th>50%</th>\n",
              "      <td>0.000000</td>\n",
              "      <td>5.200000e+02</td>\n",
              "      <td>0.000000e+00</td>\n",
              "      <td>0.000000</td>\n",
              "      <td>0.000000</td>\n",
              "      <td>0.000000</td>\n",
              "      <td>0.000000</td>\n",
              "      <td>0.000000</td>\n",
              "      <td>0.000000</td>\n",
              "      <td>0.000000</td>\n",
              "      <td>0.000000</td>\n",
              "      <td>0.000000</td>\n",
              "      <td>0.000000</td>\n",
              "      <td>0.000000</td>\n",
              "      <td>0.000000</td>\n",
              "      <td>0.000000</td>\n",
              "      <td>0.0</td>\n",
              "      <td>0.0</td>\n",
              "      <td>0.000000</td>\n",
              "      <td>510.000000</td>\n",
              "      <td>510.000000</td>\n",
              "      <td>0.000000</td>\n",
              "      <td>0.000000</td>\n",
              "      <td>0.000000</td>\n",
              "      <td>0.000000</td>\n",
              "      <td>1.000000</td>\n",
              "      <td>0.000000</td>\n",
              "      <td>0.000000</td>\n",
              "      <td>255.000000</td>\n",
              "      <td>255.000000</td>\n",
              "      <td>1.000000</td>\n",
              "      <td>0.000000</td>\n",
              "      <td>1.000000</td>\n",
              "      <td>0.000000</td>\n",
              "      <td>0.000000</td>\n",
              "      <td>0.000000</td>\n",
              "      <td>0.000000</td>\n",
              "      <td>0.000000</td>\n",
              "    </tr>\n",
              "    <tr>\n",
              "      <th>75%</th>\n",
              "      <td>0.000000</td>\n",
              "      <td>1.032000e+03</td>\n",
              "      <td>0.000000e+00</td>\n",
              "      <td>0.000000</td>\n",
              "      <td>0.000000</td>\n",
              "      <td>0.000000</td>\n",
              "      <td>0.000000</td>\n",
              "      <td>0.000000</td>\n",
              "      <td>0.000000</td>\n",
              "      <td>0.000000</td>\n",
              "      <td>0.000000</td>\n",
              "      <td>0.000000</td>\n",
              "      <td>0.000000</td>\n",
              "      <td>0.000000</td>\n",
              "      <td>0.000000</td>\n",
              "      <td>0.000000</td>\n",
              "      <td>0.0</td>\n",
              "      <td>0.0</td>\n",
              "      <td>0.000000</td>\n",
              "      <td>511.000000</td>\n",
              "      <td>511.000000</td>\n",
              "      <td>0.000000</td>\n",
              "      <td>0.000000</td>\n",
              "      <td>0.000000</td>\n",
              "      <td>0.000000</td>\n",
              "      <td>1.000000</td>\n",
              "      <td>0.000000</td>\n",
              "      <td>0.000000</td>\n",
              "      <td>255.000000</td>\n",
              "      <td>255.000000</td>\n",
              "      <td>1.000000</td>\n",
              "      <td>0.040000</td>\n",
              "      <td>1.000000</td>\n",
              "      <td>0.000000</td>\n",
              "      <td>0.000000</td>\n",
              "      <td>0.000000</td>\n",
              "      <td>0.000000</td>\n",
              "      <td>0.000000</td>\n",
              "    </tr>\n",
              "    <tr>\n",
              "      <th>max</th>\n",
              "      <td>58329.000000</td>\n",
              "      <td>6.933756e+08</td>\n",
              "      <td>5.155468e+06</td>\n",
              "      <td>1.000000</td>\n",
              "      <td>3.000000</td>\n",
              "      <td>3.000000</td>\n",
              "      <td>30.000000</td>\n",
              "      <td>5.000000</td>\n",
              "      <td>1.000000</td>\n",
              "      <td>884.000000</td>\n",
              "      <td>1.000000</td>\n",
              "      <td>2.000000</td>\n",
              "      <td>993.000000</td>\n",
              "      <td>28.000000</td>\n",
              "      <td>2.000000</td>\n",
              "      <td>8.000000</td>\n",
              "      <td>0.0</td>\n",
              "      <td>0.0</td>\n",
              "      <td>1.000000</td>\n",
              "      <td>511.000000</td>\n",
              "      <td>511.000000</td>\n",
              "      <td>1.000000</td>\n",
              "      <td>1.000000</td>\n",
              "      <td>1.000000</td>\n",
              "      <td>1.000000</td>\n",
              "      <td>1.000000</td>\n",
              "      <td>1.000000</td>\n",
              "      <td>1.000000</td>\n",
              "      <td>255.000000</td>\n",
              "      <td>255.000000</td>\n",
              "      <td>1.000000</td>\n",
              "      <td>1.000000</td>\n",
              "      <td>1.000000</td>\n",
              "      <td>1.000000</td>\n",
              "      <td>1.000000</td>\n",
              "      <td>1.000000</td>\n",
              "      <td>1.000000</td>\n",
              "      <td>1.000000</td>\n",
              "    </tr>\n",
              "  </tbody>\n",
              "</table>\n",
              "</div>"
            ],
            "text/plain": [
              "            duration  ...  dst_host_srv_rerror_rate\n",
              "count  494021.000000  ...             494021.000000\n",
              "mean       47.979302  ...                  0.057412\n",
              "std       707.746472  ...                  0.230140\n",
              "min         0.000000  ...                  0.000000\n",
              "25%         0.000000  ...                  0.000000\n",
              "50%         0.000000  ...                  0.000000\n",
              "75%         0.000000  ...                  0.000000\n",
              "max     58329.000000  ...                  1.000000\n",
              "\n",
              "[8 rows x 38 columns]"
            ]
          },
          "metadata": {
            "tags": []
          },
          "execution_count": 8
        }
      ]
    },
    {
      "cell_type": "code",
      "metadata": {
        "colab": {
          "base_uri": "https://localhost:8080/"
        },
        "id": "k8JxgpKZDkWe",
        "outputId": "db851bf1-7162-49db-c976-d0b21848bf88"
      },
      "source": [
        "data.info()"
      ],
      "execution_count": null,
      "outputs": [
        {
          "output_type": "stream",
          "text": [
            "<class 'pandas.core.frame.DataFrame'>\n",
            "RangeIndex: 494021 entries, 0 to 494020\n",
            "Data columns (total 42 columns):\n",
            " #   Column                       Non-Null Count   Dtype  \n",
            "---  ------                       --------------   -----  \n",
            " 0   duration                     494021 non-null  int64  \n",
            " 1   protocol_type                494021 non-null  object \n",
            " 2   service                      494021 non-null  object \n",
            " 3   flag                         494021 non-null  object \n",
            " 4   src_bytes                    494021 non-null  int64  \n",
            " 5   dst_bytes                    494021 non-null  int64  \n",
            " 6   land                         494021 non-null  int64  \n",
            " 7   wrong_fragment               494021 non-null  int64  \n",
            " 8   urgent                       494021 non-null  int64  \n",
            " 9   hot                          494021 non-null  int64  \n",
            " 10  num_failed_logins            494021 non-null  int64  \n",
            " 11  logged_in                    494021 non-null  int64  \n",
            " 12  num_compromised              494021 non-null  int64  \n",
            " 13  root_shell                   494021 non-null  int64  \n",
            " 14  su_attempted                 494021 non-null  int64  \n",
            " 15  num_root                     494021 non-null  int64  \n",
            " 16  num_file_creations           494021 non-null  int64  \n",
            " 17  num_shells                   494021 non-null  int64  \n",
            " 18  num_access_files             494021 non-null  int64  \n",
            " 19  num_outbound_cmds            494021 non-null  int64  \n",
            " 20  is_host_login                494021 non-null  int64  \n",
            " 21  is_guest_login               494021 non-null  int64  \n",
            " 22  count                        494021 non-null  int64  \n",
            " 23  srv_count                    494021 non-null  int64  \n",
            " 24  serror_rate                  494021 non-null  float64\n",
            " 25  srv_serror_rate              494021 non-null  float64\n",
            " 26  rerror_rate                  494021 non-null  float64\n",
            " 27  srv_rerror_rate              494021 non-null  float64\n",
            " 28  same_srv_rate                494021 non-null  float64\n",
            " 29  diff_srv_rate                494021 non-null  float64\n",
            " 30  srv_diff_host_rate           494021 non-null  float64\n",
            " 31  dst_host_count               494021 non-null  int64  \n",
            " 32  dst_host_srv_count           494021 non-null  int64  \n",
            " 33  dst_host_same_srv_rate       494021 non-null  float64\n",
            " 34  dst_host_diff_srv_rate       494021 non-null  float64\n",
            " 35  dst_host_same_src_port_rate  494021 non-null  float64\n",
            " 36  dst_host_srv_diff_host_rate  494021 non-null  float64\n",
            " 37  dst_host_serror_rate         494021 non-null  float64\n",
            " 38  dst_host_srv_serror_rate     494021 non-null  float64\n",
            " 39  dst_host_rerror_rate         494021 non-null  float64\n",
            " 40  dst_host_srv_rerror_rate     494021 non-null  float64\n",
            " 41  type                         494021 non-null  object \n",
            "dtypes: float64(15), int64(23), object(4)\n",
            "memory usage: 158.3+ MB\n"
          ],
          "name": "stdout"
        }
      ]
    },
    {
      "cell_type": "markdown",
      "metadata": {
        "id": "Z5L7GOX6JGH7"
      },
      "source": [
        "The dataset includes the traffic records with the normal traffics and 22 type of attacks. Among these records, only around 20% of the records are the normal ones and the rest 80% are the abnormal ones."
      ]
    },
    {
      "cell_type": "code",
      "metadata": {
        "colab": {
          "base_uri": "https://localhost:8080/"
        },
        "id": "wZO9EaxYMTul",
        "outputId": "f07731eb-f425-478d-8d50-a77e9dd59787"
      },
      "source": [
        "proportions = data[\"type\"].value_counts()\n",
        "print(proportions)\n",
        "normal_data_count = data[\"type\"].loc[data[\"type\"]==\"normal.\"].value_counts()\n",
        "print(normal_data_count)\n",
        "print(\"Anomaly Percentage\", normal_data_count / proportions.sum())"
      ],
      "execution_count": null,
      "outputs": [
        {
          "output_type": "stream",
          "text": [
            "smurf.              280790\n",
            "neptune.            107201\n",
            "normal.              97278\n",
            "back.                 2203\n",
            "satan.                1589\n",
            "ipsweep.              1247\n",
            "portsweep.            1040\n",
            "warezclient.          1020\n",
            "teardrop.              979\n",
            "pod.                   264\n",
            "nmap.                  231\n",
            "guess_passwd.           53\n",
            "buffer_overflow.        30\n",
            "land.                   21\n",
            "warezmaster.            20\n",
            "imap.                   12\n",
            "rootkit.                10\n",
            "loadmodule.              9\n",
            "ftp_write.               8\n",
            "multihop.                7\n",
            "phf.                     4\n",
            "perl.                    3\n",
            "spy.                     2\n",
            "Name: type, dtype: int64\n",
            "normal.    97278\n",
            "Name: type, dtype: int64\n",
            "Anomaly Percentage normal.    0.196911\n",
            "Name: type, dtype: float64\n"
          ],
          "name": "stdout"
        }
      ]
    },
    {
      "cell_type": "markdown",
      "metadata": {
        "id": "fdLqvMe1mttI"
      },
      "source": [
        "# **Preprocessing**"
      ]
    },
    {
      "cell_type": "markdown",
      "metadata": {
        "id": "uA14LxtGJJBU"
      },
      "source": [
        "Data encoding:\n",
        "Based on the official document provided by the dataset, the 22 type of attacks can be further classified into 4 kind of attacks as listed in http://kdd.ics.uci.edu/databases/kddcup99/training_attack_types. In this case, the labels of the dataset are further classified and encoded into normal traffics and 4 type of malicious traffics. "
      ]
    },
    {
      "cell_type": "code",
      "metadata": {
        "id": "s1hDKXGEZ4-u"
      },
      "source": [
        "from sklearn.preprocessing import LabelEncoder\n",
        "\n",
        "target = data['type']\n",
        "\n",
        "dos = [\"back\", \"land\", \"neptune\", \"pod\", 'smurf', 'teardrop']\n",
        "u2r = ['buffer_overflow', 'loadmodule', 'perl', 'rootkit']\n",
        "r2l = ['ftp_write', 'guess_passwd', 'imap', 'multihop','phf','spy','warezclient','warezmaster']\n",
        "probe = ['ipsweep','nmap','portsweep','satan']\n",
        "\n",
        "categorie = []\n",
        "\n",
        "for label in target:\n",
        "    if any(x in str(label) for x in dos):\n",
        "        categorie.append('dos')\n",
        "    elif any(x in str(label) for x in u2r):\n",
        "        categorie.append('u2r')\n",
        "    elif any(x in str(label) for x in r2l):\n",
        "        categorie.append('r2l')\n",
        "    elif any(x in str(label) for x in probe):\n",
        "        categorie.append('probe')\n",
        "    else:\n",
        "        categorie.append('normal')"
      ],
      "execution_count": null,
      "outputs": []
    },
    {
      "cell_type": "code",
      "metadata": {
        "colab": {
          "base_uri": "https://localhost:8080/"
        },
        "id": "TJn-YqWRZ4-u",
        "outputId": "850b9800-d641-4b41-95b3-4dbac2c65e3d"
      },
      "source": [
        "categorie = pd.DataFrame(categorie , columns = ['type_four'])\n",
        "categorie['type_four'].value_counts()\n",
        "data['type'] = categorie['type_four']\n",
        "data['type'].head()"
      ],
      "execution_count": null,
      "outputs": [
        {
          "output_type": "execute_result",
          "data": {
            "text/plain": [
              "0    normal\n",
              "1    normal\n",
              "2    normal\n",
              "3    normal\n",
              "4    normal\n",
              "Name: type, dtype: object"
            ]
          },
          "metadata": {
            "tags": []
          },
          "execution_count": 12
        }
      ]
    },
    {
      "cell_type": "markdown",
      "metadata": {
        "id": "oLRp10NsJNva"
      },
      "source": [
        "To prepare for the training process, the labels are encoded into numbers ranging from 0~4, where \"0\" indicates the normal traffics:"
      ]
    },
    {
      "cell_type": "code",
      "metadata": {
        "id": "kUxndfSfPad3",
        "colab": {
          "base_uri": "https://localhost:8080/"
        },
        "outputId": "62624475-129f-4ed5-dd15-105fde25374f"
      },
      "source": [
        "# Encode the dataset label into numbers\n",
        "data.loc[data['type'] == \"normal\", 'type'] = 0\n",
        "data.loc[data['type'] == \"dos\", 'type'] = 1\n",
        "data.loc[data['type'] == \"probe\", 'type'] = 2\n",
        "data.loc[data['type'] == \"r2l\", 'type'] = 3\n",
        "data.loc[data['type']== \"u2r\", 'type'] = 4\n",
        "data['type'].value_counts()"
      ],
      "execution_count": null,
      "outputs": [
        {
          "output_type": "execute_result",
          "data": {
            "text/plain": [
              "1    391458\n",
              "0     97278\n",
              "2      4107\n",
              "3      1126\n",
              "4        52\n",
              "Name: type, dtype: int64"
            ]
          },
          "metadata": {
            "tags": []
          },
          "execution_count": 13
        }
      ]
    },
    {
      "cell_type": "markdown",
      "metadata": {
        "id": "Tv14HRBMJRkC"
      },
      "source": [
        "Since the featrues are saved in different format in the dataset and it's hard to process the features recorded as object. Thus, the one-hot encoding is done to these features to encode them into numerical values. "
      ]
    },
    {
      "cell_type": "code",
      "metadata": {
        "colab": {
          "base_uri": "https://localhost:8080/",
          "height": 251
        },
        "id": "KjGXA8N9PgE-",
        "outputId": "cb04e938-0ef0-48d7-d031-26fb820ce215"
      },
      "source": [
        "# One-hot encoding the data into numerical values\n",
        "\n",
        "one_hot_protocol = pd.get_dummies(data[\"protocol_type\"])\n",
        "one_hot_service = pd.get_dummies(data[\"service\"])\n",
        "one_hot_flag = pd.get_dummies(data[\"flag\"])\n",
        "\n",
        "data = data.drop(\"protocol_type\",axis=1)\n",
        "data = data.drop(\"service\",axis=1)\n",
        "data = data.drop(\"flag\",axis=1)\n",
        "    \n",
        "data = pd.concat([one_hot_protocol, one_hot_service,one_hot_flag, data],axis=1)\n",
        "data.head()"
      ],
      "execution_count": null,
      "outputs": [
        {
          "output_type": "execute_result",
          "data": {
            "text/html": [
              "<div>\n",
              "<style scoped>\n",
              "    .dataframe tbody tr th:only-of-type {\n",
              "        vertical-align: middle;\n",
              "    }\n",
              "\n",
              "    .dataframe tbody tr th {\n",
              "        vertical-align: top;\n",
              "    }\n",
              "\n",
              "    .dataframe thead th {\n",
              "        text-align: right;\n",
              "    }\n",
              "</style>\n",
              "<table border=\"1\" class=\"dataframe\">\n",
              "  <thead>\n",
              "    <tr style=\"text-align: right;\">\n",
              "      <th></th>\n",
              "      <th>icmp</th>\n",
              "      <th>tcp</th>\n",
              "      <th>udp</th>\n",
              "      <th>IRC</th>\n",
              "      <th>X11</th>\n",
              "      <th>Z39_50</th>\n",
              "      <th>auth</th>\n",
              "      <th>bgp</th>\n",
              "      <th>courier</th>\n",
              "      <th>csnet_ns</th>\n",
              "      <th>ctf</th>\n",
              "      <th>daytime</th>\n",
              "      <th>discard</th>\n",
              "      <th>domain</th>\n",
              "      <th>domain_u</th>\n",
              "      <th>echo</th>\n",
              "      <th>eco_i</th>\n",
              "      <th>ecr_i</th>\n",
              "      <th>efs</th>\n",
              "      <th>exec</th>\n",
              "      <th>finger</th>\n",
              "      <th>ftp</th>\n",
              "      <th>ftp_data</th>\n",
              "      <th>gopher</th>\n",
              "      <th>hostnames</th>\n",
              "      <th>http</th>\n",
              "      <th>http_443</th>\n",
              "      <th>imap4</th>\n",
              "      <th>iso_tsap</th>\n",
              "      <th>klogin</th>\n",
              "      <th>kshell</th>\n",
              "      <th>ldap</th>\n",
              "      <th>link</th>\n",
              "      <th>login</th>\n",
              "      <th>mtp</th>\n",
              "      <th>name</th>\n",
              "      <th>netbios_dgm</th>\n",
              "      <th>netbios_ns</th>\n",
              "      <th>netbios_ssn</th>\n",
              "      <th>netstat</th>\n",
              "      <th>...</th>\n",
              "      <th>SH</th>\n",
              "      <th>duration</th>\n",
              "      <th>src_bytes</th>\n",
              "      <th>dst_bytes</th>\n",
              "      <th>land</th>\n",
              "      <th>wrong_fragment</th>\n",
              "      <th>urgent</th>\n",
              "      <th>hot</th>\n",
              "      <th>num_failed_logins</th>\n",
              "      <th>logged_in</th>\n",
              "      <th>num_compromised</th>\n",
              "      <th>root_shell</th>\n",
              "      <th>su_attempted</th>\n",
              "      <th>num_root</th>\n",
              "      <th>num_file_creations</th>\n",
              "      <th>num_shells</th>\n",
              "      <th>num_access_files</th>\n",
              "      <th>num_outbound_cmds</th>\n",
              "      <th>is_host_login</th>\n",
              "      <th>is_guest_login</th>\n",
              "      <th>count</th>\n",
              "      <th>srv_count</th>\n",
              "      <th>serror_rate</th>\n",
              "      <th>srv_serror_rate</th>\n",
              "      <th>rerror_rate</th>\n",
              "      <th>srv_rerror_rate</th>\n",
              "      <th>same_srv_rate</th>\n",
              "      <th>diff_srv_rate</th>\n",
              "      <th>srv_diff_host_rate</th>\n",
              "      <th>dst_host_count</th>\n",
              "      <th>dst_host_srv_count</th>\n",
              "      <th>dst_host_same_srv_rate</th>\n",
              "      <th>dst_host_diff_srv_rate</th>\n",
              "      <th>dst_host_same_src_port_rate</th>\n",
              "      <th>dst_host_srv_diff_host_rate</th>\n",
              "      <th>dst_host_serror_rate</th>\n",
              "      <th>dst_host_srv_serror_rate</th>\n",
              "      <th>dst_host_rerror_rate</th>\n",
              "      <th>dst_host_srv_rerror_rate</th>\n",
              "      <th>type</th>\n",
              "    </tr>\n",
              "  </thead>\n",
              "  <tbody>\n",
              "    <tr>\n",
              "      <th>0</th>\n",
              "      <td>0</td>\n",
              "      <td>1</td>\n",
              "      <td>0</td>\n",
              "      <td>0</td>\n",
              "      <td>0</td>\n",
              "      <td>0</td>\n",
              "      <td>0</td>\n",
              "      <td>0</td>\n",
              "      <td>0</td>\n",
              "      <td>0</td>\n",
              "      <td>0</td>\n",
              "      <td>0</td>\n",
              "      <td>0</td>\n",
              "      <td>0</td>\n",
              "      <td>0</td>\n",
              "      <td>0</td>\n",
              "      <td>0</td>\n",
              "      <td>0</td>\n",
              "      <td>0</td>\n",
              "      <td>0</td>\n",
              "      <td>0</td>\n",
              "      <td>0</td>\n",
              "      <td>0</td>\n",
              "      <td>0</td>\n",
              "      <td>0</td>\n",
              "      <td>1</td>\n",
              "      <td>0</td>\n",
              "      <td>0</td>\n",
              "      <td>0</td>\n",
              "      <td>0</td>\n",
              "      <td>0</td>\n",
              "      <td>0</td>\n",
              "      <td>0</td>\n",
              "      <td>0</td>\n",
              "      <td>0</td>\n",
              "      <td>0</td>\n",
              "      <td>0</td>\n",
              "      <td>0</td>\n",
              "      <td>0</td>\n",
              "      <td>0</td>\n",
              "      <td>...</td>\n",
              "      <td>0</td>\n",
              "      <td>0</td>\n",
              "      <td>181</td>\n",
              "      <td>5450</td>\n",
              "      <td>0</td>\n",
              "      <td>0</td>\n",
              "      <td>0</td>\n",
              "      <td>0</td>\n",
              "      <td>0</td>\n",
              "      <td>1</td>\n",
              "      <td>0</td>\n",
              "      <td>0</td>\n",
              "      <td>0</td>\n",
              "      <td>0</td>\n",
              "      <td>0</td>\n",
              "      <td>0</td>\n",
              "      <td>0</td>\n",
              "      <td>0</td>\n",
              "      <td>0</td>\n",
              "      <td>0</td>\n",
              "      <td>8</td>\n",
              "      <td>8</td>\n",
              "      <td>0.0</td>\n",
              "      <td>0.0</td>\n",
              "      <td>0.0</td>\n",
              "      <td>0.0</td>\n",
              "      <td>1.0</td>\n",
              "      <td>0.0</td>\n",
              "      <td>0.0</td>\n",
              "      <td>9</td>\n",
              "      <td>9</td>\n",
              "      <td>1.0</td>\n",
              "      <td>0.0</td>\n",
              "      <td>0.11</td>\n",
              "      <td>0.0</td>\n",
              "      <td>0.0</td>\n",
              "      <td>0.0</td>\n",
              "      <td>0.0</td>\n",
              "      <td>0.0</td>\n",
              "      <td>0</td>\n",
              "    </tr>\n",
              "    <tr>\n",
              "      <th>1</th>\n",
              "      <td>0</td>\n",
              "      <td>1</td>\n",
              "      <td>0</td>\n",
              "      <td>0</td>\n",
              "      <td>0</td>\n",
              "      <td>0</td>\n",
              "      <td>0</td>\n",
              "      <td>0</td>\n",
              "      <td>0</td>\n",
              "      <td>0</td>\n",
              "      <td>0</td>\n",
              "      <td>0</td>\n",
              "      <td>0</td>\n",
              "      <td>0</td>\n",
              "      <td>0</td>\n",
              "      <td>0</td>\n",
              "      <td>0</td>\n",
              "      <td>0</td>\n",
              "      <td>0</td>\n",
              "      <td>0</td>\n",
              "      <td>0</td>\n",
              "      <td>0</td>\n",
              "      <td>0</td>\n",
              "      <td>0</td>\n",
              "      <td>0</td>\n",
              "      <td>1</td>\n",
              "      <td>0</td>\n",
              "      <td>0</td>\n",
              "      <td>0</td>\n",
              "      <td>0</td>\n",
              "      <td>0</td>\n",
              "      <td>0</td>\n",
              "      <td>0</td>\n",
              "      <td>0</td>\n",
              "      <td>0</td>\n",
              "      <td>0</td>\n",
              "      <td>0</td>\n",
              "      <td>0</td>\n",
              "      <td>0</td>\n",
              "      <td>0</td>\n",
              "      <td>...</td>\n",
              "      <td>0</td>\n",
              "      <td>0</td>\n",
              "      <td>239</td>\n",
              "      <td>486</td>\n",
              "      <td>0</td>\n",
              "      <td>0</td>\n",
              "      <td>0</td>\n",
              "      <td>0</td>\n",
              "      <td>0</td>\n",
              "      <td>1</td>\n",
              "      <td>0</td>\n",
              "      <td>0</td>\n",
              "      <td>0</td>\n",
              "      <td>0</td>\n",
              "      <td>0</td>\n",
              "      <td>0</td>\n",
              "      <td>0</td>\n",
              "      <td>0</td>\n",
              "      <td>0</td>\n",
              "      <td>0</td>\n",
              "      <td>8</td>\n",
              "      <td>8</td>\n",
              "      <td>0.0</td>\n",
              "      <td>0.0</td>\n",
              "      <td>0.0</td>\n",
              "      <td>0.0</td>\n",
              "      <td>1.0</td>\n",
              "      <td>0.0</td>\n",
              "      <td>0.0</td>\n",
              "      <td>19</td>\n",
              "      <td>19</td>\n",
              "      <td>1.0</td>\n",
              "      <td>0.0</td>\n",
              "      <td>0.05</td>\n",
              "      <td>0.0</td>\n",
              "      <td>0.0</td>\n",
              "      <td>0.0</td>\n",
              "      <td>0.0</td>\n",
              "      <td>0.0</td>\n",
              "      <td>0</td>\n",
              "    </tr>\n",
              "    <tr>\n",
              "      <th>2</th>\n",
              "      <td>0</td>\n",
              "      <td>1</td>\n",
              "      <td>0</td>\n",
              "      <td>0</td>\n",
              "      <td>0</td>\n",
              "      <td>0</td>\n",
              "      <td>0</td>\n",
              "      <td>0</td>\n",
              "      <td>0</td>\n",
              "      <td>0</td>\n",
              "      <td>0</td>\n",
              "      <td>0</td>\n",
              "      <td>0</td>\n",
              "      <td>0</td>\n",
              "      <td>0</td>\n",
              "      <td>0</td>\n",
              "      <td>0</td>\n",
              "      <td>0</td>\n",
              "      <td>0</td>\n",
              "      <td>0</td>\n",
              "      <td>0</td>\n",
              "      <td>0</td>\n",
              "      <td>0</td>\n",
              "      <td>0</td>\n",
              "      <td>0</td>\n",
              "      <td>1</td>\n",
              "      <td>0</td>\n",
              "      <td>0</td>\n",
              "      <td>0</td>\n",
              "      <td>0</td>\n",
              "      <td>0</td>\n",
              "      <td>0</td>\n",
              "      <td>0</td>\n",
              "      <td>0</td>\n",
              "      <td>0</td>\n",
              "      <td>0</td>\n",
              "      <td>0</td>\n",
              "      <td>0</td>\n",
              "      <td>0</td>\n",
              "      <td>0</td>\n",
              "      <td>...</td>\n",
              "      <td>0</td>\n",
              "      <td>0</td>\n",
              "      <td>235</td>\n",
              "      <td>1337</td>\n",
              "      <td>0</td>\n",
              "      <td>0</td>\n",
              "      <td>0</td>\n",
              "      <td>0</td>\n",
              "      <td>0</td>\n",
              "      <td>1</td>\n",
              "      <td>0</td>\n",
              "      <td>0</td>\n",
              "      <td>0</td>\n",
              "      <td>0</td>\n",
              "      <td>0</td>\n",
              "      <td>0</td>\n",
              "      <td>0</td>\n",
              "      <td>0</td>\n",
              "      <td>0</td>\n",
              "      <td>0</td>\n",
              "      <td>8</td>\n",
              "      <td>8</td>\n",
              "      <td>0.0</td>\n",
              "      <td>0.0</td>\n",
              "      <td>0.0</td>\n",
              "      <td>0.0</td>\n",
              "      <td>1.0</td>\n",
              "      <td>0.0</td>\n",
              "      <td>0.0</td>\n",
              "      <td>29</td>\n",
              "      <td>29</td>\n",
              "      <td>1.0</td>\n",
              "      <td>0.0</td>\n",
              "      <td>0.03</td>\n",
              "      <td>0.0</td>\n",
              "      <td>0.0</td>\n",
              "      <td>0.0</td>\n",
              "      <td>0.0</td>\n",
              "      <td>0.0</td>\n",
              "      <td>0</td>\n",
              "    </tr>\n",
              "    <tr>\n",
              "      <th>3</th>\n",
              "      <td>0</td>\n",
              "      <td>1</td>\n",
              "      <td>0</td>\n",
              "      <td>0</td>\n",
              "      <td>0</td>\n",
              "      <td>0</td>\n",
              "      <td>0</td>\n",
              "      <td>0</td>\n",
              "      <td>0</td>\n",
              "      <td>0</td>\n",
              "      <td>0</td>\n",
              "      <td>0</td>\n",
              "      <td>0</td>\n",
              "      <td>0</td>\n",
              "      <td>0</td>\n",
              "      <td>0</td>\n",
              "      <td>0</td>\n",
              "      <td>0</td>\n",
              "      <td>0</td>\n",
              "      <td>0</td>\n",
              "      <td>0</td>\n",
              "      <td>0</td>\n",
              "      <td>0</td>\n",
              "      <td>0</td>\n",
              "      <td>0</td>\n",
              "      <td>1</td>\n",
              "      <td>0</td>\n",
              "      <td>0</td>\n",
              "      <td>0</td>\n",
              "      <td>0</td>\n",
              "      <td>0</td>\n",
              "      <td>0</td>\n",
              "      <td>0</td>\n",
              "      <td>0</td>\n",
              "      <td>0</td>\n",
              "      <td>0</td>\n",
              "      <td>0</td>\n",
              "      <td>0</td>\n",
              "      <td>0</td>\n",
              "      <td>0</td>\n",
              "      <td>...</td>\n",
              "      <td>0</td>\n",
              "      <td>0</td>\n",
              "      <td>219</td>\n",
              "      <td>1337</td>\n",
              "      <td>0</td>\n",
              "      <td>0</td>\n",
              "      <td>0</td>\n",
              "      <td>0</td>\n",
              "      <td>0</td>\n",
              "      <td>1</td>\n",
              "      <td>0</td>\n",
              "      <td>0</td>\n",
              "      <td>0</td>\n",
              "      <td>0</td>\n",
              "      <td>0</td>\n",
              "      <td>0</td>\n",
              "      <td>0</td>\n",
              "      <td>0</td>\n",
              "      <td>0</td>\n",
              "      <td>0</td>\n",
              "      <td>6</td>\n",
              "      <td>6</td>\n",
              "      <td>0.0</td>\n",
              "      <td>0.0</td>\n",
              "      <td>0.0</td>\n",
              "      <td>0.0</td>\n",
              "      <td>1.0</td>\n",
              "      <td>0.0</td>\n",
              "      <td>0.0</td>\n",
              "      <td>39</td>\n",
              "      <td>39</td>\n",
              "      <td>1.0</td>\n",
              "      <td>0.0</td>\n",
              "      <td>0.03</td>\n",
              "      <td>0.0</td>\n",
              "      <td>0.0</td>\n",
              "      <td>0.0</td>\n",
              "      <td>0.0</td>\n",
              "      <td>0.0</td>\n",
              "      <td>0</td>\n",
              "    </tr>\n",
              "    <tr>\n",
              "      <th>4</th>\n",
              "      <td>0</td>\n",
              "      <td>1</td>\n",
              "      <td>0</td>\n",
              "      <td>0</td>\n",
              "      <td>0</td>\n",
              "      <td>0</td>\n",
              "      <td>0</td>\n",
              "      <td>0</td>\n",
              "      <td>0</td>\n",
              "      <td>0</td>\n",
              "      <td>0</td>\n",
              "      <td>0</td>\n",
              "      <td>0</td>\n",
              "      <td>0</td>\n",
              "      <td>0</td>\n",
              "      <td>0</td>\n",
              "      <td>0</td>\n",
              "      <td>0</td>\n",
              "      <td>0</td>\n",
              "      <td>0</td>\n",
              "      <td>0</td>\n",
              "      <td>0</td>\n",
              "      <td>0</td>\n",
              "      <td>0</td>\n",
              "      <td>0</td>\n",
              "      <td>1</td>\n",
              "      <td>0</td>\n",
              "      <td>0</td>\n",
              "      <td>0</td>\n",
              "      <td>0</td>\n",
              "      <td>0</td>\n",
              "      <td>0</td>\n",
              "      <td>0</td>\n",
              "      <td>0</td>\n",
              "      <td>0</td>\n",
              "      <td>0</td>\n",
              "      <td>0</td>\n",
              "      <td>0</td>\n",
              "      <td>0</td>\n",
              "      <td>0</td>\n",
              "      <td>...</td>\n",
              "      <td>0</td>\n",
              "      <td>0</td>\n",
              "      <td>217</td>\n",
              "      <td>2032</td>\n",
              "      <td>0</td>\n",
              "      <td>0</td>\n",
              "      <td>0</td>\n",
              "      <td>0</td>\n",
              "      <td>0</td>\n",
              "      <td>1</td>\n",
              "      <td>0</td>\n",
              "      <td>0</td>\n",
              "      <td>0</td>\n",
              "      <td>0</td>\n",
              "      <td>0</td>\n",
              "      <td>0</td>\n",
              "      <td>0</td>\n",
              "      <td>0</td>\n",
              "      <td>0</td>\n",
              "      <td>0</td>\n",
              "      <td>6</td>\n",
              "      <td>6</td>\n",
              "      <td>0.0</td>\n",
              "      <td>0.0</td>\n",
              "      <td>0.0</td>\n",
              "      <td>0.0</td>\n",
              "      <td>1.0</td>\n",
              "      <td>0.0</td>\n",
              "      <td>0.0</td>\n",
              "      <td>49</td>\n",
              "      <td>49</td>\n",
              "      <td>1.0</td>\n",
              "      <td>0.0</td>\n",
              "      <td>0.02</td>\n",
              "      <td>0.0</td>\n",
              "      <td>0.0</td>\n",
              "      <td>0.0</td>\n",
              "      <td>0.0</td>\n",
              "      <td>0.0</td>\n",
              "      <td>0</td>\n",
              "    </tr>\n",
              "  </tbody>\n",
              "</table>\n",
              "<p>5 rows × 119 columns</p>\n",
              "</div>"
            ],
            "text/plain": [
              "   icmp  tcp  udp  ...  dst_host_rerror_rate  dst_host_srv_rerror_rate  type\n",
              "0     0    1    0  ...                   0.0                       0.0     0\n",
              "1     0    1    0  ...                   0.0                       0.0     0\n",
              "2     0    1    0  ...                   0.0                       0.0     0\n",
              "3     0    1    0  ...                   0.0                       0.0     0\n",
              "4     0    1    0  ...                   0.0                       0.0     0\n",
              "\n",
              "[5 rows x 119 columns]"
            ]
          },
          "metadata": {
            "tags": []
          },
          "execution_count": 14
        }
      ]
    },
    {
      "cell_type": "code",
      "metadata": {
        "colab": {
          "base_uri": "https://localhost:8080/"
        },
        "id": "GAo7-_v-Pkqw",
        "outputId": "5482f8e7-4e44-4f26-f654-ac4e87a4bc7c"
      },
      "source": [
        "proportions = data[\"type\"].value_counts()\n",
        "print(proportions)\n",
        "print(\"Anomaly Percentage\",proportions[0] / proportions.sum())"
      ],
      "execution_count": null,
      "outputs": [
        {
          "output_type": "stream",
          "text": [
            "1    391458\n",
            "0     97278\n",
            "2      4107\n",
            "3      1126\n",
            "4        52\n",
            "Name: type, dtype: int64\n",
            "Anomaly Percentage 0.19691065764410826\n"
          ],
          "name": "stdout"
        }
      ]
    },
    {
      "cell_type": "markdown",
      "metadata": {
        "id": "mttSIhazJXGL"
      },
      "source": [
        "Featrue scaling:\n",
        " \n",
        "Considering the features has different range, standardization is done to deal with this by keeping the values centered around the mean with a unit standard deviation."
      ]
    },
    {
      "cell_type": "code",
      "metadata": {
        "id": "YgS2AhcYPnf_"
      },
      "source": [
        "# Standardize the numeric variables\n",
        "\n",
        "cols_to_norm = [\"duration\", \"src_bytes\", \"dst_bytes\", \"wrong_fragment\", \"urgent\", \n",
        "            \"hot\", \"num_failed_logins\", \"num_compromised\", \"num_root\", \n",
        "            \"num_file_creations\", \"num_shells\", \"num_access_files\", \"count\", \"srv_count\", \n",
        "            \"serror_rate\", \"srv_serror_rate\", \"rerror_rate\", \"srv_rerror_rate\", \"same_srv_rate\", \n",
        "            \"diff_srv_rate\", \"srv_diff_host_rate\", \"dst_host_count\", \"dst_host_srv_count\", \"dst_host_same_srv_rate\", \n",
        "            \"dst_host_diff_srv_rate\", \"dst_host_same_src_port_rate\", \"dst_host_srv_diff_host_rate\", \n",
        "            \"dst_host_serror_rate\", \"dst_host_srv_serror_rate\", \"dst_host_rerror_rate\", \"dst_host_srv_rerror_rate\" ]\n",
        "\n",
        "data.loc[:, cols_to_norm] = (data[cols_to_norm] - data[cols_to_norm].mean()) / data[cols_to_norm].std()\n",
        "min_cols = data.loc[data[\"type\"]==0 , cols_to_norm].min()\n",
        "max_cols = data.loc[data[\"type\"]==0 , cols_to_norm].max()"
      ],
      "execution_count": null,
      "outputs": []
    },
    {
      "cell_type": "markdown",
      "metadata": {
        "id": "6etc2tmiJa5b"
      },
      "source": [
        "Split the dataset:\n",
        "\n",
        "Split the label out of the dataset into X and y. Split the X and y into trainset and testset with 66% of samples as trainset."
      ]
    },
    {
      "cell_type": "code",
      "metadata": {
        "colab": {
          "base_uri": "https://localhost:8080/"
        },
        "id": "c6UzA0b9P-0g",
        "outputId": "cf681d68-93e4-48dd-b339-7cf975904228"
      },
      "source": [
        "# separate between features/inputs X and label/output variables y\n",
        "mat = data.values\n",
        "X = mat[:,0:-1]\n",
        "print(X.shape)\n",
        "y = mat[:,-1]\n",
        "y = y.astype('int')\n",
        "print(y.shape)\n"
      ],
      "execution_count": null,
      "outputs": [
        {
          "output_type": "stream",
          "text": [
            "(494021, 118)\n",
            "(494021,)\n"
          ],
          "name": "stdout"
        }
      ]
    },
    {
      "cell_type": "code",
      "metadata": {
        "colab": {
          "base_uri": "https://localhost:8080/"
        },
        "id": "_I_7L2kpYo45",
        "outputId": "468274b7-a022-4344-84ee-a6e80f0e0b0c"
      },
      "source": [
        "train_perc = 0.66 # percentage of training data\n",
        "split_point = int(train_perc*len(y))\n",
        "perm = np.random.permutation(len(y))\n",
        "ix_train = perm[:split_point]\n",
        "ix_test = perm[split_point:]\n",
        "X_train = X[ix_train,:]\n",
        "X_test = X[ix_test,:]\n",
        "# ind_train = ind[ix_train]\n",
        "# ind_test = ind[ix_test]\n",
        "y_train = y[ix_train]\n",
        "y_test = y[ix_test]\n",
        "print(\"num train: %d\" % len(y_train))\n",
        "print(\"num test: %d\" % len(y_test))"
      ],
      "execution_count": null,
      "outputs": [
        {
          "output_type": "stream",
          "text": [
            "num train: 326053\n",
            "num test: 167968\n"
          ],
          "name": "stdout"
        }
      ]
    },
    {
      "cell_type": "markdown",
      "metadata": {
        "id": "fEPbzWSAYo5P"
      },
      "source": [
        "# **Baseline model from sklearn**\n",
        "\n",
        "Define the GMM from sklearn as the baseline model:"
      ]
    },
    {
      "cell_type": "code",
      "metadata": {
        "id": "CDvvr1PrYo5S",
        "colab": {
          "base_uri": "https://localhost:8080/"
        },
        "outputId": "a56abc84-0511-463e-c799-fae5307b60bd"
      },
      "source": [
        "from sklearn.mixture import GaussianMixture\n",
        "gmm = GaussianMixture(n_components=5, covariance_type='tied', random_state=0) # Several type of covariance_type are offered in sklearn GMM and \"tied\" works the best here\n",
        "\n",
        "gmm.fit(X_train)\n",
        "\n",
        "# make predictions for test set\n",
        "y_hat = gmm.predict(X_test)\n",
        "print(\"predictions:\", y_hat)\n",
        "print(\"true values:\", y_test)\n",
        "\n",
        "# evaluate prediction accuracy\n",
        "print(\"Accuracy:\", 1.0*np.sum(y_hat == y_test) / len(y_test))"
      ],
      "execution_count": null,
      "outputs": [
        {
          "output_type": "stream",
          "text": [
            "Exception in thread Thread-12:\n",
            "Traceback (most recent call last):\n",
            "  File \"/usr/lib/python3.7/threading.py\", line 926, in _bootstrap_inner\n",
            "    self.run()\n",
            "  File \"/usr/lib/python3.7/threading.py\", line 870, in run\n",
            "    self._target(*self._args, **self._kwargs)\n",
            "  File \"<string>\", line 77, in loop\n",
            "  File \"<string>\", line 20, in update\n",
            "AttributeError: module 'psutil' has no attribute 'getloadavg'\n",
            "\n"
          ],
          "name": "stderr"
        },
        {
          "output_type": "stream",
          "text": [
            "predictions: [2 0 0 ... 0 4 1]\n",
            "true values: [1 1 1 ... 1 0 1]\n",
            "Accuracy: 0.1802724328443513\n"
          ],
          "name": "stdout"
        }
      ]
    },
    {
      "cell_type": "markdown",
      "metadata": {
        "id": "kcmZRQEEJoT0"
      },
      "source": [
        "To look into details on how the model performs, classification_report provided by sklearn is called here to present a detailed evaluation with metrics like precision, recall, f1-score for each class. "
      ]
    },
    {
      "cell_type": "code",
      "metadata": {
        "id": "dTOY4oJgZ4-z",
        "colab": {
          "base_uri": "https://localhost:8080/"
        },
        "outputId": "3105836c-7c5b-4eeb-d4c5-81ac67308b0b"
      },
      "source": [
        "from sklearn.metrics import classification_report\n",
        "print(classification_report(y_test, y_hat))"
      ],
      "execution_count": null,
      "outputs": [
        {
          "output_type": "stream",
          "text": [
            "              precision    recall  f1-score   support\n",
            "\n",
            "           0       0.00      0.00      0.00     33238\n",
            "           1       1.00      0.22      0.36    132908\n",
            "           2       0.08      0.56      0.15      1424\n",
            "           3       0.00      0.00      0.00       384\n",
            "           4       0.00      1.00      0.00        14\n",
            "\n",
            "    accuracy                           0.18    167968\n",
            "   macro avg       0.22      0.36      0.10    167968\n",
            "weighted avg       0.79      0.18      0.29    167968\n",
            "\n"
          ],
          "name": "stdout"
        },
        {
          "output_type": "stream",
          "text": [
            "/usr/local/lib/python3.7/dist-packages/sklearn/metrics/_classification.py:1272: UndefinedMetricWarning: Precision and F-score are ill-defined and being set to 0.0 in labels with no predicted samples. Use `zero_division` parameter to control this behavior.\n",
            "  _warn_prf(average, modifier, msg_start, len(result))\n"
          ],
          "name": "stderr"
        }
      ]
    },
    {
      "cell_type": "markdown",
      "metadata": {
        "id": "p0rpw_lnxvZ3"
      },
      "source": [
        "# **GMM Model Training & Evaluation**"
      ]
    },
    {
      "cell_type": "markdown",
      "metadata": {
        "id": "ksWYm2PgJsLD"
      },
      "source": [
        "**GMM model with 5 components**\n",
        "\n",
        "Based on the results got from the notebook GMM (K=5), this notebook tries to modify the mixture model to see if it's possible to improve the clustering/detection capability. In this case, the hyperprior $ws$ is considered to try to get a better fit by adding some scales to $w$. The generative process in this case is modified to: \n",
        "\n",
        "\n",
        "1. Draw $ws \\sim \\operatorname{Lognormal}\\left(\\mu_{2} =10, \\sigma_{2}=5\\right)$\n",
        "2. Draw $w$ which is a vector $(1 \\times K)$ with probabilities of each class: $w \\sim \\operatorname{Dirichlet}\\left(ws\\right)$\n",
        "3. Draw the uncertainty value of the clusters: $\\sigma \\sim \\operatorname{Lognormal}\\left(\\mu_{0}=0, \\sigma_{0}=5\\right)$\n",
        "4. For each cluster $k$ in the clusters $k \\in\\{1, \\ldots, K\\}$ where $K=5$: \n",
        "  * Draw the mean value of the this cluster: $\\mu_{k} \\sim \\operatorname{Normal}\\left(\\mu_{1}=0, \\sigma_{1}=5\\right)$\n",
        "\n",
        "5. For each sample in the dataset $n \\in\\{1, \\ldots, N\\}$: \n",
        "  * Draw latent variable: $z_{n} \\sim \\operatorname{Cat}(w)$ \n",
        "  * Define $k=z_{n}$ generate the samples: $x_{n} \\sim \\operatorname{Normal}\\left(\\mu_{k}, \\sigma\\right)$\n",
        "\n",
        "\n",
        "\n",
        "---\n",
        "\n",
        "\n",
        "\\* Note that it is also tried to draw the uncertainty $\\sigma$ for each component together with $\\mu_{k}$ by putting the step 3 inside step 4 as:\n",
        "\n",
        "For each cluster $k$ in the clusters $k \\in\\{1, \\ldots, K\\}$ where $K=5$:\n",
        "  * Draw the uncertainty value of the clusters: $\\sigma_{k} \\sim \\operatorname{Lognormal}\\left(\\mu_{0}=0, \\sigma_{0}=5\\right)$ \n",
        "  * Draw the mean value of the this cluster: $\\mu_{k} \\sim \\operatorname{Normal}\\left(\\mu_{1}=0, \\sigma_{1}=5\\right)$ \n",
        "\n",
        "but this model ended up with a relatively hard tuning process and failed to converge. \n",
        "  \n",
        "\n",
        "\n",
        "---\n",
        "\n",
        "\n",
        "To implement the model, vectorization is done for the variable to optimize the performance in Pyro. This implementation refers to the Pyro guideline [2] and config_enumerate() handler in Pyro [3] is called here to enable the enumeration over the assignments in each iteration.\n",
        "\n",
        "[2] Gaussian Mixture Model, https://pyro.ai/examples/gmm.html\n",
        "\n",
        "\n",
        "[3] Inference with Discrete Latent Variables, http://pyro.ai/examples/enumeration.html"
      ]
    },
    {
      "cell_type": "code",
      "metadata": {
        "id": "0gwzm2aH2WHH"
      },
      "source": [
        "K = 5  # Fixed number of components.\n",
        "\n",
        "@config_enumerate\n",
        "def gmm(data=None):\n",
        "    D = data.shape[1]\n",
        "    # Global variables\n",
        "    weights_scale = pyro.sample('weights_scale', dist.LogNormal(10, 5.)).to(device)  # Add the hyperprior to tune the weights\n",
        "    weights = pyro.sample('weights', dist.Dirichlet(weights_scale * torch.ones(K, device=device)))\n",
        "    scale = pyro.sample('scale', dist.LogNormal(0., 5.)).to(device)\n",
        "    with pyro.plate('components', K):\n",
        "        locs = pyro.sample('locs', dist.Normal(0.5 * torch.zeros(D, device=device), 5.).to_event(1))\n",
        "        assert locs.shape == (K, D)\n",
        "    with pyro.plate('data', len(data)):\n",
        "        # Local variables.\n",
        "        assignment = pyro.sample('assignment', dist.Categorical(weights))\n",
        "        pyro.sample('obs', dist.Normal(locs[assignment], scale).to_event(1),\n",
        "                    obs=data)"
      ],
      "execution_count": null,
      "outputs": []
    },
    {
      "cell_type": "markdown",
      "metadata": {
        "id": "8lf4HmOLJxgn"
      },
      "source": [
        "The speed of the learning process is tweaked by defining the learning rate and $\\beta_{1}$ & $\\beta_{2}$. To run the inference in Pyro, TraceEnum_ELBO is used here to enable the enumerations in parallel during the sampling from discrete latent states. "
      ]
    },
    {
      "cell_type": "code",
      "metadata": {
        "id": "rng6OgVXZ4-0"
      },
      "source": [
        "optim = pyro.optim.Adam({'lr': 0.0001, 'betas': [0.8, 0.99]})\n",
        "elbo = TraceEnum_ELBO(max_plate_nesting=1)\n",
        "\n",
        "# transform the dataset to tensor\n",
        "X_train_torch = torch.from_numpy(X_train.astype(np.float64)).float()\n",
        "X_test_torch = torch.from_numpy(X_test.astype(np.float64)).float()"
      ],
      "execution_count": null,
      "outputs": []
    },
    {
      "cell_type": "markdown",
      "metadata": {
        "id": "7Iwydes4J3k-"
      },
      "source": [
        "The auto guide AutoDelta is used to construct a MAP guide based on Delta distributions. SVI is configured for inference. Compared with MCMC, experiments on this dataset show that SVI can present reasonable convergence time. "
      ]
    },
    {
      "cell_type": "code",
      "metadata": {
        "id": "wnMM86Hb6YuY"
      },
      "source": [
        "pyro.clear_param_store()\n",
        "guide = AutoDelta(poutine.block(gmm, expose=['weights_scale', 'weights', 'locs', 'scale']))\n",
        "svi = SVI(gmm, guide, optim, loss=elbo)"
      ],
      "execution_count": null,
      "outputs": []
    },
    {
      "cell_type": "markdown",
      "metadata": {
        "id": "eSwDuVm0J7gr"
      },
      "source": [
        "Initialization is done first in the consideration of the GMM is prone to local mode. The optimal initail value is selected from a number of values by iterating the seeds. "
      ]
    },
    {
      "cell_type": "code",
      "metadata": {
        "id": "qYNVNRThZ4-0",
        "colab": {
          "base_uri": "https://localhost:8080/"
        },
        "outputId": "cd58a573-3ec8-44b5-91a2-4ef596cdf2db"
      },
      "source": [
        "# Initialize the variables to uniform.\n",
        "def init_loc_fn(site):\n",
        "    if site[\"name\"] == \"weights\":\n",
        "        return (torch.ones(K) / K).to(device)\n",
        "    if site[\"name\"] == \"scale\":\n",
        "        return (data.var() / 2).sqrt()\n",
        "    if site[\"name\"] == \"weights_scale\":\n",
        "        return (data.var() / 2).sqrt()\n",
        "    if site[\"name\"] == \"locs\":\n",
        "        return data[torch.multinomial(torch.ones(len(data)) / len(data), K)]\n",
        "    raise ValueError(site[\"name\"])\n",
        "\n",
        "def initialize(seed):\n",
        "    global global_guide, svi\n",
        "    pyro.set_rng_seed(seed)\n",
        "    pyro.clear_param_store()\n",
        "    global_guide = AutoDelta(poutine.block(gmm, expose=['weights_scale', 'weights', 'locs', 'scale']))\n",
        "    svi = SVI(gmm, global_guide, optim, loss=elbo)\n",
        "    return svi.loss(gmm, global_guide, data)\n",
        "    \n",
        "# Choose the best value among 8000 random initializations.\n",
        "data = X_train_torch.to(device)\n",
        "loss, seed = min((initialize(seed), seed) for seed in range(8000))\n",
        "initialize(seed)\n",
        "print('seed = {}, initial_loss = {}'.format(seed, loss))"
      ],
      "execution_count": null,
      "outputs": [
        {
          "output_type": "stream",
          "text": [
            "seed = 5673, initial_loss = 64631168.0\n"
          ],
          "name": "stdout"
        }
      ]
    },
    {
      "cell_type": "markdown",
      "metadata": {
        "id": "L4b8JkEKKEcD"
      },
      "source": [
        "The inference comletes after 30000 steps. The plot below presents that the loss basically reaches a convergence. But the converged loss is relatively high, which also indicates that the model might get stuck in local optima. This can be happened due to the non-convex feature of the mixture model optimization process. But compared with the loss plotted in notebook GMM (K=5), this model converges to a relatively low losses. "
      ]
    },
    {
      "cell_type": "code",
      "metadata": {
        "id": "Sl48xoIDZ4-1",
        "colab": {
          "base_uri": "https://localhost:8080/"
        },
        "outputId": "c80572b4-505e-411c-c760-51f3123878b9"
      },
      "source": [
        "losses = []\n",
        "n_steps = 30000\n",
        "for step in range(n_steps):\n",
        "    loss = svi.step(data)\n",
        "    losses.append(loss)\n",
        "    if step % 1000 == 0:\n",
        "        print(\"[%d] ELBO: %.1f\" % (step, loss))"
      ],
      "execution_count": null,
      "outputs": [
        {
          "output_type": "stream",
          "text": [
            "[0] ELBO: 64631168.0\n",
            "[1000] ELBO: 62081456.0\n",
            "[2000] ELBO: 59624480.0\n",
            "[3000] ELBO: 57256764.0\n",
            "[4000] ELBO: 54955556.0\n",
            "[5000] ELBO: 52684064.0\n",
            "[6000] ELBO: 50446780.0\n",
            "[7000] ELBO: 48272556.0\n",
            "[8000] ELBO: 46198692.0\n",
            "[9000] ELBO: 44238900.0\n",
            "[10000] ELBO: 42395160.0\n",
            "[11000] ELBO: 40660164.0\n",
            "[12000] ELBO: 39017508.0\n",
            "[13000] ELBO: 37476044.0\n",
            "[14000] ELBO: 36048276.0\n",
            "[15000] ELBO: 34603104.0\n",
            "[16000] ELBO: 33252058.0\n",
            "[17000] ELBO: 32047024.0\n",
            "[18000] ELBO: 30983172.0\n",
            "[19000] ELBO: 30040326.0\n",
            "[20000] ELBO: 29234930.0\n",
            "[21000] ELBO: 28562040.0\n",
            "[22000] ELBO: 28002412.0\n",
            "[23000] ELBO: 27538560.0\n",
            "[24000] ELBO: 27151810.0\n",
            "[25000] ELBO: 26815632.0\n",
            "[26000] ELBO: 26519094.0\n",
            "[27000] ELBO: 26262410.0\n",
            "[28000] ELBO: 26041748.0\n",
            "[29000] ELBO: 25829588.0\n"
          ],
          "name": "stdout"
        }
      ]
    },
    {
      "cell_type": "code",
      "metadata": {
        "id": "iIrLuIV_2GnP",
        "colab": {
          "base_uri": "https://localhost:8080/",
          "height": 334
        },
        "outputId": "d8a1f08c-17f9-4dd4-dbbd-d38c23d544c6"
      },
      "source": [
        "from matplotlib import pyplot\n",
        "%matplotlib inline\n",
        "\n",
        "pyplot.figure(figsize=(10,3), dpi=100).set_facecolor('white')\n",
        "pyplot.plot(losses)\n",
        "pyplot.xlabel('iters')\n",
        "pyplot.ylabel('loss')\n",
        "pyplot.yscale('log')\n",
        "pyplot.title('Convergence of SVI');"
      ],
      "execution_count": null,
      "outputs": [
        {
          "output_type": "display_data",
          "data": {
            "image/png": "[encoded data removed]",
            "text/plain": [
              "<Figure size 1000x300 with 1 Axes>"
            ]
          },
          "metadata": {
            "tags": []
          }
        }
      ]
    },
    {
      "cell_type": "markdown",
      "metadata": {
        "id": "E9F1FNflKKxc"
      },
      "source": [
        "**Model evaluation**\n",
        "\n",
        "With a model trained by the trainset, the model is expected to be used to make prediction on the testset for evaluation. To do this, the classifier is built to predict the testset based on the discrete inference. Effect handlers of *trace*, *replay* and *infer_discrete* in Pyro is used here to build the classfier and read out the cluster assignment results from the model. The trace hanlder here records the relationships amongst different pyro primitives. Each node in the trace includes the name, input and output value of the site. [4]\n",
        "\n",
        "\n",
        "[4] Trace, https://docs.pyro.ai/en/dev/poutine.html#trace"
      ]
    },
    {
      "cell_type": "code",
      "metadata": {
        "id": "kvmc39P7Z4-1",
        "colab": {
          "base_uri": "https://localhost:8080/"
        },
        "outputId": "70742cec-257b-4c23-9e08-4f6dc1a951bb"
      },
      "source": [
        "guide_trace = poutine.trace(guide).get_trace(data)  # record the globals\n",
        "trained_model = poutine.replay(gmm, trace=guide_trace)  # replay the globals\n",
        "\n",
        "def classifier(data, temperature=0):\n",
        "    inferred_model = infer_discrete(trained_model, temperature=temperature, first_available_dim=-2)  # avoid conflict with data plate\n",
        "    trace = poutine.trace(inferred_model).get_trace(data)\n",
        "    print(trace)\n",
        "    return trace.nodes[\"assignment\"][\"value\"], trace.nodes[\"weights_scale\"][\"value\"], trace.nodes[\"weights\"][\"value\"], trace.nodes[\"locs\"][\"value\"], trace.nodes[\"scale\"][\"value\"]\n",
        "\n",
        "print(classifier(X_test_torch.to(device)))"
      ],
      "execution_count": null,
      "outputs": [
        {
          "output_type": "stream",
          "text": [
            "<pyro.poutine.trace_struct.Trace object at 0x7ff159c5ad10>\n",
            "(tensor([2, 1, 1,  ..., 1, 0, 1]), tensor(729.7757, grad_fn=<ExpandBackward>), tensor([0.0146, 0.7612, 0.0608, 0.1529, 0.0105], grad_fn=<ExpandBackward>), tensor([[ 4.2932e-02,  1.7861e-01,  7.7845e-01,  3.9433e-03,  2.4885e-04,\n",
            "         -4.8459e-07,  9.3262e-03,  1.5516e-07,  3.4648e-06,  4.9192e-04,\n",
            "          4.2726e-06,  4.7585e-07,  2.4551e-04,  2.2382e-07,  1.5921e-02,\n",
            "          1.7771e-07,  7.1147e-03, -3.0896e-06,  2.4553e-04,  4.6018e-08,\n",
            "          3.6817e-03,  6.3758e-03,  2.7716e-02, -1.4012e-06,  1.3018e-06,\n",
            "          2.4419e-03, -4.4476e-06, -3.0413e-07,  2.9072e-06, -2.5973e-05,\n",
            "         -5.7947e-07,  8.6816e-07, -3.4143e-07,  2.8861e-06,  1.9106e-06,\n",
            "         -5.9825e-07, -9.5059e-07, -4.5949e-07, -8.2517e-07, -7.5052e-07,\n",
            "          2.6028e-04,  2.4556e-04,  2.9806e-03,  7.7746e-01, -2.3430e-05,\n",
            "          2.1504e-05,  7.3786e-04, -9.1034e-01,  4.7700e-02,  1.2418e-06,\n",
            "         -5.1001e-09, -1.3486e-07,  2.4571e-04,  5.1407e-02,  2.4805e-04,\n",
            "         -2.5127e-06,  2.4538e-04,  2.4336e-04, -4.6450e-07,  3.9158e-03,\n",
            "         -2.6808e-05, -2.5194e-07,  5.6725e-07,  2.4754e-07,  3.5815e-02,\n",
            "          2.4564e-04,  1.4211e-06, -8.4002e-07,  1.6319e-05,  4.0672e-06,\n",
            "         -3.3990e-07,  9.6860e-04,  2.4524e-04,  1.5723e-02,  5.4080e-02,\n",
            "          9.3249e-06,  2.4110e-04,  2.3708e-04,  9.2848e-01, -3.7629e-07,\n",
            "          5.1493e+00,  3.7662e-02, -1.7518e-02,  2.4541e-04, -4.7720e-02,\n",
            "         -2.5718e-03,  5.4497e-02, -9.7821e-03,  9.8770e-02, -4.7227e-03,\n",
            "          2.4543e-04,  4.9734e-06,  8.8878e-03, -7.4462e-03, -9.9187e-03,\n",
            "         -7.4488e-03,  1.3318e-07,  4.5754e-06,  6.1368e-03, -1.4808e+00,\n",
            "          9.5348e-01, -3.8441e-01, -3.2080e-01, -6.1686e-02, -1.7497e-01,\n",
            "         -1.0542e-01,  3.6673e+00, -2.5166e-03,  5.3528e-02, -1.0507e+00,\n",
            "         -1.6422e+00,  9.5925e-01,  3.1421e-01, -6.4182e-02, -3.8169e-01,\n",
            "         -3.1902e-01, -8.8442e-02, -1.8486e-01],\n",
            "        [ 7.4236e-01,  2.3061e-01,  2.7044e-02,  9.7207e-08,  1.6296e-06,\n",
            "          1.9193e-04,  3.0790e-04,  2.2079e-04,  2.2546e-04,  2.3526e-04,\n",
            "          1.7452e-04,  2.2985e-04,  2.4897e-04,  2.4581e-04,  5.7225e-03,\n",
            "          2.4550e-04,  3.4146e-04,  7.4115e-01,  1.9566e-04,  2.1647e-04,\n",
            "          5.9466e-04,  2.3200e-04,  1.6128e-03,  2.2953e-04,  2.1565e-04,\n",
            "          5.1825e-04,  2.1845e-04,  2.1546e-04,  2.5418e-04,  2.1016e-04,\n",
            "          2.0320e-04,  2.1839e-04,  2.1340e-04, -3.3149e-02,  1.6316e-04,\n",
            "          1.9545e-04,  2.0612e-04,  2.3974e-04,  2.1703e-04,  1.8955e-04,\n",
            "          2.2845e-04,  2.0723e-04,  5.1113e-04,  2.5989e-03,  8.0127e-08,\n",
            "          1.9193e-04,  2.7372e-04,  2.6501e-04,  2.3449e-01,  1.1262e-06,\n",
            "          2.4076e-04,  1.9239e-04,  2.3806e-04,  5.5318e-04,  2.3783e-04,\n",
            "          2.3217e-04,  2.0686e-04,  1.9459e-04,  2.4749e-04,  5.2887e-04,\n",
            "         -6.1831e-07, -1.4043e-06,  2.3533e-04,  3.8883e-06,  8.3920e-04,\n",
            "          1.7565e-04,  2.3644e-04,  2.2772e-04,  2.3179e-04,  4.5841e-08,\n",
            "         -3.2273e-07,  2.3037e-07, -9.7423e-08,  3.6506e-07,  2.2839e-01,\n",
            "          3.0642e-05,  4.0390e-06, -7.9492e-06,  7.7129e-01,  2.7184e-04,\n",
            "         -6.6645e-02, -2.3342e-03, -2.6140e-02,  6.0886e-07, -4.6770e-02,\n",
            "         -2.5685e-03, -4.4100e-02, -9.7822e-03,  1.4507e-03, -5.5861e-03,\n",
            "         -6.9798e-09,  5.6859e-06, -5.3496e-03, -1.1232e-02, -9.9181e-03,\n",
            "         -2.7632e-02,  2.1270e-05,  8.6010e-07,  4.5746e-06,  4.0939e-01,\n",
            "          3.4889e-01,  1.3655e-01,  1.3667e-01, -2.4790e-01, -2.4862e-01,\n",
            "         -1.1322e-02, -7.6133e-02, -2.0255e-01,  3.4600e-01,  8.1864e-02,\n",
            "          4.9390e-02, -1.2514e-01,  2.9599e-01, -1.5851e-01,  1.3674e-01,\n",
            "          1.3719e-01, -2.5179e-01, -2.4945e-01],\n",
            "        [ 1.5976e-04,  9.6568e-01,  3.4187e-02,  1.5215e-04,  1.0344e-04,\n",
            "          7.2501e-04,  8.8076e-04,  8.8076e-04,  5.7900e-04,  9.8394e-04,\n",
            "          5.1748e-04,  4.8893e-04,  8.8024e-04,  6.2156e-04, -1.3108e-06,\n",
            "          7.7690e-04, -1.0688e-05,  1.5708e-04,  8.8062e-04,  7.2541e-04,\n",
            "          3.6296e-04,  1.0972e-03,  7.5455e-04,  5.9070e-04,  8.2653e-04,\n",
            "          1.8425e-01,  7.2412e-04,  9.3246e-04,  6.7331e-04,  8.2829e-04,\n",
            "          5.1853e-04,  6.2145e-04,  7.2507e-04,  6.8063e-04,  1.0360e-03,\n",
            "          7.7705e-04,  5.6929e-04,  7.8211e-04,  6.7327e-04,  5.9660e-04,\n",
            "          6.7460e-04,  3.6212e-04, -6.2322e-07,  4.6098e-02,  1.7302e-05,\n",
            "          5.7041e-04,  6.7477e-04,  7.7721e-04,  7.3009e-01, -2.7704e-01,\n",
            "          8.3357e-04,  1.2506e-03,  7.2510e-04,  1.5763e-03,  5.2026e-04,\n",
            "          6.7263e-04,  6.7240e-04,  8.7563e-04,  1.0356e-03,  9.9627e-04,\n",
            "          1.9927e-06,  7.9318e-07,  9.3286e-04,  1.9098e-07, -3.0728e-06,\n",
            "          8.8452e-04,  7.3000e-04, -1.3953e-01,  7.7696e-04,  1.5865e-04,\n",
            "          9.2303e-01,  1.6999e-02,  3.1420e-04,  2.4385e-02,  1.9416e-04,\n",
            "          1.5684e-05,  4.3094e-07,  6.8743e-07,  3.4942e-02,  2.9420e-07,\n",
            "         -6.6046e-02, -2.8969e-03, -2.6096e-02,  1.6633e-06,  1.5972e+00,\n",
            "         -2.5715e-03,  2.6730e-01, -9.7823e-03,  1.6489e-03, -5.2939e-03,\n",
            "          8.2394e-08, -4.6002e-01, -5.3827e-03, -1.1232e-02, -9.9190e-03,\n",
            "         -4.9457e-03, -6.8571e-06, -9.9611e-07,  3.2115e-06, -8.4454e-01,\n",
            "         -1.1511e+00, -4.4466e-01, -4.6233e-01,  2.2566e+00,  2.2718e+00,\n",
            "         -1.2932e+00,  9.1383e-01,  7.4146e-02, -3.2850e-01, -1.3327e+00,\n",
            "         -1.3002e+00,  8.7481e-01, -1.0639e+00,  5.2356e-01, -4.4871e-01,\n",
            "         -4.6186e-01,  2.6516e+00,  2.2542e+00],\n",
            "        [ 2.5534e-02,  9.2138e-01,  5.3085e-02,  1.5320e-04,  1.0697e-04,\n",
            "          9.6134e-08,  1.8551e-03,  4.3469e-08, -6.0742e-06,  9.1626e-07,\n",
            "          2.6570e-06,  2.5985e-07, -1.2327e-05,  1.3975e-06,  4.5290e-02,\n",
            "          6.0722e-07,  1.8573e-02,  6.5155e-03,  3.0717e-06, -2.1252e-01,\n",
            "          5.3537e-03,  3.3955e-03,  4.7979e-02,  2.0101e-05, -9.8390e-08,\n",
            "          7.4575e-01, -2.8394e-06,  1.3593e-04, -4.3807e-07,  1.5127e-07,\n",
            "         -1.9539e-07, -5.4043e-08,  3.7363e-06,  2.0671e-07, -4.9791e-01,\n",
            "          2.0174e-06,  9.5000e-07,  3.2467e-06, -2.0303e-07, -7.9696e-08,\n",
            "         -8.3906e-06,  9.1638e-08,  2.3021e-03,  9.7321e-04,  1.9339e-07,\n",
            "         -2.4368e-07,  8.9618e-04,  9.9562e-07,  4.7082e-03,  1.8841e-05,\n",
            "         -1.9992e-07, -2.2892e-06,  1.2872e-07,  1.1364e-01, -1.5051e-06,\n",
            "         -3.3945e-06, -4.7548e-07,  4.3651e-07, -1.8679e-07,  1.2926e-03,\n",
            "          1.9407e-05,  9.4050e-05,  5.9570e-04,  1.6385e-04,  1.8457e-04,\n",
            "         -1.4995e-05, -2.0951e-06,  2.1303e-06, -3.3466e-07, -1.5748e-07,\n",
            "          2.6260e-04,  4.4843e-04, -5.7590e-06,  1.0442e-03,  1.1891e-03,\n",
            "          5.6547e-04,  2.4702e-04,  5.8923e-05,  9.9614e-01,  3.9013e-05,\n",
            "         -6.4976e-02, -1.3530e-04,  7.9600e-02,  2.1742e-04, -2.8400e-02,\n",
            "         -2.5664e-03,  5.6382e-02, -9.7813e-03,  9.0479e-01,  9.8351e-03,\n",
            "          4.0488e-04,  2.0628e-05,  8.6699e-03, -1.1231e-02, -9.9185e-03,\n",
            "          1.1397e-01, -4.6918e-07,  2.1540e-07,  3.4083e-03, -1.5223e+00,\n",
            "         -1.1453e+00, -4.5785e-01, -4.5657e-01, -2.4059e-01, -2.3021e-01,\n",
            "          5.3589e-01, -1.1185e+00,  9.3883e-01, -2.0206e+00,  2.4016e-01,\n",
            "          3.8007e-01, -1.4582e-01, -1.0454e+00,  1.3100e+00, -4.5775e-01,\n",
            "         -4.5928e-01,  6.6309e-02, -2.1474e-01],\n",
            "        [-6.4248e-07,  9.9999e-01, -1.2312e-07, -1.0848e-06, -5.5351e-06,\n",
            "          1.5136e-07, -1.3397e-06,  1.3220e-06, -1.5310e-05,  1.7529e-07,\n",
            "         -8.5726e-06,  2.0363e-07,  5.0404e-07, -4.7096e-07, -1.3047e-07,\n",
            "          1.4273e-07,  1.9119e-01, -5.8682e-06, -7.1850e-08, -1.7627e-07,\n",
            "          1.8053e-03,  1.5458e-01,  1.5133e-01,  2.0845e-01,  3.5787e-06,\n",
            "          3.9991e-01,  4.0638e-06,  5.2074e-06, -1.9072e-07, -8.8450e-06,\n",
            "         -4.1844e-07,  2.3311e-06, -3.3644e-07, -1.2697e-07,  3.3287e-07,\n",
            "          2.0811e-06, -1.2753e-06,  5.2508e-07, -1.8759e-08,  7.0830e-07,\n",
            "         -3.7241e-08,  5.8389e-07,  3.2463e-07, -1.5745e-01, -1.2133e-06,\n",
            "          5.0324e-07, -3.4907e-06,  8.0347e-06, -7.7414e-09,  7.5805e-08,\n",
            "         -2.2508e-06, -7.3740e-06, -1.1902e-07,  2.1109e-01,  8.4748e-07,\n",
            "          7.8888e-08,  9.5707e-08, -2.7712e-07, -3.5964e-06,  1.7961e-01,\n",
            "         -3.7844e-01,  4.3645e-06, -1.2127e-06,  1.0169e-06,  3.0062e-02,\n",
            "          1.2856e-06, -5.9972e-01,  1.1907e-06,  3.9927e-07, -7.2182e-06,\n",
            "          2.9645e-06,  6.1151e-02,  3.7122e-07,  5.3889e-03, -2.4833e-06,\n",
            "         -9.8286e-02,  1.7957e-03,  2.6623e-08,  7.4395e-01,  2.3794e-07,\n",
            "          3.9068e+00,  1.2688e+00,  3.7982e+00, -3.3987e-06, -4.7717e-02,\n",
            "          3.2340e-01,  1.7170e+00,  1.8569e+00,  9.0291e-01,  9.1928e-01,\n",
            "          3.4128e-02,  1.4368e-02,  9.2098e-01,  5.7248e+00,  2.5348e+00,\n",
            "          1.3208e+00, -1.1239e-07,  1.1613e-07,  4.3460e-01, -1.5471e+00,\n",
            "         -1.1806e+00, -4.3785e-01, -4.5298e-01,  3.7624e-02,  5.1250e-02,\n",
            "          4.9048e-01, -4.7947e-02,  3.5415e-01, -1.2850e+00, -1.1113e+00,\n",
            "         -5.9472e-01,  1.7858e-01, -9.9421e-01,  1.3809e-01, -4.0640e-01,\n",
            "         -4.2488e-01,  1.9294e-02,  1.0363e-02]], grad_fn=<ExpandBackward>), tensor(0.4682, grad_fn=<ExpandBackward>))\n"
          ],
          "name": "stdout"
        }
      ]
    },
    {
      "cell_type": "code",
      "metadata": {
        "id": "VvO4CWYUZ4-2",
        "colab": {
          "base_uri": "https://localhost:8080/"
        },
        "outputId": "7ae505cb-ad79-466c-8f96-4e0eb200681b"
      },
      "source": [
        "y_pred, y_weights_scale, y_weights, y_locs, y_scale = classifier(X_test_torch.to(device))\n",
        "print(y_pred)"
      ],
      "execution_count": null,
      "outputs": [
        {
          "output_type": "stream",
          "text": [
            "<pyro.poutine.trace_struct.Trace object at 0x7ff0c04c49d0>\n",
            "tensor([2, 1, 1,  ..., 1, 0, 1])\n"
          ],
          "name": "stdout"
        }
      ]
    },
    {
      "cell_type": "markdown",
      "metadata": {
        "id": "E2aUjTRMKen4"
      },
      "source": [
        "**Prediction results**"
      ]
    },
    {
      "cell_type": "markdown",
      "metadata": {
        "id": "EFrTfkR8Ken5"
      },
      "source": [
        "Detach the prediction results from GPU and make a general evalution on the accuracy by comparing the labels between the testset and prediction results. "
      ]
    },
    {
      "cell_type": "markdown",
      "metadata": {
        "id": "PAd7l-x9Ken6"
      },
      "source": [
        "The accuracy shows an accuracy of 0.76 which is a bit lower but similar to the accuracy got from the notebook GMM (K=5) where the model is not tuned with hyperprior."
      ]
    },
    {
      "cell_type": "code",
      "metadata": {
        "id": "3j2j2nygZ4-2",
        "colab": {
          "base_uri": "https://localhost:8080/"
        },
        "outputId": "713e2cc6-aff4-4502-cebd-9743bf4b5ce4"
      },
      "source": [
        "y_pred = y_pred.detach().cpu().numpy() \n",
        "# evaluate prediction accuracy\n",
        "print(\"Accuracy:\", 1.0*np.sum(y_pred == y_test) / len(y_test))"
      ],
      "execution_count": null,
      "outputs": [
        {
          "output_type": "stream",
          "text": [
            "Accuracy: 0.7602757668127262\n"
          ],
          "name": "stdout"
        }
      ]
    },
    {
      "cell_type": "markdown",
      "metadata": {
        "id": "VIGA4d9JKmBv"
      },
      "source": [
        "By taking a closer look at the prediction results for each cluster, with this hyperprior added in the GMM, the detection capability can be improved by detecting more type of attacks in the dataset. Compared with the model in the notebook GMM (K=5) where no data point is clustered to component 2 & 4, now with this modified model, a small number of data points can be clustered correctly to the component 2 & 4. This means that those type of attacks with small number of samples in the dataset can also be labeled in this unspervised model. "
      ]
    },
    {
      "cell_type": "code",
      "metadata": {
        "id": "gzgzbQE8Z4-2",
        "colab": {
          "base_uri": "https://localhost:8080/"
        },
        "outputId": "47dbbf86-0b8b-4a36-942f-085026a34bc6"
      },
      "source": [
        "from sklearn.metrics import classification_report\n",
        "print(classification_report(y_test, y_pred))"
      ],
      "execution_count": null,
      "outputs": [
        {
          "output_type": "stream",
          "text": [
            "              precision    recall  f1-score   support\n",
            "\n",
            "           0       0.92      0.06      0.11     33238\n",
            "           1       0.97      0.94      0.95    132908\n",
            "           2       0.08      0.56      0.14      1424\n",
            "           3       0.01      0.55      0.02       384\n",
            "           4       0.01      0.21      0.02        14\n",
            "\n",
            "    accuracy                           0.76    167968\n",
            "   macro avg       0.40      0.47      0.25    167968\n",
            "weighted avg       0.95      0.76      0.78    167968\n",
            "\n"
          ],
          "name": "stdout"
        }
      ]
    },
    {
      "cell_type": "markdown",
      "metadata": {
        "id": "jYKGJULd5y-a"
      },
      "source": [
        "**Clustering parameters**"
      ]
    },
    {
      "cell_type": "markdown",
      "metadata": {
        "id": "j7AkWoEF8om9"
      },
      "source": [
        "Below presents the parameters fitted for the GMM model trained in Pyro. The weights show that most of the data gathered in the component 1 and other four compnents have the similar weights. "
      ]
    },
    {
      "cell_type": "code",
      "metadata": {
        "id": "VR2DlBZvxONs",
        "colab": {
          "base_uri": "https://localhost:8080/"
        },
        "outputId": "9512e902-33b6-4897-edd8-efc119442fa4"
      },
      "source": [
        "y_weights"
      ],
      "execution_count": null,
      "outputs": [
        {
          "output_type": "execute_result",
          "data": {
            "text/plain": [
              "tensor([0.0146, 0.7612, 0.0608, 0.1529, 0.0105], grad_fn=<ExpandBackward>)"
            ]
          },
          "metadata": {
            "tags": []
          },
          "execution_count": 34
        }
      ]
    },
    {
      "cell_type": "code",
      "metadata": {
        "id": "XkOx8AadxKCE",
        "colab": {
          "base_uri": "https://localhost:8080/",
          "height": 320
        },
        "outputId": "97496138-92dd-4d1e-d36e-f20aa4dc4fba"
      },
      "source": [
        "sns.distplot(y_weights.cpu().detach().numpy(), label=\"prediction\")\n",
        "plt.legend()\n",
        "plt.show()"
      ],
      "execution_count": null,
      "outputs": [
        {
          "output_type": "stream",
          "text": [
            "/usr/local/lib/python3.7/dist-packages/seaborn/distributions.py:2557: FutureWarning: `distplot` is a deprecated function and will be removed in a future version. Please adapt your code to use either `displot` (a figure-level function with similar flexibility) or `histplot` (an axes-level function for histograms).\n",
            "  warnings.warn(msg, FutureWarning)\n"
          ],
          "name": "stderr"
        },
        {
          "output_type": "display_data",
          "data": {
            "image/png": "[encoded data removed]",
            "text/plain": [
              "<Figure size 432x288 with 1 Axes>"
            ]
          },
          "metadata": {
            "tags": [],
            "needs_background": "light"
          }
        }
      ]
    },
    {
      "cell_type": "markdown",
      "metadata": {
        "id": "bqTv_N_eL4uF"
      },
      "source": [
        "The plot below is the density estimate and histogram of the mean values for the Gaussian distributions modeled for the samples for each component. "
      ]
    },
    {
      "cell_type": "code",
      "metadata": {
        "id": "eiZv52ldKYs9",
        "colab": {
          "base_uri": "https://localhost:8080/",
          "height": 320
        },
        "outputId": "046f3b40-3893-4c8a-e70d-69880cfe4b89"
      },
      "source": [
        "sns.distplot(y_locs.cpu().detach().numpy(), label=\"prediction\")\n",
        "plt.legend()\n",
        "plt.show()"
      ],
      "execution_count": null,
      "outputs": [
        {
          "output_type": "stream",
          "text": [
            "/usr/local/lib/python3.7/dist-packages/seaborn/distributions.py:2557: FutureWarning: `distplot` is a deprecated function and will be removed in a future version. Please adapt your code to use either `displot` (a figure-level function with similar flexibility) or `histplot` (an axes-level function for histograms).\n",
            "  warnings.warn(msg, FutureWarning)\n"
          ],
          "name": "stderr"
        },
        {
          "output_type": "display_data",
          "data": {
            "image/png": "[encoded data removed]",
            "text/plain": [
              "<Figure size 432x288 with 1 Axes>"
            ]
          },
          "metadata": {
            "tags": [],
            "needs_background": "light"
          }
        }
      ]
    },
    {
      "cell_type": "markdown",
      "metadata": {
        "id": "bQ0yzke4MnMk"
      },
      "source": [
        "To clearly compare the mixture model, the density estimate and histogram is drawn for both the real case (blue) and predicted case (red). In general, they show a similar pattern, but the predictions present some deviations from the real case. "
      ]
    },
    {
      "cell_type": "code",
      "metadata": {
        "id": "sZ_PM-DpxQlk",
        "colab": {
          "base_uri": "https://localhost:8080/",
          "height": 355
        },
        "outputId": "c1bbfd21-bff8-4ce8-fe24-4412e42abe17"
      },
      "source": [
        "sns.distplot(y_pred, label=\"prediction\")\n",
        "sns.distplot(y_test, label=\"true\")\n",
        "plt.legend()\n",
        "plt.show()"
      ],
      "execution_count": null,
      "outputs": [
        {
          "output_type": "stream",
          "text": [
            "/usr/local/lib/python3.7/dist-packages/seaborn/distributions.py:2557: FutureWarning: `distplot` is a deprecated function and will be removed in a future version. Please adapt your code to use either `displot` (a figure-level function with similar flexibility) or `histplot` (an axes-level function for histograms).\n",
            "  warnings.warn(msg, FutureWarning)\n",
            "/usr/local/lib/python3.7/dist-packages/seaborn/distributions.py:2557: FutureWarning: `distplot` is a deprecated function and will be removed in a future version. Please adapt your code to use either `displot` (a figure-level function with similar flexibility) or `histplot` (an axes-level function for histograms).\n",
            "  warnings.warn(msg, FutureWarning)\n"
          ],
          "name": "stderr"
        },
        {
          "output_type": "display_data",
          "data": {
            "image/png": "[encoded data removed]",
            "text/plain": [
              "<Figure size 432x288 with 1 Axes>"
            ]
          },
          "metadata": {
            "tags": [],
            "needs_background": "light"
          }
        }
      ]
    }
  ]
}